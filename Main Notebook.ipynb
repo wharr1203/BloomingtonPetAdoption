{
 "cells": [
  {
   "cell_type": "markdown",
   "metadata": {},
   "source": [
    "# Predicting Adoption Speed"
   ]
  },
  {
   "cell_type": "markdown",
   "metadata": {},
   "source": [
    "## Introduction"
   ]
  },
  {
   "cell_type": "markdown",
   "metadata": {},
   "source": [
    "The purpose of this notebook is to provide an analysis of which types of pets have the toughest time getting adopted. In this analysis we are only studying the adoptions of Dogs and cats."
   ]
  },
  {
   "cell_type": "markdown",
   "metadata": {},
   "source": [
    "## Business Understanding"
   ]
  },
  {
   "cell_type": "markdown",
   "metadata": {},
   "source": [
    "Shelters need to know which pets take the longest time to get adopted, so that they can focus on pushing potential adopters towards those pets.\n",
    "\n",
    "+ __Stakeholder:__ ASPCA \n",
    "\n",
    "\n",
    "+ __Importance of Predictions:__ Correctly identifying which pets will have trouble getting adopted can save pets from a lifetime in a cage or getting put to sleep in the worst case scenario.\n",
    "\n",
    "\n",
    "+ __Deliverable:__ An analysis of the adoptability of different types of dogs and cats\n",
    "\n",
    "\n",
    "+ __Type of model:__ An interpretable multiclassification model that can be used in conjunction with domain knowledge to boost the accuracy of predictions on a pet's adoptability."
   ]
  },
  {
   "cell_type": "markdown",
   "metadata": {},
   "source": [
    "## Context\n",
    "\n",
    "+ __False Positive:__ Predicting that a pet will get adopted within a month when it actually takes longer.\n",
    "\n",
    "\n",
    "+ __False negative:__ Predicting that a pet will take longer than a month when  get adopted later than it actually gets adopted\n",
    "\n",
    "\n",
    "+ __Which is Worse:__ False positive is worse because we would end up ignoring pets that need extra help getting adopted.\n",
    "\n",
    "+ __Metric:__ \n",
    "    - __Precision__\n",
    "    - Accuracy"
   ]
  },
  {
   "cell_type": "code",
   "execution_count": 2,
   "metadata": {},
   "outputs": [],
   "source": [
    "import pandas as pd\n",
    "import numpy as np\n",
    "from sklearn.preprocessing import OneHotEncoder, StandardScaler, LabelBinarizer, OrdinalEncoder, RobustScaler\n",
    "from sklearn.model_selection import train_test_split, cross_validate, cross_val_score\n",
    "from sklearn.pipeline import make_pipeline, Pipeline\n",
    "from sklearn.tree import DecisionTreeClassifier\n",
    "from sklearn.compose import ColumnTransformer\n",
    "from sklearn.metrics import recall_score, accuracy_score, precision_score, f1_score, roc_auc_score, plot_confusion_matrix\n",
    "from sklearn.naive_bayes import MultinomialNB\n",
    "from sklearn.ensemble import RandomForestClassifier \n",
    "from sklearn.neighbors import KNeighborsClassifier\n",
    "from xgboost import XGBClassifier\n",
    "from sklearn.linear_model import LogisticRegression\n",
    "from sklearn.model_selection import GridSearchCV\n",
    "from imblearn.over_sampling import SMOTE\n",
    "\n",
    "import warnings\n",
    "\n",
    "warnings.filterwarnings('ignore')"
   ]
  },
  {
   "cell_type": "markdown",
   "metadata": {},
   "source": [
    "### Functions used in the project"
   ]
  },
  {
   "cell_type": "markdown",
   "metadata": {},
   "source": [
    "Use a function to instantly get the metrics from our models without repeating code\\ This function was found at https://github.com/lindseyberlin/Cat-in-the-Dat-Project.git"
   ]
  },
  {
   "cell_type": "code",
   "execution_count": 31,
   "metadata": {},
   "outputs": [],
   "source": [
    "def evaluate(estimator, X_tr, X_te, y_tr, y_te, roc_auc='skip'):\n",
    "    #Create test and train preds\n",
    "    tr_preds = estimator.predict(X_tr)\n",
    "    te_preds = estimator.predict(X_te)\n",
    "    \n",
    "    # Set the rules for outputting roc_auc score  \n",
    "    if roc_auc == 'skip': # skips calculating the roc_auc_score\n",
    "        train_out = False\n",
    "        test_out = False\n",
    "    elif roc_auc == 'dec': \n",
    "        train_out = estimator.decision_function(X_train)\n",
    "        test_out = estimator.decision_function(X_test)\n",
    "    elif roc_auc == 'proba': \n",
    "        train_out = estimator.predict_proba(X_train)[:, 1] # proba for the 1 class\n",
    "        test_out = estimator.predict_proba(X_test)[:, 1]\n",
    "    else:\n",
    "        raise Exception(\"The value for roc_auc should be 'skip', 'dec' or 'proba'\")    \n",
    "    \n",
    "    '''Print out training scores for Accuracy, Precision, Recall, F1-Score\n",
    "    Print out Roc_Auc socre if arguement was set to 'dec' or 'proba'    '''\n",
    "    \n",
    "    print(\"Training Scores:\")\n",
    "    print(f\"Train Accuracy: {accuracy_score(y_tr, tr_preds)}\")\n",
    "    print(f\"Train Precision: {precision_score(y_tr, tr_preds)}\")\n",
    "    print(f\"Train Recall: {recall_score(y_tr, tr_preds)}\")\n",
    "    print(f\"Train F1-Score: {f1_score(y_tr, tr_preds)}\")\n",
    "    if type(train_out) == np.ndarray: # checking for roc_auc\n",
    "        print(f\"ROC-AUC: {roc_auc_score(y_train, train_out)}\")\n",
    "        \n",
    "    '''Print out the same metrics for test data'''\n",
    "    \n",
    "    print(\"*\" * 10)\n",
    "    print(\"Testing Scores:\")\n",
    "    print(f\"Test Accuracy: {accuracy_score(y_te, te_preds)}\")\n",
    "    print(f\"Test Precision: {precision_score(y_te, te_preds)}\")\n",
    "    print(f\"Test Recall: {recall_score(y_te, te_preds)}\")\n",
    "    print(f\"Test F1-Score: {f1_score(y_te, te_preds)}\")\n",
    "    if type(test_out) == np.ndarray: # checking for roc_auc\n",
    "        print(f\"ROC-AUC: {roc_auc_score(y_test, test_out)}\")    \n",
    "    \n",
    "    # Plot confusion matrix for test set\n",
    "    plot_confusion_matrix(estimator, X_te, y_te, normalize='true')\n"
   ]
  },
  {
   "cell_type": "markdown",
   "metadata": {},
   "source": [
    "## Data Understanding"
   ]
  },
  {
   "cell_type": "markdown",
   "metadata": {},
   "source": [
    "- This data comes from the city of Bloomington's open data portal\n",
    "- Most of the pets in this dataset have been adopted, thats why the focus is on adoption speed\n",
    "- The target variable is 'duration of stay' which will be divided into 4 categories"
   ]
  },
  {
   "cell_type": "markdown",
   "metadata": {},
   "source": [
    "###### These imports are saved csv files that I made after extensively cleaning the data in the [EDA notebook](https://github.com/wharr1203/BloomingtonPetAdoption/blob/main/1.EDA-Data%20Cleaning.ipynb)."
   ]
  },
  {
   "cell_type": "code",
   "execution_count": 3,
   "metadata": {},
   "outputs": [],
   "source": [
    "cat_df = pd.read_csv('data/cat_df.csv')\n",
    "dog_df = pd.read_csv('data/dog_df.csv')"
   ]
  },
  {
   "cell_type": "markdown",
   "metadata": {},
   "source": [
    "## Data Exploration recap"
   ]
  },
  {
   "cell_type": "code",
   "execution_count": 4,
   "metadata": {},
   "outputs": [
    {
     "data": {
      "text/plain": [
       "Female     3598\n",
       "Male       3341\n",
       "Unknown     133\n",
       "Name: sexname, dtype: int64"
      ]
     },
     "execution_count": 4,
     "metadata": {},
     "output_type": "execute_result"
    }
   ],
   "source": [
    "cat_df['sexname'].value_counts()"
   ]
  },
  {
   "cell_type": "code",
   "execution_count": 5,
   "metadata": {},
   "outputs": [
    {
     "data": {
      "text/plain": [
       "Male       2454\n",
       "Female     1996\n",
       "Unknown      20\n",
       "Name: sexname, dtype: int64"
      ]
     },
     "execution_count": 5,
     "metadata": {},
     "output_type": "execute_result"
    }
   ],
   "source": [
    "dog_df['sexname'].value_counts()"
   ]
  },
  {
   "cell_type": "markdown",
   "metadata": {},
   "source": [
    "The sex of both dogs and cats are pretty balanced"
   ]
  },
  {
   "cell_type": "code",
   "execution_count": 6,
   "metadata": {},
   "outputs": [
    {
     "data": {
      "text/plain": [
       "6.0    201\n",
       "1.0    162\n",
       "3.0    112\n",
       "2.0     79\n",
       "4.0     65\n",
       "5.0     58\n",
       "Name: age(months), dtype: int64"
      ]
     },
     "execution_count": 6,
     "metadata": {},
     "output_type": "execute_result"
    }
   ],
   "source": [
    "cat_df['age(months)'].value_counts()"
   ]
  },
  {
   "cell_type": "markdown",
   "metadata": {},
   "source": [
    "We ahave over 500 kittens in our dataset."
   ]
  },
  {
   "cell_type": "code",
   "execution_count": 7,
   "metadata": {
    "collapsed": true
   },
   "outputs": [
    {
     "data": {
      "text/plain": [
       "5.0    29\n",
       "6.0    27\n",
       "4.0    12\n",
       "1.0     9\n",
       "3.0     2\n",
       "2.0     2\n",
       "Name: age(months), dtype: int64"
      ]
     },
     "execution_count": 7,
     "metadata": {},
     "output_type": "execute_result"
    }
   ],
   "source": [
    "dog_df['age(months)'].value_counts()"
   ]
  },
  {
   "cell_type": "markdown",
   "metadata": {},
   "source": [
    "Not many puppies in this dataset, but we have almost 600 kittens."
   ]
  },
  {
   "cell_type": "code",
   "execution_count": 8,
   "metadata": {},
   "outputs": [
    {
     "data": {
      "text/plain": [
       "1.0     2580\n",
       "2.0     1256\n",
       "3.0     1052\n",
       "0.0      677\n",
       "4.0      390\n",
       "5.0      269\n",
       "6.0      171\n",
       "7.0      160\n",
       "8.0      116\n",
       "10.0      96\n",
       "9.0       61\n",
       "11.0      57\n",
       "12.0      45\n",
       "13.0      39\n",
       "14.0      30\n",
       "15.0      26\n",
       "16.0      26\n",
       "17.0      12\n",
       "18.0       6\n",
       "19.0       3\n",
       "Name: age(years), dtype: int64"
      ]
     },
     "execution_count": 8,
     "metadata": {},
     "output_type": "execute_result"
    }
   ],
   "source": [
    "cat_df['age(years)'].value_counts()"
   ]
  },
  {
   "cell_type": "code",
   "execution_count": 9,
   "metadata": {},
   "outputs": [
    {
     "data": {
      "text/plain": [
       "1.0     982\n",
       "2.0     728\n",
       "3.0     644\n",
       "4.0     445\n",
       "5.0     293\n",
       "6.0     205\n",
       "8.0     180\n",
       "7.0     180\n",
       "9.0     145\n",
       "11.0    123\n",
       "10.0    120\n",
       "12.0    103\n",
       "0.0      81\n",
       "14.0     78\n",
       "13.0     77\n",
       "15.0     38\n",
       "16.0     30\n",
       "17.0      8\n",
       "18.0      8\n",
       "19.0      2\n",
       "Name: age(years), dtype: int64"
      ]
     },
     "execution_count": 9,
     "metadata": {},
     "output_type": "execute_result"
    }
   ],
   "source": [
    "dog_df['age(years)'].value_counts()"
   ]
  },
  {
   "cell_type": "markdown",
   "metadata": {},
   "source": [
    "Most of the pets in this dataset are on the younger side of the scale."
   ]
  },
  {
   "cell_type": "markdown",
   "metadata": {},
   "source": [
    "## Data Cleaning Recap"
   ]
  },
  {
   "cell_type": "markdown",
   "metadata": {},
   "source": [
    "+ Dropped columns that are outcomes or unrelated to the target.\n",
    "+ The original dataset had over 20 different species so I narrowed it down to Dogs and Cats\n",
    "+ Seperated the age into 2 columns, 1 for years and the second for months\n",
    "+ Consolidated the basecoulour and breednames column\n",
    "+ Subtracted the intake date from the movement date to create the target column that records how many days a pet has been in a shelter"
   ]
  },
  {
   "cell_type": "markdown",
   "metadata": {},
   "source": [
    "### Prepare Dog Data for modeling"
   ]
  },
  {
   "cell_type": "code",
   "execution_count": 10,
   "metadata": {
    "scrolled": true
   },
   "outputs": [
    {
     "data": {
      "text/html": [
       "<div>\n",
       "<style scoped>\n",
       "    .dataframe tbody tr th:only-of-type {\n",
       "        vertical-align: middle;\n",
       "    }\n",
       "\n",
       "    .dataframe tbody tr th {\n",
       "        vertical-align: top;\n",
       "    }\n",
       "\n",
       "    .dataframe thead th {\n",
       "        text-align: right;\n",
       "    }\n",
       "</style>\n",
       "<table border=\"1\" class=\"dataframe\">\n",
       "  <thead>\n",
       "    <tr style=\"text-align: right;\">\n",
       "      <th></th>\n",
       "      <th>Unnamed: 0</th>\n",
       "      <th>id</th>\n",
       "      <th>intakedate</th>\n",
       "      <th>intakereason</th>\n",
       "      <th>istransfer</th>\n",
       "      <th>identichipnumber</th>\n",
       "      <th>animalname</th>\n",
       "      <th>breedname</th>\n",
       "      <th>basecolour</th>\n",
       "      <th>speciesname</th>\n",
       "      <th>animalage</th>\n",
       "      <th>sexname</th>\n",
       "      <th>location</th>\n",
       "      <th>movementdate</th>\n",
       "      <th>movementtype</th>\n",
       "      <th>returndate</th>\n",
       "      <th>puttosleep</th>\n",
       "      <th>age(months)</th>\n",
       "      <th>age(years)</th>\n",
       "      <th>duration of stay</th>\n",
       "    </tr>\n",
       "  </thead>\n",
       "  <tbody>\n",
       "    <tr>\n",
       "      <th>0</th>\n",
       "      <td>12</td>\n",
       "      <td>46238</td>\n",
       "      <td>2016-10-09 00:00:00</td>\n",
       "      <td>Abandoned</td>\n",
       "      <td>False</td>\n",
       "      <td>981020019070093</td>\n",
       "      <td>Tennessee</td>\n",
       "      <td>Heeler</td>\n",
       "      <td>Black and Brown</td>\n",
       "      <td>Dog</td>\n",
       "      <td>5 years 7 months</td>\n",
       "      <td>Male</td>\n",
       "      <td>Special Care Dogs</td>\n",
       "      <td>2018-02-14 00:00:00</td>\n",
       "      <td>Adoption</td>\n",
       "      <td>NaN</td>\n",
       "      <td>False</td>\n",
       "      <td>NaN</td>\n",
       "      <td>5.0</td>\n",
       "      <td>493.0</td>\n",
       "    </tr>\n",
       "    <tr>\n",
       "      <th>1</th>\n",
       "      <td>15</td>\n",
       "      <td>46693</td>\n",
       "      <td>2016-11-21 00:00:00</td>\n",
       "      <td>Abandoned</td>\n",
       "      <td>False</td>\n",
       "      <td>981020017897009</td>\n",
       "      <td>Baby</td>\n",
       "      <td>Pitbull</td>\n",
       "      <td>White</td>\n",
       "      <td>Dog</td>\n",
       "      <td>5 years 9 months</td>\n",
       "      <td>Male</td>\n",
       "      <td>Adoptable Dogs</td>\n",
       "      <td>2017-04-07 00:00:00</td>\n",
       "      <td>Adoption</td>\n",
       "      <td>NaN</td>\n",
       "      <td>False</td>\n",
       "      <td>NaN</td>\n",
       "      <td>5.0</td>\n",
       "      <td>137.0</td>\n",
       "    </tr>\n",
       "    <tr>\n",
       "      <th>2</th>\n",
       "      <td>19</td>\n",
       "      <td>47146</td>\n",
       "      <td>2017-01-17 00:00:00</td>\n",
       "      <td>Abandoned</td>\n",
       "      <td>False</td>\n",
       "      <td>981020021063793</td>\n",
       "      <td>Dinah</td>\n",
       "      <td>Labrador Retriever</td>\n",
       "      <td>Black</td>\n",
       "      <td>Dog</td>\n",
       "      <td>5 years 6 months</td>\n",
       "      <td>Female</td>\n",
       "      <td>Foster</td>\n",
       "      <td>2017-04-01 00:00:00</td>\n",
       "      <td>Adoption</td>\n",
       "      <td>NaN</td>\n",
       "      <td>False</td>\n",
       "      <td>NaN</td>\n",
       "      <td>5.0</td>\n",
       "      <td>74.0</td>\n",
       "    </tr>\n",
       "    <tr>\n",
       "      <th>3</th>\n",
       "      <td>27</td>\n",
       "      <td>47239</td>\n",
       "      <td>2017-01-27 00:00:00</td>\n",
       "      <td>Abandoned</td>\n",
       "      <td>False</td>\n",
       "      <td>981020021070452</td>\n",
       "      <td>Maria</td>\n",
       "      <td>NaN</td>\n",
       "      <td>Black and Brown</td>\n",
       "      <td>Dog</td>\n",
       "      <td>3 years 5 months</td>\n",
       "      <td>Female</td>\n",
       "      <td>Foster</td>\n",
       "      <td>2017-04-01 00:00:00</td>\n",
       "      <td>Adoption</td>\n",
       "      <td>NaN</td>\n",
       "      <td>False</td>\n",
       "      <td>NaN</td>\n",
       "      <td>3.0</td>\n",
       "      <td>64.0</td>\n",
       "    </tr>\n",
       "    <tr>\n",
       "      <th>4</th>\n",
       "      <td>33</td>\n",
       "      <td>47319</td>\n",
       "      <td>2017-02-05 00:00:00</td>\n",
       "      <td>other</td>\n",
       "      <td>False</td>\n",
       "      <td>NaN</td>\n",
       "      <td>Louise Vada</td>\n",
       "      <td>Pitbull</td>\n",
       "      <td>Black</td>\n",
       "      <td>Dog</td>\n",
       "      <td>4 years 5 months</td>\n",
       "      <td>Female</td>\n",
       "      <td>Stray Dogs Theta</td>\n",
       "      <td>2017-04-05 00:00:00</td>\n",
       "      <td>Reclaimed</td>\n",
       "      <td>NaN</td>\n",
       "      <td>False</td>\n",
       "      <td>NaN</td>\n",
       "      <td>4.0</td>\n",
       "      <td>59.0</td>\n",
       "    </tr>\n",
       "  </tbody>\n",
       "</table>\n",
       "</div>"
      ],
      "text/plain": [
       "   Unnamed: 0     id           intakedate intakereason  istransfer  \\\n",
       "0          12  46238  2016-10-09 00:00:00    Abandoned       False   \n",
       "1          15  46693  2016-11-21 00:00:00    Abandoned       False   \n",
       "2          19  47146  2017-01-17 00:00:00    Abandoned       False   \n",
       "3          27  47239  2017-01-27 00:00:00    Abandoned       False   \n",
       "4          33  47319  2017-02-05 00:00:00        other       False   \n",
       "\n",
       "  identichipnumber   animalname           breedname       basecolour  \\\n",
       "0  981020019070093    Tennessee              Heeler  Black and Brown   \n",
       "1  981020017897009         Baby             Pitbull            White   \n",
       "2  981020021063793        Dinah  Labrador Retriever            Black   \n",
       "3  981020021070452        Maria                 NaN  Black and Brown   \n",
       "4              NaN  Louise Vada             Pitbull            Black   \n",
       "\n",
       "  speciesname         animalage sexname           location  \\\n",
       "0         Dog  5 years 7 months    Male  Special Care Dogs   \n",
       "1         Dog  5 years 9 months    Male     Adoptable Dogs   \n",
       "2         Dog  5 years 6 months  Female             Foster   \n",
       "3         Dog  3 years 5 months  Female             Foster   \n",
       "4         Dog  4 years 5 months  Female   Stray Dogs Theta   \n",
       "\n",
       "          movementdate movementtype returndate  puttosleep  age(months)  \\\n",
       "0  2018-02-14 00:00:00     Adoption        NaN       False          NaN   \n",
       "1  2017-04-07 00:00:00     Adoption        NaN       False          NaN   \n",
       "2  2017-04-01 00:00:00     Adoption        NaN       False          NaN   \n",
       "3  2017-04-01 00:00:00     Adoption        NaN       False          NaN   \n",
       "4  2017-04-05 00:00:00    Reclaimed        NaN       False          NaN   \n",
       "\n",
       "   age(years)  duration of stay  \n",
       "0         5.0             493.0  \n",
       "1         5.0             137.0  \n",
       "2         5.0              74.0  \n",
       "3         3.0              64.0  \n",
       "4         4.0              59.0  "
      ]
     },
     "execution_count": 10,
     "metadata": {},
     "output_type": "execute_result"
    }
   ],
   "source": [
    "dog_df.head()"
   ]
  },
  {
   "cell_type": "code",
   "execution_count": 12,
   "metadata": {
    "scrolled": false
   },
   "outputs": [
    {
     "data": {
      "text/plain": [
       "Adoption     2841\n",
       "Reclaimed    1487\n",
       "Transfer      107\n",
       "Foster         34\n",
       "Escaped         1\n",
       "Name: movementtype, dtype: int64"
      ]
     },
     "execution_count": 12,
     "metadata": {},
     "output_type": "execute_result"
    }
   ],
   "source": [
    "dog_df['movementtype'].value_counts()"
   ]
  },
  {
   "cell_type": "markdown",
   "metadata": {},
   "source": [
    "There are only 34 fosters in this set and most of the fosters happen pretty quickly. Thats why I only use the entries that have adoptions as the movementtype. "
   ]
  },
  {
   "cell_type": "code",
   "execution_count": 13,
   "metadata": {},
   "outputs": [],
   "source": [
    "dog_model_data = dog_df[dog_df['movementtype'] == 'Adoption']"
   ]
  },
  {
   "cell_type": "code",
   "execution_count": 14,
   "metadata": {},
   "outputs": [
    {
     "data": {
      "text/plain": [
       "0"
      ]
     },
     "execution_count": 14,
     "metadata": {},
     "output_type": "execute_result"
    }
   ],
   "source": [
    "def create model data(data)"
   ]
  },
  {
   "cell_type": "code",
   "execution_count": 15,
   "metadata": {},
   "outputs": [
    {
     "data": {
      "text/html": [
       "<div>\n",
       "<style scoped>\n",
       "    .dataframe tbody tr th:only-of-type {\n",
       "        vertical-align: middle;\n",
       "    }\n",
       "\n",
       "    .dataframe tbody tr th {\n",
       "        vertical-align: top;\n",
       "    }\n",
       "\n",
       "    .dataframe thead th {\n",
       "        text-align: right;\n",
       "    }\n",
       "</style>\n",
       "<table border=\"1\" class=\"dataframe\">\n",
       "  <thead>\n",
       "    <tr style=\"text-align: right;\">\n",
       "      <th></th>\n",
       "      <th>Unnamed: 0</th>\n",
       "      <th>id</th>\n",
       "      <th>age(months)</th>\n",
       "      <th>age(years)</th>\n",
       "      <th>duration of stay</th>\n",
       "    </tr>\n",
       "  </thead>\n",
       "  <tbody>\n",
       "    <tr>\n",
       "      <th>count</th>\n",
       "      <td>2841.000000</td>\n",
       "      <td>2841.000000</td>\n",
       "      <td>65.000000</td>\n",
       "      <td>2841.000000</td>\n",
       "      <td>2841.000000</td>\n",
       "    </tr>\n",
       "    <tr>\n",
       "      <th>mean</th>\n",
       "      <td>8698.644843</td>\n",
       "      <td>62603.009152</td>\n",
       "      <td>5.061538</td>\n",
       "      <td>3.689194</td>\n",
       "      <td>53.449490</td>\n",
       "    </tr>\n",
       "    <tr>\n",
       "      <th>std</th>\n",
       "      <td>5244.246966</td>\n",
       "      <td>4842.666952</td>\n",
       "      <td>0.899252</td>\n",
       "      <td>3.221766</td>\n",
       "      <td>118.125138</td>\n",
       "    </tr>\n",
       "    <tr>\n",
       "      <th>min</th>\n",
       "      <td>12.000000</td>\n",
       "      <td>46238.000000</td>\n",
       "      <td>2.000000</td>\n",
       "      <td>0.000000</td>\n",
       "      <td>1.000000</td>\n",
       "    </tr>\n",
       "    <tr>\n",
       "      <th>25%</th>\n",
       "      <td>4123.000000</td>\n",
       "      <td>58835.000000</td>\n",
       "      <td>5.000000</td>\n",
       "      <td>1.000000</td>\n",
       "      <td>10.000000</td>\n",
       "    </tr>\n",
       "    <tr>\n",
       "      <th>50%</th>\n",
       "      <td>8203.000000</td>\n",
       "      <td>62340.000000</td>\n",
       "      <td>5.000000</td>\n",
       "      <td>3.000000</td>\n",
       "      <td>18.000000</td>\n",
       "    </tr>\n",
       "    <tr>\n",
       "      <th>75%</th>\n",
       "      <td>12722.000000</td>\n",
       "      <td>66193.000000</td>\n",
       "      <td>6.000000</td>\n",
       "      <td>5.000000</td>\n",
       "      <td>41.000000</td>\n",
       "    </tr>\n",
       "    <tr>\n",
       "      <th>max</th>\n",
       "      <td>18667.000000</td>\n",
       "      <td>71690.000000</td>\n",
       "      <td>6.000000</td>\n",
       "      <td>18.000000</td>\n",
       "      <td>1443.000000</td>\n",
       "    </tr>\n",
       "  </tbody>\n",
       "</table>\n",
       "</div>"
      ],
      "text/plain": [
       "         Unnamed: 0            id  age(months)   age(years)  duration of stay\n",
       "count   2841.000000   2841.000000    65.000000  2841.000000       2841.000000\n",
       "mean    8698.644843  62603.009152     5.061538     3.689194         53.449490\n",
       "std     5244.246966   4842.666952     0.899252     3.221766        118.125138\n",
       "min       12.000000  46238.000000     2.000000     0.000000          1.000000\n",
       "25%     4123.000000  58835.000000     5.000000     1.000000         10.000000\n",
       "50%     8203.000000  62340.000000     5.000000     3.000000         18.000000\n",
       "75%    12722.000000  66193.000000     6.000000     5.000000         41.000000\n",
       "max    18667.000000  71690.000000     6.000000    18.000000       1443.000000"
      ]
     },
     "execution_count": 15,
     "metadata": {},
     "output_type": "execute_result"
    }
   ],
   "source": [
    "dog_model_data.describe()"
   ]
  },
  {
   "cell_type": "markdown",
   "metadata": {},
   "source": [
    "Now I want to categorize my target column into these 2 values. "
   ]
  },
  {
   "cell_type": "markdown",
   "metadata": {},
   "source": [
    "- 0 — Pet took more than 21 days to get adopted after being listed.\n",
    "- 1 — Pet took 21 days or less to get adopted."
   ]
  },
  {
   "cell_type": "code",
   "execution_count": 16,
   "metadata": {},
   "outputs": [],
   "source": [
    "dog_model_data['duration of stay'][dog_model_data['duration of stay'] <= 21] = 1\n",
    "dog_model_data['duration of stay'][dog_model_data['duration of stay'] > 21] = 0"
   ]
  },
  {
   "cell_type": "code",
   "execution_count": 17,
   "metadata": {
    "scrolled": true
   },
   "outputs": [
    {
     "data": {
      "text/plain": [
       "1.0    1574\n",
       "0.0    1267\n",
       "Name: duration of stay, dtype: int64"
      ]
     },
     "execution_count": 17,
     "metadata": {},
     "output_type": "execute_result"
    }
   ],
   "source": [
    "dog_model_data['duration of stay'].value_counts()"
   ]
  },
  {
   "cell_type": "markdown",
   "metadata": {},
   "source": [
    "#### Modeless Prediction"
   ]
  },
  {
   "cell_type": "code",
   "execution_count": 128,
   "metadata": {},
   "outputs": [
    {
     "data": {
      "text/plain": [
       "1.0    0.55403\n",
       "0.0    0.44597\n",
       "Name: duration of stay, dtype: float64"
      ]
     },
     "execution_count": 128,
     "metadata": {},
     "output_type": "execute_result"
    }
   ],
   "source": [
    "dog_model_data['duration of stay'].value_counts(normalize=True)"
   ]
  },
  {
   "cell_type": "markdown",
   "metadata": {},
   "source": [
    "###### If I said that every dog would take longer than 21 days to get adopted, I would be right 44% of the time. "
   ]
  },
  {
   "cell_type": "code",
   "execution_count": 19,
   "metadata": {
    "scrolled": false
   },
   "outputs": [
    {
     "data": {
      "text/html": [
       "<div>\n",
       "<style scoped>\n",
       "    .dataframe tbody tr th:only-of-type {\n",
       "        vertical-align: middle;\n",
       "    }\n",
       "\n",
       "    .dataframe tbody tr th {\n",
       "        vertical-align: top;\n",
       "    }\n",
       "\n",
       "    .dataframe thead th {\n",
       "        text-align: right;\n",
       "    }\n",
       "</style>\n",
       "<table border=\"1\" class=\"dataframe\">\n",
       "  <thead>\n",
       "    <tr style=\"text-align: right;\">\n",
       "      <th></th>\n",
       "      <th>Unnamed: 0</th>\n",
       "      <th>id</th>\n",
       "      <th>intakedate</th>\n",
       "      <th>intakereason</th>\n",
       "      <th>istransfer</th>\n",
       "      <th>identichipnumber</th>\n",
       "      <th>animalname</th>\n",
       "      <th>breedname</th>\n",
       "      <th>basecolour</th>\n",
       "      <th>speciesname</th>\n",
       "      <th>animalage</th>\n",
       "      <th>sexname</th>\n",
       "      <th>location</th>\n",
       "      <th>movementdate</th>\n",
       "      <th>movementtype</th>\n",
       "      <th>returndate</th>\n",
       "      <th>puttosleep</th>\n",
       "      <th>age(months)</th>\n",
       "      <th>age(years)</th>\n",
       "      <th>duration of stay</th>\n",
       "    </tr>\n",
       "  </thead>\n",
       "  <tbody>\n",
       "    <tr>\n",
       "      <th>0</th>\n",
       "      <td>12</td>\n",
       "      <td>46238</td>\n",
       "      <td>2016-10-09 00:00:00</td>\n",
       "      <td>Abandoned</td>\n",
       "      <td>False</td>\n",
       "      <td>981020019070093</td>\n",
       "      <td>Tennessee</td>\n",
       "      <td>Heeler</td>\n",
       "      <td>Black and Brown</td>\n",
       "      <td>Dog</td>\n",
       "      <td>5 years 7 months</td>\n",
       "      <td>Male</td>\n",
       "      <td>Special Care Dogs</td>\n",
       "      <td>2018-02-14 00:00:00</td>\n",
       "      <td>Adoption</td>\n",
       "      <td>NaN</td>\n",
       "      <td>False</td>\n",
       "      <td>NaN</td>\n",
       "      <td>5.0</td>\n",
       "      <td>0.0</td>\n",
       "    </tr>\n",
       "    <tr>\n",
       "      <th>1</th>\n",
       "      <td>15</td>\n",
       "      <td>46693</td>\n",
       "      <td>2016-11-21 00:00:00</td>\n",
       "      <td>Abandoned</td>\n",
       "      <td>False</td>\n",
       "      <td>981020017897009</td>\n",
       "      <td>Baby</td>\n",
       "      <td>Pitbull</td>\n",
       "      <td>White</td>\n",
       "      <td>Dog</td>\n",
       "      <td>5 years 9 months</td>\n",
       "      <td>Male</td>\n",
       "      <td>Adoptable Dogs</td>\n",
       "      <td>2017-04-07 00:00:00</td>\n",
       "      <td>Adoption</td>\n",
       "      <td>NaN</td>\n",
       "      <td>False</td>\n",
       "      <td>NaN</td>\n",
       "      <td>5.0</td>\n",
       "      <td>0.0</td>\n",
       "    </tr>\n",
       "    <tr>\n",
       "      <th>2</th>\n",
       "      <td>19</td>\n",
       "      <td>47146</td>\n",
       "      <td>2017-01-17 00:00:00</td>\n",
       "      <td>Abandoned</td>\n",
       "      <td>False</td>\n",
       "      <td>981020021063793</td>\n",
       "      <td>Dinah</td>\n",
       "      <td>Labrador Retriever</td>\n",
       "      <td>Black</td>\n",
       "      <td>Dog</td>\n",
       "      <td>5 years 6 months</td>\n",
       "      <td>Female</td>\n",
       "      <td>Foster</td>\n",
       "      <td>2017-04-01 00:00:00</td>\n",
       "      <td>Adoption</td>\n",
       "      <td>NaN</td>\n",
       "      <td>False</td>\n",
       "      <td>NaN</td>\n",
       "      <td>5.0</td>\n",
       "      <td>0.0</td>\n",
       "    </tr>\n",
       "    <tr>\n",
       "      <th>3</th>\n",
       "      <td>27</td>\n",
       "      <td>47239</td>\n",
       "      <td>2017-01-27 00:00:00</td>\n",
       "      <td>Abandoned</td>\n",
       "      <td>False</td>\n",
       "      <td>981020021070452</td>\n",
       "      <td>Maria</td>\n",
       "      <td>NaN</td>\n",
       "      <td>Black and Brown</td>\n",
       "      <td>Dog</td>\n",
       "      <td>3 years 5 months</td>\n",
       "      <td>Female</td>\n",
       "      <td>Foster</td>\n",
       "      <td>2017-04-01 00:00:00</td>\n",
       "      <td>Adoption</td>\n",
       "      <td>NaN</td>\n",
       "      <td>False</td>\n",
       "      <td>NaN</td>\n",
       "      <td>3.0</td>\n",
       "      <td>0.0</td>\n",
       "    </tr>\n",
       "    <tr>\n",
       "      <th>7</th>\n",
       "      <td>50</td>\n",
       "      <td>47502</td>\n",
       "      <td>2017-02-27 00:00:00</td>\n",
       "      <td>other</td>\n",
       "      <td>False</td>\n",
       "      <td>981020015101070</td>\n",
       "      <td>Zoey</td>\n",
       "      <td>Pitbull</td>\n",
       "      <td>Grey and White</td>\n",
       "      <td>Dog</td>\n",
       "      <td>5 years 4 months</td>\n",
       "      <td>Female</td>\n",
       "      <td>Stray Dogs Beta</td>\n",
       "      <td>2017-06-01 00:00:00</td>\n",
       "      <td>Adoption</td>\n",
       "      <td>NaN</td>\n",
       "      <td>False</td>\n",
       "      <td>NaN</td>\n",
       "      <td>5.0</td>\n",
       "      <td>0.0</td>\n",
       "    </tr>\n",
       "  </tbody>\n",
       "</table>\n",
       "</div>"
      ],
      "text/plain": [
       "   Unnamed: 0     id           intakedate intakereason  istransfer  \\\n",
       "0          12  46238  2016-10-09 00:00:00    Abandoned       False   \n",
       "1          15  46693  2016-11-21 00:00:00    Abandoned       False   \n",
       "2          19  47146  2017-01-17 00:00:00    Abandoned       False   \n",
       "3          27  47239  2017-01-27 00:00:00    Abandoned       False   \n",
       "7          50  47502  2017-02-27 00:00:00        other       False   \n",
       "\n",
       "  identichipnumber animalname           breedname       basecolour  \\\n",
       "0  981020019070093  Tennessee              Heeler  Black and Brown   \n",
       "1  981020017897009       Baby             Pitbull            White   \n",
       "2  981020021063793      Dinah  Labrador Retriever            Black   \n",
       "3  981020021070452      Maria                 NaN  Black and Brown   \n",
       "7  981020015101070       Zoey             Pitbull   Grey and White   \n",
       "\n",
       "  speciesname         animalage sexname           location  \\\n",
       "0         Dog  5 years 7 months    Male  Special Care Dogs   \n",
       "1         Dog  5 years 9 months    Male     Adoptable Dogs   \n",
       "2         Dog  5 years 6 months  Female             Foster   \n",
       "3         Dog  3 years 5 months  Female             Foster   \n",
       "7         Dog  5 years 4 months  Female    Stray Dogs Beta   \n",
       "\n",
       "          movementdate movementtype returndate  puttosleep  age(months)  \\\n",
       "0  2018-02-14 00:00:00     Adoption        NaN       False          NaN   \n",
       "1  2017-04-07 00:00:00     Adoption        NaN       False          NaN   \n",
       "2  2017-04-01 00:00:00     Adoption        NaN       False          NaN   \n",
       "3  2017-04-01 00:00:00     Adoption        NaN       False          NaN   \n",
       "7  2017-06-01 00:00:00     Adoption        NaN       False          NaN   \n",
       "\n",
       "   age(years)  duration of stay  \n",
       "0         5.0               0.0  \n",
       "1         5.0               0.0  \n",
       "2         5.0               0.0  \n",
       "3         3.0               0.0  \n",
       "7         5.0               0.0  "
      ]
     },
     "execution_count": 19,
     "metadata": {},
     "output_type": "execute_result"
    }
   ],
   "source": [
    " dog_model_data.head()"
   ]
  },
  {
   "cell_type": "code",
   "execution_count": 20,
   "metadata": {},
   "outputs": [
    {
     "name": "stdout",
     "output_type": "stream",
     "text": [
      "<class 'pandas.core.frame.DataFrame'>\n",
      "Int64Index: 2841 entries, 0 to 4467\n",
      "Data columns (total 20 columns):\n",
      " #   Column            Non-Null Count  Dtype  \n",
      "---  ------            --------------  -----  \n",
      " 0   Unnamed: 0        2841 non-null   int64  \n",
      " 1   id                2841 non-null   int64  \n",
      " 2   intakedate        2841 non-null   object \n",
      " 3   intakereason      2841 non-null   object \n",
      " 4   istransfer        2841 non-null   bool   \n",
      " 5   identichipnumber  2838 non-null   object \n",
      " 6   animalname        2841 non-null   object \n",
      " 7   breedname         2840 non-null   object \n",
      " 8   basecolour        2841 non-null   object \n",
      " 9   speciesname       2841 non-null   object \n",
      " 10  animalage         2841 non-null   object \n",
      " 11  sexname           2841 non-null   object \n",
      " 12  location          2841 non-null   object \n",
      " 13  movementdate      2841 non-null   object \n",
      " 14  movementtype      2841 non-null   object \n",
      " 15  returndate        55 non-null     object \n",
      " 16  puttosleep        2841 non-null   bool   \n",
      " 17  age(months)       65 non-null     float64\n",
      " 18  age(years)        2841 non-null   float64\n",
      " 19  duration of stay  2841 non-null   float64\n",
      "dtypes: bool(2), float64(3), int64(2), object(13)\n",
      "memory usage: 427.3+ KB\n"
     ]
    }
   ],
   "source": [
    "dog_model_data.info()"
   ]
  },
  {
   "cell_type": "markdown",
   "metadata": {},
   "source": [
    "Breedname is missing one value so i will fill it with 'Other'"
   ]
  },
  {
   "cell_type": "code",
   "execution_count": 21,
   "metadata": {},
   "outputs": [],
   "source": [
    "dog_model_data['breedname'] = dog_model_data['breedname'].fillna('Other')"
   ]
  },
  {
   "cell_type": "markdown",
   "metadata": {},
   "source": [
    "The months that have missing values means that age will be dictated by the years column, so we can fill the rest of the months column with zeroes, I did the same thing for the years column in my data cleaning notebook before saving the csv. Will be more organized in final notebook."
   ]
  },
  {
   "cell_type": "code",
   "execution_count": 22,
   "metadata": {},
   "outputs": [],
   "source": [
    "dog_model_data['age(months)'] = dog_model_data['age(months)'].fillna(0)"
   ]
  },
  {
   "cell_type": "markdown",
   "metadata": {},
   "source": [
    "### Prepare Cat data for Modeling"
   ]
  },
  {
   "cell_type": "code",
   "execution_count": 23,
   "metadata": {},
   "outputs": [
    {
     "data": {
      "text/html": [
       "<div>\n",
       "<style scoped>\n",
       "    .dataframe tbody tr th:only-of-type {\n",
       "        vertical-align: middle;\n",
       "    }\n",
       "\n",
       "    .dataframe tbody tr th {\n",
       "        vertical-align: top;\n",
       "    }\n",
       "\n",
       "    .dataframe thead th {\n",
       "        text-align: right;\n",
       "    }\n",
       "</style>\n",
       "<table border=\"1\" class=\"dataframe\">\n",
       "  <thead>\n",
       "    <tr style=\"text-align: right;\">\n",
       "      <th></th>\n",
       "      <th>Unnamed: 0</th>\n",
       "      <th>id</th>\n",
       "      <th>intakedate</th>\n",
       "      <th>intakereason</th>\n",
       "      <th>istransfer</th>\n",
       "      <th>identichipnumber</th>\n",
       "      <th>animalname</th>\n",
       "      <th>breedname</th>\n",
       "      <th>basecolour</th>\n",
       "      <th>speciesname</th>\n",
       "      <th>animalage</th>\n",
       "      <th>sexname</th>\n",
       "      <th>location</th>\n",
       "      <th>movementdate</th>\n",
       "      <th>movementtype</th>\n",
       "      <th>returndate</th>\n",
       "      <th>puttosleep</th>\n",
       "      <th>age(months)</th>\n",
       "      <th>age(years)</th>\n",
       "      <th>duration of stay</th>\n",
       "    </tr>\n",
       "  </thead>\n",
       "  <tbody>\n",
       "    <tr>\n",
       "      <th>0</th>\n",
       "      <td>14</td>\n",
       "      <td>46437</td>\n",
       "      <td>2016-10-26 00:00:00</td>\n",
       "      <td>Abandoned</td>\n",
       "      <td>False</td>\n",
       "      <td>981020017650993</td>\n",
       "      <td>Nova</td>\n",
       "      <td>Domestic Long Hair</td>\n",
       "      <td>Black</td>\n",
       "      <td>Cat</td>\n",
       "      <td>12 years 3 months</td>\n",
       "      <td>Female</td>\n",
       "      <td>Stray Cats</td>\n",
       "      <td>2017-04-07 00:00:00</td>\n",
       "      <td>Adoption</td>\n",
       "      <td>02/09/2018 12:00:00 AM</td>\n",
       "      <td>True</td>\n",
       "      <td>NaN</td>\n",
       "      <td>12.0</td>\n",
       "      <td>163.0</td>\n",
       "    </tr>\n",
       "    <tr>\n",
       "      <th>1</th>\n",
       "      <td>17</td>\n",
       "      <td>47120</td>\n",
       "      <td>2017-01-11 00:00:00</td>\n",
       "      <td>Abandoned</td>\n",
       "      <td>False</td>\n",
       "      <td>981020021072899</td>\n",
       "      <td>Vivian</td>\n",
       "      <td>Other</td>\n",
       "      <td>Other</td>\n",
       "      <td>Cat</td>\n",
       "      <td>6 years 5 months</td>\n",
       "      <td>Female</td>\n",
       "      <td>Foster</td>\n",
       "      <td>2017-05-13 00:00:00</td>\n",
       "      <td>Adoption</td>\n",
       "      <td>NaN</td>\n",
       "      <td>False</td>\n",
       "      <td>NaN</td>\n",
       "      <td>6.0</td>\n",
       "      <td>122.0</td>\n",
       "    </tr>\n",
       "    <tr>\n",
       "      <th>2</th>\n",
       "      <td>26</td>\n",
       "      <td>47198</td>\n",
       "      <td>2017-01-22 00:00:00</td>\n",
       "      <td>Abandoned</td>\n",
       "      <td>False</td>\n",
       "      <td>981020021020775</td>\n",
       "      <td>Mama Mia</td>\n",
       "      <td>Domestic Short Hair</td>\n",
       "      <td>Grey and White</td>\n",
       "      <td>Cat</td>\n",
       "      <td>4 years 10 months</td>\n",
       "      <td>Female</td>\n",
       "      <td>Adoptable Cat Glass Colony</td>\n",
       "      <td>2017-06-22 00:00:00</td>\n",
       "      <td>Adoption</td>\n",
       "      <td>NaN</td>\n",
       "      <td>False</td>\n",
       "      <td>NaN</td>\n",
       "      <td>4.0</td>\n",
       "      <td>151.0</td>\n",
       "    </tr>\n",
       "    <tr>\n",
       "      <th>3</th>\n",
       "      <td>29</td>\n",
       "      <td>47248</td>\n",
       "      <td>2017-01-27 00:00:00</td>\n",
       "      <td>Abandoned</td>\n",
       "      <td>False</td>\n",
       "      <td>981020021068759</td>\n",
       "      <td>Mr. T</td>\n",
       "      <td>Other</td>\n",
       "      <td>Black</td>\n",
       "      <td>Cat</td>\n",
       "      <td>11 years 7 months</td>\n",
       "      <td>Male</td>\n",
       "      <td>Foster</td>\n",
       "      <td>2017-06-02 00:00:00</td>\n",
       "      <td>Adoption</td>\n",
       "      <td>NaN</td>\n",
       "      <td>False</td>\n",
       "      <td>NaN</td>\n",
       "      <td>11.0</td>\n",
       "      <td>126.0</td>\n",
       "    </tr>\n",
       "    <tr>\n",
       "      <th>4</th>\n",
       "      <td>30</td>\n",
       "      <td>47277</td>\n",
       "      <td>2017-01-31 00:00:00</td>\n",
       "      <td>Abandoned</td>\n",
       "      <td>False</td>\n",
       "      <td>981020021046006</td>\n",
       "      <td>Coraline</td>\n",
       "      <td>Domestic Short Hair</td>\n",
       "      <td>Brown and Black</td>\n",
       "      <td>Cat</td>\n",
       "      <td>5 years 5 months</td>\n",
       "      <td>Female</td>\n",
       "      <td>Adoptable Cat Glass Colony</td>\n",
       "      <td>2017-04-05 00:00:00</td>\n",
       "      <td>Adoption</td>\n",
       "      <td>NaN</td>\n",
       "      <td>False</td>\n",
       "      <td>NaN</td>\n",
       "      <td>5.0</td>\n",
       "      <td>64.0</td>\n",
       "    </tr>\n",
       "  </tbody>\n",
       "</table>\n",
       "</div>"
      ],
      "text/plain": [
       "   Unnamed: 0     id           intakedate intakereason  istransfer  \\\n",
       "0          14  46437  2016-10-26 00:00:00    Abandoned       False   \n",
       "1          17  47120  2017-01-11 00:00:00    Abandoned       False   \n",
       "2          26  47198  2017-01-22 00:00:00    Abandoned       False   \n",
       "3          29  47248  2017-01-27 00:00:00    Abandoned       False   \n",
       "4          30  47277  2017-01-31 00:00:00    Abandoned       False   \n",
       "\n",
       "  identichipnumber animalname            breedname       basecolour  \\\n",
       "0  981020017650993       Nova   Domestic Long Hair            Black   \n",
       "1  981020021072899     Vivian                Other            Other   \n",
       "2  981020021020775   Mama Mia  Domestic Short Hair   Grey and White   \n",
       "3  981020021068759      Mr. T                Other            Black   \n",
       "4  981020021046006   Coraline  Domestic Short Hair  Brown and Black   \n",
       "\n",
       "  speciesname          animalage sexname                    location  \\\n",
       "0         Cat  12 years 3 months  Female                  Stray Cats   \n",
       "1         Cat   6 years 5 months  Female                      Foster   \n",
       "2         Cat  4 years 10 months  Female  Adoptable Cat Glass Colony   \n",
       "3         Cat  11 years 7 months    Male                      Foster   \n",
       "4         Cat   5 years 5 months  Female  Adoptable Cat Glass Colony   \n",
       "\n",
       "          movementdate movementtype              returndate  puttosleep  \\\n",
       "0  2017-04-07 00:00:00     Adoption  02/09/2018 12:00:00 AM        True   \n",
       "1  2017-05-13 00:00:00     Adoption                     NaN       False   \n",
       "2  2017-06-22 00:00:00     Adoption                     NaN       False   \n",
       "3  2017-06-02 00:00:00     Adoption                     NaN       False   \n",
       "4  2017-04-05 00:00:00     Adoption                     NaN       False   \n",
       "\n",
       "   age(months)  age(years)  duration of stay  \n",
       "0          NaN        12.0             163.0  \n",
       "1          NaN         6.0             122.0  \n",
       "2          NaN         4.0             151.0  \n",
       "3          NaN        11.0             126.0  \n",
       "4          NaN         5.0              64.0  "
      ]
     },
     "execution_count": 23,
     "metadata": {},
     "output_type": "execute_result"
    }
   ],
   "source": [
    "cat_df.head()"
   ]
  },
  {
   "cell_type": "code",
   "execution_count": 24,
   "metadata": {},
   "outputs": [
    {
     "name": "stdout",
     "output_type": "stream",
     "text": [
      "<class 'pandas.core.frame.DataFrame'>\n",
      "RangeIndex: 7072 entries, 0 to 7071\n",
      "Data columns (total 20 columns):\n",
      " #   Column            Non-Null Count  Dtype  \n",
      "---  ------            --------------  -----  \n",
      " 0   Unnamed: 0        7072 non-null   int64  \n",
      " 1   id                7072 non-null   int64  \n",
      " 2   intakedate        7072 non-null   object \n",
      " 3   intakereason      7072 non-null   object \n",
      " 4   istransfer        7072 non-null   bool   \n",
      " 5   identichipnumber  6170 non-null   object \n",
      " 6   animalname        7072 non-null   object \n",
      " 7   breedname         7072 non-null   object \n",
      " 8   basecolour        7072 non-null   object \n",
      " 9   speciesname       7072 non-null   object \n",
      " 10  animalage         7072 non-null   object \n",
      " 11  sexname           7072 non-null   object \n",
      " 12  location          7072 non-null   object \n",
      " 13  movementdate      7072 non-null   object \n",
      " 14  movementtype      7072 non-null   object \n",
      " 15  returndate        200 non-null    object \n",
      " 16  puttosleep        7072 non-null   bool   \n",
      " 17  age(months)       677 non-null    float64\n",
      " 18  age(years)        7072 non-null   float64\n",
      " 19  duration of stay  7072 non-null   float64\n",
      "dtypes: bool(2), float64(3), int64(2), object(13)\n",
      "memory usage: 1008.4+ KB\n"
     ]
    }
   ],
   "source": [
    "cat_df.info()"
   ]
  },
  {
   "cell_type": "code",
   "execution_count": 125,
   "metadata": {},
   "outputs": [
    {
     "data": {
      "text/plain": [
       "Adoption            5945\n",
       "Reclaimed            405\n",
       "Transfer             356\n",
       "Foster               326\n",
       "Released To Wild      29\n",
       "Stolen                 6\n",
       "Escaped                5\n",
       "Name: movementtype, dtype: int64"
      ]
     },
     "execution_count": 125,
     "metadata": {},
     "output_type": "execute_result"
    }
   ],
   "source": [
    "cat_df['movementtype'].value_counts()"
   ]
  },
  {
   "cell_type": "code",
   "execution_count": 25,
   "metadata": {},
   "outputs": [],
   "source": [
    "#Create a subdataframe that only contains cats that were adopted\n",
    "cat_model_data = cat_df[cat_df['movementtype'] == 'Adoption']"
   ]
  },
  {
   "cell_type": "markdown",
   "metadata": {},
   "source": [
    "I am focusing on the pets that got adopted and analyzing how long it took."
   ]
  },
  {
   "cell_type": "code",
   "execution_count": 26,
   "metadata": {},
   "outputs": [
    {
     "data": {
      "text/html": [
       "<div>\n",
       "<style scoped>\n",
       "    .dataframe tbody tr th:only-of-type {\n",
       "        vertical-align: middle;\n",
       "    }\n",
       "\n",
       "    .dataframe tbody tr th {\n",
       "        vertical-align: top;\n",
       "    }\n",
       "\n",
       "    .dataframe thead th {\n",
       "        text-align: right;\n",
       "    }\n",
       "</style>\n",
       "<table border=\"1\" class=\"dataframe\">\n",
       "  <thead>\n",
       "    <tr style=\"text-align: right;\">\n",
       "      <th></th>\n",
       "      <th>Unnamed: 0</th>\n",
       "      <th>id</th>\n",
       "      <th>age(months)</th>\n",
       "      <th>age(years)</th>\n",
       "      <th>duration of stay</th>\n",
       "    </tr>\n",
       "  </thead>\n",
       "  <tbody>\n",
       "    <tr>\n",
       "      <th>count</th>\n",
       "      <td>5945.000000</td>\n",
       "      <td>5945.000000</td>\n",
       "      <td>391.000000</td>\n",
       "      <td>5945.000000</td>\n",
       "      <td>5945.000000</td>\n",
       "    </tr>\n",
       "    <tr>\n",
       "      <th>mean</th>\n",
       "      <td>9754.459378</td>\n",
       "      <td>63577.247098</td>\n",
       "      <td>4.856777</td>\n",
       "      <td>2.477712</td>\n",
       "      <td>51.057359</td>\n",
       "    </tr>\n",
       "    <tr>\n",
       "      <th>std</th>\n",
       "      <td>5320.087394</td>\n",
       "      <td>4748.933416</td>\n",
       "      <td>1.300867</td>\n",
       "      <td>2.501994</td>\n",
       "      <td>83.680666</td>\n",
       "    </tr>\n",
       "    <tr>\n",
       "      <th>min</th>\n",
       "      <td>14.000000</td>\n",
       "      <td>46437.000000</td>\n",
       "      <td>2.000000</td>\n",
       "      <td>0.000000</td>\n",
       "      <td>1.000000</td>\n",
       "    </tr>\n",
       "    <tr>\n",
       "      <th>25%</th>\n",
       "      <td>5365.000000</td>\n",
       "      <td>59873.000000</td>\n",
       "      <td>4.000000</td>\n",
       "      <td>1.000000</td>\n",
       "      <td>15.000000</td>\n",
       "    </tr>\n",
       "    <tr>\n",
       "      <th>50%</th>\n",
       "      <td>10203.000000</td>\n",
       "      <td>64000.000000</td>\n",
       "      <td>5.000000</td>\n",
       "      <td>2.000000</td>\n",
       "      <td>34.000000</td>\n",
       "    </tr>\n",
       "    <tr>\n",
       "      <th>75%</th>\n",
       "      <td>14281.000000</td>\n",
       "      <td>67472.000000</td>\n",
       "      <td>6.000000</td>\n",
       "      <td>3.000000</td>\n",
       "      <td>59.000000</td>\n",
       "    </tr>\n",
       "    <tr>\n",
       "      <th>max</th>\n",
       "      <td>18663.000000</td>\n",
       "      <td>71663.000000</td>\n",
       "      <td>6.000000</td>\n",
       "      <td>18.000000</td>\n",
       "      <td>1220.000000</td>\n",
       "    </tr>\n",
       "  </tbody>\n",
       "</table>\n",
       "</div>"
      ],
      "text/plain": [
       "         Unnamed: 0            id  age(months)   age(years)  duration of stay\n",
       "count   5945.000000   5945.000000   391.000000  5945.000000       5945.000000\n",
       "mean    9754.459378  63577.247098     4.856777     2.477712         51.057359\n",
       "std     5320.087394   4748.933416     1.300867     2.501994         83.680666\n",
       "min       14.000000  46437.000000     2.000000     0.000000          1.000000\n",
       "25%     5365.000000  59873.000000     4.000000     1.000000         15.000000\n",
       "50%    10203.000000  64000.000000     5.000000     2.000000         34.000000\n",
       "75%    14281.000000  67472.000000     6.000000     3.000000         59.000000\n",
       "max    18663.000000  71663.000000     6.000000    18.000000       1220.000000"
      ]
     },
     "execution_count": 26,
     "metadata": {},
     "output_type": "execute_result"
    }
   ],
   "source": [
    "cat_model_data.describe()"
   ]
  },
  {
   "cell_type": "markdown",
   "metadata": {},
   "source": [
    "For cats I am using 30 days as the cutoff for the 2 categories of the target columns. Cats do not take up as much space on average as dogs, so it will take them longer to run out of space."
   ]
  },
  {
   "cell_type": "code",
   "execution_count": 27,
   "metadata": {},
   "outputs": [],
   "source": [
    "cat_model_data['duration of stay'][cat_model_data['duration of stay'] <= 30] = 1\n",
    "cat_model_data['duration of stay'][cat_model_data['duration of stay'] > 30] = 0"
   ]
  },
  {
   "cell_type": "markdown",
   "metadata": {},
   "source": [
    "##### Modeless understanding for cat adoptions"
   ]
  },
  {
   "cell_type": "code",
   "execution_count": 126,
   "metadata": {
    "scrolled": true
   },
   "outputs": [
    {
     "data": {
      "text/plain": [
       "0.0    0.54365\n",
       "1.0    0.45635\n",
       "Name: duration of stay, dtype: float64"
      ]
     },
     "execution_count": 126,
     "metadata": {},
     "output_type": "execute_result"
    }
   ],
   "source": [
    "cat_model_data['duration of stay'].value_counts(normalize=True)"
   ]
  },
  {
   "cell_type": "markdown",
   "metadata": {},
   "source": [
    "If i predicted that every cat would take longer than a month to get adopted I would be right 54% of the time."
   ]
  },
  {
   "cell_type": "code",
   "execution_count": 30,
   "metadata": {
    "scrolled": true
   },
   "outputs": [],
   "source": [
    "cat_model_data['age(months)'] = cat_model_data['age(months)'].fillna(0)"
   ]
  },
  {
   "cell_type": "markdown",
   "metadata": {},
   "source": [
    "## Modeling"
   ]
  },
  {
   "cell_type": "markdown",
   "metadata": {},
   "source": [
    "### Preprocessing "
   ]
  },
  {
   "cell_type": "code",
   "execution_count": 32,
   "metadata": {
    "scrolled": true
   },
   "outputs": [
    {
     "data": {
      "text/plain": [
       "Index(['Unnamed: 0', 'id', 'intakedate', 'intakereason', 'istransfer',\n",
       "       'identichipnumber', 'animalname', 'breedname', 'basecolour',\n",
       "       'speciesname', 'animalage', 'sexname', 'location', 'movementdate',\n",
       "       'movementtype', 'returndate', 'puttosleep', 'age(months)', 'age(years)',\n",
       "       'duration of stay'],\n",
       "      dtype='object')"
      ]
     },
     "execution_count": 32,
     "metadata": {},
     "output_type": "execute_result"
    }
   ],
   "source": [
    "dog_model_data.columns"
   ]
  },
  {
   "cell_type": "code",
   "execution_count": 33,
   "metadata": {},
   "outputs": [],
   "source": [
    "# create a list of the columns that will be used as features\n",
    "used_cols = ['age(months)', 'age(years)', 'sexname', 'basecolour', 'breedname', 'intakereason']"
   ]
  },
  {
   "cell_type": "markdown",
   "metadata": {},
   "source": [
    "When splitting up the data into training and testing data, I first take 15% of the data to use as a holdout set to test the validity of the final model."
   ]
  },
  {
   "cell_type": "code",
   "execution_count": 34,
   "metadata": {},
   "outputs": [],
   "source": [
    "X = dog_model_data[used_cols]\n",
    "y = dog_model_data['duration of stay']\n",
    "\n",
    "X_train, X_hold, y_train, y_hold = train_test_split(X, y, test_size=0.15, random_state=42)"
   ]
  },
  {
   "cell_type": "code",
   "execution_count": 35,
   "metadata": {},
   "outputs": [],
   "source": [
    "#perform a second train_test_split for testing and training\n",
    "X = X_train\n",
    "y = y_train\n",
    "\n",
    "X_train, X_test, y_train, y_test = train_test_split(X, y, random_state=42)"
   ]
  },
  {
   "cell_type": "code",
   "execution_count": 36,
   "metadata": {},
   "outputs": [],
   "source": [
    "# Use a for loop to seperate numrical and categorical columns\n",
    "num_cols =[]\n",
    "cat_cols = []\n",
    "\n",
    "for c in used_cols:\n",
    "    if X[c].dtype in ['float64', 'int64']:\n",
    "        num_cols.append(c)\n",
    "    else:\n",
    "        cat_cols.append(c)"
   ]
  },
  {
   "cell_type": "code",
   "execution_count": 37,
   "metadata": {},
   "outputs": [
    {
     "name": "stdout",
     "output_type": "stream",
     "text": [
      "['age(months)', 'age(years)']\n",
      "['sexname', 'basecolour', 'breedname', 'intakereason']\n"
     ]
    }
   ],
   "source": [
    "print(num_cols)\n",
    "print(cat_cols)"
   ]
  },
  {
   "cell_type": "markdown",
   "metadata": {},
   "source": [
    "### Create Pipeline\n",
    "Create a pipeline to One hot encode categorical values, and scale numerical columns in case we use models that require scaling."
   ]
  },
  {
   "cell_type": "code",
   "execution_count": 38,
   "metadata": {},
   "outputs": [],
   "source": [
    "hotencoder = OneHotEncoder(handle_unknown='ignore')\n",
    "cat_transformer = make_pipeline(hotencoder)\n",
    "\n",
    "scaler = StandardScaler()\n",
    "num_transformer = make_pipeline(scaler)"
   ]
  },
  {
   "cell_type": "code",
   "execution_count": 39,
   "metadata": {},
   "outputs": [],
   "source": [
    "# Package our encoder into a Column Transformer\n",
    "preprocessor = ColumnTransformer(\n",
    "    transformers=[('cat', cat_transformer, cat_cols), \n",
    "                  ('num', num_transformer, num_cols)], remainder='passthrough')"
   ]
  },
  {
   "cell_type": "code",
   "execution_count": 40,
   "metadata": {},
   "outputs": [
    {
     "data": {
      "text/plain": [
       "ColumnTransformer(remainder='passthrough',\n",
       "                  transformers=[('cat',\n",
       "                                 Pipeline(steps=[('onehotencoder',\n",
       "                                                  OneHotEncoder(handle_unknown='ignore'))]),\n",
       "                                 ['sexname', 'basecolour', 'breedname',\n",
       "                                  'intakereason']),\n",
       "                                ('num',\n",
       "                                 Pipeline(steps=[('standardscaler',\n",
       "                                                  StandardScaler())]),\n",
       "                                 ['age(months)', 'age(years)'])])"
      ]
     },
     "execution_count": 40,
     "metadata": {},
     "output_type": "execute_result"
    }
   ],
   "source": [
    "preprocessor"
   ]
  },
  {
   "cell_type": "code",
   "execution_count": 41,
   "metadata": {},
   "outputs": [],
   "source": [
    "X_tr_transformed = preprocessor.fit_transform(X_train)"
   ]
  },
  {
   "cell_type": "markdown",
   "metadata": {},
   "source": [
    "Our transformed data now has 85 columns."
   ]
  },
  {
   "cell_type": "code",
   "execution_count": 42,
   "metadata": {},
   "outputs": [
    {
     "data": {
      "text/plain": [
       "(1810, 85)"
      ]
     },
     "execution_count": 42,
     "metadata": {},
     "output_type": "execute_result"
    }
   ],
   "source": [
    "X_tr_transformed.shape"
   ]
  },
  {
   "cell_type": "code",
   "execution_count": 43,
   "metadata": {},
   "outputs": [
    {
     "data": {
      "text/plain": [
       "ColumnTransformer(remainder='passthrough',\n",
       "                  transformers=[('cat',\n",
       "                                 Pipeline(steps=[('onehotencoder',\n",
       "                                                  OneHotEncoder(handle_unknown='ignore'))]),\n",
       "                                 ['sexname', 'basecolour', 'breedname',\n",
       "                                  'intakereason']),\n",
       "                                ('num',\n",
       "                                 Pipeline(steps=[('standardscaler',\n",
       "                                                  StandardScaler())]),\n",
       "                                 ['age(months)', 'age(years)'])])"
      ]
     },
     "execution_count": 43,
     "metadata": {},
     "output_type": "execute_result"
    }
   ],
   "source": [
    "preprocessor.fit(X_train)"
   ]
  },
  {
   "cell_type": "markdown",
   "metadata": {},
   "source": [
    "### First Simple Model for Dog predictions"
   ]
  },
  {
   "cell_type": "code",
   "execution_count": 44,
   "metadata": {},
   "outputs": [],
   "source": [
    "dt_simple_model = Pipeline(steps=[\n",
    "    ('preprocessor', preprocessor),\n",
    "    ('classifier', DecisionTreeClassifier())\n",
    "])"
   ]
  },
  {
   "cell_type": "code",
   "execution_count": 45,
   "metadata": {},
   "outputs": [
    {
     "data": {
      "text/plain": [
       "{'fit_time': array([0.01801825, 0.01699734, 0.01600218, 0.01698565, 0.01596999]),\n",
       " 'score_time': array([0.0040102 , 0.0040133 , 0.00400686, 0.00337934, 0.        ]),\n",
       " 'test_score': array([0.56077348, 0.54972376, 0.51104972, 0.5801105 , 0.54972376]),\n",
       " 'train_score': array([0.9551105 , 0.95718232, 0.96132597, 0.95372928, 0.95925414])}"
      ]
     },
     "execution_count": 45,
     "metadata": {},
     "output_type": "execute_result"
    }
   ],
   "source": [
    "cross_validate(dt_simple_model, X_train, y_train, return_train_score='true')\n"
   ]
  },
  {
   "cell_type": "code",
   "execution_count": 46,
   "metadata": {
    "scrolled": false
   },
   "outputs": [
    {
     "data": {
      "text/plain": [
       "Pipeline(steps=[('preprocessor',\n",
       "                 ColumnTransformer(remainder='passthrough',\n",
       "                                   transformers=[('cat',\n",
       "                                                  Pipeline(steps=[('onehotencoder',\n",
       "                                                                   OneHotEncoder(handle_unknown='ignore'))]),\n",
       "                                                  ['sexname', 'basecolour',\n",
       "                                                   'breedname',\n",
       "                                                   'intakereason']),\n",
       "                                                 ('num',\n",
       "                                                  Pipeline(steps=[('standardscaler',\n",
       "                                                                   StandardScaler())]),\n",
       "                                                  ['age(months)',\n",
       "                                                   'age(years)'])])),\n",
       "                ('classifier', DecisionTreeClassifier())])"
      ]
     },
     "execution_count": 46,
     "metadata": {},
     "output_type": "execute_result"
    }
   ],
   "source": [
    "dt_simple_model.fit(X_train, y_train)"
   ]
  },
  {
   "cell_type": "code",
   "execution_count": 47,
   "metadata": {},
   "outputs": [
    {
     "name": "stdout",
     "output_type": "stream",
     "text": [
      "Training Scores:\n",
      "Train Accuracy: 0.9497237569060774\n",
      "Train Precision: 0.975635593220339\n",
      "Train Recall: 0.9312436804853387\n",
      "Train F1-Score: 0.9529229177444387\n",
      "**********\n",
      "Testing Scores:\n",
      "Test Accuracy: 0.5248344370860927\n",
      "Test Precision: 0.5951557093425606\n",
      "Test Recall: 0.5029239766081871\n",
      "Test F1-Score: 0.5451664025356577\n"
     ]
    },
    {
     "data": {
      "image/png": "[encoded data removed]",
      "text/plain": [
       "<Figure size 432x288 with 2 Axes>"
      ]
     },
     "metadata": {
      "needs_background": "light"
     },
     "output_type": "display_data"
    }
   ],
   "source": [
    "evaluate(dt_simple_model, X_train, X_test, y_train, y_test)"
   ]
  },
  {
   "cell_type": "markdown",
   "metadata": {},
   "source": [
    "###  Simple Decision Tree Model Evaluation"
   ]
  },
  {
   "cell_type": "markdown",
   "metadata": {},
   "source": [
    "Remember:\n",
    "\n",
    "- 0 — Pet took more than 21 days to get adopted after being listed.\n",
    "- 1 — Pet took less than 21 days to get adopted."
   ]
  },
  {
   "cell_type": "markdown",
   "metadata": {},
   "source": [
    "- Model is severely overfit, some tuning or different model choice is needed.\n",
    "- The model is a little better than a randomguess at classifying both groups of dogs.\n",
    "- It is better than my modeless understanding of 44% when predicting dogs that take longer than."
   ]
  },
  {
   "cell_type": "markdown",
   "metadata": {},
   "source": [
    "### Cat simple model"
   ]
  },
  {
   "cell_type": "code",
   "execution_count": 48,
   "metadata": {},
   "outputs": [],
   "source": [
    "X = cat_model_data[used_cols]\n",
    "y = cat_model_data['duration of stay']\n",
    "\n",
    "# We add cat to the end of our training and testing variables so that we dont get mixed up with the dog model data\n",
    "X_train_cat, X_hold_cat, y_train_cat, y_hold_cat = train_test_split(X, y, test_size=0.15, random_state=42)"
   ]
  },
  {
   "cell_type": "code",
   "execution_count": 49,
   "metadata": {},
   "outputs": [],
   "source": [
    "#perform a second train_test_split\n",
    "X = X_train_cat\n",
    "y = y_train_cat\n",
    "\n",
    "X_train_cat, X_test_cat, y_train_cat, y_test_cat = train_test_split(X, y, random_state=42)"
   ]
  },
  {
   "cell_type": "code",
   "execution_count": 50,
   "metadata": {},
   "outputs": [],
   "source": [
    "preprocessor_cat = preprocessor"
   ]
  },
  {
   "cell_type": "code",
   "execution_count": 51,
   "metadata": {},
   "outputs": [
    {
     "data": {
      "text/plain": [
       "(3789, 49)"
      ]
     },
     "execution_count": 51,
     "metadata": {},
     "output_type": "execute_result"
    }
   ],
   "source": [
    "X_tr_transformed_cat = preprocessor_cat.fit_transform(X_train_cat)\n",
    "X_tr_transformed_cat.shape"
   ]
  },
  {
   "cell_type": "markdown",
   "metadata": {},
   "source": [
    "Our cat training data has 3789 rows and 49 columns"
   ]
  },
  {
   "cell_type": "code",
   "execution_count": 52,
   "metadata": {},
   "outputs": [
    {
     "data": {
      "text/plain": [
       "ColumnTransformer(remainder='passthrough',\n",
       "                  transformers=[('cat',\n",
       "                                 Pipeline(steps=[('onehotencoder',\n",
       "                                                  OneHotEncoder(handle_unknown='ignore'))]),\n",
       "                                 ['sexname', 'basecolour', 'breedname',\n",
       "                                  'intakereason']),\n",
       "                                ('num',\n",
       "                                 Pipeline(steps=[('standardscaler',\n",
       "                                                  StandardScaler())]),\n",
       "                                 ['age(months)', 'age(years)'])])"
      ]
     },
     "execution_count": 52,
     "metadata": {},
     "output_type": "execute_result"
    }
   ],
   "source": [
    "preprocessor_cat.fit(X_train_cat)"
   ]
  },
  {
   "cell_type": "code",
   "execution_count": 53,
   "metadata": {},
   "outputs": [],
   "source": [
    "cat_dt_simple_model = Pipeline(steps=[\n",
    "    ('preprocessor', preprocessor_cat),\n",
    "    ('classifier', DecisionTreeClassifier())\n",
    "])"
   ]
  },
  {
   "cell_type": "code",
   "execution_count": 54,
   "metadata": {},
   "outputs": [
    {
     "data": {
      "text/plain": [
       "{'fit_time': array([0.02375484, 0.02500391, 0.02400517, 0.03126836, 0.03125167]),\n",
       " 'score_time': array([0.00554085, 0.00500846, 0.00500131, 0.        , 0.        ]),\n",
       " 'test_score': array([0.54221636, 0.5474934 , 0.56728232, 0.53562005, 0.58124174]),\n",
       " 'train_score': array([0.79214781, 0.79115803, 0.78752887, 0.78785879, 0.7823219 ])}"
      ]
     },
     "execution_count": 54,
     "metadata": {},
     "output_type": "execute_result"
    }
   ],
   "source": [
    "cross_validate(cat_dt_simple_model, X_train_cat, y_train_cat, return_train_score='true')"
   ]
  },
  {
   "cell_type": "code",
   "execution_count": 55,
   "metadata": {},
   "outputs": [
    {
     "data": {
      "text/plain": [
       "Pipeline(steps=[('preprocessor',\n",
       "                 ColumnTransformer(remainder='passthrough',\n",
       "                                   transformers=[('cat',\n",
       "                                                  Pipeline(steps=[('onehotencoder',\n",
       "                                                                   OneHotEncoder(handle_unknown='ignore'))]),\n",
       "                                                  ['sexname', 'basecolour',\n",
       "                                                   'breedname',\n",
       "                                                   'intakereason']),\n",
       "                                                 ('num',\n",
       "                                                  Pipeline(steps=[('standardscaler',\n",
       "                                                                   StandardScaler())]),\n",
       "                                                  ['age(months)',\n",
       "                                                   'age(years)'])])),\n",
       "                ('classifier', DecisionTreeClassifier())])"
      ]
     },
     "execution_count": 55,
     "metadata": {},
     "output_type": "execute_result"
    }
   ],
   "source": [
    "cat_dt_simple_model.fit(X_train_cat, y_train_cat)"
   ]
  },
  {
   "cell_type": "code",
   "execution_count": 57,
   "metadata": {},
   "outputs": [
    {
     "name": "stdout",
     "output_type": "stream",
     "text": [
      "Training Scores:\n",
      "Train Accuracy: 0.7735550277117973\n",
      "Train Precision: 0.8469551282051282\n",
      "Train Recall: 0.6131090487238979\n",
      "Train F1-Score: 0.7113055181695828\n",
      "ROC-AUC: 0.4902151436815937\n",
      "**********\n",
      "Testing Scores:\n",
      "Test Accuracy: 0.564873417721519\n",
      "Test Precision: 0.533816425120773\n",
      "Test Recall: 0.38235294117647056\n",
      "Test F1-Score: 0.44556451612903225\n",
      "ROC-AUC: 0.5086212669077274\n"
     ]
    },
    {
     "data": {
      "image/png": "[encoded data removed]",
      "text/plain": [
       "<Figure size 432x288 with 2 Axes>"
      ]
     },
     "metadata": {
      "needs_background": "light"
     },
     "output_type": "display_data"
    }
   ],
   "source": [
    "evaluate(cat_dt_simple_model, X_train_cat, X_test_cat, y_train_cat, y_test_cat, 'proba')"
   ]
  },
  {
   "cell_type": "markdown",
   "metadata": {},
   "source": [
    "###### Remember \n",
    "\n",
    "- __0__ means that the cat took longer than a month to get adopted\n",
    "- __1__ Means that it took less than a month to get adopted"
   ]
  },
  {
   "cell_type": "markdown",
   "metadata": {},
   "source": [
    "### Simple Cat decision tree evaluation\n",
    "\n",
    "- Better than expected at predicting cats that take longer than a month to get adopted.(which is great, thats the main point of this analysis)\n",
    "- Its is not too good at classifying cats that get adopted in less than a month. \n",
    "- Overfit but our false positive rate is pretty low\n",
    "- It is better than baseline modeless predictions on cats that will take longer than a month to get adopted (54%)"
   ]
  },
  {
   "cell_type": "markdown",
   "metadata": {},
   "source": [
    "### Random forest Models"
   ]
  },
  {
   "cell_type": "markdown",
   "metadata": {},
   "source": [
    "#### Cat Model"
   ]
  },
  {
   "cell_type": "code",
   "execution_count": 58,
   "metadata": {},
   "outputs": [],
   "source": [
    "cat_forest_model = Pipeline(steps=[\n",
    "    ('preprocessor', preprocessor_cat),\n",
    "    ('classifier', RandomForestClassifier())\n",
    "])"
   ]
  },
  {
   "cell_type": "code",
   "execution_count": 59,
   "metadata": {},
   "outputs": [
    {
     "data": {
      "text/plain": [
       "{'fit_time': array([0.72264671, 0.74028444, 0.75005054, 0.74006033, 0.7505343 ]),\n",
       " 'score_time': array([0.03125215, 0.02218676, 0.01562619, 0.01562643, 0.02299309]),\n",
       " 'test_score': array([0.54221636, 0.56728232, 0.56860158, 0.54881266, 0.55746367]),\n",
       " 'train_score': array([0.79214781, 0.79082811, 0.78752887, 0.78785879, 0.7823219 ])}"
      ]
     },
     "execution_count": 59,
     "metadata": {},
     "output_type": "execute_result"
    }
   ],
   "source": [
    "cross_validate(cat_forest_model, X_train_cat, y_train_cat, return_train_score=True)"
   ]
  },
  {
   "cell_type": "code",
   "execution_count": 60,
   "metadata": {},
   "outputs": [
    {
     "data": {
      "text/plain": [
       "Pipeline(steps=[('preprocessor',\n",
       "                 ColumnTransformer(remainder='passthrough',\n",
       "                                   transformers=[('cat',\n",
       "                                                  Pipeline(steps=[('onehotencoder',\n",
       "                                                                   OneHotEncoder(handle_unknown='ignore'))]),\n",
       "                                                  ['sexname', 'basecolour',\n",
       "                                                   'breedname',\n",
       "                                                   'intakereason']),\n",
       "                                                 ('num',\n",
       "                                                  Pipeline(steps=[('standardscaler',\n",
       "                                                                   StandardScaler())]),\n",
       "                                                  ['age(months)',\n",
       "                                                   'age(years)'])])),\n",
       "                ('classifier', RandomForestClassifier())])"
      ]
     },
     "execution_count": 60,
     "metadata": {},
     "output_type": "execute_result"
    }
   ],
   "source": [
    "cat_forest_model.fit(X_train_cat, y_train_cat)"
   ]
  },
  {
   "cell_type": "code",
   "execution_count": 61,
   "metadata": {},
   "outputs": [
    {
     "name": "stdout",
     "output_type": "stream",
     "text": [
      "Training Scores:\n",
      "Train Accuracy: 0.7735550277117973\n",
      "Train Precision: 0.7867549668874172\n",
      "Train Recall: 0.6890951276102089\n",
      "Train F1-Score: 0.7346938775510204\n",
      "ROC-AUC: 0.5184495959821126\n",
      "**********\n",
      "Testing Scores:\n",
      "Test Accuracy: 0.571993670886076\n",
      "Test Precision: 0.5364891518737672\n",
      "Test Recall: 0.47058823529411764\n",
      "Test F1-Score: 0.5013824884792626\n",
      "ROC-AUC: 0.5565990357573323\n"
     ]
    },
    {
     "data": {
      "image/png": "[encoded data removed]",
      "text/plain": [
       "<Figure size 432x288 with 2 Axes>"
      ]
     },
     "metadata": {
      "needs_background": "light"
     },
     "output_type": "display_data"
    }
   ],
   "source": [
    "evaluate(cat_forest_model, X_train_cat, X_test_cat, y_train_cat, y_test_cat, 'proba')"
   ]
  },
  {
   "cell_type": "markdown",
   "metadata": {},
   "source": [
    "#### Simple Random Forest Evaluation\n",
    "\n",
    "\n",
    "- It performs slightly worse than our decision tree model on test data\n",
    "- Its alot better at predicting which cats get adopted in less than a month. \n",
    "- It is couple points worse at predicting the cats that take longer to get adopted thant the decision tree resulting in a higher false positive rate."
   ]
  },
  {
   "cell_type": "markdown",
   "metadata": {},
   "source": [
    "#### Dog Forest Model"
   ]
  },
  {
   "cell_type": "code",
   "execution_count": 62,
   "metadata": {},
   "outputs": [],
   "source": [
    "dog_forest_model = Pipeline(steps=[\n",
    "    ('preprocessor', preprocessor),\n",
    "    ('classifier', RandomForestClassifier())\n",
    "])"
   ]
  },
  {
   "cell_type": "code",
   "execution_count": 63,
   "metadata": {},
   "outputs": [
    {
     "data": {
      "text/plain": [
       "{'fit_time': array([0.36619568, 0.36756945, 0.36624479, 0.36909151, 0.36384034]),\n",
       " 'score_time': array([0.01257181, 0.02030921, 0.01762056, 0.02029085, 0.01834226]),\n",
       " 'test_score': array([0.5718232 , 0.59116022, 0.54143646, 0.60220994, 0.57734807]),\n",
       " 'train_score': array([0.9551105 , 0.95718232, 0.96132597, 0.95372928, 0.95925414])}"
      ]
     },
     "execution_count": 63,
     "metadata": {},
     "output_type": "execute_result"
    }
   ],
   "source": [
    "cross_validate(dog_forest_model, X_train, y_train, return_train_score=True)"
   ]
  },
  {
   "cell_type": "code",
   "execution_count": 64,
   "metadata": {},
   "outputs": [
    {
     "data": {
      "text/plain": [
       "Pipeline(steps=[('preprocessor',\n",
       "                 ColumnTransformer(remainder='passthrough',\n",
       "                                   transformers=[('cat',\n",
       "                                                  Pipeline(steps=[('onehotencoder',\n",
       "                                                                   OneHotEncoder(handle_unknown='ignore'))]),\n",
       "                                                  ['sexname', 'basecolour',\n",
       "                                                   'breedname',\n",
       "                                                   'intakereason']),\n",
       "                                                 ('num',\n",
       "                                                  Pipeline(steps=[('standardscaler',\n",
       "                                                                   StandardScaler())]),\n",
       "                                                  ['age(months)',\n",
       "                                                   'age(years)'])])),\n",
       "                ('classifier', RandomForestClassifier())])"
      ]
     },
     "execution_count": 64,
     "metadata": {},
     "output_type": "execute_result"
    }
   ],
   "source": [
    "dog_forest_model.fit(X_train, y_train)"
   ]
  },
  {
   "cell_type": "code",
   "execution_count": 66,
   "metadata": {},
   "outputs": [
    {
     "name": "stdout",
     "output_type": "stream",
     "text": [
      "Training Scores:\n",
      "Train Accuracy: 0.9497237569060774\n",
      "Train Precision: 0.9393346379647749\n",
      "Train Recall: 0.9706774519716885\n",
      "Train F1-Score: 0.9547488811536549\n",
      "ROC-AUC: 0.9917595376178154\n",
      "**********\n",
      "Testing Scores:\n",
      "Test Accuracy: 0.5778145695364238\n",
      "Test Precision: 0.6338461538461538\n",
      "Test Recall: 0.6023391812865497\n",
      "Test F1-Score: 0.6176911544227885\n",
      "ROC-AUC: 0.5943484665863131\n"
     ]
    },
    {
     "data": {
      "image/png": "[encoded data removed]",
      "text/plain": [
       "<Figure size 432x288 with 2 Axes>"
      ]
     },
     "metadata": {
      "needs_background": "light"
     },
     "output_type": "display_data"
    }
   ],
   "source": [
    "evaluate(dog_forest_model, X_train, X_test, y_train, y_test, 'proba')"
   ]
  },
  {
   "cell_type": "markdown",
   "metadata": {},
   "source": [
    "- This model is 5 points better than the decision tree that we used for dog predictions when evaluated on accuracy score.\n",
    "- Precsion score increased by 4 points.\n",
    "- correctly classifies dogs that get adopted before 21 days 60% of the time.\n",
    "- False positive rate is 45%."
   ]
  },
  {
   "cell_type": "markdown",
   "metadata": {},
   "source": [
    "### Knn Models"
   ]
  },
  {
   "cell_type": "markdown",
   "metadata": {},
   "source": [
    "#### Dog KNN Model"
   ]
  },
  {
   "cell_type": "code",
   "execution_count": 67,
   "metadata": {},
   "outputs": [],
   "source": [
    "dog_knn = Pipeline(steps=[\n",
    "    ('preprocessor', preprocessor),\n",
    "    ('classifier', KNeighborsClassifier())\n",
    "])"
   ]
  },
  {
   "cell_type": "code",
   "execution_count": 68,
   "metadata": {},
   "outputs": [
    {
     "data": {
      "text/plain": [
       "{'fit_time': array([0.0240128 , 0.0156312 , 0.01527262, 0.00513387, 0.01561165]),\n",
       " 'score_time': array([0.05599141, 0.06248426, 0.04788756, 0.06251001, 0.05759788]),\n",
       " 'test_score': array([0.57635468, 0.62085308, 0.56603774, 0.61616162, 0.61111111]),\n",
       " 'train_score': array([0.74038462, 0.7240566 , 0.73902439, 0.72792363, 0.75367647])}"
      ]
     },
     "execution_count": 68,
     "metadata": {},
     "output_type": "execute_result"
    }
   ],
   "source": [
    "cross_validate(dog_knn, X_train, y_train, scoring='precision', return_train_score='true')"
   ]
  },
  {
   "cell_type": "code",
   "execution_count": 76,
   "metadata": {},
   "outputs": [
    {
     "data": {
      "text/plain": [
       "Pipeline(steps=[('preprocessor',\n",
       "                 ColumnTransformer(remainder='passthrough',\n",
       "                                   transformers=[('cat',\n",
       "                                                  Pipeline(steps=[('onehotencoder',\n",
       "                                                                   OneHotEncoder(handle_unknown='ignore'))]),\n",
       "                                                  ['sexname', 'basecolour',\n",
       "                                                   'breedname',\n",
       "                                                   'intakereason']),\n",
       "                                                 ('num',\n",
       "                                                  Pipeline(steps=[('standardscaler',\n",
       "                                                                   StandardScaler())]),\n",
       "                                                  ['age(months)',\n",
       "                                                   'age(years)'])])),\n",
       "                ('classifier', KNeighborsClassifier())])"
      ]
     },
     "execution_count": 76,
     "metadata": {},
     "output_type": "execute_result"
    }
   ],
   "source": [
    "dog_knn.fit(X_train, y_train)"
   ]
  },
  {
   "cell_type": "code",
   "execution_count": 77,
   "metadata": {
    "scrolled": false
   },
   "outputs": [
    {
     "name": "stdout",
     "output_type": "stream",
     "text": [
      "Training Scores:\n",
      "Train Accuracy: 0.7259668508287292\n",
      "Train Precision: 0.7404878048780488\n",
      "Train Recall: 0.7674418604651163\n",
      "Train F1-Score: 0.7537239324726911\n",
      "ROC-AUC: 0.7974571689313262\n",
      "**********\n",
      "Testing Scores:\n",
      "Test Accuracy: 0.5910596026490066\n",
      "Test Precision: 0.6376811594202898\n",
      "Test Recall: 0.6432748538011696\n",
      "Test F1-Score: 0.6404657933042213\n",
      "ROC-AUC: 0.5907939377706353\n"
     ]
    },
    {
     "data": {
      "image/png": "[encoded data removed]",
      "text/plain": [
       "<Figure size 432x288 with 2 Axes>"
      ]
     },
     "metadata": {
      "needs_background": "light"
     },
     "output_type": "display_data"
    }
   ],
   "source": [
    "evaluate(dog_knn, X_train, X_test, y_train, y_test, 'proba')"
   ]
  },
  {
   "cell_type": "markdown",
   "metadata": {},
   "source": [
    "##### Knn Dog Model evaluation\n",
    "\n",
    "- Still overfit but again it is very good at predicting the dogs that get adopted on time.\n",
    "- False Positive rate of 48% is slightly higher than that of the random forest model.\n",
    "- Precision score is the same as the forest model but the accuracy drops 2 points "
   ]
  },
  {
   "cell_type": "markdown",
   "metadata": {},
   "source": [
    "#### Cat KNN"
   ]
  },
  {
   "cell_type": "code",
   "execution_count": 129,
   "metadata": {},
   "outputs": [],
   "source": [
    "cat_knn = Pipeline(steps=[\n",
    "    ('preprocessor', preprocessor_cat),\n",
    "    ('classifier', KNeighborsClassifier())\n",
    "])"
   ]
  },
  {
   "cell_type": "code",
   "execution_count": 130,
   "metadata": {},
   "outputs": [
    {
     "data": {
      "text/plain": [
       "{'fit_time': array([0.04278755, 0.01612329, 0.02099895, 0.01687479, 0.0099299 ]),\n",
       " 'score_time': array([0.18906474, 0.19216108, 0.24013329, 0.20212936, 0.1501081 ]),\n",
       " 'test_score': array([0.51987768, 0.50769231, 0.51428571, 0.485623  , 0.49707602]),\n",
       " 'train_score': array([0.65539452, 0.67412935, 0.64912281, 0.67833333, 0.64889566])}"
      ]
     },
     "execution_count": 130,
     "metadata": {},
     "output_type": "execute_result"
    }
   ],
   "source": [
    "cross_validate(cat_knn, X_train_cat, y_train_cat, scoring='precision', return_train_score='true')"
   ]
  },
  {
   "cell_type": "code",
   "execution_count": 131,
   "metadata": {},
   "outputs": [
    {
     "data": {
      "text/plain": [
       "Pipeline(steps=[('preprocessor',\n",
       "                 ColumnTransformer(remainder='passthrough',\n",
       "                                   transformers=[('cat',\n",
       "                                                  Pipeline(steps=[('onehotencoder',\n",
       "                                                                   OneHotEncoder(handle_unknown='ignore'))]),\n",
       "                                                  ['sexname', 'basecolour',\n",
       "                                                   'breedname',\n",
       "                                                   'intakereason']),\n",
       "                                                 ('num',\n",
       "                                                  Pipeline(steps=[('standardscaler',\n",
       "                                                                   StandardScaler())]),\n",
       "                                                  ['age(months)',\n",
       "                                                   'age(years)'])])),\n",
       "                ('classifier', KNeighborsClassifier())])"
      ]
     },
     "execution_count": 131,
     "metadata": {},
     "output_type": "execute_result"
    }
   ],
   "source": [
    "cat_knn.fit(X_train_cat, y_train_cat)"
   ]
  },
  {
   "cell_type": "code",
   "execution_count": 132,
   "metadata": {},
   "outputs": [
    {
     "name": "stdout",
     "output_type": "stream",
     "text": [
      "Training Scores:\n",
      "Train Accuracy: 0.6637635259963051\n",
      "Train Precision: 0.6466753585397653\n",
      "Train Recall: 0.5754060324825986\n",
      "Train F1-Score: 0.6089625537139348\n",
      "ROC-AUC: 0.5398962275653381\n",
      "**********\n",
      "Testing Scores:\n",
      "Test Accuracy: 0.5443037974683544\n",
      "Test Precision: 0.502127659574468\n",
      "Test Recall: 0.4083044982698962\n",
      "Test F1-Score: 0.45038167938931295\n",
      "ROC-AUC: 0.545092852997634\n"
     ]
    },
    {
     "data": {
      "image/png": "[encoded data removed]",
      "text/plain": [
       "<Figure size 432x288 with 2 Axes>"
      ]
     },
     "metadata": {
      "needs_background": "light"
     },
     "output_type": "display_data"
    }
   ],
   "source": [
    "evaluate(cat_knn, X_train_cat, X_test_cat, y_train_cat, y_test_cat, 'proba')"
   ]
  },
  {
   "cell_type": "markdown",
   "metadata": {},
   "source": [
    "#### Cat KNN Evaluation\n",
    "\n",
    "- Lower false positive rate of 34%\n",
    "- It is pretty good at classifying cats that take longer than a month to get adopted\n",
    "- precision and accuracy scores on test data are low only around 50 percent\n",
    "- knn model is also performing better on training data"
   ]
  },
  {
   "cell_type": "markdown",
   "metadata": {},
   "source": [
    "### Logistic Regression"
   ]
  },
  {
   "cell_type": "markdown",
   "metadata": {},
   "source": [
    "#### Dog Logistic model"
   ]
  },
  {
   "cell_type": "code",
   "execution_count": 83,
   "metadata": {},
   "outputs": [],
   "source": [
    "dog_log = Pipeline(steps=[\n",
    "    ('preprocessor', preprocessor),\n",
    "    ('classifier', LogisticRegression())\n",
    "])"
   ]
  },
  {
   "cell_type": "code",
   "execution_count": 84,
   "metadata": {},
   "outputs": [
    {
     "data": {
      "text/plain": [
       "{'fit_time': array([0.07226014, 0.0578351 , 0.05601168, 0.05861235, 0.04978085]),\n",
       " 'score_time': array([0.00799274, 0.00800991, 0.0082705 , 0.00802779, 0.00802112]),\n",
       " 'test_score': array([0.63346614, 0.63274336, 0.5877551 , 0.59148936, 0.61777778]),\n",
       " 'train_score': array([0.6448203 , 0.64444444, 0.65263158, 0.65356004, 0.65729167])}"
      ]
     },
     "execution_count": 84,
     "metadata": {},
     "output_type": "execute_result"
    }
   ],
   "source": [
    "cross_validate(dog_log, X_train, y_train, scoring='precision', return_train_score='true')"
   ]
  },
  {
   "cell_type": "code",
   "execution_count": 85,
   "metadata": {},
   "outputs": [
    {
     "data": {
      "text/plain": [
       "Pipeline(steps=[('preprocessor',\n",
       "                 ColumnTransformer(remainder='passthrough',\n",
       "                                   transformers=[('cat',\n",
       "                                                  Pipeline(steps=[('onehotencoder',\n",
       "                                                                   OneHotEncoder(handle_unknown='ignore'))]),\n",
       "                                                  ['sexname', 'basecolour',\n",
       "                                                   'breedname',\n",
       "                                                   'intakereason']),\n",
       "                                                 ('num',\n",
       "                                                  Pipeline(steps=[('standardscaler',\n",
       "                                                                   StandardScaler())]),\n",
       "                                                  ['age(months)',\n",
       "                                                   'age(years)'])])),\n",
       "                ('classifier', LogisticRegression())])"
      ]
     },
     "execution_count": 85,
     "metadata": {},
     "output_type": "execute_result"
    }
   ],
   "source": [
    "dog_log.fit(X_train, y_train)"
   ]
  },
  {
   "cell_type": "code",
   "execution_count": 87,
   "metadata": {},
   "outputs": [
    {
     "name": "stdout",
     "output_type": "stream",
     "text": [
      "Training Scores:\n",
      "Train Accuracy: 0.6441988950276243\n",
      "Train Precision: 0.6463104325699746\n",
      "Train Recall: 0.7704752275025278\n",
      "Train F1-Score: 0.7029520295202952\n",
      "ROC-AUC: 0.6922013032517251\n",
      "**********\n",
      "Testing Scores:\n",
      "Test Accuracy: 0.6307947019867549\n",
      "Test Precision: 0.6454767726161369\n",
      "Test Recall: 0.7719298245614035\n",
      "Test F1-Score: 0.70306258322237\n",
      "ROC-AUC: 0.6682569974554706\n"
     ]
    },
    {
     "data": {
      "image/png": "[encoded data removed]",
      "text/plain": [
       "<Figure size 432x288 with 2 Axes>"
      ]
     },
     "metadata": {
      "needs_background": "light"
     },
     "output_type": "display_data"
    }
   ],
   "source": [
    "evaluate(dog_log, X_train, X_test, y_train, y_test, 'proba')"
   ]
  },
  {
   "cell_type": "markdown",
   "metadata": {},
   "source": [
    "##### Dog Logistic Regression Evaluation\n",
    "\n",
    "- Very similar to our other dog models when looking at false positive rates\n",
    "- The good thing about this model is that it is not overfit, it performs similarly on both test and training data\n",
    "- This is the best overall model with AUC score of 66 but it also has the highest false positive rate out of all of the dog models."
   ]
  },
  {
   "cell_type": "markdown",
   "metadata": {},
   "source": [
    "##### Cat Logistic Regression Model "
   ]
  },
  {
   "cell_type": "code",
   "execution_count": 133,
   "metadata": {},
   "outputs": [],
   "source": [
    "cat_log = Pipeline(steps=[\n",
    "    ('preprocessor', preprocessor_cat),\n",
    "    ('classifier', LogisticRegression())\n",
    "])"
   ]
  },
  {
   "cell_type": "code",
   "execution_count": 134,
   "metadata": {},
   "outputs": [
    {
     "data": {
      "text/plain": [
       "{'fit_time': array([0.08212852, 0.0853188 , 0.06847763, 0.06971097, 0.07657361]),\n",
       " 'score_time': array([0.01606917, 0.00563216, 0.0160234 , 0.0079999 , 0.0080111 ]),\n",
       " 'test_score': array([0.54347826, 0.54696133, 0.55778894, 0.56603774, 0.57446809]),\n",
       " 'train_score': array([0.61138614, 0.59574468, 0.57718894, 0.6       , 0.60892388])}"
      ]
     },
     "execution_count": 134,
     "metadata": {},
     "output_type": "execute_result"
    }
   ],
   "source": [
    "cross_validate(cat_log, X_train_cat, y_train_cat, scoring='precision', return_train_score='true')"
   ]
  },
  {
   "cell_type": "code",
   "execution_count": 135,
   "metadata": {},
   "outputs": [
    {
     "data": {
      "text/plain": [
       "Pipeline(steps=[('preprocessor',\n",
       "                 ColumnTransformer(remainder='passthrough',\n",
       "                                   transformers=[('cat',\n",
       "                                                  Pipeline(steps=[('onehotencoder',\n",
       "                                                                   OneHotEncoder(handle_unknown='ignore'))]),\n",
       "                                                  ['sexname', 'basecolour',\n",
       "                                                   'breedname',\n",
       "                                                   'intakereason']),\n",
       "                                                 ('num',\n",
       "                                                  Pipeline(steps=[('standardscaler',\n",
       "                                                                   StandardScaler())]),\n",
       "                                                  ['age(months)',\n",
       "                                                   'age(years)'])])),\n",
       "                ('classifier', LogisticRegression())])"
      ]
     },
     "execution_count": 135,
     "metadata": {},
     "output_type": "execute_result"
    }
   ],
   "source": [
    "cat_log.fit(X_train_cat, y_train_cat)"
   ]
  },
  {
   "cell_type": "code",
   "execution_count": 136,
   "metadata": {},
   "outputs": [
    {
     "name": "stdout",
     "output_type": "stream",
     "text": [
      "Training Scores:\n",
      "Train Accuracy: 0.5964634468197414\n",
      "Train Precision: 0.6040554962646745\n",
      "Train Recall: 0.32830626450116007\n",
      "Train F1-Score: 0.4254039834648628\n",
      "ROC-AUC: 0.5426500272793665\n",
      "**********\n",
      "Testing Scores:\n",
      "Test Accuracy: 0.5775316455696202\n",
      "Test Precision: 0.5666666666666667\n",
      "Test Recall: 0.3235294117647059\n",
      "Test F1-Score: 0.41189427312775334\n",
      "ROC-AUC: 0.5770724521226731\n"
     ]
    },
    {
     "data": {
      "image/png": "[encoded data removed]",
      "text/plain": [
       "<Figure size 432x288 with 2 Axes>"
      ]
     },
     "metadata": {
      "needs_background": "light"
     },
     "output_type": "display_data"
    }
   ],
   "source": [
    "evaluate(cat_log, X_train_cat, X_test_cat, y_train_cat, y_test_cat, 'proba')"
   ]
  },
  {
   "cell_type": "markdown",
   "metadata": {},
   "source": [
    "#### Cat Logistic Regression evaluation\n",
    "\n",
    "- Logistic Regression gives us our lowest false positive rate for cats, we got it down to almost 20 percent here.\n",
    "- Also the model performs similarly on training and test data.\n",
    "- This is our best model yet for accurately predicting which cats wont be adopted within a month.\n",
    "- Performs similarly on testing and training data"
   ]
  },
  {
   "cell_type": "markdown",
   "metadata": {},
   "source": [
    "### XGBboost Models"
   ]
  },
  {
   "cell_type": "markdown",
   "metadata": {},
   "source": [
    "#### Dog Model "
   ]
  },
  {
   "cell_type": "code",
   "execution_count": 92,
   "metadata": {},
   "outputs": [],
   "source": [
    "xgb_dog = Pipeline(steps=[\n",
    "    ('preprocessor', preprocessor),\n",
    "    ('classifier', XGBClassifier())\n",
    "])"
   ]
  },
  {
   "cell_type": "code",
   "execution_count": 93,
   "metadata": {},
   "outputs": [
    {
     "data": {
      "text/plain": [
       "{'fit_time': array([0.11347342, 0.09925318, 0.08000684, 0.08303618, 0.07527256]),\n",
       " 'score_time': array([0.02591968, 0.00800085, 0.00800014, 0.01679206, 0.01674318]),\n",
       " 'test_score': array([0.63084112, 0.60538117, 0.60986547, 0.68341709, 0.63316583]),\n",
       " 'train_score': array([0.83023256, 0.83548766, 0.8242142 , 0.8242142 , 0.82      ])}"
      ]
     },
     "execution_count": 93,
     "metadata": {},
     "output_type": "execute_result"
    }
   ],
   "source": [
    "cross_validate(xgb_dog, X_train, y_train, scoring='precision', return_train_score='true')"
   ]
  },
  {
   "cell_type": "code",
   "execution_count": 94,
   "metadata": {},
   "outputs": [
    {
     "data": {
      "text/plain": [
       "Pipeline(steps=[('preprocessor',\n",
       "                 ColumnTransformer(remainder='passthrough',\n",
       "                                   transformers=[('cat',\n",
       "                                                  Pipeline(steps=[('onehotencoder',\n",
       "                                                                   OneHotEncoder(handle_unknown='ignore'))]),\n",
       "                                                  ['sexname', 'basecolour',\n",
       "                                                   'breedname',\n",
       "                                                   'intakereason']),\n",
       "                                                 ('num',\n",
       "                                                  Pipeline(steps=[('standardscaler',\n",
       "                                                                   StandardScaler())]),\n",
       "                                                  ['age(months)',\n",
       "                                                   'age(years)'])])),\n",
       "                ('classifier',\n",
       "                 XGBClassifier(base_...\n",
       "                               colsample_bytree=1, gamma=0, gpu_id=-1,\n",
       "                               importance_type='gain',\n",
       "                               interaction_constraints='',\n",
       "                               learning_rate=0.300000012, max_delta_step=0,\n",
       "                               max_depth=6, min_child_weight=1, missing=nan,\n",
       "                               monotone_constraints='()', n_estimators=100,\n",
       "                               n_jobs=0, num_parallel_tree=1, random_state=0,\n",
       "                               reg_alpha=0, reg_lambda=1, scale_pos_weight=1,\n",
       "                               subsample=1, tree_method='exact',\n",
       "                               validate_parameters=1, verbosity=None))])"
      ]
     },
     "execution_count": 94,
     "metadata": {},
     "output_type": "execute_result"
    }
   ],
   "source": [
    "xgb_dog.fit(X_train, y_train)"
   ]
  },
  {
   "cell_type": "code",
   "execution_count": 96,
   "metadata": {},
   "outputs": [
    {
     "name": "stdout",
     "output_type": "stream",
     "text": [
      "Training Scores:\n",
      "Train Accuracy: 0.8243093922651934\n",
      "Train Precision: 0.8144329896907216\n",
      "Train Recall: 0.8786653185035389\n",
      "Train F1-Score: 0.8453307392996109\n",
      "ROC-AUC: 0.9100889319666146\n",
      "**********\n",
      "Testing Scores:\n",
      "Test Accuracy: 0.5860927152317881\n",
      "Test Precision: 0.6270718232044199\n",
      "Test Recall: 0.6637426900584795\n",
      "Test F1-Score: 0.6448863636363636\n",
      "ROC-AUC: 0.6266572920851747\n"
     ]
    },
    {
     "data": {
      "image/png": "[encoded data removed]",
      "text/plain": [
       "<Figure size 432x288 with 2 Axes>"
      ]
     },
     "metadata": {
      "needs_background": "light"
     },
     "output_type": "display_data"
    }
   ],
   "source": [
    "evaluate(xgb_dog, X_train, X_test, y_train, y_test, 'proba')"
   ]
  },
  {
   "cell_type": "markdown",
   "metadata": {},
   "source": [
    "##### Model Evaluation\n",
    "\n",
    "- Better at classifying dogs that get adopted in less than 21 days.\n",
    "- False Positive rate is 52%\n",
    "- Very similar to the logistic model, but alot more overfit."
   ]
  },
  {
   "cell_type": "markdown",
   "metadata": {},
   "source": [
    "### Cat XGBboost Model"
   ]
  },
  {
   "cell_type": "code",
   "execution_count": 137,
   "metadata": {},
   "outputs": [],
   "source": [
    "xgb_cat = Pipeline(steps=[\n",
    "    ('preprocessor', preprocessor_cat),\n",
    "    ('classifier', XGBClassifier())\n",
    "])"
   ]
  },
  {
   "cell_type": "code",
   "execution_count": 138,
   "metadata": {},
   "outputs": [
    {
     "data": {
      "text/plain": [
       "{'fit_time': array([0.17122197, 0.12735915, 0.11184669, 0.10400653, 0.10637021]),\n",
       " 'score_time': array([0.01999092, 0.01864433, 0.01615477, 0.0155859 , 0.01814604]),\n",
       " 'test_score': array([0.53281853, 0.51153846, 0.56862745, 0.51485149, 0.55102041]),\n",
       " 'train_score': array([0.76328052, 0.74303684, 0.72687225, 0.73539519, 0.73487544])}"
      ]
     },
     "execution_count": 138,
     "metadata": {},
     "output_type": "execute_result"
    }
   ],
   "source": [
    "cross_validate(xgb_cat, X_train_cat, y_train_cat, scoring='precision', return_train_score='true')"
   ]
  },
  {
   "cell_type": "code",
   "execution_count": 139,
   "metadata": {},
   "outputs": [
    {
     "data": {
      "text/plain": [
       "Pipeline(steps=[('preprocessor',\n",
       "                 ColumnTransformer(remainder='passthrough',\n",
       "                                   transformers=[('cat',\n",
       "                                                  Pipeline(steps=[('onehotencoder',\n",
       "                                                                   OneHotEncoder(handle_unknown='ignore'))]),\n",
       "                                                  ['sexname', 'basecolour',\n",
       "                                                   'breedname',\n",
       "                                                   'intakereason']),\n",
       "                                                 ('num',\n",
       "                                                  Pipeline(steps=[('standardscaler',\n",
       "                                                                   StandardScaler())]),\n",
       "                                                  ['age(months)',\n",
       "                                                   'age(years)'])])),\n",
       "                ('classifier',\n",
       "                 XGBClassifier(base_...\n",
       "                               colsample_bytree=1, gamma=0, gpu_id=-1,\n",
       "                               importance_type='gain',\n",
       "                               interaction_constraints='',\n",
       "                               learning_rate=0.300000012, max_delta_step=0,\n",
       "                               max_depth=6, min_child_weight=1, missing=nan,\n",
       "                               monotone_constraints='()', n_estimators=100,\n",
       "                               n_jobs=0, num_parallel_tree=1, random_state=0,\n",
       "                               reg_alpha=0, reg_lambda=1, scale_pos_weight=1,\n",
       "                               subsample=1, tree_method='exact',\n",
       "                               validate_parameters=1, verbosity=None))])"
      ]
     },
     "execution_count": 139,
     "metadata": {},
     "output_type": "execute_result"
    }
   ],
   "source": [
    "xgb_cat.fit(X_train_cat, y_train_cat)"
   ]
  },
  {
   "cell_type": "code",
   "execution_count": 140,
   "metadata": {},
   "outputs": [
    {
     "name": "stdout",
     "output_type": "stream",
     "text": [
      "Training Scores:\n",
      "Train Accuracy: 0.7102137767220903\n",
      "Train Precision: 0.7325408618127786\n",
      "Train Recall: 0.5719257540603249\n",
      "Train F1-Score: 0.6423452768729643\n",
      "ROC-AUC: 0.5135737940734191\n",
      "**********\n",
      "Testing Scores:\n",
      "Test Accuracy: 0.5783227848101266\n",
      "Test Precision: 0.5507900677200903\n",
      "Test Recall: 0.42214532871972316\n",
      "Test F1-Score: 0.4779627815866797\n",
      "ROC-AUC: 0.5327887147895183\n"
     ]
    },
    {
     "data": {
      "image/png": "[encoded data removed]",
      "text/plain": [
       "<Figure size 432x288 with 2 Axes>"
      ]
     },
     "metadata": {
      "needs_background": "light"
     },
     "output_type": "display_data"
    }
   ],
   "source": [
    "evaluate(xgb_cat, X_train_cat, X_test_cat, y_train_cat, y_test_cat, 'proba')"
   ]
  },
  {
   "cell_type": "markdown",
   "metadata": {},
   "source": [
    "#### Model Evaluation\n",
    "\n",
    "- Higher false positive rate than the Logistic Model\n",
    "- Model is overfit\n",
    "- Has a higher true positive rate than the Logistic Model, but we are focusing on flase positives because we want the identify the pets that really need help getting adopted."
   ]
  },
  {
   "cell_type": "markdown",
   "metadata": {},
   "source": [
    "## Model Tuning/Select Final Models"
   ]
  },
  {
   "cell_type": "markdown",
   "metadata": {},
   "source": [
    "+ __Dog Predictions:__  The model that performed the best overall was **Logistic Regression**, It didnt have the lowest false positive rate, but tuning it for the best precision score, might result in the best model.\n",
    "+ __Cat Predictions:__  gave us the lowest false positive  was **Logistic Regression** and it performed equally on both training and testing data, tuning it for accuracy might increase the True positive ratio. "
   ]
  },
  {
   "cell_type": "markdown",
   "metadata": {},
   "source": [
    "#### Dog Model"
   ]
  },
  {
   "cell_type": "code",
   "execution_count": 103,
   "metadata": {},
   "outputs": [
    {
     "name": "stdout",
     "output_type": "stream",
     "text": [
      "Fitting 5 folds for each of 80 candidates, totalling 400 fits\n"
     ]
    },
    {
     "name": "stderr",
     "output_type": "stream",
     "text": [
      "[Parallel(n_jobs=-1)]: Using backend LokyBackend with 16 concurrent workers.\n",
      "[Parallel(n_jobs=-1)]: Done  18 tasks      | elapsed:    0.3s\n",
      "[Parallel(n_jobs=-1)]: Done 304 tasks      | elapsed:    1.7s\n",
      "[Parallel(n_jobs=-1)]: Done 400 out of 400 | elapsed:    2.1s finished\n"
     ]
    },
    {
     "data": {
      "text/plain": [
       "GridSearchCV(cv=5,\n",
       "             estimator=Pipeline(steps=[('preprocessor',\n",
       "                                        ColumnTransformer(remainder='passthrough',\n",
       "                                                          transformers=[('cat',\n",
       "                                                                         Pipeline(steps=[('onehotencoder',\n",
       "                                                                                          OneHotEncoder(handle_unknown='ignore'))]),\n",
       "                                                                         ['sexname',\n",
       "                                                                          'basecolour',\n",
       "                                                                          'breedname',\n",
       "                                                                          'intakereason']),\n",
       "                                                                        ('num',\n",
       "                                                                         Pipeline(steps=[('standardscaler',\n",
       "                                                                                          StandardScaler())]),\n",
       "                                                                         ['age(months)',\n",
       "                                                                          'age(years)'])])),\n",
       "                                       ('cla...\n",
       "       4.83293024e-03, 1.27427499e-02, 3.35981829e-02, 8.85866790e-02,\n",
       "       2.33572147e-01, 6.15848211e-01, 1.62377674e+00, 4.28133240e+00,\n",
       "       1.12883789e+01, 2.97635144e+01, 7.84759970e+01, 2.06913808e+02,\n",
       "       5.45559478e+02, 1.43844989e+03, 3.79269019e+03, 1.00000000e+04]),\n",
       "                          'classifier__penalty': ['l1', 'l2'],\n",
       "                          'classifier__solver': ['liblinear', 'lbfgs']}],\n",
       "             scoring='precision', verbose=1)"
      ]
     },
     "execution_count": 103,
     "metadata": {},
     "output_type": "execute_result"
    }
   ],
   "source": [
    "param_grid = [\n",
    "    {'classifier__penalty' : ['l1', 'l2'],\n",
    "    'classifier__C' : np.logspace(-4, 4, 20),\n",
    "    'classifier__solver' : ['liblinear', 'lbfgs']}]\n",
    "\n",
    "gs_log = GridSearchCV(dog_log, param_grid=log_param_grid, scoring='precision', verbose=1, cv=5, n_jobs=-1)\n",
    "\n",
    "gs_log.fit(X_train, y_train)"
   ]
  },
  {
   "cell_type": "code",
   "execution_count": 104,
   "metadata": {},
   "outputs": [
    {
     "data": {
      "text/plain": [
       "{'classifier__C': 1438.44988828766,\n",
       " 'classifier__penalty': 'l2',\n",
       " 'classifier__solver': 'lbfgs'}"
      ]
     },
     "execution_count": 104,
     "metadata": {},
     "output_type": "execute_result"
    }
   ],
   "source": [
    "gs_log.best_params_"
   ]
  },
  {
   "cell_type": "code",
   "execution_count": 105,
   "metadata": {},
   "outputs": [
    {
     "data": {
      "text/plain": [
       "0.621534134947902"
      ]
     },
     "execution_count": 105,
     "metadata": {},
     "output_type": "execute_result"
    }
   ],
   "source": [
    "gs_log.best_score_"
   ]
  },
  {
   "cell_type": "code",
   "execution_count": 106,
   "metadata": {},
   "outputs": [],
   "source": [
    "dog_log_tuned = Pipeline(steps=[\n",
    "    ('preprocessor', preprocessor),\n",
    "    ('classifier', LogisticRegression(penalty='l2', C=1438.44988828766))\n",
    "])"
   ]
  },
  {
   "cell_type": "code",
   "execution_count": 108,
   "metadata": {
    "scrolled": true
   },
   "outputs": [
    {
     "data": {
      "text/plain": [
       "{'fit_time': array([0.06220675, 0.07782769, 0.06273007, 0.07214212, 0.06274199]),\n",
       " 'score_time': array([0.00799918, 0.        , 0.01562881, 0.        , 0.        ]),\n",
       " 'test_score': array([0.63948498, 0.63636364, 0.60504202, 0.60352423, 0.62325581]),\n",
       " 'train_score': array([0.64403067, 0.64686469, 0.65798046, 0.66555556, 0.65909091])}"
      ]
     },
     "execution_count": 108,
     "metadata": {},
     "output_type": "execute_result"
    }
   ],
   "source": [
    "cross_validate(dog_log_tuned, X_train, y_train, scoring='precision', return_train_score='true')"
   ]
  },
  {
   "cell_type": "code",
   "execution_count": 109,
   "metadata": {},
   "outputs": [
    {
     "data": {
      "text/plain": [
       "Pipeline(steps=[('preprocessor',\n",
       "                 ColumnTransformer(remainder='passthrough',\n",
       "                                   transformers=[('cat',\n",
       "                                                  Pipeline(steps=[('onehotencoder',\n",
       "                                                                   OneHotEncoder(handle_unknown='ignore'))]),\n",
       "                                                  ['sexname', 'basecolour',\n",
       "                                                   'breedname',\n",
       "                                                   'intakereason']),\n",
       "                                                 ('num',\n",
       "                                                  Pipeline(steps=[('standardscaler',\n",
       "                                                                   StandardScaler())]),\n",
       "                                                  ['age(months)',\n",
       "                                                   'age(years)'])])),\n",
       "                ('classifier', LogisticRegression(C=1438.44988828766))])"
      ]
     },
     "execution_count": 109,
     "metadata": {},
     "output_type": "execute_result"
    }
   ],
   "source": [
    "dog_log_tuned.fit(X_train, y_train)"
   ]
  },
  {
   "cell_type": "code",
   "execution_count": 112,
   "metadata": {},
   "outputs": [
    {
     "name": "stdout",
     "output_type": "stream",
     "text": [
      "Training Scores:\n",
      "Train Accuracy: 0.638121546961326\n",
      "Train Precision: 0.6462346760070052\n",
      "Train Recall: 0.7462082912032356\n",
      "Train F1-Score: 0.6926325668700141\n",
      "ROC-AUC: 0.6938787071920233\n",
      "**********\n",
      "Testing Scores:\n",
      "Test Accuracy: 0.6307947019867549\n",
      "Test Precision: 0.6506329113924051\n",
      "Test Recall: 0.7514619883040936\n",
      "Test F1-Score: 0.6974219810040706\n",
      "ROC-AUC: 0.6665829650462033\n"
     ]
    },
    {
     "data": {
      "image/png": "[encoded data removed]",
      "text/plain": [
       "<Figure size 432x288 with 2 Axes>"
      ]
     },
     "metadata": {
      "needs_background": "light"
     },
     "output_type": "display_data"
    }
   ],
   "source": [
    "evaluate(dog_log_tuned, X_train, X_test, y_train, y_test, 'proba')"
   ]
  },
  {
   "cell_type": "markdown",
   "metadata": {},
   "source": [
    "## Final model evaluation for dog adoptions"
   ]
  },
  {
   "cell_type": "markdown",
   "metadata": {},
   "source": [
    "- tuning the model only dropped the false positive rate by 2 points.\n",
    "- This model is 3 points better than our basic modeless understanding\n",
    "- the model is not overfit so it should perform similarly on unseen data.\n",
    "- This model can still be useful because it is decently accurate at classifying dogs that do not need as much help getting adopted, now those resources can be used on the dogs that do need the help."
   ]
  },
  {
   "cell_type": "markdown",
   "metadata": {},
   "source": [
    "#### Test this model on the holdout set"
   ]
  },
  {
   "cell_type": "code",
   "execution_count": 113,
   "metadata": {
    "scrolled": true
   },
   "outputs": [
    {
     "name": "stdout",
     "output_type": "stream",
     "text": [
      "Training Scores:\n",
      "Train Accuracy: 0.638121546961326\n",
      "Train Precision: 0.6462346760070052\n",
      "Train Recall: 0.7462082912032356\n",
      "Train F1-Score: 0.6926325668700141\n",
      "ROC-AUC: 0.6938787071920233\n",
      "**********\n",
      "Testing Scores:\n",
      "Test Accuracy: 0.6276346604215457\n",
      "Test Precision: 0.6448275862068965\n",
      "Test Recall: 0.7695473251028807\n",
      "Test F1-Score: 0.7016885553470918\n",
      "ROC-AUC: 0.6665829650462033\n"
     ]
    },
    {
     "data": {
      "image/png": "[encoded data removed]",
      "text/plain": [
       "<Figure size 432x288 with 2 Axes>"
      ]
     },
     "metadata": {
      "needs_background": "light"
     },
     "output_type": "display_data"
    }
   ],
   "source": [
    "evaluate(dog_log_tuned, X_train, X_hold, y_train, y_hold, 'proba')"
   ]
  },
  {
   "cell_type": "markdown",
   "metadata": {},
   "source": [
    "Performs very similar on the holdout set, true positive rate went up 2 points which is good but the false positive rate also went up 3 points. Overall it should work well on new data."
   ]
  },
  {
   "cell_type": "markdown",
   "metadata": {},
   "source": [
    "### Cat Model/ Final Model Selection"
   ]
  },
  {
   "cell_type": "markdown",
   "metadata": {},
   "source": [
    "- The Logistic Regression Model gave us our best results without being overfit.\n",
    "- It had a very low false positive rate of only 21%\n",
    "- but its true positive rate was also low.\n",
    "- tuning this model for an higher accuracy might give us a better overall model."
   ]
  },
  {
   "cell_type": "code",
   "execution_count": 114,
   "metadata": {},
   "outputs": [
    {
     "data": {
      "text/plain": [
       "dict_keys(['memory', 'steps', 'verbose', 'preprocessor', 'classifier', 'preprocessor__n_jobs', 'preprocessor__remainder', 'preprocessor__sparse_threshold', 'preprocessor__transformer_weights', 'preprocessor__transformers', 'preprocessor__verbose', 'preprocessor__cat', 'preprocessor__num', 'preprocessor__cat__memory', 'preprocessor__cat__steps', 'preprocessor__cat__verbose', 'preprocessor__cat__onehotencoder', 'preprocessor__cat__onehotencoder__categories', 'preprocessor__cat__onehotencoder__drop', 'preprocessor__cat__onehotencoder__dtype', 'preprocessor__cat__onehotencoder__handle_unknown', 'preprocessor__cat__onehotencoder__sparse', 'preprocessor__num__memory', 'preprocessor__num__steps', 'preprocessor__num__verbose', 'preprocessor__num__standardscaler', 'preprocessor__num__standardscaler__copy', 'preprocessor__num__standardscaler__with_mean', 'preprocessor__num__standardscaler__with_std', 'classifier__C', 'classifier__class_weight', 'classifier__dual', 'classifier__fit_intercept', 'classifier__intercept_scaling', 'classifier__l1_ratio', 'classifier__max_iter', 'classifier__multi_class', 'classifier__n_jobs', 'classifier__penalty', 'classifier__random_state', 'classifier__solver', 'classifier__tol', 'classifier__verbose', 'classifier__warm_start'])"
      ]
     },
     "execution_count": 114,
     "metadata": {},
     "output_type": "execute_result"
    }
   ],
   "source": [
    "cat_log.get_params().keys()"
   ]
  },
  {
   "cell_type": "code",
   "execution_count": 117,
   "metadata": {},
   "outputs": [
    {
     "name": "stdout",
     "output_type": "stream",
     "text": [
      "Fitting 5 folds for each of 80 candidates, totalling 400 fits\n"
     ]
    },
    {
     "name": "stderr",
     "output_type": "stream",
     "text": [
      "[Parallel(n_jobs=-1)]: Using backend LokyBackend with 16 concurrent workers.\n",
      "[Parallel(n_jobs=-1)]: Done  18 tasks      | elapsed:    0.3s\n",
      "[Parallel(n_jobs=-1)]: Done 304 tasks      | elapsed:    2.1s\n",
      "[Parallel(n_jobs=-1)]: Done 400 out of 400 | elapsed:    2.8s finished\n"
     ]
    },
    {
     "data": {
      "text/plain": [
       "GridSearchCV(cv=5,\n",
       "             estimator=Pipeline(steps=[('preprocessor',\n",
       "                                        ColumnTransformer(remainder='passthrough',\n",
       "                                                          transformers=[('cat',\n",
       "                                                                         Pipeline(steps=[('onehotencoder',\n",
       "                                                                                          OneHotEncoder(handle_unknown='ignore'))]),\n",
       "                                                                         ['sexname',\n",
       "                                                                          'basecolour',\n",
       "                                                                          'breedname',\n",
       "                                                                          'intakereason']),\n",
       "                                                                        ('num',\n",
       "                                                                         Pipeline(steps=[('standardscaler',\n",
       "                                                                                          StandardScaler())]),\n",
       "                                                                         ['age(months)',\n",
       "                                                                          'age(years)'])])),\n",
       "                                       ('cla...\n",
       "       4.83293024e-03, 1.27427499e-02, 3.35981829e-02, 8.85866790e-02,\n",
       "       2.33572147e-01, 6.15848211e-01, 1.62377674e+00, 4.28133240e+00,\n",
       "       1.12883789e+01, 2.97635144e+01, 7.84759970e+01, 2.06913808e+02,\n",
       "       5.45559478e+02, 1.43844989e+03, 3.79269019e+03, 1.00000000e+04]),\n",
       "                          'classifier__penalty': ['l1', 'l2'],\n",
       "                          'classifier__solver': ['liblinear', 'lbfgs']}],\n",
       "             scoring='accuracy', verbose=1)"
      ]
     },
     "execution_count": 117,
     "metadata": {},
     "output_type": "execute_result"
    }
   ],
   "source": [
    "param_grid = [\n",
    "    {'classifier__penalty' : ['l1', 'l2'],\n",
    "    'classifier__C' : np.logspace(-4, 4, 20),\n",
    "    'classifier__solver' : ['liblinear', 'lbfgs']}]\n",
    "\n",
    "gs_log_cat = GridSearchCV(cat_log, param_grid=log_param_grid, scoring='accuracy', verbose=1, cv=5, n_jobs=-1)\n",
    "\n",
    "gs_log_cat.fit(X_train_cat, y_train_cat)"
   ]
  },
  {
   "cell_type": "code",
   "execution_count": 118,
   "metadata": {},
   "outputs": [
    {
     "data": {
      "text/plain": [
       "{'classifier__C': 0.08858667904100823,\n",
       " 'classifier__penalty': 'l1',\n",
       " 'classifier__solver': 'liblinear'}"
      ]
     },
     "execution_count": 118,
     "metadata": {},
     "output_type": "execute_result"
    }
   ],
   "source": [
    "gs_log_cat.best_params_"
   ]
  },
  {
   "cell_type": "code",
   "execution_count": 119,
   "metadata": {},
   "outputs": [
    {
     "data": {
      "text/plain": [
       "0.5816847505951489"
      ]
     },
     "execution_count": 119,
     "metadata": {},
     "output_type": "execute_result"
    }
   ],
   "source": [
    "gs_log_cat.best_score_"
   ]
  },
  {
   "cell_type": "code",
   "execution_count": 120,
   "metadata": {},
   "outputs": [],
   "source": [
    "cat_log_tuned = Pipeline(steps=[\n",
    "    ('preprocessor', preprocessor_cat),\n",
    "    ('classifier', LogisticRegression(penalty= 'l1', C=0.08858667904100823, solver='liblinear'))\n",
    "])"
   ]
  },
  {
   "cell_type": "code",
   "execution_count": 121,
   "metadata": {},
   "outputs": [
    {
     "data": {
      "text/plain": [
       "{'fit_time': array([0.02402639, 0.02399898, 0.02425241, 0.01541114, 0.01564598]),\n",
       " 'score_time': array([0.00932693, 0.01600099, 0.0016942 , 0.01912761, 0.01562595]),\n",
       " 'test_score': array([0.58974359, 0.55333333, 0.64655172, 0.60992908, 0.6119403 ]),\n",
       " 'train_score': array([0.60946746, 0.5918958 , 0.59686888, 0.61185468, 0.61172161])}"
      ]
     },
     "execution_count": 121,
     "metadata": {},
     "output_type": "execute_result"
    }
   ],
   "source": [
    "cross_validate(cat_log_tuned, X_train_cat, y_train_cat, scoring='precision', return_train_score='true')"
   ]
  },
  {
   "cell_type": "code",
   "execution_count": 122,
   "metadata": {},
   "outputs": [
    {
     "data": {
      "text/plain": [
       "Pipeline(steps=[('preprocessor',\n",
       "                 ColumnTransformer(remainder='passthrough',\n",
       "                                   transformers=[('cat',\n",
       "                                                  Pipeline(steps=[('onehotencoder',\n",
       "                                                                   OneHotEncoder(handle_unknown='ignore'))]),\n",
       "                                                  ['sexname', 'basecolour',\n",
       "                                                   'breedname',\n",
       "                                                   'intakereason']),\n",
       "                                                 ('num',\n",
       "                                                  Pipeline(steps=[('standardscaler',\n",
       "                                                                   StandardScaler())]),\n",
       "                                                  ['age(months)',\n",
       "                                                   'age(years)'])])),\n",
       "                ('classifier',\n",
       "                 LogisticRegression(C=0.08858667904100823, penalty='l1',\n",
       "                                    solver='liblinear'))])"
      ]
     },
     "execution_count": 122,
     "metadata": {},
     "output_type": "execute_result"
    }
   ],
   "source": [
    "cat_log_tuned.fit(X_train_cat, y_train_cat)"
   ]
  },
  {
   "cell_type": "code",
   "execution_count": 123,
   "metadata": {},
   "outputs": [
    {
     "name": "stdout",
     "output_type": "stream",
     "text": [
      "Training Scores:\n",
      "Train Accuracy: 0.5832673528635524\n",
      "Train Precision: 0.6070901033973413\n",
      "Train Recall: 0.23839907192575405\n",
      "Train F1-Score: 0.3423573511037068\n",
      "ROC-AUC: 0.5275269129732786\n",
      "**********\n",
      "Testing Scores:\n",
      "Test Accuracy: 0.5632911392405063\n",
      "Test Precision: 0.5537190082644629\n",
      "Test Recall: 0.23183391003460208\n",
      "Test F1-Score: 0.32682926829268294\n",
      "ROC-AUC: 0.5606892549439757\n"
     ]
    },
    {
     "data": {
      "image/png": "[encoded data removed]",
      "text/plain": [
       "<Figure size 432x288 with 2 Axes>"
      ]
     },
     "metadata": {
      "needs_background": "light"
     },
     "output_type": "display_data"
    }
   ],
   "source": [
    "evaluate(cat_log_tuned, X_train_cat, X_test_cat, y_train_cat, y_test_cat, 'proba')"
   ]
  },
  {
   "cell_type": "markdown",
   "metadata": {},
   "source": [
    "- While this model has the lowest false positive rate yet, The true positive rate is extremely low, so we dont really know which cats are really thriving in the shelter system. \n",
    "- We will use the untuned logistic Regression model as our final model because there is a little more balance."
   ]
  },
  {
   "cell_type": "markdown",
   "metadata": {},
   "source": [
    "## Final Model Evaluation on Cat Adoptions\n",
    "- Test data on the holdout set"
   ]
  },
  {
   "cell_type": "code",
   "execution_count": 124,
   "metadata": {},
   "outputs": [
    {
     "name": "stdout",
     "output_type": "stream",
     "text": [
      "Training Scores:\n",
      "Train Accuracy: 0.5964634468197414\n",
      "Train Precision: 0.6040554962646745\n",
      "Train Recall: 0.32830626450116007\n",
      "Train F1-Score: 0.4254039834648628\n",
      "**********\n",
      "Testing Scores:\n",
      "Test Accuracy: 0.5852017937219731\n",
      "Test Precision: 0.5879828326180258\n",
      "Test Recall: 0.3333333333333333\n",
      "Test F1-Score: 0.42546583850931674\n"
     ]
    },
    {
     "data": {
      "image/png": "[encoded data removed]",
      "text/plain": [
       "<Figure size 432x288 with 2 Axes>"
      ]
     },
     "metadata": {
      "needs_background": "light"
     },
     "output_type": "display_data"
    }
   ],
   "source": [
    "evaluate(cat_log, X_train_cat, X_hold_cat, y_train_cat, y_hold_cat)"
   ]
  },
  {
   "cell_type": "markdown",
   "metadata": {},
   "source": [
    "+ It correctly classifies cats that take longer than a month to take adopted 80 percent of the time \n",
    "+ But only correctly classifies cats that get adopted in less than a month 33% of the time\n",
    "+ This model has a vey low false positive rate(20%)"
   ]
  },
  {
   "cell_type": "markdown",
   "metadata": {},
   "source": [
    "## Recommendations"
   ]
  },
  {
   "cell_type": "markdown",
   "metadata": {},
   "source": [
    "## Conclusion"
   ]
  },
  {
   "cell_type": "markdown",
   "metadata": {},
   "source": [
    "- The models still needs work but it can be used in conjunction with your domain knowledge to efficiently use resources to aid the dogs and cats that need the most help getting adopted. \n",
    "\n",
    "- Our cat model is very good at predicting which cats need help getting adopted in a timely manner but not very good at prediciting the cats that get adopted in a timely manner.\n",
    "\n",
    "- The dog model is the opposite, it is very good at classifying the dogs that get adopted on time, but not too good at classifying the dogs that really need help.\n",
    "\n",
    "\n",
    "- Our cat model will still misclassify cats that need help getting adopted 21% of the time."
   ]
  },
  {
   "cell_type": "markdown",
   "metadata": {},
   "source": [
    "## Future Work\n",
    "\n",
    "- See if this model gets similar results on other shelters\n",
    "- Analyze how the time of year that the animal entered the shelter effects adoption speed\n",
    "- Experiment with the features and engineer them in different ways to improve scores\n",
    "- Analyze how a pet's behaviour affects adoption speed"
   ]
  },
  {
   "cell_type": "code",
   "execution_count": null,
   "metadata": {},
   "outputs": [],
   "source": []
  }
 ],
 "metadata": {
  "kernelspec": {
   "display_name": "Python (learn-env)",
   "language": "python",
   "name": "learn-env"
  },
  "language_info": {
   "codemirror_mode": {
    "name": "ipython",
    "version": 3
   },
   "file_extension": ".py",
   "mimetype": "text/x-python",
   "name": "python",
   "nbconvert_exporter": "python",
   "pygments_lexer": "ipython3",
   "version": "3.8.5"
  }
 },
 "nbformat": 4,
 "nbformat_minor": 4
}
