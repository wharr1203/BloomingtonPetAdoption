{
 "cells": [
  {
   "cell_type": "markdown",
   "metadata": {},
   "source": [
    "# Predicting Adoption Speed"
   ]
  },
  {
   "cell_type": "markdown",
   "metadata": {},
   "source": [
    "## Introduction"
   ]
  },
  {
   "cell_type": "markdown",
   "metadata": {},
   "source": [
    "The purpose of this notebook is to provide an analysis of which types of pets have the toughest time getting adopted. In this analysis we are only studying the adoptions of Dogs and cats."
   ]
  },
  {
   "cell_type": "markdown",
   "metadata": {},
   "source": [
    "## Business Understanding"
   ]
  },
  {
   "cell_type": "markdown",
   "metadata": {},
   "source": [
    "Shelters need to know which pets take the longest time to get adopted, so that they can focus on pushing potential adopters towards those pets.\n",
    "\n",
    "+ __Stakeholder:__ ASPCA \n",
    "\n",
    "\n",
    "+ __Importance of Predictions:__ Correctly identifying which pets will have trouble getting adopted can save pets from a lifetime in a cage or getting put to sleep in the worst case scenario.\n",
    "\n",
    "\n",
    "+ __Deliverable:__ An analysis of the adoptability of different types of dogs and cats\n",
    "\n",
    "\n",
    "+ __Type of model:__ An interpretable multiclassification model that can be used in conjunction with domain knowledge to boost the accuracy of predictions on a pet's adoptability."
   ]
  },
  {
   "cell_type": "markdown",
   "metadata": {},
   "source": [
    "## Context\n",
    "\n",
    "+ __False Positive:__ Predicting that a pet will get adopted within a month when it actually takes longer.\n",
    "\n",
    "\n",
    "+ __False negative:__ Predicting that a pet will take longer than a month when  get adopted later than it actually gets adopted\n",
    "\n",
    "\n",
    "+ __Which is Worse:__ False positive is worse because we would end up ignoring pets that need extra help getting adopted.\n",
    "\n",
    "+ __Metric:__ \n",
    "    - __Precision__\n",
    "    - Accuracy"
   ]
  },
  {
   "cell_type": "code",
   "execution_count": 1,
   "metadata": {},
   "outputs": [],
   "source": [
    "import pandas as pd\n",
    "import numpy as np\n",
    "from sklearn.preprocessing import OneHotEncoder, StandardScaler, LabelBinarizer, OrdinalEncoder, RobustScaler\n",
    "from sklearn.model_selection import train_test_split, cross_validate, cross_val_score\n",
    "from sklearn.pipeline import make_pipeline, Pipeline\n",
    "from sklearn.tree import DecisionTreeClassifier\n",
    "from sklearn.compose import ColumnTransformer\n",
    "from sklearn.metrics import recall_score, accuracy_score, precision_score, f1_score, roc_auc_score, plot_confusion_matrix\n",
    "from sklearn.naive_bayes import MultinomialNB\n",
    "from sklearn.ensemble import RandomForestClassifier \n",
    "from sklearn.neighbors import KNeighborsClassifier\n",
    "from xgboost import XGBClassifier\n",
    "from sklearn.linear_model import LogisticRegression\n",
    "from sklearn.model_selection import GridSearchCV\n",
    "from imblearn.over_sampling import SMOTE\n",
    "\n",
    "import warnings\n",
    "\n",
    "warnings.filterwarnings('ignore')"
   ]
  },
  {
   "cell_type": "markdown",
   "metadata": {},
   "source": [
    "## Data Understanding"
   ]
  },
  {
   "cell_type": "markdown",
   "metadata": {},
   "source": [
    "- I cleaned most of the data in the EDA notebook and that data is also included in this repository\n",
    "- Most of the pets in this dataset have been adopted, thats why the focus is on adoption speed\n",
    "- The target variable is 'duration of stay' which will be divided into 4 categories"
   ]
  },
  {
   "cell_type": "markdown",
   "metadata": {},
   "source": [
    "These imports are saved csv files that I made after extensively cleaning the data in the EDA notebook."
   ]
  },
  {
   "cell_type": "code",
   "execution_count": 2,
   "metadata": {},
   "outputs": [],
   "source": [
    "cat_df = pd.read_csv('data/cat_df.csv')\n",
    "dog_df = pd.read_csv('data/dog_df.csv')"
   ]
  },
  {
   "cell_type": "markdown",
   "metadata": {},
   "source": [
    "## Data Exploration recap"
   ]
  },
  {
   "cell_type": "code",
   "execution_count": 3,
   "metadata": {},
   "outputs": [
    {
     "data": {
      "text/plain": [
       "Female     3598\n",
       "Male       3341\n",
       "Unknown     133\n",
       "Name: sexname, dtype: int64"
      ]
     },
     "execution_count": 3,
     "metadata": {},
     "output_type": "execute_result"
    }
   ],
   "source": [
    "cat_df['sexname'].value_counts()"
   ]
  },
  {
   "cell_type": "code",
   "execution_count": 4,
   "metadata": {},
   "outputs": [
    {
     "data": {
      "text/plain": [
       "Male       2454\n",
       "Female     1996\n",
       "Unknown      20\n",
       "Name: sexname, dtype: int64"
      ]
     },
     "execution_count": 4,
     "metadata": {},
     "output_type": "execute_result"
    }
   ],
   "source": [
    "dog_df['sexname'].value_counts()"
   ]
  },
  {
   "cell_type": "markdown",
   "metadata": {},
   "source": [
    "The sex of both dogs and cats are pretty balanced"
   ]
  },
  {
   "cell_type": "code",
   "execution_count": 5,
   "metadata": {},
   "outputs": [
    {
     "data": {
      "text/plain": [
       "6.0    201\n",
       "1.0    162\n",
       "3.0    112\n",
       "2.0     79\n",
       "4.0     65\n",
       "5.0     58\n",
       "Name: age(months), dtype: int64"
      ]
     },
     "execution_count": 5,
     "metadata": {},
     "output_type": "execute_result"
    }
   ],
   "source": [
    "cat_df['age(months)'].value_counts()"
   ]
  },
  {
   "cell_type": "code",
   "execution_count": 6,
   "metadata": {},
   "outputs": [
    {
     "data": {
      "text/plain": [
       "5.0    29\n",
       "6.0    27\n",
       "4.0    12\n",
       "1.0     9\n",
       "3.0     2\n",
       "2.0     2\n",
       "Name: age(months), dtype: int64"
      ]
     },
     "execution_count": 6,
     "metadata": {},
     "output_type": "execute_result"
    }
   ],
   "source": [
    "dog_df['age(months)'].value_counts()"
   ]
  },
  {
   "cell_type": "markdown",
   "metadata": {},
   "source": [
    "Not many puppies in this dataset, but we have almost 600 kittens."
   ]
  },
  {
   "cell_type": "code",
   "execution_count": 7,
   "metadata": {},
   "outputs": [
    {
     "data": {
      "text/plain": [
       "1.0     2580\n",
       "2.0     1256\n",
       "3.0     1052\n",
       "0.0      677\n",
       "4.0      390\n",
       "5.0      269\n",
       "6.0      171\n",
       "7.0      160\n",
       "8.0      116\n",
       "10.0      96\n",
       "9.0       61\n",
       "11.0      57\n",
       "12.0      45\n",
       "13.0      39\n",
       "14.0      30\n",
       "15.0      26\n",
       "16.0      26\n",
       "17.0      12\n",
       "18.0       6\n",
       "19.0       3\n",
       "Name: age(years), dtype: int64"
      ]
     },
     "execution_count": 7,
     "metadata": {},
     "output_type": "execute_result"
    }
   ],
   "source": [
    "cat_df['age(years)'].value_counts()"
   ]
  },
  {
   "cell_type": "code",
   "execution_count": 8,
   "metadata": {},
   "outputs": [
    {
     "data": {
      "text/plain": [
       "1.0     982\n",
       "2.0     728\n",
       "3.0     644\n",
       "4.0     445\n",
       "5.0     293\n",
       "6.0     205\n",
       "8.0     180\n",
       "7.0     180\n",
       "9.0     145\n",
       "11.0    123\n",
       "10.0    120\n",
       "12.0    103\n",
       "0.0      81\n",
       "14.0     78\n",
       "13.0     77\n",
       "15.0     38\n",
       "16.0     30\n",
       "17.0      8\n",
       "18.0      8\n",
       "19.0      2\n",
       "Name: age(years), dtype: int64"
      ]
     },
     "execution_count": 8,
     "metadata": {},
     "output_type": "execute_result"
    }
   ],
   "source": [
    "dog_df['age(years)'].value_counts()"
   ]
  },
  {
   "cell_type": "markdown",
   "metadata": {},
   "source": [
    "Most of the pets in this dataset are on the younger side of the scale."
   ]
  },
  {
   "cell_type": "markdown",
   "metadata": {},
   "source": [
    "### Prepare Dog Data for modeling"
   ]
  },
  {
   "cell_type": "code",
   "execution_count": 9,
   "metadata": {
    "scrolled": true
   },
   "outputs": [
    {
     "data": {
      "text/html": [
       "<div>\n",
       "<style scoped>\n",
       "    .dataframe tbody tr th:only-of-type {\n",
       "        vertical-align: middle;\n",
       "    }\n",
       "\n",
       "    .dataframe tbody tr th {\n",
       "        vertical-align: top;\n",
       "    }\n",
       "\n",
       "    .dataframe thead th {\n",
       "        text-align: right;\n",
       "    }\n",
       "</style>\n",
       "<table border=\"1\" class=\"dataframe\">\n",
       "  <thead>\n",
       "    <tr style=\"text-align: right;\">\n",
       "      <th></th>\n",
       "      <th>Unnamed: 0</th>\n",
       "      <th>id</th>\n",
       "      <th>intakedate</th>\n",
       "      <th>intakereason</th>\n",
       "      <th>istransfer</th>\n",
       "      <th>identichipnumber</th>\n",
       "      <th>animalname</th>\n",
       "      <th>breedname</th>\n",
       "      <th>basecolour</th>\n",
       "      <th>speciesname</th>\n",
       "      <th>animalage</th>\n",
       "      <th>sexname</th>\n",
       "      <th>location</th>\n",
       "      <th>movementdate</th>\n",
       "      <th>movementtype</th>\n",
       "      <th>returndate</th>\n",
       "      <th>puttosleep</th>\n",
       "      <th>age(months)</th>\n",
       "      <th>age(years)</th>\n",
       "      <th>duration of stay</th>\n",
       "    </tr>\n",
       "  </thead>\n",
       "  <tbody>\n",
       "    <tr>\n",
       "      <th>0</th>\n",
       "      <td>12</td>\n",
       "      <td>46238</td>\n",
       "      <td>2016-10-09 00:00:00</td>\n",
       "      <td>Abandoned</td>\n",
       "      <td>False</td>\n",
       "      <td>981020019070093</td>\n",
       "      <td>Tennessee</td>\n",
       "      <td>Heeler</td>\n",
       "      <td>Black and Brown</td>\n",
       "      <td>Dog</td>\n",
       "      <td>5 years 7 months</td>\n",
       "      <td>Male</td>\n",
       "      <td>Special Care Dogs</td>\n",
       "      <td>2018-02-14 00:00:00</td>\n",
       "      <td>Adoption</td>\n",
       "      <td>NaN</td>\n",
       "      <td>False</td>\n",
       "      <td>NaN</td>\n",
       "      <td>5.0</td>\n",
       "      <td>493.0</td>\n",
       "    </tr>\n",
       "    <tr>\n",
       "      <th>1</th>\n",
       "      <td>15</td>\n",
       "      <td>46693</td>\n",
       "      <td>2016-11-21 00:00:00</td>\n",
       "      <td>Abandoned</td>\n",
       "      <td>False</td>\n",
       "      <td>981020017897009</td>\n",
       "      <td>Baby</td>\n",
       "      <td>Pitbull</td>\n",
       "      <td>White</td>\n",
       "      <td>Dog</td>\n",
       "      <td>5 years 9 months</td>\n",
       "      <td>Male</td>\n",
       "      <td>Adoptable Dogs</td>\n",
       "      <td>2017-04-07 00:00:00</td>\n",
       "      <td>Adoption</td>\n",
       "      <td>NaN</td>\n",
       "      <td>False</td>\n",
       "      <td>NaN</td>\n",
       "      <td>5.0</td>\n",
       "      <td>137.0</td>\n",
       "    </tr>\n",
       "    <tr>\n",
       "      <th>2</th>\n",
       "      <td>19</td>\n",
       "      <td>47146</td>\n",
       "      <td>2017-01-17 00:00:00</td>\n",
       "      <td>Abandoned</td>\n",
       "      <td>False</td>\n",
       "      <td>981020021063793</td>\n",
       "      <td>Dinah</td>\n",
       "      <td>Labrador Retriever</td>\n",
       "      <td>Black</td>\n",
       "      <td>Dog</td>\n",
       "      <td>5 years 6 months</td>\n",
       "      <td>Female</td>\n",
       "      <td>Foster</td>\n",
       "      <td>2017-04-01 00:00:00</td>\n",
       "      <td>Adoption</td>\n",
       "      <td>NaN</td>\n",
       "      <td>False</td>\n",
       "      <td>NaN</td>\n",
       "      <td>5.0</td>\n",
       "      <td>74.0</td>\n",
       "    </tr>\n",
       "    <tr>\n",
       "      <th>3</th>\n",
       "      <td>27</td>\n",
       "      <td>47239</td>\n",
       "      <td>2017-01-27 00:00:00</td>\n",
       "      <td>Abandoned</td>\n",
       "      <td>False</td>\n",
       "      <td>981020021070452</td>\n",
       "      <td>Maria</td>\n",
       "      <td>NaN</td>\n",
       "      <td>Black and Brown</td>\n",
       "      <td>Dog</td>\n",
       "      <td>3 years 5 months</td>\n",
       "      <td>Female</td>\n",
       "      <td>Foster</td>\n",
       "      <td>2017-04-01 00:00:00</td>\n",
       "      <td>Adoption</td>\n",
       "      <td>NaN</td>\n",
       "      <td>False</td>\n",
       "      <td>NaN</td>\n",
       "      <td>3.0</td>\n",
       "      <td>64.0</td>\n",
       "    </tr>\n",
       "    <tr>\n",
       "      <th>4</th>\n",
       "      <td>33</td>\n",
       "      <td>47319</td>\n",
       "      <td>2017-02-05 00:00:00</td>\n",
       "      <td>other</td>\n",
       "      <td>False</td>\n",
       "      <td>NaN</td>\n",
       "      <td>Louise Vada</td>\n",
       "      <td>Pitbull</td>\n",
       "      <td>Black</td>\n",
       "      <td>Dog</td>\n",
       "      <td>4 years 5 months</td>\n",
       "      <td>Female</td>\n",
       "      <td>Stray Dogs Theta</td>\n",
       "      <td>2017-04-05 00:00:00</td>\n",
       "      <td>Reclaimed</td>\n",
       "      <td>NaN</td>\n",
       "      <td>False</td>\n",
       "      <td>NaN</td>\n",
       "      <td>4.0</td>\n",
       "      <td>59.0</td>\n",
       "    </tr>\n",
       "  </tbody>\n",
       "</table>\n",
       "</div>"
      ],
      "text/plain": [
       "   Unnamed: 0     id           intakedate intakereason  istransfer  \\\n",
       "0          12  46238  2016-10-09 00:00:00    Abandoned       False   \n",
       "1          15  46693  2016-11-21 00:00:00    Abandoned       False   \n",
       "2          19  47146  2017-01-17 00:00:00    Abandoned       False   \n",
       "3          27  47239  2017-01-27 00:00:00    Abandoned       False   \n",
       "4          33  47319  2017-02-05 00:00:00        other       False   \n",
       "\n",
       "  identichipnumber   animalname           breedname       basecolour  \\\n",
       "0  981020019070093    Tennessee              Heeler  Black and Brown   \n",
       "1  981020017897009         Baby             Pitbull            White   \n",
       "2  981020021063793        Dinah  Labrador Retriever            Black   \n",
       "3  981020021070452        Maria                 NaN  Black and Brown   \n",
       "4              NaN  Louise Vada             Pitbull            Black   \n",
       "\n",
       "  speciesname         animalage sexname           location  \\\n",
       "0         Dog  5 years 7 months    Male  Special Care Dogs   \n",
       "1         Dog  5 years 9 months    Male     Adoptable Dogs   \n",
       "2         Dog  5 years 6 months  Female             Foster   \n",
       "3         Dog  3 years 5 months  Female             Foster   \n",
       "4         Dog  4 years 5 months  Female   Stray Dogs Theta   \n",
       "\n",
       "          movementdate movementtype returndate  puttosleep  age(months)  \\\n",
       "0  2018-02-14 00:00:00     Adoption        NaN       False          NaN   \n",
       "1  2017-04-07 00:00:00     Adoption        NaN       False          NaN   \n",
       "2  2017-04-01 00:00:00     Adoption        NaN       False          NaN   \n",
       "3  2017-04-01 00:00:00     Adoption        NaN       False          NaN   \n",
       "4  2017-04-05 00:00:00    Reclaimed        NaN       False          NaN   \n",
       "\n",
       "   age(years)  duration of stay  \n",
       "0         5.0             493.0  \n",
       "1         5.0             137.0  \n",
       "2         5.0              74.0  \n",
       "3         3.0              64.0  \n",
       "4         4.0              59.0  "
      ]
     },
     "execution_count": 9,
     "metadata": {},
     "output_type": "execute_result"
    }
   ],
   "source": [
    "dog_df.head()"
   ]
  },
  {
   "cell_type": "code",
   "execution_count": 10,
   "metadata": {
    "scrolled": false
   },
   "outputs": [
    {
     "data": {
      "text/plain": [
       "count    81.000000\n",
       "mean      4.617284\n",
       "std       1.569776\n",
       "min       1.000000\n",
       "25%       4.000000\n",
       "50%       5.000000\n",
       "75%       6.000000\n",
       "max       6.000000\n",
       "Name: age(months), dtype: float64"
      ]
     },
     "execution_count": 10,
     "metadata": {},
     "output_type": "execute_result"
    }
   ],
   "source": [
    "dog_df['age(months)'].describe()"
   ]
  },
  {
   "cell_type": "code",
   "execution_count": 11,
   "metadata": {
    "scrolled": false
   },
   "outputs": [
    {
     "data": {
      "text/plain": [
       "Adoption     2841\n",
       "Reclaimed    1487\n",
       "Transfer      107\n",
       "Foster         34\n",
       "Escaped         1\n",
       "Name: movementtype, dtype: int64"
      ]
     },
     "execution_count": 11,
     "metadata": {},
     "output_type": "execute_result"
    }
   ],
   "source": [
    "dog_df['movementtype'].value_counts()"
   ]
  },
  {
   "cell_type": "markdown",
   "metadata": {},
   "source": [
    "This model is gonna focus on the dogs that got adopted, and predict how long it takes "
   ]
  },
  {
   "cell_type": "code",
   "execution_count": 12,
   "metadata": {},
   "outputs": [],
   "source": [
    "dog_model_data = dog_df[dog_df['movementtype'] == 'Adoption']"
   ]
  },
  {
   "cell_type": "code",
   "execution_count": 13,
   "metadata": {},
   "outputs": [
    {
     "data": {
      "text/plain": [
       "0"
      ]
     },
     "execution_count": 13,
     "metadata": {},
     "output_type": "execute_result"
    }
   ],
   "source": [
    "dog_model_data['duration of stay'].isna().sum()"
   ]
  },
  {
   "cell_type": "code",
   "execution_count": 14,
   "metadata": {},
   "outputs": [
    {
     "data": {
      "text/html": [
       "<div>\n",
       "<style scoped>\n",
       "    .dataframe tbody tr th:only-of-type {\n",
       "        vertical-align: middle;\n",
       "    }\n",
       "\n",
       "    .dataframe tbody tr th {\n",
       "        vertical-align: top;\n",
       "    }\n",
       "\n",
       "    .dataframe thead th {\n",
       "        text-align: right;\n",
       "    }\n",
       "</style>\n",
       "<table border=\"1\" class=\"dataframe\">\n",
       "  <thead>\n",
       "    <tr style=\"text-align: right;\">\n",
       "      <th></th>\n",
       "      <th>Unnamed: 0</th>\n",
       "      <th>id</th>\n",
       "      <th>age(months)</th>\n",
       "      <th>age(years)</th>\n",
       "      <th>duration of stay</th>\n",
       "    </tr>\n",
       "  </thead>\n",
       "  <tbody>\n",
       "    <tr>\n",
       "      <th>count</th>\n",
       "      <td>2841.000000</td>\n",
       "      <td>2841.000000</td>\n",
       "      <td>65.000000</td>\n",
       "      <td>2841.000000</td>\n",
       "      <td>2841.000000</td>\n",
       "    </tr>\n",
       "    <tr>\n",
       "      <th>mean</th>\n",
       "      <td>8698.644843</td>\n",
       "      <td>62603.009152</td>\n",
       "      <td>5.061538</td>\n",
       "      <td>3.689194</td>\n",
       "      <td>53.449490</td>\n",
       "    </tr>\n",
       "    <tr>\n",
       "      <th>std</th>\n",
       "      <td>5244.246966</td>\n",
       "      <td>4842.666952</td>\n",
       "      <td>0.899252</td>\n",
       "      <td>3.221766</td>\n",
       "      <td>118.125138</td>\n",
       "    </tr>\n",
       "    <tr>\n",
       "      <th>min</th>\n",
       "      <td>12.000000</td>\n",
       "      <td>46238.000000</td>\n",
       "      <td>2.000000</td>\n",
       "      <td>0.000000</td>\n",
       "      <td>1.000000</td>\n",
       "    </tr>\n",
       "    <tr>\n",
       "      <th>25%</th>\n",
       "      <td>4123.000000</td>\n",
       "      <td>58835.000000</td>\n",
       "      <td>5.000000</td>\n",
       "      <td>1.000000</td>\n",
       "      <td>10.000000</td>\n",
       "    </tr>\n",
       "    <tr>\n",
       "      <th>50%</th>\n",
       "      <td>8203.000000</td>\n",
       "      <td>62340.000000</td>\n",
       "      <td>5.000000</td>\n",
       "      <td>3.000000</td>\n",
       "      <td>18.000000</td>\n",
       "    </tr>\n",
       "    <tr>\n",
       "      <th>75%</th>\n",
       "      <td>12722.000000</td>\n",
       "      <td>66193.000000</td>\n",
       "      <td>6.000000</td>\n",
       "      <td>5.000000</td>\n",
       "      <td>41.000000</td>\n",
       "    </tr>\n",
       "    <tr>\n",
       "      <th>max</th>\n",
       "      <td>18667.000000</td>\n",
       "      <td>71690.000000</td>\n",
       "      <td>6.000000</td>\n",
       "      <td>18.000000</td>\n",
       "      <td>1443.000000</td>\n",
       "    </tr>\n",
       "  </tbody>\n",
       "</table>\n",
       "</div>"
      ],
      "text/plain": [
       "         Unnamed: 0            id  age(months)   age(years)  duration of stay\n",
       "count   2841.000000   2841.000000    65.000000  2841.000000       2841.000000\n",
       "mean    8698.644843  62603.009152     5.061538     3.689194         53.449490\n",
       "std     5244.246966   4842.666952     0.899252     3.221766        118.125138\n",
       "min       12.000000  46238.000000     2.000000     0.000000          1.000000\n",
       "25%     4123.000000  58835.000000     5.000000     1.000000         10.000000\n",
       "50%     8203.000000  62340.000000     5.000000     3.000000         18.000000\n",
       "75%    12722.000000  66193.000000     6.000000     5.000000         41.000000\n",
       "max    18667.000000  71690.000000     6.000000    18.000000       1443.000000"
      ]
     },
     "execution_count": 14,
     "metadata": {},
     "output_type": "execute_result"
    }
   ],
   "source": [
    "dog_model_data.describe()"
   ]
  },
  {
   "cell_type": "markdown",
   "metadata": {},
   "source": [
    "Now I want to categorize my target column into these 2 values."
   ]
  },
  {
   "cell_type": "markdown",
   "metadata": {},
   "source": [
    "- 0 — Pet took more than 30 days to get adopted after being listed.\n",
    "- 1 — Pet took less than a month to get adopted."
   ]
  },
  {
   "cell_type": "code",
   "execution_count": 15,
   "metadata": {},
   "outputs": [],
   "source": [
    "dog_model_data['duration of stay'][dog_model_data['duration of stay'] <= 30] = 1\n",
    "dog_model_data['duration of stay'][dog_model_data['duration of stay'] > 30] = 0"
   ]
  },
  {
   "cell_type": "code",
   "execution_count": 16,
   "metadata": {
    "scrolled": true
   },
   "outputs": [
    {
     "data": {
      "text/plain": [
       "1.0    1910\n",
       "0.0     931\n",
       "Name: duration of stay, dtype: int64"
      ]
     },
     "execution_count": 16,
     "metadata": {},
     "output_type": "execute_result"
    }
   ],
   "source": [
    "dog_model_data['duration of stay'].value_counts()"
   ]
  },
  {
   "cell_type": "code",
   "execution_count": 17,
   "metadata": {
    "scrolled": true
   },
   "outputs": [
    {
     "data": {
      "text/html": [
       "<div>\n",
       "<style scoped>\n",
       "    .dataframe tbody tr th:only-of-type {\n",
       "        vertical-align: middle;\n",
       "    }\n",
       "\n",
       "    .dataframe tbody tr th {\n",
       "        vertical-align: top;\n",
       "    }\n",
       "\n",
       "    .dataframe thead th {\n",
       "        text-align: right;\n",
       "    }\n",
       "</style>\n",
       "<table border=\"1\" class=\"dataframe\">\n",
       "  <thead>\n",
       "    <tr style=\"text-align: right;\">\n",
       "      <th></th>\n",
       "      <th>Unnamed: 0</th>\n",
       "      <th>id</th>\n",
       "      <th>intakedate</th>\n",
       "      <th>intakereason</th>\n",
       "      <th>istransfer</th>\n",
       "      <th>identichipnumber</th>\n",
       "      <th>animalname</th>\n",
       "      <th>breedname</th>\n",
       "      <th>basecolour</th>\n",
       "      <th>speciesname</th>\n",
       "      <th>animalage</th>\n",
       "      <th>sexname</th>\n",
       "      <th>location</th>\n",
       "      <th>movementdate</th>\n",
       "      <th>movementtype</th>\n",
       "      <th>returndate</th>\n",
       "      <th>puttosleep</th>\n",
       "      <th>age(months)</th>\n",
       "      <th>age(years)</th>\n",
       "      <th>duration of stay</th>\n",
       "    </tr>\n",
       "  </thead>\n",
       "  <tbody>\n",
       "    <tr>\n",
       "      <th>0</th>\n",
       "      <td>12</td>\n",
       "      <td>46238</td>\n",
       "      <td>2016-10-09 00:00:00</td>\n",
       "      <td>Abandoned</td>\n",
       "      <td>False</td>\n",
       "      <td>981020019070093</td>\n",
       "      <td>Tennessee</td>\n",
       "      <td>Heeler</td>\n",
       "      <td>Black and Brown</td>\n",
       "      <td>Dog</td>\n",
       "      <td>5 years 7 months</td>\n",
       "      <td>Male</td>\n",
       "      <td>Special Care Dogs</td>\n",
       "      <td>2018-02-14 00:00:00</td>\n",
       "      <td>Adoption</td>\n",
       "      <td>NaN</td>\n",
       "      <td>False</td>\n",
       "      <td>NaN</td>\n",
       "      <td>5.0</td>\n",
       "      <td>0.0</td>\n",
       "    </tr>\n",
       "    <tr>\n",
       "      <th>1</th>\n",
       "      <td>15</td>\n",
       "      <td>46693</td>\n",
       "      <td>2016-11-21 00:00:00</td>\n",
       "      <td>Abandoned</td>\n",
       "      <td>False</td>\n",
       "      <td>981020017897009</td>\n",
       "      <td>Baby</td>\n",
       "      <td>Pitbull</td>\n",
       "      <td>White</td>\n",
       "      <td>Dog</td>\n",
       "      <td>5 years 9 months</td>\n",
       "      <td>Male</td>\n",
       "      <td>Adoptable Dogs</td>\n",
       "      <td>2017-04-07 00:00:00</td>\n",
       "      <td>Adoption</td>\n",
       "      <td>NaN</td>\n",
       "      <td>False</td>\n",
       "      <td>NaN</td>\n",
       "      <td>5.0</td>\n",
       "      <td>0.0</td>\n",
       "    </tr>\n",
       "    <tr>\n",
       "      <th>2</th>\n",
       "      <td>19</td>\n",
       "      <td>47146</td>\n",
       "      <td>2017-01-17 00:00:00</td>\n",
       "      <td>Abandoned</td>\n",
       "      <td>False</td>\n",
       "      <td>981020021063793</td>\n",
       "      <td>Dinah</td>\n",
       "      <td>Labrador Retriever</td>\n",
       "      <td>Black</td>\n",
       "      <td>Dog</td>\n",
       "      <td>5 years 6 months</td>\n",
       "      <td>Female</td>\n",
       "      <td>Foster</td>\n",
       "      <td>2017-04-01 00:00:00</td>\n",
       "      <td>Adoption</td>\n",
       "      <td>NaN</td>\n",
       "      <td>False</td>\n",
       "      <td>NaN</td>\n",
       "      <td>5.0</td>\n",
       "      <td>0.0</td>\n",
       "    </tr>\n",
       "    <tr>\n",
       "      <th>3</th>\n",
       "      <td>27</td>\n",
       "      <td>47239</td>\n",
       "      <td>2017-01-27 00:00:00</td>\n",
       "      <td>Abandoned</td>\n",
       "      <td>False</td>\n",
       "      <td>981020021070452</td>\n",
       "      <td>Maria</td>\n",
       "      <td>NaN</td>\n",
       "      <td>Black and Brown</td>\n",
       "      <td>Dog</td>\n",
       "      <td>3 years 5 months</td>\n",
       "      <td>Female</td>\n",
       "      <td>Foster</td>\n",
       "      <td>2017-04-01 00:00:00</td>\n",
       "      <td>Adoption</td>\n",
       "      <td>NaN</td>\n",
       "      <td>False</td>\n",
       "      <td>NaN</td>\n",
       "      <td>3.0</td>\n",
       "      <td>0.0</td>\n",
       "    </tr>\n",
       "    <tr>\n",
       "      <th>7</th>\n",
       "      <td>50</td>\n",
       "      <td>47502</td>\n",
       "      <td>2017-02-27 00:00:00</td>\n",
       "      <td>other</td>\n",
       "      <td>False</td>\n",
       "      <td>981020015101070</td>\n",
       "      <td>Zoey</td>\n",
       "      <td>Pitbull</td>\n",
       "      <td>Grey and White</td>\n",
       "      <td>Dog</td>\n",
       "      <td>5 years 4 months</td>\n",
       "      <td>Female</td>\n",
       "      <td>Stray Dogs Beta</td>\n",
       "      <td>2017-06-01 00:00:00</td>\n",
       "      <td>Adoption</td>\n",
       "      <td>NaN</td>\n",
       "      <td>False</td>\n",
       "      <td>NaN</td>\n",
       "      <td>5.0</td>\n",
       "      <td>0.0</td>\n",
       "    </tr>\n",
       "  </tbody>\n",
       "</table>\n",
       "</div>"
      ],
      "text/plain": [
       "   Unnamed: 0     id           intakedate intakereason  istransfer  \\\n",
       "0          12  46238  2016-10-09 00:00:00    Abandoned       False   \n",
       "1          15  46693  2016-11-21 00:00:00    Abandoned       False   \n",
       "2          19  47146  2017-01-17 00:00:00    Abandoned       False   \n",
       "3          27  47239  2017-01-27 00:00:00    Abandoned       False   \n",
       "7          50  47502  2017-02-27 00:00:00        other       False   \n",
       "\n",
       "  identichipnumber animalname           breedname       basecolour  \\\n",
       "0  981020019070093  Tennessee              Heeler  Black and Brown   \n",
       "1  981020017897009       Baby             Pitbull            White   \n",
       "2  981020021063793      Dinah  Labrador Retriever            Black   \n",
       "3  981020021070452      Maria                 NaN  Black and Brown   \n",
       "7  981020015101070       Zoey             Pitbull   Grey and White   \n",
       "\n",
       "  speciesname         animalage sexname           location  \\\n",
       "0         Dog  5 years 7 months    Male  Special Care Dogs   \n",
       "1         Dog  5 years 9 months    Male     Adoptable Dogs   \n",
       "2         Dog  5 years 6 months  Female             Foster   \n",
       "3         Dog  3 years 5 months  Female             Foster   \n",
       "7         Dog  5 years 4 months  Female    Stray Dogs Beta   \n",
       "\n",
       "          movementdate movementtype returndate  puttosleep  age(months)  \\\n",
       "0  2018-02-14 00:00:00     Adoption        NaN       False          NaN   \n",
       "1  2017-04-07 00:00:00     Adoption        NaN       False          NaN   \n",
       "2  2017-04-01 00:00:00     Adoption        NaN       False          NaN   \n",
       "3  2017-04-01 00:00:00     Adoption        NaN       False          NaN   \n",
       "7  2017-06-01 00:00:00     Adoption        NaN       False          NaN   \n",
       "\n",
       "   age(years)  duration of stay  \n",
       "0         5.0               0.0  \n",
       "1         5.0               0.0  \n",
       "2         5.0               0.0  \n",
       "3         3.0               0.0  \n",
       "7         5.0               0.0  "
      ]
     },
     "execution_count": 17,
     "metadata": {},
     "output_type": "execute_result"
    }
   ],
   "source": [
    " dog_model_data.head()"
   ]
  },
  {
   "cell_type": "code",
   "execution_count": 18,
   "metadata": {},
   "outputs": [
    {
     "name": "stdout",
     "output_type": "stream",
     "text": [
      "<class 'pandas.core.frame.DataFrame'>\n",
      "Int64Index: 2841 entries, 0 to 4467\n",
      "Data columns (total 20 columns):\n",
      " #   Column            Non-Null Count  Dtype  \n",
      "---  ------            --------------  -----  \n",
      " 0   Unnamed: 0        2841 non-null   int64  \n",
      " 1   id                2841 non-null   int64  \n",
      " 2   intakedate        2841 non-null   object \n",
      " 3   intakereason      2841 non-null   object \n",
      " 4   istransfer        2841 non-null   bool   \n",
      " 5   identichipnumber  2838 non-null   object \n",
      " 6   animalname        2841 non-null   object \n",
      " 7   breedname         2840 non-null   object \n",
      " 8   basecolour        2841 non-null   object \n",
      " 9   speciesname       2841 non-null   object \n",
      " 10  animalage         2841 non-null   object \n",
      " 11  sexname           2841 non-null   object \n",
      " 12  location          2841 non-null   object \n",
      " 13  movementdate      2841 non-null   object \n",
      " 14  movementtype      2841 non-null   object \n",
      " 15  returndate        55 non-null     object \n",
      " 16  puttosleep        2841 non-null   bool   \n",
      " 17  age(months)       65 non-null     float64\n",
      " 18  age(years)        2841 non-null   float64\n",
      " 19  duration of stay  2841 non-null   float64\n",
      "dtypes: bool(2), float64(3), int64(2), object(13)\n",
      "memory usage: 427.3+ KB\n"
     ]
    }
   ],
   "source": [
    "dog_model_data.info()"
   ]
  },
  {
   "cell_type": "markdown",
   "metadata": {},
   "source": [
    "Breedname is missing one value so i will fill it with 'Other'"
   ]
  },
  {
   "cell_type": "code",
   "execution_count": 19,
   "metadata": {},
   "outputs": [],
   "source": [
    "dog_model_data['breedname'] = dog_model_data['breedname'].fillna('Other')"
   ]
  },
  {
   "cell_type": "markdown",
   "metadata": {},
   "source": [
    "The months that have missing values means that age will be dictated by the years column, so we can fill the rest of the months column with zeroes, I did the same thing for the years column in my data cleaning notebook before saving the csv. Will be more organized in final notebook."
   ]
  },
  {
   "cell_type": "code",
   "execution_count": 20,
   "metadata": {},
   "outputs": [],
   "source": [
    "dog_model_data['age(months)'] = dog_model_data['age(months)'].fillna(0)"
   ]
  },
  {
   "cell_type": "markdown",
   "metadata": {},
   "source": [
    "### Prepare Cat data for Modeling"
   ]
  },
  {
   "cell_type": "code",
   "execution_count": 21,
   "metadata": {},
   "outputs": [
    {
     "data": {
      "text/html": [
       "<div>\n",
       "<style scoped>\n",
       "    .dataframe tbody tr th:only-of-type {\n",
       "        vertical-align: middle;\n",
       "    }\n",
       "\n",
       "    .dataframe tbody tr th {\n",
       "        vertical-align: top;\n",
       "    }\n",
       "\n",
       "    .dataframe thead th {\n",
       "        text-align: right;\n",
       "    }\n",
       "</style>\n",
       "<table border=\"1\" class=\"dataframe\">\n",
       "  <thead>\n",
       "    <tr style=\"text-align: right;\">\n",
       "      <th></th>\n",
       "      <th>Unnamed: 0</th>\n",
       "      <th>id</th>\n",
       "      <th>intakedate</th>\n",
       "      <th>intakereason</th>\n",
       "      <th>istransfer</th>\n",
       "      <th>identichipnumber</th>\n",
       "      <th>animalname</th>\n",
       "      <th>breedname</th>\n",
       "      <th>basecolour</th>\n",
       "      <th>speciesname</th>\n",
       "      <th>animalage</th>\n",
       "      <th>sexname</th>\n",
       "      <th>location</th>\n",
       "      <th>movementdate</th>\n",
       "      <th>movementtype</th>\n",
       "      <th>returndate</th>\n",
       "      <th>puttosleep</th>\n",
       "      <th>age(months)</th>\n",
       "      <th>age(years)</th>\n",
       "      <th>duration of stay</th>\n",
       "    </tr>\n",
       "  </thead>\n",
       "  <tbody>\n",
       "    <tr>\n",
       "      <th>0</th>\n",
       "      <td>14</td>\n",
       "      <td>46437</td>\n",
       "      <td>2016-10-26 00:00:00</td>\n",
       "      <td>Abandoned</td>\n",
       "      <td>False</td>\n",
       "      <td>981020017650993</td>\n",
       "      <td>Nova</td>\n",
       "      <td>Domestic Long Hair</td>\n",
       "      <td>Black</td>\n",
       "      <td>Cat</td>\n",
       "      <td>12 years 3 months</td>\n",
       "      <td>Female</td>\n",
       "      <td>Stray Cats</td>\n",
       "      <td>2017-04-07 00:00:00</td>\n",
       "      <td>Adoption</td>\n",
       "      <td>02/09/2018 12:00:00 AM</td>\n",
       "      <td>True</td>\n",
       "      <td>NaN</td>\n",
       "      <td>12.0</td>\n",
       "      <td>163.0</td>\n",
       "    </tr>\n",
       "    <tr>\n",
       "      <th>1</th>\n",
       "      <td>17</td>\n",
       "      <td>47120</td>\n",
       "      <td>2017-01-11 00:00:00</td>\n",
       "      <td>Abandoned</td>\n",
       "      <td>False</td>\n",
       "      <td>981020021072899</td>\n",
       "      <td>Vivian</td>\n",
       "      <td>Other</td>\n",
       "      <td>Other</td>\n",
       "      <td>Cat</td>\n",
       "      <td>6 years 5 months</td>\n",
       "      <td>Female</td>\n",
       "      <td>Foster</td>\n",
       "      <td>2017-05-13 00:00:00</td>\n",
       "      <td>Adoption</td>\n",
       "      <td>NaN</td>\n",
       "      <td>False</td>\n",
       "      <td>NaN</td>\n",
       "      <td>6.0</td>\n",
       "      <td>122.0</td>\n",
       "    </tr>\n",
       "    <tr>\n",
       "      <th>2</th>\n",
       "      <td>26</td>\n",
       "      <td>47198</td>\n",
       "      <td>2017-01-22 00:00:00</td>\n",
       "      <td>Abandoned</td>\n",
       "      <td>False</td>\n",
       "      <td>981020021020775</td>\n",
       "      <td>Mama Mia</td>\n",
       "      <td>Domestic Short Hair</td>\n",
       "      <td>Grey and White</td>\n",
       "      <td>Cat</td>\n",
       "      <td>4 years 10 months</td>\n",
       "      <td>Female</td>\n",
       "      <td>Adoptable Cat Glass Colony</td>\n",
       "      <td>2017-06-22 00:00:00</td>\n",
       "      <td>Adoption</td>\n",
       "      <td>NaN</td>\n",
       "      <td>False</td>\n",
       "      <td>NaN</td>\n",
       "      <td>4.0</td>\n",
       "      <td>151.0</td>\n",
       "    </tr>\n",
       "    <tr>\n",
       "      <th>3</th>\n",
       "      <td>29</td>\n",
       "      <td>47248</td>\n",
       "      <td>2017-01-27 00:00:00</td>\n",
       "      <td>Abandoned</td>\n",
       "      <td>False</td>\n",
       "      <td>981020021068759</td>\n",
       "      <td>Mr. T</td>\n",
       "      <td>Other</td>\n",
       "      <td>Black</td>\n",
       "      <td>Cat</td>\n",
       "      <td>11 years 7 months</td>\n",
       "      <td>Male</td>\n",
       "      <td>Foster</td>\n",
       "      <td>2017-06-02 00:00:00</td>\n",
       "      <td>Adoption</td>\n",
       "      <td>NaN</td>\n",
       "      <td>False</td>\n",
       "      <td>NaN</td>\n",
       "      <td>11.0</td>\n",
       "      <td>126.0</td>\n",
       "    </tr>\n",
       "    <tr>\n",
       "      <th>4</th>\n",
       "      <td>30</td>\n",
       "      <td>47277</td>\n",
       "      <td>2017-01-31 00:00:00</td>\n",
       "      <td>Abandoned</td>\n",
       "      <td>False</td>\n",
       "      <td>981020021046006</td>\n",
       "      <td>Coraline</td>\n",
       "      <td>Domestic Short Hair</td>\n",
       "      <td>Brown and Black</td>\n",
       "      <td>Cat</td>\n",
       "      <td>5 years 5 months</td>\n",
       "      <td>Female</td>\n",
       "      <td>Adoptable Cat Glass Colony</td>\n",
       "      <td>2017-04-05 00:00:00</td>\n",
       "      <td>Adoption</td>\n",
       "      <td>NaN</td>\n",
       "      <td>False</td>\n",
       "      <td>NaN</td>\n",
       "      <td>5.0</td>\n",
       "      <td>64.0</td>\n",
       "    </tr>\n",
       "  </tbody>\n",
       "</table>\n",
       "</div>"
      ],
      "text/plain": [
       "   Unnamed: 0     id           intakedate intakereason  istransfer  \\\n",
       "0          14  46437  2016-10-26 00:00:00    Abandoned       False   \n",
       "1          17  47120  2017-01-11 00:00:00    Abandoned       False   \n",
       "2          26  47198  2017-01-22 00:00:00    Abandoned       False   \n",
       "3          29  47248  2017-01-27 00:00:00    Abandoned       False   \n",
       "4          30  47277  2017-01-31 00:00:00    Abandoned       False   \n",
       "\n",
       "  identichipnumber animalname            breedname       basecolour  \\\n",
       "0  981020017650993       Nova   Domestic Long Hair            Black   \n",
       "1  981020021072899     Vivian                Other            Other   \n",
       "2  981020021020775   Mama Mia  Domestic Short Hair   Grey and White   \n",
       "3  981020021068759      Mr. T                Other            Black   \n",
       "4  981020021046006   Coraline  Domestic Short Hair  Brown and Black   \n",
       "\n",
       "  speciesname          animalage sexname                    location  \\\n",
       "0         Cat  12 years 3 months  Female                  Stray Cats   \n",
       "1         Cat   6 years 5 months  Female                      Foster   \n",
       "2         Cat  4 years 10 months  Female  Adoptable Cat Glass Colony   \n",
       "3         Cat  11 years 7 months    Male                      Foster   \n",
       "4         Cat   5 years 5 months  Female  Adoptable Cat Glass Colony   \n",
       "\n",
       "          movementdate movementtype              returndate  puttosleep  \\\n",
       "0  2017-04-07 00:00:00     Adoption  02/09/2018 12:00:00 AM        True   \n",
       "1  2017-05-13 00:00:00     Adoption                     NaN       False   \n",
       "2  2017-06-22 00:00:00     Adoption                     NaN       False   \n",
       "3  2017-06-02 00:00:00     Adoption                     NaN       False   \n",
       "4  2017-04-05 00:00:00     Adoption                     NaN       False   \n",
       "\n",
       "   age(months)  age(years)  duration of stay  \n",
       "0          NaN        12.0             163.0  \n",
       "1          NaN         6.0             122.0  \n",
       "2          NaN         4.0             151.0  \n",
       "3          NaN        11.0             126.0  \n",
       "4          NaN         5.0              64.0  "
      ]
     },
     "execution_count": 21,
     "metadata": {},
     "output_type": "execute_result"
    }
   ],
   "source": [
    "cat_df.head()"
   ]
  },
  {
   "cell_type": "code",
   "execution_count": 22,
   "metadata": {},
   "outputs": [
    {
     "name": "stdout",
     "output_type": "stream",
     "text": [
      "<class 'pandas.core.frame.DataFrame'>\n",
      "RangeIndex: 7072 entries, 0 to 7071\n",
      "Data columns (total 20 columns):\n",
      " #   Column            Non-Null Count  Dtype  \n",
      "---  ------            --------------  -----  \n",
      " 0   Unnamed: 0        7072 non-null   int64  \n",
      " 1   id                7072 non-null   int64  \n",
      " 2   intakedate        7072 non-null   object \n",
      " 3   intakereason      7072 non-null   object \n",
      " 4   istransfer        7072 non-null   bool   \n",
      " 5   identichipnumber  6170 non-null   object \n",
      " 6   animalname        7072 non-null   object \n",
      " 7   breedname         7072 non-null   object \n",
      " 8   basecolour        7072 non-null   object \n",
      " 9   speciesname       7072 non-null   object \n",
      " 10  animalage         7072 non-null   object \n",
      " 11  sexname           7072 non-null   object \n",
      " 12  location          7072 non-null   object \n",
      " 13  movementdate      7072 non-null   object \n",
      " 14  movementtype      7072 non-null   object \n",
      " 15  returndate        200 non-null    object \n",
      " 16  puttosleep        7072 non-null   bool   \n",
      " 17  age(months)       677 non-null    float64\n",
      " 18  age(years)        7072 non-null   float64\n",
      " 19  duration of stay  7072 non-null   float64\n",
      "dtypes: bool(2), float64(3), int64(2), object(13)\n",
      "memory usage: 1008.4+ KB\n"
     ]
    }
   ],
   "source": [
    "cat_df.info()"
   ]
  },
  {
   "cell_type": "code",
   "execution_count": 23,
   "metadata": {},
   "outputs": [
    {
     "data": {
      "text/plain": [
       "Domestic Short Hair     5811\n",
       "Domestic Medium Hair     560\n",
       "Domestic Long Hair       419\n",
       "Siamese                  121\n",
       "Manx                      52\n",
       "Other                     47\n",
       "Unknown                   29\n",
       "Bengal                    11\n",
       "Maine Coon                 9\n",
       "Oriental Shorthair         7\n",
       "Calico                     6\n",
       "Name: breedname, dtype: int64"
      ]
     },
     "execution_count": 23,
     "metadata": {},
     "output_type": "execute_result"
    }
   ],
   "source": [
    "cat_df['breedname'].value_counts()"
   ]
  },
  {
   "cell_type": "code",
   "execution_count": 24,
   "metadata": {
    "scrolled": true
   },
   "outputs": [
    {
     "data": {
      "text/plain": [
       "Adoption            5945\n",
       "Reclaimed            405\n",
       "Transfer             356\n",
       "Foster               326\n",
       "Released To Wild      29\n",
       "Stolen                 6\n",
       "Escaped                5\n",
       "Name: movementtype, dtype: int64"
      ]
     },
     "execution_count": 24,
     "metadata": {},
     "output_type": "execute_result"
    }
   ],
   "source": [
    "cat_df['movementtype'].value_counts()"
   ]
  },
  {
   "cell_type": "code",
   "execution_count": 25,
   "metadata": {},
   "outputs": [
    {
     "data": {
      "text/plain": [
       "Labrador Retriever        708\n",
       "Bully Breed               544\n",
       "Beagle                    380\n",
       "Terrier                   363\n",
       "Hound                     315\n",
       "Other                     312\n",
       "German Shepherd           289\n",
       "Chihuahua                 236\n",
       "Pitbull                   207\n",
       "Husky                     140\n",
       "Border Collie             115\n",
       "Boxer                      90\n",
       "Mix                        65\n",
       "Golden Retriever           65\n",
       "Coonhound                  54\n",
       "Great Pyrenees             53\n",
       "Rottweiler                 52\n",
       "Australian Shepherd        37\n",
       "Heeler                     36\n",
       "Cattle Dog                 33\n",
       "Shih Tzu                   31\n",
       "Mastiff                    31\n",
       "Dachshund                  29\n",
       "Pomeranian                 23\n",
       "Miniature Pinscher         21\n",
       "American Bulldog           19\n",
       "Mountain Cur               18\n",
       "Spaniel                    18\n",
       "Pug                        17\n",
       "Poodle                     16\n",
       "Shiba Inu                  14\n",
       "Schnauzer                  13\n",
       "Cocker Spaniel             12\n",
       "Great Dane                 11\n",
       "Maltese                    10\n",
       "Shepherd                    8\n",
       "Bloodhound                  8\n",
       "Doberman Pinscher           8\n",
       "Corgi                       7\n",
       "Shar Pei/Mix                7\n",
       "Chow Chow/Mix               7\n",
       "Carolina Dog                6\n",
       "Shih Tzu/Mix                6\n",
       "Newfoundland/Mix            5\n",
       "Pointer/Mix                 5\n",
       "Miniature Pinscher/Mix      5\n",
       "Saint Bernard               5\n",
       "Pekingese                   5\n",
       "Carolina Dog/Mix            5\n",
       "Retriever                   5\n",
       "Name: breedname, dtype: int64"
      ]
     },
     "execution_count": 25,
     "metadata": {},
     "output_type": "execute_result"
    }
   ],
   "source": [
    "dog_df['breedname'].value_counts()"
   ]
  },
  {
   "cell_type": "code",
   "execution_count": 26,
   "metadata": {},
   "outputs": [
    {
     "data": {
      "text/plain": [
       "Black and White           590\n",
       "Black                     547\n",
       "Tricolour                 289\n",
       "Black and Tan             285\n",
       "Brown and White           281\n",
       "Brown                     255\n",
       "Tan                       251\n",
       "White and Tan             241\n",
       "Black and Brown           238\n",
       "Red                       196\n",
       "Brindle                   182\n",
       "Other                     180\n",
       "White                     171\n",
       "Grey and White             97\n",
       "Cream                      96\n",
       "Brindle and White          87\n",
       "Fawn                       76\n",
       "Golden                     74\n",
       "Red and White              72\n",
       "Grey                       54\n",
       "Blue                       54\n",
       "Black, Brown and White     48\n",
       "Black and grey             31\n",
       "Blue merle                 31\n",
       "White and Brindle          22\n",
       "Black merle                22\n",
       "Name: basecolour, dtype: int64"
      ]
     },
     "execution_count": 26,
     "metadata": {},
     "output_type": "execute_result"
    }
   ],
   "source": [
    "dog_df['basecolour'].value_counts()"
   ]
  },
  {
   "cell_type": "code",
   "execution_count": 27,
   "metadata": {},
   "outputs": [],
   "source": [
    "cat_model_data = cat_df[cat_df['movementtype'] == 'Adoption']"
   ]
  },
  {
   "cell_type": "markdown",
   "metadata": {},
   "source": [
    "I am focusing on the pets that got adopted and analyzing how long it took."
   ]
  },
  {
   "cell_type": "code",
   "execution_count": 28,
   "metadata": {},
   "outputs": [
    {
     "data": {
      "text/html": [
       "<div>\n",
       "<style scoped>\n",
       "    .dataframe tbody tr th:only-of-type {\n",
       "        vertical-align: middle;\n",
       "    }\n",
       "\n",
       "    .dataframe tbody tr th {\n",
       "        vertical-align: top;\n",
       "    }\n",
       "\n",
       "    .dataframe thead th {\n",
       "        text-align: right;\n",
       "    }\n",
       "</style>\n",
       "<table border=\"1\" class=\"dataframe\">\n",
       "  <thead>\n",
       "    <tr style=\"text-align: right;\">\n",
       "      <th></th>\n",
       "      <th>Unnamed: 0</th>\n",
       "      <th>id</th>\n",
       "      <th>age(months)</th>\n",
       "      <th>age(years)</th>\n",
       "      <th>duration of stay</th>\n",
       "    </tr>\n",
       "  </thead>\n",
       "  <tbody>\n",
       "    <tr>\n",
       "      <th>count</th>\n",
       "      <td>5945.000000</td>\n",
       "      <td>5945.000000</td>\n",
       "      <td>391.000000</td>\n",
       "      <td>5945.000000</td>\n",
       "      <td>5945.000000</td>\n",
       "    </tr>\n",
       "    <tr>\n",
       "      <th>mean</th>\n",
       "      <td>9754.459378</td>\n",
       "      <td>63577.247098</td>\n",
       "      <td>4.856777</td>\n",
       "      <td>2.477712</td>\n",
       "      <td>51.057359</td>\n",
       "    </tr>\n",
       "    <tr>\n",
       "      <th>std</th>\n",
       "      <td>5320.087394</td>\n",
       "      <td>4748.933416</td>\n",
       "      <td>1.300867</td>\n",
       "      <td>2.501994</td>\n",
       "      <td>83.680666</td>\n",
       "    </tr>\n",
       "    <tr>\n",
       "      <th>min</th>\n",
       "      <td>14.000000</td>\n",
       "      <td>46437.000000</td>\n",
       "      <td>2.000000</td>\n",
       "      <td>0.000000</td>\n",
       "      <td>1.000000</td>\n",
       "    </tr>\n",
       "    <tr>\n",
       "      <th>25%</th>\n",
       "      <td>5365.000000</td>\n",
       "      <td>59873.000000</td>\n",
       "      <td>4.000000</td>\n",
       "      <td>1.000000</td>\n",
       "      <td>15.000000</td>\n",
       "    </tr>\n",
       "    <tr>\n",
       "      <th>50%</th>\n",
       "      <td>10203.000000</td>\n",
       "      <td>64000.000000</td>\n",
       "      <td>5.000000</td>\n",
       "      <td>2.000000</td>\n",
       "      <td>34.000000</td>\n",
       "    </tr>\n",
       "    <tr>\n",
       "      <th>75%</th>\n",
       "      <td>14281.000000</td>\n",
       "      <td>67472.000000</td>\n",
       "      <td>6.000000</td>\n",
       "      <td>3.000000</td>\n",
       "      <td>59.000000</td>\n",
       "    </tr>\n",
       "    <tr>\n",
       "      <th>max</th>\n",
       "      <td>18663.000000</td>\n",
       "      <td>71663.000000</td>\n",
       "      <td>6.000000</td>\n",
       "      <td>18.000000</td>\n",
       "      <td>1220.000000</td>\n",
       "    </tr>\n",
       "  </tbody>\n",
       "</table>\n",
       "</div>"
      ],
      "text/plain": [
       "         Unnamed: 0            id  age(months)   age(years)  duration of stay\n",
       "count   5945.000000   5945.000000   391.000000  5945.000000       5945.000000\n",
       "mean    9754.459378  63577.247098     4.856777     2.477712         51.057359\n",
       "std     5320.087394   4748.933416     1.300867     2.501994         83.680666\n",
       "min       14.000000  46437.000000     2.000000     0.000000          1.000000\n",
       "25%     5365.000000  59873.000000     4.000000     1.000000         15.000000\n",
       "50%    10203.000000  64000.000000     5.000000     2.000000         34.000000\n",
       "75%    14281.000000  67472.000000     6.000000     3.000000         59.000000\n",
       "max    18663.000000  71663.000000     6.000000    18.000000       1220.000000"
      ]
     },
     "execution_count": 28,
     "metadata": {},
     "output_type": "execute_result"
    }
   ],
   "source": [
    "cat_model_data.describe()"
   ]
  },
  {
   "cell_type": "code",
   "execution_count": 29,
   "metadata": {},
   "outputs": [],
   "source": [
    "cat_model_data['duration of stay'][cat_model_data['duration of stay'] <= 30] = 1\n",
    "cat_model_data['duration of stay'][cat_model_data['duration of stay'] > 30] = 0"
   ]
  },
  {
   "cell_type": "code",
   "execution_count": 30,
   "metadata": {},
   "outputs": [
    {
     "data": {
      "text/plain": [
       "0.0    3232\n",
       "1.0    2713\n",
       "Name: duration of stay, dtype: int64"
      ]
     },
     "execution_count": 30,
     "metadata": {},
     "output_type": "execute_result"
    }
   ],
   "source": [
    "cat_model_data['duration of stay'].value_counts()"
   ]
  },
  {
   "cell_type": "code",
   "execution_count": 31,
   "metadata": {
    "scrolled": true
   },
   "outputs": [],
   "source": [
    "cat_model_data['age(months)'] = cat_model_data['age(months)'].fillna(0)"
   ]
  },
  {
   "cell_type": "markdown",
   "metadata": {},
   "source": [
    "#### Categorize the target column the same way that I did for the dog dataframe"
   ]
  },
  {
   "cell_type": "markdown",
   "metadata": {},
   "source": [
    "## Modeling"
   ]
  },
  {
   "cell_type": "code",
   "execution_count": 32,
   "metadata": {},
   "outputs": [],
   "source": [
    "def evaluate(estimator, X_tr, X_te, y_tr, y_te, roc_auc='skip'):\n",
    "\n",
    "    tr_preds = estimator.predict(X_tr)\n",
    "    te_preds = estimator.predict(X_te)\n",
    "    \n",
    "    # output needed for roc_auc_score\n",
    "    if roc_auc == 'skip': # skips calculating the roc_auc_score\n",
    "        train_out = False\n",
    "        test_out = False\n",
    "    elif roc_auc == 'dec': \n",
    "        train_out = estimator.decision_function(X_train)\n",
    "        test_out = estimator.decision_function(X_test)\n",
    "    elif roc_auc == 'proba': \n",
    "        train_out = estimator.predict_proba(X_train)[:, 1] # proba for the 1 class\n",
    "        test_out = estimator.predict_proba(X_test)[:, 1]\n",
    "    else:\n",
    "        raise Exception(\"The value for roc_auc should be 'skip', 'dec' or 'proba'\")    \n",
    "    \n",
    "    print(\"Training Scores:\")\n",
    "    print(f\"Train Accuracy: {accuracy_score(y_tr, tr_preds)}\")\n",
    "    print(f\"Train Precision: {precision_score(y_tr, tr_preds)}\")\n",
    "    print(f\"Train Recall: {recall_score(y_tr, tr_preds)}\")\n",
    "    print(f\"Train F1-Score: {f1_score(y_tr, tr_preds)}\")\n",
    "    if type(train_out) == np.ndarray: # checking for roc_auc\n",
    "        print(f\"ROC-AUC: {roc_auc_score(y_train, train_out)}\")\n",
    "        \n",
    "    print(\"*\" * 10)\n",
    "    print(\"Testing Scores:\")\n",
    "    print(f\"Test Accuracy: {accuracy_score(y_te, te_preds)}\")\n",
    "    print(f\"Test Precision: {precision_score(y_te, te_preds)}\")\n",
    "    print(f\"Test Recall: {recall_score(y_te, te_preds)}\")\n",
    "    print(f\"Test F1-Score: {f1_score(y_te, te_preds)}\")\n",
    "    if type(test_out) == np.ndarray: # checking for roc_auc\n",
    "        print(f\"ROC-AUC: {roc_auc_score(y_test, test_out)}\")    \n",
    "    \n",
    "    # Plot confusion matrix for test set\n",
    "    plot_confusion_matrix(estimator, X_te, y_te, normalize='true')\n"
   ]
  },
  {
   "cell_type": "markdown",
   "metadata": {},
   "source": [
    "### First Simple Model for Dog predictions"
   ]
  },
  {
   "cell_type": "code",
   "execution_count": 33,
   "metadata": {},
   "outputs": [
    {
     "data": {
      "text/plain": [
       "Index(['Unnamed: 0', 'id', 'intakedate', 'intakereason', 'istransfer',\n",
       "       'identichipnumber', 'animalname', 'breedname', 'basecolour',\n",
       "       'speciesname', 'animalage', 'sexname', 'location', 'movementdate',\n",
       "       'movementtype', 'returndate', 'puttosleep', 'age(months)', 'age(years)',\n",
       "       'duration of stay'],\n",
       "      dtype='object')"
      ]
     },
     "execution_count": 33,
     "metadata": {},
     "output_type": "execute_result"
    }
   ],
   "source": [
    "dog_model_data.columns"
   ]
  },
  {
   "cell_type": "code",
   "execution_count": 34,
   "metadata": {},
   "outputs": [],
   "source": [
    "used_cols = ['age(months)', 'age(years)', 'sexname', 'basecolour', 'breedname', 'intakereason']"
   ]
  },
  {
   "cell_type": "code",
   "execution_count": 35,
   "metadata": {},
   "outputs": [],
   "source": [
    "X = dog_model_data[used_cols]\n",
    "y = dog_model_data['duration of stay']\n",
    "\n",
    "X_train, X_hold, y_train, y_hold = train_test_split(X, y, test_size=0.15, random_state=42)"
   ]
  },
  {
   "cell_type": "code",
   "execution_count": 36,
   "metadata": {},
   "outputs": [],
   "source": [
    "#perform a second train_test_split\n",
    "X = X_train\n",
    "y = y_train\n",
    "\n",
    "X_train, X_test, y_train, y_test = train_test_split(X, y, random_state=42)"
   ]
  },
  {
   "cell_type": "code",
   "execution_count": 37,
   "metadata": {},
   "outputs": [],
   "source": [
    "# Use a for loop to seperate numrical and categorical columns\n",
    "num_cols =[]\n",
    "cat_cols = []\n",
    "\n",
    "for c in used_cols:\n",
    "    if X[c].dtype in ['float64', 'int64']:\n",
    "        num_cols.append(c)\n",
    "    else:\n",
    "        cat_cols.append(c)"
   ]
  },
  {
   "cell_type": "code",
   "execution_count": 38,
   "metadata": {},
   "outputs": [
    {
     "name": "stdout",
     "output_type": "stream",
     "text": [
      "['age(months)', 'age(years)']\n",
      "['sexname', 'basecolour', 'breedname', 'intakereason']\n"
     ]
    }
   ],
   "source": [
    "print(num_cols)\n",
    "print(cat_cols)"
   ]
  },
  {
   "cell_type": "markdown",
   "metadata": {},
   "source": [
    "Create a pipeline to One hot encode categorical values, and scale numerical columns in case we use models that require scaling."
   ]
  },
  {
   "cell_type": "code",
   "execution_count": 39,
   "metadata": {},
   "outputs": [],
   "source": [
    "hotencoder = OneHotEncoder(handle_unknown='ignore')\n",
    "cat_transformer = make_pipeline(hotencoder)\n",
    "\n",
    "scaler = StandardScaler()\n",
    "num_transformer = make_pipeline(scaler)"
   ]
  },
  {
   "cell_type": "code",
   "execution_count": 40,
   "metadata": {},
   "outputs": [],
   "source": [
    "# Package our encoder into a Column Transformer\n",
    "preprocessor = ColumnTransformer(\n",
    "    transformers=[('cat', cat_transformer, cat_cols), \n",
    "                  ('num', num_transformer, num_cols)], remainder='passthrough')"
   ]
  },
  {
   "cell_type": "code",
   "execution_count": 41,
   "metadata": {},
   "outputs": [
    {
     "data": {
      "text/plain": [
       "ColumnTransformer(remainder='passthrough',\n",
       "                  transformers=[('cat',\n",
       "                                 Pipeline(steps=[('onehotencoder',\n",
       "                                                  OneHotEncoder(handle_unknown='ignore'))]),\n",
       "                                 ['sexname', 'basecolour', 'breedname',\n",
       "                                  'intakereason']),\n",
       "                                ('num',\n",
       "                                 Pipeline(steps=[('standardscaler',\n",
       "                                                  StandardScaler())]),\n",
       "                                 ['age(months)', 'age(years)'])])"
      ]
     },
     "execution_count": 41,
     "metadata": {},
     "output_type": "execute_result"
    }
   ],
   "source": [
    "preprocessor"
   ]
  },
  {
   "cell_type": "code",
   "execution_count": 42,
   "metadata": {},
   "outputs": [],
   "source": [
    "X_tr_transformed = preprocessor.fit_transform(X_train)"
   ]
  },
  {
   "cell_type": "markdown",
   "metadata": {},
   "source": [
    "Our transformed data now has 86 columns."
   ]
  },
  {
   "cell_type": "code",
   "execution_count": 43,
   "metadata": {},
   "outputs": [
    {
     "data": {
      "text/plain": [
       "(1810, 85)"
      ]
     },
     "execution_count": 43,
     "metadata": {},
     "output_type": "execute_result"
    }
   ],
   "source": [
    "X_tr_transformed.shape"
   ]
  },
  {
   "cell_type": "code",
   "execution_count": 44,
   "metadata": {},
   "outputs": [
    {
     "data": {
      "text/plain": [
       "ColumnTransformer(remainder='passthrough',\n",
       "                  transformers=[('cat',\n",
       "                                 Pipeline(steps=[('onehotencoder',\n",
       "                                                  OneHotEncoder(handle_unknown='ignore'))]),\n",
       "                                 ['sexname', 'basecolour', 'breedname',\n",
       "                                  'intakereason']),\n",
       "                                ('num',\n",
       "                                 Pipeline(steps=[('standardscaler',\n",
       "                                                  StandardScaler())]),\n",
       "                                 ['age(months)', 'age(years)'])])"
      ]
     },
     "execution_count": 44,
     "metadata": {},
     "output_type": "execute_result"
    }
   ],
   "source": [
    "preprocessor.fit(X_train)"
   ]
  },
  {
   "cell_type": "code",
   "execution_count": 45,
   "metadata": {},
   "outputs": [],
   "source": [
    "dt_simple_model = Pipeline(steps=[\n",
    "    ('preprocessor', preprocessor),\n",
    "    ('classifier', DecisionTreeClassifier())\n",
    "])"
   ]
  },
  {
   "cell_type": "code",
   "execution_count": 46,
   "metadata": {},
   "outputs": [
    {
     "data": {
      "text/plain": [
       "{'fit_time': array([0.03237009, 0.02394509, 0.02357388, 0.03197861, 0.02402616]),\n",
       " 'score_time': array([0.00765419, 0.01559258, 0.00799274, 0.00800014, 0.00798416]),\n",
       " 'test_score': array([0.61325967, 0.59116022, 0.59392265, 0.59668508, 0.56353591]),\n",
       " 'train_score': array([0.95787293, 0.96063536, 0.96339779, 0.95994475, 0.96685083])}"
      ]
     },
     "execution_count": 46,
     "metadata": {},
     "output_type": "execute_result"
    }
   ],
   "source": [
    "cross_validate(dt_simple_model, X_train, y_train, return_train_score='true')\n"
   ]
  },
  {
   "cell_type": "code",
   "execution_count": 47,
   "metadata": {
    "scrolled": false
   },
   "outputs": [
    {
     "data": {
      "text/plain": [
       "Pipeline(steps=[('preprocessor',\n",
       "                 ColumnTransformer(remainder='passthrough',\n",
       "                                   transformers=[('cat',\n",
       "                                                  Pipeline(steps=[('onehotencoder',\n",
       "                                                                   OneHotEncoder(handle_unknown='ignore'))]),\n",
       "                                                  ['sexname', 'basecolour',\n",
       "                                                   'breedname',\n",
       "                                                   'intakereason']),\n",
       "                                                 ('num',\n",
       "                                                  Pipeline(steps=[('standardscaler',\n",
       "                                                                   StandardScaler())]),\n",
       "                                                  ['age(months)',\n",
       "                                                   'age(years)'])])),\n",
       "                ('classifier', DecisionTreeClassifier())])"
      ]
     },
     "execution_count": 47,
     "metadata": {},
     "output_type": "execute_result"
    }
   ],
   "source": [
    "dt_simple_model.fit(X_train, y_train)"
   ]
  },
  {
   "cell_type": "code",
   "execution_count": 48,
   "metadata": {},
   "outputs": [
    {
     "name": "stdout",
     "output_type": "stream",
     "text": [
      "Training Scores:\n",
      "Train Accuracy: 0.9558011049723757\n",
      "Train Precision: 0.9797125950972105\n",
      "Train Recall: 0.9539094650205762\n",
      "Train F1-Score: 0.9666388657214345\n",
      "**********\n",
      "Testing Scores:\n",
      "Test Accuracy: 0.5993377483443708\n",
      "Test Precision: 0.7105263157894737\n",
      "Test Recall: 0.6716417910447762\n",
      "Test F1-Score: 0.690537084398977\n"
     ]
    },
    {
     "data": {
      "image/png": "[encoded data removed]",
      "text/plain": [
       "<Figure size 432x288 with 2 Axes>"
      ]
     },
     "metadata": {
      "needs_background": "light"
     },
     "output_type": "display_data"
    }
   ],
   "source": [
    "evaluate(dt_simple_model, X_train, X_test, y_train, y_test)"
   ]
  },
  {
   "cell_type": "markdown",
   "metadata": {},
   "source": [
    "Model is severely overfit, some tuning or different model choice is needed."
   ]
  },
  {
   "cell_type": "markdown",
   "metadata": {},
   "source": [
    "###  Simple Decision Tree Model Evaluation"
   ]
  },
  {
   "cell_type": "markdown",
   "metadata": {},
   "source": [
    "Remember:\n",
    "\n",
    "- 0 — Pet took more than 30 days to get adopted after being listed.\n",
    "- 1 — Pet took less than a month to get adopted."
   ]
  },
  {
   "cell_type": "markdown",
   "metadata": {},
   "source": [
    "- The model is pretty good at predicting if a dog will take longer than 30 days to adopt\n",
    "- It is a correct at predicting dogs that take longer than a month almost 50 percent of the time."
   ]
  },
  {
   "cell_type": "markdown",
   "metadata": {},
   "source": [
    "### Cat simple model"
   ]
  },
  {
   "cell_type": "code",
   "execution_count": 49,
   "metadata": {},
   "outputs": [],
   "source": [
    "X = cat_model_data[used_cols]\n",
    "y = cat_model_data['duration of stay']\n",
    "# We add cat to the end of our variables so that we dont get mixed up with the dog model data\n",
    "X_train_cat, X_hold_cat, y_train_cat, y_hold_cat = train_test_split(X, y, test_size=0.15, random_state=42)"
   ]
  },
  {
   "cell_type": "code",
   "execution_count": 50,
   "metadata": {},
   "outputs": [],
   "source": [
    "#perform a second train_test_split\n",
    "X = X_train_cat\n",
    "y = y_train_cat\n",
    "\n",
    "X_train_cat, X_test_cat, y_train_cat, y_test_cat = train_test_split(X, y, random_state=42)"
   ]
  },
  {
   "cell_type": "code",
   "execution_count": 51,
   "metadata": {},
   "outputs": [],
   "source": [
    "preprocessor_cat = preprocessor"
   ]
  },
  {
   "cell_type": "code",
   "execution_count": 52,
   "metadata": {},
   "outputs": [
    {
     "data": {
      "text/plain": [
       "(3789, 49)"
      ]
     },
     "execution_count": 52,
     "metadata": {},
     "output_type": "execute_result"
    }
   ],
   "source": [
    "X_tr_transformed_cat = preprocessor_cat.fit_transform(X_train_cat)\n",
    "X_tr_transformed_cat.shape"
   ]
  },
  {
   "cell_type": "markdown",
   "metadata": {},
   "source": [
    "Our cat training data has 3789 rows and 85 columns"
   ]
  },
  {
   "cell_type": "code",
   "execution_count": 53,
   "metadata": {},
   "outputs": [
    {
     "data": {
      "text/plain": [
       "ColumnTransformer(remainder='passthrough',\n",
       "                  transformers=[('cat',\n",
       "                                 Pipeline(steps=[('onehotencoder',\n",
       "                                                  OneHotEncoder(handle_unknown='ignore'))]),\n",
       "                                 ['sexname', 'basecolour', 'breedname',\n",
       "                                  'intakereason']),\n",
       "                                ('num',\n",
       "                                 Pipeline(steps=[('standardscaler',\n",
       "                                                  StandardScaler())]),\n",
       "                                 ['age(months)', 'age(years)'])])"
      ]
     },
     "execution_count": 53,
     "metadata": {},
     "output_type": "execute_result"
    }
   ],
   "source": [
    "preprocessor_cat.fit(X_train_cat)"
   ]
  },
  {
   "cell_type": "code",
   "execution_count": 54,
   "metadata": {},
   "outputs": [],
   "source": [
    "cat_dt_simple_model = Pipeline(steps=[\n",
    "    ('preprocessor', preprocessor_cat),\n",
    "    ('classifier', DecisionTreeClassifier())\n",
    "])"
   ]
  },
  {
   "cell_type": "code",
   "execution_count": 55,
   "metadata": {},
   "outputs": [
    {
     "data": {
      "text/plain": [
       "{'fit_time': array([0.04002237, 0.04125857, 0.03999996, 0.04000139, 0.04000378]),\n",
       " 'score_time': array([0.00798941, 0.00800419, 0.0080018 , 0.00800443, 0.00800157]),\n",
       " 'test_score': array([0.54485488, 0.54617414, 0.56728232, 0.53825858, 0.57331572]),\n",
       " 'train_score': array([0.79214781, 0.79115803, 0.78752887, 0.78785879, 0.7823219 ])}"
      ]
     },
     "execution_count": 55,
     "metadata": {},
     "output_type": "execute_result"
    }
   ],
   "source": [
    "cross_validate(cat_dt_simple_model, X_train_cat, y_train_cat, return_train_score='true')"
   ]
  },
  {
   "cell_type": "code",
   "execution_count": 56,
   "metadata": {},
   "outputs": [
    {
     "data": {
      "text/plain": [
       "Pipeline(steps=[('preprocessor',\n",
       "                 ColumnTransformer(remainder='passthrough',\n",
       "                                   transformers=[('cat',\n",
       "                                                  Pipeline(steps=[('onehotencoder',\n",
       "                                                                   OneHotEncoder(handle_unknown='ignore'))]),\n",
       "                                                  ['sexname', 'basecolour',\n",
       "                                                   'breedname',\n",
       "                                                   'intakereason']),\n",
       "                                                 ('num',\n",
       "                                                  Pipeline(steps=[('standardscaler',\n",
       "                                                                   StandardScaler())]),\n",
       "                                                  ['age(months)',\n",
       "                                                   'age(years)'])])),\n",
       "                ('classifier', DecisionTreeClassifier())])"
      ]
     },
     "execution_count": 56,
     "metadata": {},
     "output_type": "execute_result"
    }
   ],
   "source": [
    "cat_dt_simple_model.fit(X_train_cat, y_train_cat)"
   ]
  },
  {
   "cell_type": "code",
   "execution_count": 57,
   "metadata": {},
   "outputs": [
    {
     "name": "stdout",
     "output_type": "stream",
     "text": [
      "Training Scores:\n",
      "Train Accuracy: 0.7735550277117973\n",
      "Train Precision: 0.8469551282051282\n",
      "Train Recall: 0.6131090487238979\n",
      "Train F1-Score: 0.7113055181695828\n",
      "**********\n",
      "Testing Scores:\n",
      "Test Accuracy: 0.5632911392405063\n",
      "Test Precision: 0.53125\n",
      "Test Recall: 0.38235294117647056\n",
      "Test F1-Score: 0.44466800804828976\n"
     ]
    },
    {
     "data": {
      "image/png": "[encoded data removed]",
      "text/plain": [
       "<Figure size 432x288 with 2 Axes>"
      ]
     },
     "metadata": {
      "needs_background": "light"
     },
     "output_type": "display_data"
    }
   ],
   "source": [
    "evaluate(cat_dt_simple_model, X_train_cat, X_test_cat, y_train_cat, y_test_cat)"
   ]
  },
  {
   "cell_type": "markdown",
   "metadata": {},
   "source": [
    "### Simple Cat decision tree evaluation\n",
    "\n",
    "- Better than expected at predicting cats that take longer than a month to get adopted.(which is great, thats the main point of this analysis)\n",
    "- Its is not too good at classifying cats that get adopted in less than a month. \n",
    "- Overfit but our false positive rate is pretty low"
   ]
  },
  {
   "cell_type": "markdown",
   "metadata": {},
   "source": [
    "### Random forest Models"
   ]
  },
  {
   "cell_type": "markdown",
   "metadata": {},
   "source": [
    "#### Cat Model"
   ]
  },
  {
   "cell_type": "code",
   "execution_count": 58,
   "metadata": {},
   "outputs": [],
   "source": [
    "cat_forest_model = Pipeline(steps=[\n",
    "    ('preprocessor', preprocessor_cat),\n",
    "    ('classifier', RandomForestClassifier())\n",
    "])"
   ]
  },
  {
   "cell_type": "code",
   "execution_count": 59,
   "metadata": {},
   "outputs": [
    {
     "data": {
      "text/plain": [
       "{'fit_time': array([1.28212929, 1.31251764, 1.34364128, 1.20690703, 1.00050592]),\n",
       " 'score_time': array([0.0320015 , 0.04000521, 0.03200531, 0.03200388, 0.02400374]),\n",
       " 'test_score': array([0.54485488, 0.55804749, 0.59102902, 0.54617414, 0.5653897 ]),\n",
       " 'train_score': array([0.79214781, 0.79115803, 0.78719894, 0.78752887, 0.78199208])}"
      ]
     },
     "execution_count": 59,
     "metadata": {},
     "output_type": "execute_result"
    }
   ],
   "source": [
    "cross_validate(cat_forest_model, X_train_cat, y_train_cat, return_train_score=True)"
   ]
  },
  {
   "cell_type": "code",
   "execution_count": 60,
   "metadata": {},
   "outputs": [
    {
     "data": {
      "text/plain": [
       "Pipeline(steps=[('preprocessor',\n",
       "                 ColumnTransformer(remainder='passthrough',\n",
       "                                   transformers=[('cat',\n",
       "                                                  Pipeline(steps=[('onehotencoder',\n",
       "                                                                   OneHotEncoder(handle_unknown='ignore'))]),\n",
       "                                                  ['sexname', 'basecolour',\n",
       "                                                   'breedname',\n",
       "                                                   'intakereason']),\n",
       "                                                 ('num',\n",
       "                                                  Pipeline(steps=[('standardscaler',\n",
       "                                                                   StandardScaler())]),\n",
       "                                                  ['age(months)',\n",
       "                                                   'age(years)'])])),\n",
       "                ('classifier', RandomForestClassifier())])"
      ]
     },
     "execution_count": 60,
     "metadata": {},
     "output_type": "execute_result"
    }
   ],
   "source": [
    "cat_forest_model.fit(X_train_cat, y_train_cat)"
   ]
  },
  {
   "cell_type": "code",
   "execution_count": 61,
   "metadata": {},
   "outputs": [
    {
     "name": "stdout",
     "output_type": "stream",
     "text": [
      "Training Scores:\n",
      "Train Accuracy: 0.7735550277117973\n",
      "Train Precision: 0.7982093663911846\n",
      "Train Recall: 0.6722737819025522\n",
      "Train F1-Score: 0.7298488664987406\n",
      "ROC-AUC: 0.5362527233115468\n",
      "**********\n",
      "Testing Scores:\n",
      "Test Accuracy: 0.569620253164557\n",
      "Test Precision: 0.5341365461847389\n",
      "Test Recall: 0.4602076124567474\n",
      "Test F1-Score: 0.4944237918215614\n",
      "ROC-AUC: 0.5494064331806315\n"
     ]
    },
    {
     "data": {
      "image/png": "[encoded data removed]",
      "text/plain": [
       "<Figure size 432x288 with 2 Axes>"
      ]
     },
     "metadata": {
      "needs_background": "light"
     },
     "output_type": "display_data"
    }
   ],
   "source": [
    "evaluate(cat_forest_model, X_train_cat, X_test_cat, y_train_cat, y_test_cat, 'proba')"
   ]
  },
  {
   "cell_type": "markdown",
   "metadata": {},
   "source": [
    "#### Simple Random Forest Evaluation\n",
    "\n",
    "\n",
    "- It performs slightly worse than our decision tree model on test data\n",
    "- Its alot better at predicting which cats get adopted in less than a month. \n",
    "- It is couple points worse at predicting the cats that take longer to get adopted thant the decision tree resulting in a higher false positive rate."
   ]
  },
  {
   "cell_type": "markdown",
   "metadata": {},
   "source": [
    "#### Dog Forest Model"
   ]
  },
  {
   "cell_type": "code",
   "execution_count": 62,
   "metadata": {},
   "outputs": [],
   "source": [
    "dog_forest_model = Pipeline(steps=[\n",
    "    ('preprocessor', preprocessor),\n",
    "    ('classifier', RandomForestClassifier())\n",
    "])"
   ]
  },
  {
   "cell_type": "code",
   "execution_count": 63,
   "metadata": {},
   "outputs": [
    {
     "data": {
      "text/plain": [
       "{'fit_time': array([0.45743513, 0.47102547, 0.48114371, 0.46405268, 0.4560473 ]),\n",
       " 'score_time': array([0.02400279, 0.01573277, 0.0237751 , 0.02400136, 0.01600385]),\n",
       " 'test_score': array([0.64640884, 0.66298343, 0.6519337 , 0.64917127, 0.61325967]),\n",
       " 'train_score': array([0.95787293, 0.96063536, 0.96339779, 0.95994475, 0.96685083])}"
      ]
     },
     "execution_count": 63,
     "metadata": {},
     "output_type": "execute_result"
    }
   ],
   "source": [
    "cross_validate(dog_forest_model, X_train, y_train, return_train_score=True)"
   ]
  },
  {
   "cell_type": "code",
   "execution_count": 64,
   "metadata": {},
   "outputs": [
    {
     "data": {
      "text/plain": [
       "Pipeline(steps=[('preprocessor',\n",
       "                 ColumnTransformer(remainder='passthrough',\n",
       "                                   transformers=[('cat',\n",
       "                                                  Pipeline(steps=[('onehotencoder',\n",
       "                                                                   OneHotEncoder(handle_unknown='ignore'))]),\n",
       "                                                  ['sexname', 'basecolour',\n",
       "                                                   'breedname',\n",
       "                                                   'intakereason']),\n",
       "                                                 ('num',\n",
       "                                                  Pipeline(steps=[('standardscaler',\n",
       "                                                                   StandardScaler())]),\n",
       "                                                  ['age(months)',\n",
       "                                                   'age(years)'])])),\n",
       "                ('classifier', RandomForestClassifier())])"
      ]
     },
     "execution_count": 64,
     "metadata": {},
     "output_type": "execute_result"
    }
   ],
   "source": [
    "dog_forest_model.fit(X_train, y_train)"
   ]
  },
  {
   "cell_type": "code",
   "execution_count": 65,
   "metadata": {},
   "outputs": [
    {
     "name": "stdout",
     "output_type": "stream",
     "text": [
      "Training Scores:\n",
      "Train Accuracy: 0.9558011049723757\n",
      "Train Precision: 0.9507545671167593\n",
      "Train Recall: 0.9851851851851852\n",
      "Train F1-Score: 0.9676637025060629\n",
      "**********\n",
      "Testing Scores:\n",
      "Test Accuracy: 0.6374172185430463\n",
      "Test Precision: 0.7019867549668874\n",
      "Test Recall: 0.7910447761194029\n",
      "Test F1-Score: 0.743859649122807\n"
     ]
    },
    {
     "data": {
      "image/png": "[encoded data removed]",
      "text/plain": [
       "<Figure size 432x288 with 2 Axes>"
      ]
     },
     "metadata": {
      "needs_background": "light"
     },
     "output_type": "display_data"
    }
   ],
   "source": [
    "evaluate(dog_forest_model, X_train, X_test, y_train, y_test)"
   ]
  },
  {
   "cell_type": "markdown",
   "metadata": {},
   "source": [
    "- This model is 4 points better than the decision tree that we used for dog predictions when evaluated on accuracy score.\n",
    "- Precsion score dropped by a significant amount.\n",
    "- Very good at predicting dogs that get adopted in less than a month.\n",
    "- There is a class imbalance issue favoring dogs that get adopted in less than a month.\n",
    "- False positive rate is almost 70% which is way too high for what we are trying to accomplish."
   ]
  },
  {
   "cell_type": "markdown",
   "metadata": {},
   "source": [
    "### Knn Models"
   ]
  },
  {
   "cell_type": "markdown",
   "metadata": {},
   "source": [
    "#### Dog KNN Model"
   ]
  },
  {
   "cell_type": "code",
   "execution_count": 66,
   "metadata": {},
   "outputs": [],
   "source": [
    "dog_knn = Pipeline(steps=[\n",
    "    ('preprocessor', preprocessor),\n",
    "    ('classifier', KNeighborsClassifier())\n",
    "])"
   ]
  },
  {
   "cell_type": "code",
   "execution_count": 67,
   "metadata": {},
   "outputs": [
    {
     "data": {
      "text/plain": [
       "{'fit_time': array([0.00799799, 0.01057649, 0.01602554, 0.00808549, 0.02069902]),\n",
       " 'score_time': array([0.04000735, 0.04046535, 0.031991  , 0.04012465, 0.03581405]),\n",
       " 'test_score': array([0.69285714, 0.71326165, 0.69655172, 0.68864469, 0.72426471]),\n",
       " 'train_score': array([0.77846975, 0.77280859, 0.77488789, 0.76828194, 0.78507194])}"
      ]
     },
     "execution_count": 67,
     "metadata": {},
     "output_type": "execute_result"
    }
   ],
   "source": [
    "# I want to focus on higher precision scores because a higher precision score will result in a lower false positive rate.\n",
    "cross_validate(dog_knn, X_train, y_train, scoring='precision', return_train_score='true')"
   ]
  },
  {
   "cell_type": "code",
   "execution_count": 68,
   "metadata": {},
   "outputs": [
    {
     "data": {
      "text/plain": [
       "Pipeline(steps=[('preprocessor',\n",
       "                 ColumnTransformer(remainder='passthrough',\n",
       "                                   transformers=[('cat',\n",
       "                                                  Pipeline(steps=[('onehotencoder',\n",
       "                                                                   OneHotEncoder(handle_unknown='ignore'))]),\n",
       "                                                  ['sexname', 'basecolour',\n",
       "                                                   'breedname',\n",
       "                                                   'intakereason']),\n",
       "                                                 ('num',\n",
       "                                                  Pipeline(steps=[('standardscaler',\n",
       "                                                                   StandardScaler())]),\n",
       "                                                  ['age(months)',\n",
       "                                                   'age(years)'])])),\n",
       "                ('classifier', KNeighborsClassifier())])"
      ]
     },
     "execution_count": 68,
     "metadata": {},
     "output_type": "execute_result"
    }
   ],
   "source": [
    "dog_knn.fit(X_train, y_train)"
   ]
  },
  {
   "cell_type": "code",
   "execution_count": 69,
   "metadata": {
    "scrolled": false
   },
   "outputs": [
    {
     "name": "stdout",
     "output_type": "stream",
     "text": [
      "Training Scores:\n",
      "Train Accuracy: 0.7591160220994475\n",
      "Train Precision: 0.7792114695340502\n",
      "Train Recall: 0.8946502057613168\n",
      "Train F1-Score: 0.8329501915708811\n",
      "**********\n",
      "Testing Scores:\n",
      "Test Accuracy: 0.6241721854304636\n",
      "Test Precision: 0.6881720430107527\n",
      "Test Recall: 0.7960199004975125\n",
      "Test F1-Score: 0.7381776239907727\n"
     ]
    },
    {
     "data": {
      "image/png": "[encoded data removed]",
      "text/plain": [
       "<Figure size 432x288 with 2 Axes>"
      ]
     },
     "metadata": {
      "needs_background": "light"
     },
     "output_type": "display_data"
    }
   ],
   "source": [
    "evaluate(dog_knn, X_train, X_test, y_train, y_test)"
   ]
  },
  {
   "cell_type": "markdown",
   "metadata": {},
   "source": [
    "##### Knn Dog Model evaluation\n",
    "\n",
    "- A little overfit but again it is very good at predicting the dogs that get adopted on time.\n",
    "- False Positive rate is .72 which is very high.\n",
    "- Again i think the class imbalance is affecting the false positive rate"
   ]
  },
  {
   "cell_type": "markdown",
   "metadata": {},
   "source": [
    "#### Cat KNN"
   ]
  },
  {
   "cell_type": "code",
   "execution_count": 70,
   "metadata": {},
   "outputs": [],
   "source": [
    "cat_knn = Pipeline(steps=[\n",
    "    ('preprocessor', preprocessor),\n",
    "    ('classifier', KNeighborsClassifier())\n",
    "])"
   ]
  },
  {
   "cell_type": "code",
   "execution_count": 71,
   "metadata": {},
   "outputs": [
    {
     "data": {
      "text/plain": [
       "{'fit_time': array([0.01598215, 0.01600528, 0.00799346, 0.00800228, 0.01600862]),\n",
       " 'score_time': array([0.11346102, 0.12002444, 0.12788796, 0.12001109, 0.12000513]),\n",
       " 'test_score': array([0.51987768, 0.50769231, 0.51428571, 0.485623  , 0.49707602]),\n",
       " 'train_score': array([0.65539452, 0.67412935, 0.64912281, 0.67833333, 0.64889566])}"
      ]
     },
     "execution_count": 71,
     "metadata": {},
     "output_type": "execute_result"
    }
   ],
   "source": [
    "cross_validate(cat_knn, X_train_cat, y_train_cat, scoring='precision', return_train_score='true')"
   ]
  },
  {
   "cell_type": "code",
   "execution_count": 72,
   "metadata": {},
   "outputs": [
    {
     "data": {
      "text/plain": [
       "Pipeline(steps=[('preprocessor',\n",
       "                 ColumnTransformer(remainder='passthrough',\n",
       "                                   transformers=[('cat',\n",
       "                                                  Pipeline(steps=[('onehotencoder',\n",
       "                                                                   OneHotEncoder(handle_unknown='ignore'))]),\n",
       "                                                  ['sexname', 'basecolour',\n",
       "                                                   'breedname',\n",
       "                                                   'intakereason']),\n",
       "                                                 ('num',\n",
       "                                                  Pipeline(steps=[('standardscaler',\n",
       "                                                                   StandardScaler())]),\n",
       "                                                  ['age(months)',\n",
       "                                                   'age(years)'])])),\n",
       "                ('classifier', KNeighborsClassifier())])"
      ]
     },
     "execution_count": 72,
     "metadata": {},
     "output_type": "execute_result"
    }
   ],
   "source": [
    "cat_knn.fit(X_train_cat, y_train_cat)"
   ]
  },
  {
   "cell_type": "code",
   "execution_count": 73,
   "metadata": {},
   "outputs": [
    {
     "name": "stdout",
     "output_type": "stream",
     "text": [
      "Training Scores:\n",
      "Train Accuracy: 0.6637635259963051\n",
      "Train Precision: 0.6466753585397653\n",
      "Train Recall: 0.5754060324825986\n",
      "Train F1-Score: 0.6089625537139348\n",
      "**********\n",
      "Testing Scores:\n",
      "Test Accuracy: 0.5443037974683544\n",
      "Test Precision: 0.502127659574468\n",
      "Test Recall: 0.4083044982698962\n",
      "Test F1-Score: 0.45038167938931295\n"
     ]
    },
    {
     "data": {
      "image/png": "[encoded data removed]",
      "text/plain": [
       "<Figure size 432x288 with 2 Axes>"
      ]
     },
     "metadata": {
      "needs_background": "light"
     },
     "output_type": "display_data"
    }
   ],
   "source": [
    "evaluate(cat_knn, X_train_cat, X_test_cat, y_train_cat, y_test_cat)"
   ]
  },
  {
   "cell_type": "markdown",
   "metadata": {},
   "source": [
    "#### Cat KNN Evaluation\n",
    "\n",
    "- Lower false positive rate of 34%\n",
    "- It is pretty good at classifying cats that take longer than a month to get adopted\n",
    "- precision and accuracy scores on test data are low only around 50 percent\n",
    "- knn model is also performing better on training data"
   ]
  },
  {
   "cell_type": "markdown",
   "metadata": {},
   "source": [
    "### Logistic Regression"
   ]
  },
  {
   "cell_type": "markdown",
   "metadata": {},
   "source": [
    "#### Dog Logistic model"
   ]
  },
  {
   "cell_type": "code",
   "execution_count": 74,
   "metadata": {},
   "outputs": [],
   "source": [
    "dog_log = Pipeline(steps=[\n",
    "    ('preprocessor', preprocessor),\n",
    "    ('classifier', LogisticRegression())\n",
    "])"
   ]
  },
  {
   "cell_type": "code",
   "execution_count": 75,
   "metadata": {},
   "outputs": [
    {
     "data": {
      "text/plain": [
       "{'fit_time': array([0.04802179, 0.0399797 , 0.03199792, 0.04124522, 0.04000449]),\n",
       " 'score_time': array([0.00800633, 0.00802302, 0.00800586, 0.        , 0.00811148]),\n",
       " 'test_score': array([0.6993865 , 0.70807453, 0.67692308, 0.68195719, 0.70347003]),\n",
       " 'train_score': array([0.70338983, 0.6994701 , 0.7154213 , 0.70592764, 0.70307692])}"
      ]
     },
     "execution_count": 75,
     "metadata": {},
     "output_type": "execute_result"
    }
   ],
   "source": [
    "cross_validate(dog_log, X_train, y_train, scoring='precision', return_train_score='true')"
   ]
  },
  {
   "cell_type": "code",
   "execution_count": 76,
   "metadata": {},
   "outputs": [
    {
     "data": {
      "text/plain": [
       "Pipeline(steps=[('preprocessor',\n",
       "                 ColumnTransformer(remainder='passthrough',\n",
       "                                   transformers=[('cat',\n",
       "                                                  Pipeline(steps=[('onehotencoder',\n",
       "                                                                   OneHotEncoder(handle_unknown='ignore'))]),\n",
       "                                                  ['sexname', 'basecolour',\n",
       "                                                   'breedname',\n",
       "                                                   'intakereason']),\n",
       "                                                 ('num',\n",
       "                                                  Pipeline(steps=[('standardscaler',\n",
       "                                                                   StandardScaler())]),\n",
       "                                                  ['age(months)',\n",
       "                                                   'age(years)'])])),\n",
       "                ('classifier', LogisticRegression())])"
      ]
     },
     "execution_count": 76,
     "metadata": {},
     "output_type": "execute_result"
    }
   ],
   "source": [
    "dog_log.fit(X_train, y_train)"
   ]
  },
  {
   "cell_type": "code",
   "execution_count": 77,
   "metadata": {},
   "outputs": [
    {
     "name": "stdout",
     "output_type": "stream",
     "text": [
      "Training Scores:\n",
      "Train Accuracy: 0.6917127071823205\n",
      "Train Precision: 0.7029030265596047\n",
      "Train Recall: 0.9366255144032922\n",
      "Train F1-Score: 0.8031051517290049\n",
      "**********\n",
      "Testing Scores:\n",
      "Test Accuracy: 0.6804635761589404\n",
      "Test Precision: 0.6960600375234521\n",
      "Test Recall: 0.9228855721393034\n",
      "Test F1-Score: 0.7935828877005349\n"
     ]
    },
    {
     "data": {
      "image/png": "[encoded data removed]",
      "text/plain": [
       "<Figure size 432x288 with 2 Axes>"
      ]
     },
     "metadata": {
      "needs_background": "light"
     },
     "output_type": "display_data"
    }
   ],
   "source": [
    "evaluate(dog_log, X_train, X_test, y_train, y_test)"
   ]
  },
  {
   "cell_type": "markdown",
   "metadata": {},
   "source": [
    "##### Dog Logistic Regression Evaluation\n",
    "\n",
    "- Very similar to our other dog models when looking at false positive rates\n",
    "- The good thing about this model is that it is not overfit, it performs similarly on both test and training data\n",
    "- This model gives us our best predictions on True Positives"
   ]
  },
  {
   "cell_type": "markdown",
   "metadata": {},
   "source": [
    "##### Cat Logistic Regression Model "
   ]
  },
  {
   "cell_type": "code",
   "execution_count": 78,
   "metadata": {},
   "outputs": [],
   "source": [
    "cat_log = Pipeline(steps=[\n",
    "    ('preprocessor', preprocessor),\n",
    "    ('classifier', LogisticRegression())\n",
    "])"
   ]
  },
  {
   "cell_type": "code",
   "execution_count": 79,
   "metadata": {},
   "outputs": [
    {
     "data": {
      "text/plain": [
       "{'fit_time': array([0.05602765, 0.05794477, 0.05406404, 0.05602312, 0.04866648]),\n",
       " 'score_time': array([0.0080018 , 0.0080049 , 0.00800276, 0.        , 0.00800014]),\n",
       " 'test_score': array([0.54347826, 0.54696133, 0.55778894, 0.56603774, 0.57446809]),\n",
       " 'train_score': array([0.61138614, 0.59574468, 0.57718894, 0.6       , 0.60892388])}"
      ]
     },
     "execution_count": 79,
     "metadata": {},
     "output_type": "execute_result"
    }
   ],
   "source": [
    "cross_validate(cat_log, X_train_cat, y_train_cat, scoring='precision', return_train_score='true')"
   ]
  },
  {
   "cell_type": "code",
   "execution_count": 80,
   "metadata": {},
   "outputs": [
    {
     "data": {
      "text/plain": [
       "Pipeline(steps=[('preprocessor',\n",
       "                 ColumnTransformer(remainder='passthrough',\n",
       "                                   transformers=[('cat',\n",
       "                                                  Pipeline(steps=[('onehotencoder',\n",
       "                                                                   OneHotEncoder(handle_unknown='ignore'))]),\n",
       "                                                  ['sexname', 'basecolour',\n",
       "                                                   'breedname',\n",
       "                                                   'intakereason']),\n",
       "                                                 ('num',\n",
       "                                                  Pipeline(steps=[('standardscaler',\n",
       "                                                                   StandardScaler())]),\n",
       "                                                  ['age(months)',\n",
       "                                                   'age(years)'])])),\n",
       "                ('classifier', LogisticRegression())])"
      ]
     },
     "execution_count": 80,
     "metadata": {},
     "output_type": "execute_result"
    }
   ],
   "source": [
    "cat_log.fit(X_train_cat, y_train_cat)"
   ]
  },
  {
   "cell_type": "code",
   "execution_count": 81,
   "metadata": {},
   "outputs": [
    {
     "name": "stdout",
     "output_type": "stream",
     "text": [
      "Training Scores:\n",
      "Train Accuracy: 0.5964634468197414\n",
      "Train Precision: 0.6040554962646745\n",
      "Train Recall: 0.32830626450116007\n",
      "Train F1-Score: 0.4254039834648628\n",
      "ROC-AUC: 0.5489220873534599\n",
      "**********\n",
      "Testing Scores:\n",
      "Test Accuracy: 0.5775316455696202\n",
      "Test Precision: 0.5666666666666667\n",
      "Test Recall: 0.3235294117647059\n",
      "Test F1-Score: 0.41189427312775334\n",
      "ROC-AUC: 0.5777732624008669\n"
     ]
    },
    {
     "data": {
      "image/png": "[encoded data removed]",
      "text/plain": [
       "<Figure size 432x288 with 2 Axes>"
      ]
     },
     "metadata": {
      "needs_background": "light"
     },
     "output_type": "display_data"
    }
   ],
   "source": [
    "evaluate(cat_log, X_train_cat, X_test_cat, y_train_cat, y_test_cat, 'proba')"
   ]
  },
  {
   "cell_type": "markdown",
   "metadata": {},
   "source": [
    "#### Cat Logistic Regression evaluation\n",
    "\n",
    "- Logistic Regression gives us our lowest false positive rate for cats, we got it down to almost 20 percent here.\n",
    "- Also the model performs similarly on training and test data.\n",
    "- This is our best model yet for accurately predicting which cats wont be adopted within a month."
   ]
  },
  {
   "cell_type": "markdown",
   "metadata": {},
   "source": [
    "### XGBboost Models"
   ]
  },
  {
   "cell_type": "markdown",
   "metadata": {},
   "source": [
    "#### Dog Model "
   ]
  },
  {
   "cell_type": "code",
   "execution_count": 82,
   "metadata": {},
   "outputs": [],
   "source": [
    "xgb_dog = Pipeline(steps=[\n",
    "    ('preprocessor', preprocessor),\n",
    "    ('classifier', XGBClassifier())\n",
    "])"
   ]
  },
  {
   "cell_type": "code",
   "execution_count": 83,
   "metadata": {},
   "outputs": [
    {
     "data": {
      "text/plain": [
       "{'fit_time': array([0.0719974 , 0.06400418, 0.06574059, 0.056005  , 0.05600452]),\n",
       " 'score_time': array([0.00800085, 0.01600385, 0.00800157, 0.01600289, 0.0080018 ]),\n",
       " 'test_score': array([0.70408163, 0.69257951, 0.69520548, 0.71481481, 0.70037453]),\n",
       " 'train_score': array([0.84003575, 0.8240985 , 0.82728078, 0.82685512, 0.8321492 ])}"
      ]
     },
     "execution_count": 83,
     "metadata": {},
     "output_type": "execute_result"
    }
   ],
   "source": [
    "cross_validate(xgb_dog, X_train, y_train, scoring='precision', return_train_score='true')"
   ]
  },
  {
   "cell_type": "code",
   "execution_count": 84,
   "metadata": {},
   "outputs": [
    {
     "data": {
      "text/plain": [
       "Pipeline(steps=[('preprocessor',\n",
       "                 ColumnTransformer(remainder='passthrough',\n",
       "                                   transformers=[('cat',\n",
       "                                                  Pipeline(steps=[('onehotencoder',\n",
       "                                                                   OneHotEncoder(handle_unknown='ignore'))]),\n",
       "                                                  ['sexname', 'basecolour',\n",
       "                                                   'breedname',\n",
       "                                                   'intakereason']),\n",
       "                                                 ('num',\n",
       "                                                  Pipeline(steps=[('standardscaler',\n",
       "                                                                   StandardScaler())]),\n",
       "                                                  ['age(months)',\n",
       "                                                   'age(years)'])])),\n",
       "                ('classifier',\n",
       "                 XGBClassifier(base_...\n",
       "                               colsample_bytree=1, gamma=0, gpu_id=-1,\n",
       "                               importance_type='gain',\n",
       "                               interaction_constraints='',\n",
       "                               learning_rate=0.300000012, max_delta_step=0,\n",
       "                               max_depth=6, min_child_weight=1, missing=nan,\n",
       "                               monotone_constraints='()', n_estimators=100,\n",
       "                               n_jobs=0, num_parallel_tree=1, random_state=0,\n",
       "                               reg_alpha=0, reg_lambda=1, scale_pos_weight=1,\n",
       "                               subsample=1, tree_method='exact',\n",
       "                               validate_parameters=1, verbosity=None))])"
      ]
     },
     "execution_count": 84,
     "metadata": {},
     "output_type": "execute_result"
    }
   ],
   "source": [
    "xgb_dog.fit(X_train, y_train)"
   ]
  },
  {
   "cell_type": "code",
   "execution_count": 85,
   "metadata": {},
   "outputs": [
    {
     "name": "stdout",
     "output_type": "stream",
     "text": [
      "Training Scores:\n",
      "Train Accuracy: 0.8337016574585635\n",
      "Train Precision: 0.8222849083215797\n",
      "Train Recall: 0.9596707818930041\n",
      "Train F1-Score: 0.885681731864793\n",
      "**********\n",
      "Testing Scores:\n",
      "Test Accuracy: 0.6622516556291391\n",
      "Test Precision: 0.7012195121951219\n",
      "Test Recall: 0.8582089552238806\n",
      "Test F1-Score: 0.7718120805369126\n"
     ]
    },
    {
     "data": {
      "image/png": "[encoded data removed]",
      "text/plain": [
       "<Figure size 432x288 with 2 Axes>"
      ]
     },
     "metadata": {
      "needs_background": "light"
     },
     "output_type": "display_data"
    }
   ],
   "source": [
    "evaluate(xgb_dog, X_train, X_test, y_train, y_test)"
   ]
  },
  {
   "cell_type": "markdown",
   "metadata": {},
   "source": [
    "##### Model Evaluation\n",
    "\n",
    "- Model is very overfit\n",
    "- False Positive rate is very high(73%)\n",
    "- Very good at classifying the dogs that dont have trouble getting adopted"
   ]
  },
  {
   "cell_type": "markdown",
   "metadata": {},
   "source": [
    "### Cat XGBboost Model"
   ]
  },
  {
   "cell_type": "code",
   "execution_count": 86,
   "metadata": {},
   "outputs": [],
   "source": [
    "xgb_cat = Pipeline(steps=[\n",
    "    ('preprocessor', preprocessor),\n",
    "    ('classifier', XGBClassifier())\n",
    "])"
   ]
  },
  {
   "cell_type": "code",
   "execution_count": 87,
   "metadata": {},
   "outputs": [
    {
     "data": {
      "text/plain": [
       "{'fit_time': array([0.08800554, 0.08000708, 0.08000779, 0.07200718, 0.07200718]),\n",
       " 'score_time': array([0.01600385, 0.01600289, 0.01600289, 0.00800085, 0.00800109]),\n",
       " 'test_score': array([0.53281853, 0.51153846, 0.56862745, 0.51485149, 0.55102041]),\n",
       " 'train_score': array([0.76328052, 0.74303684, 0.72687225, 0.73539519, 0.73487544])}"
      ]
     },
     "execution_count": 87,
     "metadata": {},
     "output_type": "execute_result"
    }
   ],
   "source": [
    "cross_validate(xgb_cat, X_train_cat, y_train_cat, scoring='precision', return_train_score='true')"
   ]
  },
  {
   "cell_type": "code",
   "execution_count": 88,
   "metadata": {},
   "outputs": [
    {
     "data": {
      "text/plain": [
       "Pipeline(steps=[('preprocessor',\n",
       "                 ColumnTransformer(remainder='passthrough',\n",
       "                                   transformers=[('cat',\n",
       "                                                  Pipeline(steps=[('onehotencoder',\n",
       "                                                                   OneHotEncoder(handle_unknown='ignore'))]),\n",
       "                                                  ['sexname', 'basecolour',\n",
       "                                                   'breedname',\n",
       "                                                   'intakereason']),\n",
       "                                                 ('num',\n",
       "                                                  Pipeline(steps=[('standardscaler',\n",
       "                                                                   StandardScaler())]),\n",
       "                                                  ['age(months)',\n",
       "                                                   'age(years)'])])),\n",
       "                ('classifier',\n",
       "                 XGBClassifier(base_...\n",
       "                               colsample_bytree=1, gamma=0, gpu_id=-1,\n",
       "                               importance_type='gain',\n",
       "                               interaction_constraints='',\n",
       "                               learning_rate=0.300000012, max_delta_step=0,\n",
       "                               max_depth=6, min_child_weight=1, missing=nan,\n",
       "                               monotone_constraints='()', n_estimators=100,\n",
       "                               n_jobs=0, num_parallel_tree=1, random_state=0,\n",
       "                               reg_alpha=0, reg_lambda=1, scale_pos_weight=1,\n",
       "                               subsample=1, tree_method='exact',\n",
       "                               validate_parameters=1, verbosity=None))])"
      ]
     },
     "execution_count": 88,
     "metadata": {},
     "output_type": "execute_result"
    }
   ],
   "source": [
    "xgb_cat.fit(X_train_cat, y_train_cat)"
   ]
  },
  {
   "cell_type": "code",
   "execution_count": 89,
   "metadata": {},
   "outputs": [
    {
     "name": "stdout",
     "output_type": "stream",
     "text": [
      "Training Scores:\n",
      "Train Accuracy: 0.7102137767220903\n",
      "Train Precision: 0.7325408618127786\n",
      "Train Recall: 0.5719257540603249\n",
      "Train F1-Score: 0.6423452768729643\n",
      "ROC-AUC: 0.5199813258636787\n",
      "**********\n",
      "Testing Scores:\n",
      "Test Accuracy: 0.5783227848101266\n",
      "Test Precision: 0.5507900677200903\n",
      "Test Recall: 0.42214532871972316\n",
      "Test F1-Score: 0.4779627815866797\n",
      "ROC-AUC: 0.5179609378848332\n"
     ]
    },
    {
     "data": {
      "image/png": "[encoded data removed]",
      "text/plain": [
       "<Figure size 432x288 with 2 Axes>"
      ]
     },
     "metadata": {
      "needs_background": "light"
     },
     "output_type": "display_data"
    }
   ],
   "source": [
    "evaluate(xgb_cat, X_train_cat, X_test_cat, y_train_cat, y_test_cat, 'proba')"
   ]
  },
  {
   "cell_type": "markdown",
   "metadata": {},
   "source": [
    "#### Model Evaluation\n",
    "\n",
    "- Higher false positive rate than the Logistic Model\n",
    "- Model is overfit\n",
    "- Has a higher true positive rate than the Logistic Model, but we are focusing on flase positives because we want the identify the pets that really need help getting adopted."
   ]
  },
  {
   "cell_type": "markdown",
   "metadata": {},
   "source": [
    "## Model Tuning/Select Final Models"
   ]
  },
  {
   "cell_type": "markdown",
   "metadata": {},
   "source": [
    "+ __Dog Predictions:__  The model that resulted in the lowest false positive rate was **Decision Tree** but it was very overfit\n",
    "+ __Cat Predictions:__  gave us the lowest false positive  was **Logistic Regression** and it performed equally on both training and testing data"
   ]
  },
  {
   "cell_type": "markdown",
   "metadata": {},
   "source": [
    "#### Dog Model"
   ]
  },
  {
   "cell_type": "code",
   "execution_count": 90,
   "metadata": {},
   "outputs": [],
   "source": [
    "# Adjust the max-depth to reduce overfitting for Decision tree\n",
    "\n",
    "dt_tuned = Pipeline(steps=[\n",
    "    ('preprocessor', preprocessor),\n",
    "    ('classifier', DecisionTreeClassifier(max_depth=5))\n",
    "])"
   ]
  },
  {
   "cell_type": "code",
   "execution_count": 91,
   "metadata": {},
   "outputs": [
    {
     "data": {
      "text/plain": [
       "{'fit_time': array([0.00799179, 0.00800633, 0.00799942, 0.00800037, 0.00800204]),\n",
       " 'score_time': array([0.00798488, 0.00801253, 0.00800109, 0.00800085, 0.00933933]),\n",
       " 'test_score': array([0.6978852 , 0.70858896, 0.68343195, 0.67987805, 0.68571429]),\n",
       " 'train_score': array([0.70842825, 0.7077728 , 0.70724421, 0.70278405, 0.71450858])}"
      ]
     },
     "execution_count": 91,
     "metadata": {},
     "output_type": "execute_result"
    }
   ],
   "source": [
    "cross_validate(dt_tuned, X_train, y_train, scoring='precision', return_train_score='true')"
   ]
  },
  {
   "cell_type": "markdown",
   "metadata": {},
   "source": [
    "- Great... training and test scores are alot closer than they were on our first decision tree."
   ]
  },
  {
   "cell_type": "code",
   "execution_count": 92,
   "metadata": {},
   "outputs": [
    {
     "data": {
      "text/plain": [
       "Pipeline(steps=[('preprocessor',\n",
       "                 ColumnTransformer(remainder='passthrough',\n",
       "                                   transformers=[('cat',\n",
       "                                                  Pipeline(steps=[('onehotencoder',\n",
       "                                                                   OneHotEncoder(handle_unknown='ignore'))]),\n",
       "                                                  ['sexname', 'basecolour',\n",
       "                                                   'breedname',\n",
       "                                                   'intakereason']),\n",
       "                                                 ('num',\n",
       "                                                  Pipeline(steps=[('standardscaler',\n",
       "                                                                   StandardScaler())]),\n",
       "                                                  ['age(months)',\n",
       "                                                   'age(years)'])])),\n",
       "                ('classifier', DecisionTreeClassifier(max_depth=5))])"
      ]
     },
     "execution_count": 92,
     "metadata": {},
     "output_type": "execute_result"
    }
   ],
   "source": [
    "dt_tuned.fit(X_train, y_train)"
   ]
  },
  {
   "cell_type": "code",
   "execution_count": 93,
   "metadata": {},
   "outputs": [
    {
     "name": "stdout",
     "output_type": "stream",
     "text": [
      "Training Scores:\n",
      "Train Accuracy: 0.7066298342541436\n",
      "Train Precision: 0.7085365853658536\n",
      "Train Recall: 0.9563786008230453\n",
      "Train F1-Score: 0.8140105078809107\n",
      "ROC-AUC: 0.6391105578033682\n",
      "**********\n",
      "Testing Scores:\n",
      "Test Accuracy: 0.6605960264900662\n",
      "Test Precision: 0.6854990583804144\n",
      "Test Recall: 0.9054726368159204\n",
      "Test F1-Score: 0.7802786709539121\n",
      "ROC-AUC: 0.5930003448106005\n"
     ]
    },
    {
     "data": {
      "image/png": "[encoded data removed]",
      "text/plain": [
       "<Figure size 432x288 with 2 Axes>"
      ]
     },
     "metadata": {
      "needs_background": "light"
     },
     "output_type": "display_data"
    }
   ],
   "source": [
    "evaluate(dt_tuned, X_train, X_test, y_train, y_test, 'proba')"
   ]
  },
  {
   "cell_type": "markdown",
   "metadata": {},
   "source": [
    "#### Model Evaluation "
   ]
  },
  {
   "cell_type": "markdown",
   "metadata": {},
   "source": [
    "- The model predicts dogs that get adopted on time at an extremely high rate, but also has a false positive rate of 82%\n",
    "- It performs similarly on both test and train data\n",
    "- Not really useful for our mission of identifying dogs that need help getting adopted "
   ]
  },
  {
   "cell_type": "code",
   "execution_count": 94,
   "metadata": {},
   "outputs": [
    {
     "data": {
      "text/plain": [
       "GridSearchCV(cv=10,\n",
       "             estimator=Pipeline(steps=[('preprocessor',\n",
       "                                        ColumnTransformer(remainder='passthrough',\n",
       "                                                          transformers=[('cat',\n",
       "                                                                         Pipeline(steps=[('onehotencoder',\n",
       "                                                                                          OneHotEncoder(handle_unknown='ignore'))]),\n",
       "                                                                         ['sexname',\n",
       "                                                                          'basecolour',\n",
       "                                                                          'breedname',\n",
       "                                                                          'intakereason']),\n",
       "                                                                        ('num',\n",
       "                                                                         Pipeline(steps=[('standardscaler',\n",
       "                                                                                          StandardScaler())]),\n",
       "                                                                         ['age(months)',\n",
       "                                                                          'age(years)'])])),\n",
       "                                       ('classifier',\n",
       "                                        DecisionTreeClassifier())]),\n",
       "             param_grid=[{'classifier__max_depth': [1, 2, 3, 4, 5, 6, 7, 8, 9,\n",
       "                                                    10, 11],\n",
       "                          'classifier__min_samples_leaf': [1, 5, 10, 20, 50,\n",
       "                                                           100]}],\n",
       "             scoring='precision')"
      ]
     },
     "execution_count": 94,
     "metadata": {},
     "output_type": "execute_result"
    }
   ],
   "source": [
    "# Try a grid search to see if I can improve the model\n",
    "# I dont want the max depth to go to high, so I cap it at 11, to prevent overfitting\n",
    "num_leafs = [1, 5, 10, 20, 50, 100]\n",
    "depths = [1, 2, 3, 4, 5, 6, 7 ,8 ,9, 10, 11]\n",
    "\n",
    "param_grid = [{'classifier__max_depth':depths,\n",
    "              'classifier__min_samples_leaf':num_leafs}]\n",
    "\n",
    "gs = GridSearchCV(estimator=dt_simple_model, param_grid=param_grid, scoring='precision', cv=10)\n",
    "gs.fit(X_train, y_train)"
   ]
  },
  {
   "cell_type": "code",
   "execution_count": 95,
   "metadata": {},
   "outputs": [
    {
     "data": {
      "text/plain": [
       "{'classifier__max_depth': 10, 'classifier__min_samples_leaf': 10}"
      ]
     },
     "execution_count": 95,
     "metadata": {},
     "output_type": "execute_result"
    }
   ],
   "source": [
    "gs.best_params_"
   ]
  },
  {
   "cell_type": "code",
   "execution_count": 96,
   "metadata": {},
   "outputs": [
    {
     "data": {
      "text/plain": [
       "0.6992524530760559"
      ]
     },
     "execution_count": 96,
     "metadata": {},
     "output_type": "execute_result"
    }
   ],
   "source": [
    "gs.best_score_"
   ]
  },
  {
   "cell_type": "code",
   "execution_count": 97,
   "metadata": {},
   "outputs": [],
   "source": [
    "dt_gs = Pipeline(steps=[\n",
    "    ('preprocessor', preprocessor),\n",
    "    ('classifier', DecisionTreeClassifier(max_depth=10, min_samples_leaf=10))\n",
    "])"
   ]
  },
  {
   "cell_type": "code",
   "execution_count": 98,
   "metadata": {},
   "outputs": [
    {
     "data": {
      "text/plain": [
       "{'fit_time': array([0.01601624, 0.01597905, 0.00799608, 0.01600146, 0.00800562]),\n",
       " 'score_time': array([0.00799155, 0.00800991, 0.00800562, 0.00798368, 0.01068354]),\n",
       " 'test_score': array([0.6977492 , 0.7114094 , 0.68253968, 0.68571429, 0.69283276]),\n",
       " 'train_score': array([0.73233583, 0.73013245, 0.73894912, 0.72083981, 0.73693086])}"
      ]
     },
     "execution_count": 98,
     "metadata": {},
     "output_type": "execute_result"
    }
   ],
   "source": [
    "cross_validate(dt_gs, X_train, y_train, scoring='precision', return_train_score='true')"
   ]
  },
  {
   "cell_type": "code",
   "execution_count": 99,
   "metadata": {},
   "outputs": [
    {
     "data": {
      "text/plain": [
       "Pipeline(steps=[('preprocessor',\n",
       "                 ColumnTransformer(remainder='passthrough',\n",
       "                                   transformers=[('cat',\n",
       "                                                  Pipeline(steps=[('onehotencoder',\n",
       "                                                                   OneHotEncoder(handle_unknown='ignore'))]),\n",
       "                                                  ['sexname', 'basecolour',\n",
       "                                                   'breedname',\n",
       "                                                   'intakereason']),\n",
       "                                                 ('num',\n",
       "                                                  Pipeline(steps=[('standardscaler',\n",
       "                                                                   StandardScaler())]),\n",
       "                                                  ['age(months)',\n",
       "                                                   'age(years)'])])),\n",
       "                ('classifier',\n",
       "                 DecisionTreeClassifier(max_depth=10, min_samples_leaf=10))])"
      ]
     },
     "execution_count": 99,
     "metadata": {},
     "output_type": "execute_result"
    }
   ],
   "source": [
    "dt_gs.fit(X_train, y_train)"
   ]
  },
  {
   "cell_type": "code",
   "execution_count": 100,
   "metadata": {},
   "outputs": [
    {
     "name": "stdout",
     "output_type": "stream",
     "text": [
      "Training Scores:\n",
      "Train Accuracy: 0.7198895027624309\n",
      "Train Precision: 0.7289780077619664\n",
      "Train Recall: 0.9275720164609054\n",
      "Train F1-Score: 0.8163708801159\n",
      "ROC-AUC: 0.6928816958882318\n",
      "**********\n",
      "Testing Scores:\n",
      "Test Accuracy: 0.6721854304635762\n",
      "Test Precision: 0.703187250996016\n",
      "Test Recall: 0.8781094527363185\n",
      "Test F1-Score: 0.7809734513274336\n",
      "ROC-AUC: 0.5932835820895522\n"
     ]
    },
    {
     "data": {
      "image/png": "[encoded data removed]",
      "text/plain": [
       "<Figure size 432x288 with 2 Axes>"
      ]
     },
     "metadata": {
      "needs_background": "light"
     },
     "output_type": "display_data"
    }
   ],
   "source": [
    "evaluate(dt_gs, X_train, X_test, y_train, y_test, roc_auc='proba')"
   ]
  },
  {
   "cell_type": "markdown",
   "metadata": {},
   "source": [
    "#### Grid Searched Decision Tree Evaluation\n",
    "\n",
    "- False positive rate dropped by 9 points which is good, but it is still too high.\n",
    "- The model is not overfit so that is a plus, it should perform similarly on unseen data.\n",
    "- Similarly to most of the dog models it performs equally"
   ]
  },
  {
   "cell_type": "code",
   "execution_count": 101,
   "metadata": {},
   "outputs": [
    {
     "name": "stdout",
     "output_type": "stream",
     "text": [
      "Fitting 10 folds for each of 36 candidates, totalling 360 fits\n"
     ]
    },
    {
     "name": "stderr",
     "output_type": "stream",
     "text": [
      "[Parallel(n_jobs=-1)]: Using backend LokyBackend with 16 concurrent workers.\n",
      "[Parallel(n_jobs=-1)]: Done  18 tasks      | elapsed:    3.4s\n",
      "[Parallel(n_jobs=-1)]: Done 224 tasks      | elapsed:    4.6s\n",
      "[Parallel(n_jobs=-1)]: Done 329 out of 360 | elapsed:    5.0s remaining:    0.4s\n",
      "[Parallel(n_jobs=-1)]: Done 360 out of 360 | elapsed:    5.1s finished\n"
     ]
    },
    {
     "data": {
      "text/plain": [
       "GridSearchCV(cv=10,\n",
       "             estimator=Pipeline(steps=[('preprocessor',\n",
       "                                        ColumnTransformer(remainder='passthrough',\n",
       "                                                          transformers=[('cat',\n",
       "                                                                         Pipeline(steps=[('onehotencoder',\n",
       "                                                                                          OneHotEncoder(handle_unknown='ignore'))]),\n",
       "                                                                         ['sexname',\n",
       "                                                                          'basecolour',\n",
       "                                                                          'breedname',\n",
       "                                                                          'intakereason']),\n",
       "                                                                        ('num',\n",
       "                                                                         Pipeline(steps=[('standardscaler',\n",
       "                                                                                          StandardScaler())]),\n",
       "                                                                         ['age(months)',\n",
       "                                                                          'age(years)'])])),\n",
       "                                       ('classifier', KNeighborsClassifier())]),\n",
       "             n_jobs=-1,\n",
       "             param_grid={'classifier__metric': ['euclidean', 'manhattan'],\n",
       "                         'classifier__n_neighbors': [3, 5, 7, 9, 11, 13, 15, 17,\n",
       "                                                     19],\n",
       "                         'classifier__weights': ['uniform', 'distance']},\n",
       "             scoring='precision', verbose=1)"
      ]
     },
     "execution_count": 101,
     "metadata": {},
     "output_type": "execute_result"
    }
   ],
   "source": [
    "param_grid = {\n",
    "    \"classifier__n_neighbors\": [3, 5, 7, 9, 11, 13, 15, 17, 19 ],\n",
    "    \"classifier__weights\": ['uniform', 'distance'],\n",
    "    \"classifier__metric\": ['euclidean', 'manhattan']\n",
    "}\n",
    "\n",
    "grid_search = GridSearchCV(dog_knn, param_grid, verbose=1, cv=10, n_jobs=-1, scoring='precision')\n",
    "grid_search.fit(X_train, y_train)"
   ]
  },
  {
   "cell_type": "code",
   "execution_count": 102,
   "metadata": {},
   "outputs": [
    {
     "data": {
      "text/plain": [
       "0.7076506476162756"
      ]
     },
     "execution_count": 102,
     "metadata": {},
     "output_type": "execute_result"
    }
   ],
   "source": [
    "grid_search.best_score_"
   ]
  },
  {
   "cell_type": "code",
   "execution_count": 103,
   "metadata": {},
   "outputs": [
    {
     "data": {
      "text/plain": [
       "{'classifier__metric': 'euclidean',\n",
       " 'classifier__n_neighbors': 3,\n",
       " 'classifier__weights': 'distance'}"
      ]
     },
     "execution_count": 103,
     "metadata": {},
     "output_type": "execute_result"
    }
   ],
   "source": [
    "grid_search.best_params_"
   ]
  },
  {
   "cell_type": "code",
   "execution_count": 104,
   "metadata": {},
   "outputs": [],
   "source": [
    "knn_tuned = Pipeline(steps=[\n",
    "    ('preprocessor', preprocessor),\n",
    "    ('classifier', KNeighborsClassifier(metric='euclidean', n_neighbors=3, weights='distance'))\n",
    "])"
   ]
  },
  {
   "cell_type": "code",
   "execution_count": 105,
   "metadata": {},
   "outputs": [
    {
     "data": {
      "text/plain": [
       "{'fit_time': array([0.0156455 , 0.00802374, 0.00800562, 0.00800061, 0.00800395]),\n",
       " 'score_time': array([0.02400327, 0.02400684, 0.02400398, 0.02400494, 0.03200269]),\n",
       " 'test_score': array([0.69795918, 0.7148289 , 0.7       , 0.70661157, 0.68359375]),\n",
       " 'train_score': array([0.98404255, 0.98412698, 0.98520085, 0.98308668, 0.98125   ])}"
      ]
     },
     "execution_count": 105,
     "metadata": {},
     "output_type": "execute_result"
    }
   ],
   "source": [
    "cross_validate(knn_tuned, X_train, y_train, scoring='precision', return_train_score='true')"
   ]
  },
  {
   "cell_type": "code",
   "execution_count": 106,
   "metadata": {},
   "outputs": [
    {
     "data": {
      "text/plain": [
       "Pipeline(steps=[('preprocessor',\n",
       "                 ColumnTransformer(remainder='passthrough',\n",
       "                                   transformers=[('cat',\n",
       "                                                  Pipeline(steps=[('onehotencoder',\n",
       "                                                                   OneHotEncoder(handle_unknown='ignore'))]),\n",
       "                                                  ['sexname', 'basecolour',\n",
       "                                                   'breedname',\n",
       "                                                   'intakereason']),\n",
       "                                                 ('num',\n",
       "                                                  Pipeline(steps=[('standardscaler',\n",
       "                                                                   StandardScaler())]),\n",
       "                                                  ['age(months)',\n",
       "                                                   'age(years)'])])),\n",
       "                ('classifier',\n",
       "                 KNeighborsClassifier(metric='euclidean', n_neighbors=3,\n",
       "                                      weights='distance'))])"
      ]
     },
     "execution_count": 106,
     "metadata": {},
     "output_type": "execute_result"
    }
   ],
   "source": [
    "knn_tuned.fit(X_train, y_train)"
   ]
  },
  {
   "cell_type": "code",
   "execution_count": 107,
   "metadata": {
    "scrolled": true
   },
   "outputs": [
    {
     "name": "stdout",
     "output_type": "stream",
     "text": [
      "Training Scores:\n",
      "Train Accuracy: 0.9552486187845304\n",
      "Train Precision: 0.9796954314720813\n",
      "Train Recall: 0.9530864197530864\n",
      "Train F1-Score: 0.9662077596996246\n",
      "ROC-AUC: 0.9917716222291386\n",
      "**********\n",
      "Testing Scores:\n",
      "Test Accuracy: 0.6307947019867549\n",
      "Test Precision: 0.7156626506024096\n",
      "Test Recall: 0.7388059701492538\n",
      "Test F1-Score: 0.7270501835985312\n",
      "ROC-AUC: 0.5832656026796709\n"
     ]
    },
    {
     "data": {
      "image/png": "[encoded data removed]",
      "text/plain": [
       "<Figure size 432x288 with 2 Axes>"
      ]
     },
     "metadata": {
      "needs_background": "light"
     },
     "output_type": "display_data"
    }
   ],
   "source": [
    "evaluate(knn_tuned, X_train, X_test, y_train, y_test, roc_auc='proba')"
   ]
  },
  {
   "cell_type": "markdown",
   "metadata": {},
   "source": [
    "#### Cat Model/ Final Model Selection"
   ]
  },
  {
   "cell_type": "code",
   "execution_count": 110,
   "metadata": {},
   "outputs": [
    {
     "data": {
      "text/plain": [
       "Pipeline(steps=[('preprocessor',\n",
       "                 ColumnTransformer(remainder='passthrough',\n",
       "                                   transformers=[('cat',\n",
       "                                                  Pipeline(steps=[('onehotencoder',\n",
       "                                                                   OneHotEncoder(handle_unknown='ignore'))]),\n",
       "                                                  ['sexname', 'basecolour',\n",
       "                                                   'breedname',\n",
       "                                                   'intakereason']),\n",
       "                                                 ('num',\n",
       "                                                  Pipeline(steps=[('standardscaler',\n",
       "                                                                   StandardScaler())]),\n",
       "                                                  ['age(months)',\n",
       "                                                   'age(years)'])])),\n",
       "                ('classifier', LogisticRegression())])"
      ]
     },
     "execution_count": 110,
     "metadata": {},
     "output_type": "execute_result"
    }
   ],
   "source": [
    "cat_log.fit(X_train_cat, y_train_cat)"
   ]
  },
  {
   "cell_type": "code",
   "execution_count": 111,
   "metadata": {},
   "outputs": [
    {
     "name": "stdout",
     "output_type": "stream",
     "text": [
      "Training Scores:\n",
      "Train Accuracy: 0.5964634468197414\n",
      "Train Precision: 0.6040554962646745\n",
      "Train Recall: 0.32830626450116007\n",
      "Train F1-Score: 0.4254039834648628\n",
      "**********\n",
      "Testing Scores:\n",
      "Test Accuracy: 0.5775316455696202\n",
      "Test Precision: 0.5666666666666667\n",
      "Test Recall: 0.3235294117647059\n",
      "Test F1-Score: 0.41189427312775334\n"
     ]
    },
    {
     "data": {
      "image/png": "[encoded data removed]",
      "text/plain": [
       "<Figure size 432x288 with 2 Axes>"
      ]
     },
     "metadata": {
      "needs_background": "light"
     },
     "output_type": "display_data"
    }
   ],
   "source": [
    "evaluate(cat_log, X_train_cat, X_test_cat, y_train_cat, y_test_cat)"
   ]
  },
  {
   "cell_type": "markdown",
   "metadata": {},
   "source": [
    "- The Logistic Regression Model gave us our best results without being overfit.\n",
    "- It had a very low false positive rate of only 21%"
   ]
  },
  {
   "cell_type": "markdown",
   "metadata": {},
   "source": [
    "That model was not tuned so we can try altering the hyper parameters and seeing if that improves the results. "
   ]
  },
  {
   "cell_type": "code",
   "execution_count": null,
   "metadata": {},
   "outputs": [],
   "source": [
    "cat_log.get_params().keys()"
   ]
  },
  {
   "cell_type": "code",
   "execution_count": 112,
   "metadata": {},
   "outputs": [
    {
     "name": "stdout",
     "output_type": "stream",
     "text": [
      "Fitting 5 folds for each of 40 candidates, totalling 200 fits\n"
     ]
    },
    {
     "name": "stderr",
     "output_type": "stream",
     "text": [
      "[Parallel(n_jobs=-1)]: Using backend LokyBackend with 16 concurrent workers.\n",
      "[Parallel(n_jobs=-1)]: Done  18 tasks      | elapsed:    0.5s\n",
      "[Parallel(n_jobs=-1)]: Done 200 out of 200 | elapsed:    1.7s finished\n"
     ]
    },
    {
     "data": {
      "text/plain": [
       "GridSearchCV(cv=5,\n",
       "             estimator=Pipeline(steps=[('preprocessor',\n",
       "                                        ColumnTransformer(remainder='passthrough',\n",
       "                                                          transformers=[('cat',\n",
       "                                                                         Pipeline(steps=[('onehotencoder',\n",
       "                                                                                          OneHotEncoder(handle_unknown='ignore'))]),\n",
       "                                                                         ['sexname',\n",
       "                                                                          'basecolour',\n",
       "                                                                          'breedname',\n",
       "                                                                          'intakereason']),\n",
       "                                                                        ('num',\n",
       "                                                                         Pipeline(steps=[('standardscaler',\n",
       "                                                                                          StandardScaler())]),\n",
       "                                                                         ['age(months)',\n",
       "                                                                          'age(years)'])])),\n",
       "                                       ('cla...\n",
       "             param_grid=[{'classifier__C': array([1.00000000e-04, 2.63665090e-04, 6.95192796e-04, 1.83298071e-03,\n",
       "       4.83293024e-03, 1.27427499e-02, 3.35981829e-02, 8.85866790e-02,\n",
       "       2.33572147e-01, 6.15848211e-01, 1.62377674e+00, 4.28133240e+00,\n",
       "       1.12883789e+01, 2.97635144e+01, 7.84759970e+01, 2.06913808e+02,\n",
       "       5.45559478e+02, 1.43844989e+03, 3.79269019e+03, 1.00000000e+04]),\n",
       "                          'classifier__penalty': ['l1', 'l2'],\n",
       "                          'classifier__solver': ['liblinear']}],\n",
       "             scoring='precision', verbose=1)"
      ]
     },
     "execution_count": 112,
     "metadata": {},
     "output_type": "execute_result"
    }
   ],
   "source": [
    "log_param_grid = param_grid = [\n",
    "    {'classifier__penalty' : ['l1', 'l2'],\n",
    "    'classifier__C' : np.logspace(-4, 4, 20),\n",
    "    'classifier__solver' : ['liblinear']}]\n",
    "\n",
    "gs_log = GridSearchCV(cat_log, param_grid=log_param_grid, scoring='precision', verbose=1, cv=5, n_jobs=-1)\n",
    "\n",
    "gs_log.fit(X_train_cat, y_train_cat)"
   ]
  },
  {
   "cell_type": "code",
   "execution_count": 113,
   "metadata": {},
   "outputs": [
    {
     "data": {
      "text/plain": [
       "{'classifier__C': 0.012742749857031334,\n",
       " 'classifier__penalty': 'l1',\n",
       " 'classifier__solver': 'liblinear'}"
      ]
     },
     "execution_count": 113,
     "metadata": {},
     "output_type": "execute_result"
    }
   ],
   "source": [
    "gs_log.best_params_"
   ]
  },
  {
   "cell_type": "code",
   "execution_count": 114,
   "metadata": {},
   "outputs": [
    {
     "data": {
      "text/plain": [
       "0.6166788517328996"
      ]
     },
     "execution_count": 114,
     "metadata": {},
     "output_type": "execute_result"
    }
   ],
   "source": [
    "gs_log.best_score_"
   ]
  },
  {
   "cell_type": "code",
   "execution_count": 115,
   "metadata": {},
   "outputs": [],
   "source": [
    "cat_log_tuned = Pipeline(steps=[\n",
    "    ('preprocessor', preprocessor),\n",
    "    ('classifier', LogisticRegression(penalty= 'l1', C=0.012742749857031334, solver='liblinear'))\n",
    "])"
   ]
  },
  {
   "cell_type": "code",
   "execution_count": 116,
   "metadata": {},
   "outputs": [
    {
     "data": {
      "text/plain": [
       "{'fit_time': array([0.02412558, 0.02374625, 0.01597023, 0.02373052, 0.01753831]),\n",
       " 'score_time': array([0.01059675, 0.00800705, 0.00802207, 0.00799894, 0.00802994]),\n",
       " 'test_score': array([0.56944444, 0.64912281, 0.66037736, 0.61428571, 0.59016393]),\n",
       " 'train_score': array([0.62655602, 0.60546875, 0.60384615, 0.61316872, 0.61904762])}"
      ]
     },
     "execution_count": 116,
     "metadata": {},
     "output_type": "execute_result"
    }
   ],
   "source": [
    "cross_validate(cat_log_tuned, X_train_cat, y_train_cat, scoring='precision', return_train_score='true')"
   ]
  },
  {
   "cell_type": "code",
   "execution_count": 117,
   "metadata": {},
   "outputs": [
    {
     "data": {
      "text/plain": [
       "Pipeline(steps=[('preprocessor',\n",
       "                 ColumnTransformer(remainder='passthrough',\n",
       "                                   transformers=[('cat',\n",
       "                                                  Pipeline(steps=[('onehotencoder',\n",
       "                                                                   OneHotEncoder(handle_unknown='ignore'))]),\n",
       "                                                  ['sexname', 'basecolour',\n",
       "                                                   'breedname',\n",
       "                                                   'intakereason']),\n",
       "                                                 ('num',\n",
       "                                                  Pipeline(steps=[('standardscaler',\n",
       "                                                                   StandardScaler())]),\n",
       "                                                  ['age(months)',\n",
       "                                                   'age(years)'])])),\n",
       "                ('classifier',\n",
       "                 LogisticRegression(C=0.012742749857031334, penalty='l1',\n",
       "                                    solver='liblinear'))])"
      ]
     },
     "execution_count": 117,
     "metadata": {},
     "output_type": "execute_result"
    }
   ],
   "source": [
    "cat_log_tuned.fit(X_train_cat, y_train_cat)"
   ]
  },
  {
   "cell_type": "code",
   "execution_count": 118,
   "metadata": {},
   "outputs": [
    {
     "name": "stdout",
     "output_type": "stream",
     "text": [
      "Training Scores:\n",
      "Train Accuracy: 0.5637371338083927\n",
      "Train Precision: 0.6134185303514377\n",
      "Train Recall: 0.11136890951276102\n",
      "Train F1-Score: 0.18851251840942562\n",
      "ROC-AUC: 0.530301206902514\n",
      "**********\n",
      "Testing Scores:\n",
      "Test Accuracy: 0.5474683544303798\n",
      "Test Precision: 0.5294117647058824\n",
      "Test Recall: 0.09342560553633218\n",
      "Test F1-Score: 0.1588235294117647\n",
      "ROC-AUC: 0.5437170582729915\n"
     ]
    },
    {
     "data": {
      "image/png": "[encoded data removed]",
      "text/plain": [
       "<Figure size 432x288 with 2 Axes>"
      ]
     },
     "metadata": {
      "needs_background": "light"
     },
     "output_type": "display_data"
    }
   ],
   "source": [
    "evaluate(cat_log_tuned, X_train_cat, X_test_cat, y_train_cat, y_test_cat, 'proba')"
   ]
  },
  {
   "cell_type": "markdown",
   "metadata": {},
   "source": [
    "- While this model has the lowest false positive rate yet, it seems to just be guessing that every cat wont get adopted within a month. \n",
    "- If the model predicts that every cat needs help getting adopted then it does not really tell us anything.\n",
    "- We will use the untuned logistic Regression model as our final model."
   ]
  },
  {
   "cell_type": "markdown",
   "metadata": {},
   "source": [
    "## Final Model Evaluation\n",
    "- Test data on the holdout set"
   ]
  },
  {
   "cell_type": "code",
   "execution_count": 120,
   "metadata": {},
   "outputs": [
    {
     "name": "stdout",
     "output_type": "stream",
     "text": [
      "Training Scores:\n",
      "Train Accuracy: 0.5964634468197414\n",
      "Train Precision: 0.6040554962646745\n",
      "Train Recall: 0.32830626450116007\n",
      "Train F1-Score: 0.4254039834648628\n",
      "**********\n",
      "Testing Scores:\n",
      "Test Accuracy: 0.5852017937219731\n",
      "Test Precision: 0.5879828326180258\n",
      "Test Recall: 0.3333333333333333\n",
      "Test F1-Score: 0.42546583850931674\n"
     ]
    },
    {
     "data": {
      "image/png": "[encoded data removed]",
      "text/plain": [
       "<Figure size 432x288 with 2 Axes>"
      ]
     },
     "metadata": {
      "needs_background": "light"
     },
     "output_type": "display_data"
    }
   ],
   "source": [
    "evaluate(cat_log, X_train_cat, X_hold_cat, y_train_cat, y_hold_cat)"
   ]
  },
  {
   "cell_type": "markdown",
   "metadata": {},
   "source": [
    "+ It correctly classifies cats that take longer than a month to take adopted 80 percent of the time \n",
    "+ But only correctly classifies cats that get adopted in less than a month 33% of the time\n",
    "+ This model has a vey low false positive rate(20%)"
   ]
  },
  {
   "cell_type": "markdown",
   "metadata": {},
   "source": [
    "## Recommendations"
   ]
  },
  {
   "cell_type": "markdown",
   "metadata": {},
   "source": [
    "## Conclusion"
   ]
  },
  {
   "cell_type": "markdown",
   "metadata": {},
   "source": [
    "- The models still needs work but it can be used in conjunction with your domain knowledge to efficiently use resources to aid the dogs and cats that need the most help getting adopted. \n",
    "\n",
    "- Our cat model is very good at predicting which cats need help getting adopted in a timely manner but not very good at prediciting the cats that get adopted in a timely manner.\n",
    "\n",
    "- The dog model is the opposite, it is very good at classifying the dogs that get adopted on time, but not too good at classifying the dogs that really need help.\n",
    "\n",
    "\n",
    "- Our cat model will still misclassify cats that need help getting adopted 21% of the time."
   ]
  },
  {
   "cell_type": "markdown",
   "metadata": {},
   "source": [
    "## Future Work\n",
    "\n",
    "- See if this model gets similar results on other shelters\n",
    "- Analyze how the time of year that the animal entered the shelter effects adoption speed\n",
    "- Experiment with the features and engineer them in different ways to improve scores"
   ]
  }
 ],
 "metadata": {
  "kernelspec": {
   "display_name": "Python (learn-env)",
   "language": "python",
   "name": "learn-env"
  },
  "language_info": {
   "codemirror_mode": {
    "name": "ipython",
    "version": 3
   },
   "file_extension": ".py",
   "mimetype": "text/x-python",
   "name": "python",
   "nbconvert_exporter": "python",
   "pygments_lexer": "ipython3",
   "version": "3.8.5"
  }
 },
 "nbformat": 4,
 "nbformat_minor": 4
}
