{
 "cells": [
  {
   "cell_type": "markdown",
   "metadata": {},
   "source": [
    "# Predicting Adoption Speed"
   ]
  },
  {
   "cell_type": "markdown",
   "metadata": {},
   "source": [
    "## Introduction"
   ]
  },
  {
   "cell_type": "markdown",
   "metadata": {},
   "source": [
    "The purpose of this notebook is to provide an analysis of which types of pets have the toughest time getting adopted. In this analysis we are only studying the adoptions of Dogs and cats."
   ]
  },
  {
   "cell_type": "markdown",
   "metadata": {},
   "source": [
    "## Business Understanding"
   ]
  },
  {
   "cell_type": "markdown",
   "metadata": {},
   "source": [
    "Shelters need to know which pets take the longest time to get adopted, so that they can focus on pushing potential adopters towards those pets.\n",
    "\n",
    "+ __Stakeholder:__ ASPCA \n",
    "\n",
    "\n",
    "+ __Importance of Predictions:__ Correctly identifying which pets will have trouble getting adopted can save pets from a lifetime in a cage or getting put to sleep in the worst case scenario.\n",
    "\n",
    "\n",
    "+ __Deliverable:__ An analysis of the adoptability of different types of dogs and cats\n",
    "\n",
    "\n",
    "+ __Type of model:__ An interpretable multiclassification model that can be used in conjunction with domain knowledge to boost the accuracy of predictions on a pet's adoptability."
   ]
  },
  {
   "cell_type": "markdown",
   "metadata": {},
   "source": [
    "## Context\n",
    "\n",
    "+ __False Positive:__ Predicting that a pet will get adopted sooner than it actually gets adopted\n",
    "\n",
    "\n",
    "+ __False negative:__ Predicting that a pet will get adopted later than it actually gets adopted\n",
    "\n",
    "\n",
    "+ __Which is Worse:__ False negative is worse because we would not correctly identify pets that need help getting adopted in a timely manner\n",
    "\n",
    "\n",
    "+ __"
   ]
  },
  {
   "cell_type": "code",
   "execution_count": 1,
   "metadata": {},
   "outputs": [],
   "source": [
    "import pandas as pd\n",
    "import numpy as np\n",
    "from sklearn.preprocessing import OneHotEncoder, StandardScaler, LabelBinarizer, OrdinalEncoder, RobustScaler\n",
    "from sklearn.model_selection import train_test_split, cross_validate, cross_val_score\n",
    "from sklearn.pipeline import make_pipeline, Pipeline\n",
    "from sklearn.tree import DecisionTreeClassifier\n",
    "from sklearn.compose import ColumnTransformer\n",
    "from sklearn.metrics import recall_score, accuracy_score, precision_score, f1_score, roc_auc_score, plot_confusion_matrix\n",
    "from sklearn.naive_bayes import MultinomialNB\n",
    "from sklearn.ensemble import RandomForestClassifier \n",
    "import warnings\n",
    "\n",
    "warnings.filterwarnings('ignore')"
   ]
  },
  {
   "cell_type": "markdown",
   "metadata": {},
   "source": [
    "## Data Understanding"
   ]
  },
  {
   "cell_type": "markdown",
   "metadata": {},
   "source": [
    "- I cleaned most of the data in the EDA notebook and that data is also included in this repository\n",
    "- Most of the pets in this dataset have been adopted, thats why the focus is on adoption speed\n",
    "- The target variable is 'duration of stay' which will be divided into 4 categories"
   ]
  },
  {
   "cell_type": "markdown",
   "metadata": {},
   "source": [
    "These imports are saved csv files that I made after extensively cleaning the data in the EDA notebook."
   ]
  },
  {
   "cell_type": "code",
   "execution_count": 2,
   "metadata": {},
   "outputs": [],
   "source": [
    "cat_df = pd.read_csv('data/cat_df.csv')\n",
    "dog_df = pd.read_csv('data/dog_df.csv')"
   ]
  },
  {
   "cell_type": "markdown",
   "metadata": {},
   "source": [
    "## Data Exploration recap"
   ]
  },
  {
   "cell_type": "code",
   "execution_count": 4,
   "metadata": {},
   "outputs": [
    {
     "data": {
      "text/plain": [
       "Female     3598\n",
       "Male       3341\n",
       "Unknown     133\n",
       "Name: sexname, dtype: int64"
      ]
     },
     "execution_count": 4,
     "metadata": {},
     "output_type": "execute_result"
    }
   ],
   "source": [
    "cat_df['sexname'].value_counts()"
   ]
  },
  {
   "cell_type": "code",
   "execution_count": 5,
   "metadata": {},
   "outputs": [
    {
     "data": {
      "text/plain": [
       "Male       2454\n",
       "Female     1996\n",
       "Unknown      20\n",
       "Name: sexname, dtype: int64"
      ]
     },
     "execution_count": 5,
     "metadata": {},
     "output_type": "execute_result"
    }
   ],
   "source": [
    "dog_df['sexname'].value_counts()"
   ]
  },
  {
   "cell_type": "markdown",
   "metadata": {},
   "source": [
    "The sex of both dogs and cats are pretty balanced"
   ]
  },
  {
   "cell_type": "code",
   "execution_count": 6,
   "metadata": {},
   "outputs": [
    {
     "data": {
      "text/plain": [
       "6.0    201\n",
       "1.0    162\n",
       "3.0    112\n",
       "2.0     79\n",
       "4.0     65\n",
       "5.0     58\n",
       "Name: age(months), dtype: int64"
      ]
     },
     "execution_count": 6,
     "metadata": {},
     "output_type": "execute_result"
    }
   ],
   "source": [
    "cat_df['age(months)'].value_counts()"
   ]
  },
  {
   "cell_type": "code",
   "execution_count": 7,
   "metadata": {},
   "outputs": [
    {
     "data": {
      "text/plain": [
       "5.0    29\n",
       "6.0    27\n",
       "4.0    12\n",
       "1.0     9\n",
       "3.0     2\n",
       "2.0     2\n",
       "Name: age(months), dtype: int64"
      ]
     },
     "execution_count": 7,
     "metadata": {},
     "output_type": "execute_result"
    }
   ],
   "source": [
    "dog_df['age(months)'].value_counts()"
   ]
  },
  {
   "cell_type": "markdown",
   "metadata": {},
   "source": [
    "Not many puppies in this dataset, but we have almost 600 kittens."
   ]
  },
  {
   "cell_type": "code",
   "execution_count": 8,
   "metadata": {},
   "outputs": [
    {
     "data": {
      "text/plain": [
       "1.0     2580\n",
       "2.0     1256\n",
       "3.0     1052\n",
       "0.0      677\n",
       "4.0      390\n",
       "5.0      269\n",
       "6.0      171\n",
       "7.0      160\n",
       "8.0      116\n",
       "10.0      96\n",
       "9.0       61\n",
       "11.0      57\n",
       "12.0      45\n",
       "13.0      39\n",
       "14.0      30\n",
       "15.0      26\n",
       "16.0      26\n",
       "17.0      12\n",
       "18.0       6\n",
       "19.0       3\n",
       "Name: age(years), dtype: int64"
      ]
     },
     "execution_count": 8,
     "metadata": {},
     "output_type": "execute_result"
    }
   ],
   "source": [
    "cat_df['age(years)'].value_counts()"
   ]
  },
  {
   "cell_type": "code",
   "execution_count": 9,
   "metadata": {},
   "outputs": [
    {
     "data": {
      "text/plain": [
       "1.0     982\n",
       "2.0     728\n",
       "3.0     644\n",
       "4.0     445\n",
       "5.0     293\n",
       "6.0     205\n",
       "8.0     180\n",
       "7.0     180\n",
       "9.0     145\n",
       "11.0    123\n",
       "10.0    120\n",
       "12.0    103\n",
       "0.0      81\n",
       "14.0     78\n",
       "13.0     77\n",
       "15.0     38\n",
       "16.0     30\n",
       "17.0      8\n",
       "18.0      8\n",
       "19.0      2\n",
       "Name: age(years), dtype: int64"
      ]
     },
     "execution_count": 9,
     "metadata": {},
     "output_type": "execute_result"
    }
   ],
   "source": [
    "dog_df['age(years)'].value_counts()"
   ]
  },
  {
   "cell_type": "markdown",
   "metadata": {},
   "source": [
    "Most of the pets in this dataset are on the younger side of the scale."
   ]
  },
  {
   "cell_type": "markdown",
   "metadata": {},
   "source": [
    "### Prepare Dog Data for modeling"
   ]
  },
  {
   "cell_type": "code",
   "execution_count": 10,
   "metadata": {
    "scrolled": true
   },
   "outputs": [
    {
     "data": {
      "text/html": [
       "<div>\n",
       "<style scoped>\n",
       "    .dataframe tbody tr th:only-of-type {\n",
       "        vertical-align: middle;\n",
       "    }\n",
       "\n",
       "    .dataframe tbody tr th {\n",
       "        vertical-align: top;\n",
       "    }\n",
       "\n",
       "    .dataframe thead th {\n",
       "        text-align: right;\n",
       "    }\n",
       "</style>\n",
       "<table border=\"1\" class=\"dataframe\">\n",
       "  <thead>\n",
       "    <tr style=\"text-align: right;\">\n",
       "      <th></th>\n",
       "      <th>Unnamed: 0</th>\n",
       "      <th>id</th>\n",
       "      <th>intakedate</th>\n",
       "      <th>intakereason</th>\n",
       "      <th>istransfer</th>\n",
       "      <th>identichipnumber</th>\n",
       "      <th>animalname</th>\n",
       "      <th>breedname</th>\n",
       "      <th>basecolour</th>\n",
       "      <th>speciesname</th>\n",
       "      <th>animalage</th>\n",
       "      <th>sexname</th>\n",
       "      <th>location</th>\n",
       "      <th>movementdate</th>\n",
       "      <th>movementtype</th>\n",
       "      <th>returndate</th>\n",
       "      <th>puttosleep</th>\n",
       "      <th>age(months)</th>\n",
       "      <th>age(years)</th>\n",
       "      <th>duration of stay</th>\n",
       "    </tr>\n",
       "  </thead>\n",
       "  <tbody>\n",
       "    <tr>\n",
       "      <th>0</th>\n",
       "      <td>12</td>\n",
       "      <td>46238</td>\n",
       "      <td>2016-10-09 00:00:00</td>\n",
       "      <td>Abandoned</td>\n",
       "      <td>False</td>\n",
       "      <td>981020019070093</td>\n",
       "      <td>Tennessee</td>\n",
       "      <td>Heeler</td>\n",
       "      <td>Black and Brown</td>\n",
       "      <td>Dog</td>\n",
       "      <td>5 years 7 months</td>\n",
       "      <td>Male</td>\n",
       "      <td>Special Care Dogs</td>\n",
       "      <td>2018-02-14 00:00:00</td>\n",
       "      <td>Adoption</td>\n",
       "      <td>NaN</td>\n",
       "      <td>False</td>\n",
       "      <td>NaN</td>\n",
       "      <td>5.0</td>\n",
       "      <td>493.0</td>\n",
       "    </tr>\n",
       "    <tr>\n",
       "      <th>1</th>\n",
       "      <td>15</td>\n",
       "      <td>46693</td>\n",
       "      <td>2016-11-21 00:00:00</td>\n",
       "      <td>Abandoned</td>\n",
       "      <td>False</td>\n",
       "      <td>981020017897009</td>\n",
       "      <td>Baby</td>\n",
       "      <td>Pitbull</td>\n",
       "      <td>White</td>\n",
       "      <td>Dog</td>\n",
       "      <td>5 years 9 months</td>\n",
       "      <td>Male</td>\n",
       "      <td>Adoptable Dogs</td>\n",
       "      <td>2017-04-07 00:00:00</td>\n",
       "      <td>Adoption</td>\n",
       "      <td>NaN</td>\n",
       "      <td>False</td>\n",
       "      <td>NaN</td>\n",
       "      <td>5.0</td>\n",
       "      <td>137.0</td>\n",
       "    </tr>\n",
       "    <tr>\n",
       "      <th>2</th>\n",
       "      <td>19</td>\n",
       "      <td>47146</td>\n",
       "      <td>2017-01-17 00:00:00</td>\n",
       "      <td>Abandoned</td>\n",
       "      <td>False</td>\n",
       "      <td>981020021063793</td>\n",
       "      <td>Dinah</td>\n",
       "      <td>Labrador Retriever</td>\n",
       "      <td>Black</td>\n",
       "      <td>Dog</td>\n",
       "      <td>5 years 6 months</td>\n",
       "      <td>Female</td>\n",
       "      <td>Foster</td>\n",
       "      <td>2017-04-01 00:00:00</td>\n",
       "      <td>Adoption</td>\n",
       "      <td>NaN</td>\n",
       "      <td>False</td>\n",
       "      <td>NaN</td>\n",
       "      <td>5.0</td>\n",
       "      <td>74.0</td>\n",
       "    </tr>\n",
       "    <tr>\n",
       "      <th>3</th>\n",
       "      <td>27</td>\n",
       "      <td>47239</td>\n",
       "      <td>2017-01-27 00:00:00</td>\n",
       "      <td>Abandoned</td>\n",
       "      <td>False</td>\n",
       "      <td>981020021070452</td>\n",
       "      <td>Maria</td>\n",
       "      <td>NaN</td>\n",
       "      <td>Black and Brown</td>\n",
       "      <td>Dog</td>\n",
       "      <td>3 years 5 months</td>\n",
       "      <td>Female</td>\n",
       "      <td>Foster</td>\n",
       "      <td>2017-04-01 00:00:00</td>\n",
       "      <td>Adoption</td>\n",
       "      <td>NaN</td>\n",
       "      <td>False</td>\n",
       "      <td>NaN</td>\n",
       "      <td>3.0</td>\n",
       "      <td>64.0</td>\n",
       "    </tr>\n",
       "    <tr>\n",
       "      <th>4</th>\n",
       "      <td>33</td>\n",
       "      <td>47319</td>\n",
       "      <td>2017-02-05 00:00:00</td>\n",
       "      <td>other</td>\n",
       "      <td>False</td>\n",
       "      <td>NaN</td>\n",
       "      <td>Louise Vada</td>\n",
       "      <td>Pitbull</td>\n",
       "      <td>Black</td>\n",
       "      <td>Dog</td>\n",
       "      <td>4 years 5 months</td>\n",
       "      <td>Female</td>\n",
       "      <td>Stray Dogs Theta</td>\n",
       "      <td>2017-04-05 00:00:00</td>\n",
       "      <td>Reclaimed</td>\n",
       "      <td>NaN</td>\n",
       "      <td>False</td>\n",
       "      <td>NaN</td>\n",
       "      <td>4.0</td>\n",
       "      <td>59.0</td>\n",
       "    </tr>\n",
       "  </tbody>\n",
       "</table>\n",
       "</div>"
      ],
      "text/plain": [
       "   Unnamed: 0     id           intakedate intakereason  istransfer  \\\n",
       "0          12  46238  2016-10-09 00:00:00    Abandoned       False   \n",
       "1          15  46693  2016-11-21 00:00:00    Abandoned       False   \n",
       "2          19  47146  2017-01-17 00:00:00    Abandoned       False   \n",
       "3          27  47239  2017-01-27 00:00:00    Abandoned       False   \n",
       "4          33  47319  2017-02-05 00:00:00        other       False   \n",
       "\n",
       "  identichipnumber   animalname           breedname       basecolour  \\\n",
       "0  981020019070093    Tennessee              Heeler  Black and Brown   \n",
       "1  981020017897009         Baby             Pitbull            White   \n",
       "2  981020021063793        Dinah  Labrador Retriever            Black   \n",
       "3  981020021070452        Maria                 NaN  Black and Brown   \n",
       "4              NaN  Louise Vada             Pitbull            Black   \n",
       "\n",
       "  speciesname         animalage sexname           location  \\\n",
       "0         Dog  5 years 7 months    Male  Special Care Dogs   \n",
       "1         Dog  5 years 9 months    Male     Adoptable Dogs   \n",
       "2         Dog  5 years 6 months  Female             Foster   \n",
       "3         Dog  3 years 5 months  Female             Foster   \n",
       "4         Dog  4 years 5 months  Female   Stray Dogs Theta   \n",
       "\n",
       "          movementdate movementtype returndate  puttosleep  age(months)  \\\n",
       "0  2018-02-14 00:00:00     Adoption        NaN       False          NaN   \n",
       "1  2017-04-07 00:00:00     Adoption        NaN       False          NaN   \n",
       "2  2017-04-01 00:00:00     Adoption        NaN       False          NaN   \n",
       "3  2017-04-01 00:00:00     Adoption        NaN       False          NaN   \n",
       "4  2017-04-05 00:00:00    Reclaimed        NaN       False          NaN   \n",
       "\n",
       "   age(years)  duration of stay  \n",
       "0         5.0             493.0  \n",
       "1         5.0             137.0  \n",
       "2         5.0              74.0  \n",
       "3         3.0              64.0  \n",
       "4         4.0              59.0  "
      ]
     },
     "execution_count": 10,
     "metadata": {},
     "output_type": "execute_result"
    }
   ],
   "source": [
    "dog_df.head()"
   ]
  },
  {
   "cell_type": "code",
   "execution_count": 11,
   "metadata": {
    "scrolled": false
   },
   "outputs": [
    {
     "data": {
      "text/plain": [
       "count    81.000000\n",
       "mean      4.617284\n",
       "std       1.569776\n",
       "min       1.000000\n",
       "25%       4.000000\n",
       "50%       5.000000\n",
       "75%       6.000000\n",
       "max       6.000000\n",
       "Name: age(months), dtype: float64"
      ]
     },
     "execution_count": 11,
     "metadata": {},
     "output_type": "execute_result"
    }
   ],
   "source": [
    "dog_df['age(months)'].describe()"
   ]
  },
  {
   "cell_type": "code",
   "execution_count": 12,
   "metadata": {
    "scrolled": false
   },
   "outputs": [
    {
     "data": {
      "text/plain": [
       "Adoption     2841\n",
       "Reclaimed    1487\n",
       "Transfer      107\n",
       "Foster         34\n",
       "Escaped         1\n",
       "Name: movementtype, dtype: int64"
      ]
     },
     "execution_count": 12,
     "metadata": {},
     "output_type": "execute_result"
    }
   ],
   "source": [
    "dog_df['movementtype'].value_counts()"
   ]
  },
  {
   "cell_type": "markdown",
   "metadata": {},
   "source": [
    "This model is gonna focus on the dogs that got adopted, and predict how long it takes "
   ]
  },
  {
   "cell_type": "code",
   "execution_count": 13,
   "metadata": {},
   "outputs": [],
   "source": [
    "dog_model_data = dog_df[dog_df['movementtype'] == 'Adoption']"
   ]
  },
  {
   "cell_type": "code",
   "execution_count": 14,
   "metadata": {},
   "outputs": [
    {
     "data": {
      "text/plain": [
       "0"
      ]
     },
     "execution_count": 14,
     "metadata": {},
     "output_type": "execute_result"
    }
   ],
   "source": [
    "dog_model_data['duration of stay'].isna().sum()"
   ]
  },
  {
   "cell_type": "code",
   "execution_count": 15,
   "metadata": {},
   "outputs": [
    {
     "data": {
      "text/html": [
       "<div>\n",
       "<style scoped>\n",
       "    .dataframe tbody tr th:only-of-type {\n",
       "        vertical-align: middle;\n",
       "    }\n",
       "\n",
       "    .dataframe tbody tr th {\n",
       "        vertical-align: top;\n",
       "    }\n",
       "\n",
       "    .dataframe thead th {\n",
       "        text-align: right;\n",
       "    }\n",
       "</style>\n",
       "<table border=\"1\" class=\"dataframe\">\n",
       "  <thead>\n",
       "    <tr style=\"text-align: right;\">\n",
       "      <th></th>\n",
       "      <th>Unnamed: 0</th>\n",
       "      <th>id</th>\n",
       "      <th>age(months)</th>\n",
       "      <th>age(years)</th>\n",
       "      <th>duration of stay</th>\n",
       "    </tr>\n",
       "  </thead>\n",
       "  <tbody>\n",
       "    <tr>\n",
       "      <th>count</th>\n",
       "      <td>2841.000000</td>\n",
       "      <td>2841.000000</td>\n",
       "      <td>65.000000</td>\n",
       "      <td>2841.000000</td>\n",
       "      <td>2841.000000</td>\n",
       "    </tr>\n",
       "    <tr>\n",
       "      <th>mean</th>\n",
       "      <td>8698.644843</td>\n",
       "      <td>62603.009152</td>\n",
       "      <td>5.061538</td>\n",
       "      <td>3.689194</td>\n",
       "      <td>53.449490</td>\n",
       "    </tr>\n",
       "    <tr>\n",
       "      <th>std</th>\n",
       "      <td>5244.246966</td>\n",
       "      <td>4842.666952</td>\n",
       "      <td>0.899252</td>\n",
       "      <td>3.221766</td>\n",
       "      <td>118.125138</td>\n",
       "    </tr>\n",
       "    <tr>\n",
       "      <th>min</th>\n",
       "      <td>12.000000</td>\n",
       "      <td>46238.000000</td>\n",
       "      <td>2.000000</td>\n",
       "      <td>0.000000</td>\n",
       "      <td>1.000000</td>\n",
       "    </tr>\n",
       "    <tr>\n",
       "      <th>25%</th>\n",
       "      <td>4123.000000</td>\n",
       "      <td>58835.000000</td>\n",
       "      <td>5.000000</td>\n",
       "      <td>1.000000</td>\n",
       "      <td>10.000000</td>\n",
       "    </tr>\n",
       "    <tr>\n",
       "      <th>50%</th>\n",
       "      <td>8203.000000</td>\n",
       "      <td>62340.000000</td>\n",
       "      <td>5.000000</td>\n",
       "      <td>3.000000</td>\n",
       "      <td>18.000000</td>\n",
       "    </tr>\n",
       "    <tr>\n",
       "      <th>75%</th>\n",
       "      <td>12722.000000</td>\n",
       "      <td>66193.000000</td>\n",
       "      <td>6.000000</td>\n",
       "      <td>5.000000</td>\n",
       "      <td>41.000000</td>\n",
       "    </tr>\n",
       "    <tr>\n",
       "      <th>max</th>\n",
       "      <td>18667.000000</td>\n",
       "      <td>71690.000000</td>\n",
       "      <td>6.000000</td>\n",
       "      <td>18.000000</td>\n",
       "      <td>1443.000000</td>\n",
       "    </tr>\n",
       "  </tbody>\n",
       "</table>\n",
       "</div>"
      ],
      "text/plain": [
       "         Unnamed: 0            id  age(months)   age(years)  duration of stay\n",
       "count   2841.000000   2841.000000    65.000000  2841.000000       2841.000000\n",
       "mean    8698.644843  62603.009152     5.061538     3.689194         53.449490\n",
       "std     5244.246966   4842.666952     0.899252     3.221766        118.125138\n",
       "min       12.000000  46238.000000     2.000000     0.000000          1.000000\n",
       "25%     4123.000000  58835.000000     5.000000     1.000000         10.000000\n",
       "50%     8203.000000  62340.000000     5.000000     3.000000         18.000000\n",
       "75%    12722.000000  66193.000000     6.000000     5.000000         41.000000\n",
       "max    18667.000000  71690.000000     6.000000    18.000000       1443.000000"
      ]
     },
     "execution_count": 15,
     "metadata": {},
     "output_type": "execute_result"
    }
   ],
   "source": [
    "dog_model_data.describe()"
   ]
  },
  {
   "cell_type": "markdown",
   "metadata": {},
   "source": [
    "Now I want to categorize my target column into these 4 values."
   ]
  },
  {
   "cell_type": "markdown",
   "metadata": {},
   "source": [
    "- 0 — Pet was adopted between 1 and 7 days (1st week) after being listed.\n",
    "- 1 — Pet was adopted between 8 and 30 days (1st month) after being listed.\n",
    "- 2 — Pet was adopted between 31 and 90 days (2nd & 3rd month) after being listed.\n",
    "- 3 — No adoption after 100 days of being listed. (There are no pets in this dataset that waited between 90 and 100 days)."
   ]
  },
  {
   "cell_type": "code",
   "execution_count": 16,
   "metadata": {},
   "outputs": [],
   "source": [
    "dog_model_data['duration of stay'][dog_model_data['duration of stay'] <= 7] = 0\n",
    "dog_model_data['duration of stay'][(dog_model_data['duration of stay'] > 7) & (dog_model_data['duration of stay'] <= 30)] = 1\n",
    "dog_model_data['duration of stay'][(dog_model_data['duration of stay'] > 30) & (dog_model_data['duration of stay'] <= 90)] = 2\n",
    "dog_model_data['duration of stay'][dog_model_data['duration of stay'] > 90] = 3"
   ]
  },
  {
   "cell_type": "code",
   "execution_count": 17,
   "metadata": {
    "scrolled": true
   },
   "outputs": [
    {
     "data": {
      "text/plain": [
       "1.0    1463\n",
       "2.0     608\n",
       "0.0     447\n",
       "3.0     323\n",
       "Name: duration of stay, dtype: int64"
      ]
     },
     "execution_count": 17,
     "metadata": {},
     "output_type": "execute_result"
    }
   ],
   "source": [
    "dog_model_data['duration of stay'].value_counts()"
   ]
  },
  {
   "cell_type": "code",
   "execution_count": 18,
   "metadata": {
    "scrolled": true
   },
   "outputs": [
    {
     "data": {
      "text/html": [
       "<div>\n",
       "<style scoped>\n",
       "    .dataframe tbody tr th:only-of-type {\n",
       "        vertical-align: middle;\n",
       "    }\n",
       "\n",
       "    .dataframe tbody tr th {\n",
       "        vertical-align: top;\n",
       "    }\n",
       "\n",
       "    .dataframe thead th {\n",
       "        text-align: right;\n",
       "    }\n",
       "</style>\n",
       "<table border=\"1\" class=\"dataframe\">\n",
       "  <thead>\n",
       "    <tr style=\"text-align: right;\">\n",
       "      <th></th>\n",
       "      <th>Unnamed: 0</th>\n",
       "      <th>id</th>\n",
       "      <th>intakedate</th>\n",
       "      <th>intakereason</th>\n",
       "      <th>istransfer</th>\n",
       "      <th>identichipnumber</th>\n",
       "      <th>animalname</th>\n",
       "      <th>breedname</th>\n",
       "      <th>basecolour</th>\n",
       "      <th>speciesname</th>\n",
       "      <th>animalage</th>\n",
       "      <th>sexname</th>\n",
       "      <th>location</th>\n",
       "      <th>movementdate</th>\n",
       "      <th>movementtype</th>\n",
       "      <th>returndate</th>\n",
       "      <th>puttosleep</th>\n",
       "      <th>age(months)</th>\n",
       "      <th>age(years)</th>\n",
       "      <th>duration of stay</th>\n",
       "    </tr>\n",
       "  </thead>\n",
       "  <tbody>\n",
       "    <tr>\n",
       "      <th>0</th>\n",
       "      <td>12</td>\n",
       "      <td>46238</td>\n",
       "      <td>2016-10-09 00:00:00</td>\n",
       "      <td>Abandoned</td>\n",
       "      <td>False</td>\n",
       "      <td>981020019070093</td>\n",
       "      <td>Tennessee</td>\n",
       "      <td>Heeler</td>\n",
       "      <td>Black and Brown</td>\n",
       "      <td>Dog</td>\n",
       "      <td>5 years 7 months</td>\n",
       "      <td>Male</td>\n",
       "      <td>Special Care Dogs</td>\n",
       "      <td>2018-02-14 00:00:00</td>\n",
       "      <td>Adoption</td>\n",
       "      <td>NaN</td>\n",
       "      <td>False</td>\n",
       "      <td>NaN</td>\n",
       "      <td>5.0</td>\n",
       "      <td>3.0</td>\n",
       "    </tr>\n",
       "    <tr>\n",
       "      <th>1</th>\n",
       "      <td>15</td>\n",
       "      <td>46693</td>\n",
       "      <td>2016-11-21 00:00:00</td>\n",
       "      <td>Abandoned</td>\n",
       "      <td>False</td>\n",
       "      <td>981020017897009</td>\n",
       "      <td>Baby</td>\n",
       "      <td>Pitbull</td>\n",
       "      <td>White</td>\n",
       "      <td>Dog</td>\n",
       "      <td>5 years 9 months</td>\n",
       "      <td>Male</td>\n",
       "      <td>Adoptable Dogs</td>\n",
       "      <td>2017-04-07 00:00:00</td>\n",
       "      <td>Adoption</td>\n",
       "      <td>NaN</td>\n",
       "      <td>False</td>\n",
       "      <td>NaN</td>\n",
       "      <td>5.0</td>\n",
       "      <td>3.0</td>\n",
       "    </tr>\n",
       "    <tr>\n",
       "      <th>2</th>\n",
       "      <td>19</td>\n",
       "      <td>47146</td>\n",
       "      <td>2017-01-17 00:00:00</td>\n",
       "      <td>Abandoned</td>\n",
       "      <td>False</td>\n",
       "      <td>981020021063793</td>\n",
       "      <td>Dinah</td>\n",
       "      <td>Labrador Retriever</td>\n",
       "      <td>Black</td>\n",
       "      <td>Dog</td>\n",
       "      <td>5 years 6 months</td>\n",
       "      <td>Female</td>\n",
       "      <td>Foster</td>\n",
       "      <td>2017-04-01 00:00:00</td>\n",
       "      <td>Adoption</td>\n",
       "      <td>NaN</td>\n",
       "      <td>False</td>\n",
       "      <td>NaN</td>\n",
       "      <td>5.0</td>\n",
       "      <td>2.0</td>\n",
       "    </tr>\n",
       "    <tr>\n",
       "      <th>3</th>\n",
       "      <td>27</td>\n",
       "      <td>47239</td>\n",
       "      <td>2017-01-27 00:00:00</td>\n",
       "      <td>Abandoned</td>\n",
       "      <td>False</td>\n",
       "      <td>981020021070452</td>\n",
       "      <td>Maria</td>\n",
       "      <td>NaN</td>\n",
       "      <td>Black and Brown</td>\n",
       "      <td>Dog</td>\n",
       "      <td>3 years 5 months</td>\n",
       "      <td>Female</td>\n",
       "      <td>Foster</td>\n",
       "      <td>2017-04-01 00:00:00</td>\n",
       "      <td>Adoption</td>\n",
       "      <td>NaN</td>\n",
       "      <td>False</td>\n",
       "      <td>NaN</td>\n",
       "      <td>3.0</td>\n",
       "      <td>2.0</td>\n",
       "    </tr>\n",
       "    <tr>\n",
       "      <th>7</th>\n",
       "      <td>50</td>\n",
       "      <td>47502</td>\n",
       "      <td>2017-02-27 00:00:00</td>\n",
       "      <td>other</td>\n",
       "      <td>False</td>\n",
       "      <td>981020015101070</td>\n",
       "      <td>Zoey</td>\n",
       "      <td>Pitbull</td>\n",
       "      <td>Grey and White</td>\n",
       "      <td>Dog</td>\n",
       "      <td>5 years 4 months</td>\n",
       "      <td>Female</td>\n",
       "      <td>Stray Dogs Beta</td>\n",
       "      <td>2017-06-01 00:00:00</td>\n",
       "      <td>Adoption</td>\n",
       "      <td>NaN</td>\n",
       "      <td>False</td>\n",
       "      <td>NaN</td>\n",
       "      <td>5.0</td>\n",
       "      <td>3.0</td>\n",
       "    </tr>\n",
       "  </tbody>\n",
       "</table>\n",
       "</div>"
      ],
      "text/plain": [
       "   Unnamed: 0     id           intakedate intakereason  istransfer  \\\n",
       "0          12  46238  2016-10-09 00:00:00    Abandoned       False   \n",
       "1          15  46693  2016-11-21 00:00:00    Abandoned       False   \n",
       "2          19  47146  2017-01-17 00:00:00    Abandoned       False   \n",
       "3          27  47239  2017-01-27 00:00:00    Abandoned       False   \n",
       "7          50  47502  2017-02-27 00:00:00        other       False   \n",
       "\n",
       "  identichipnumber animalname           breedname       basecolour  \\\n",
       "0  981020019070093  Tennessee              Heeler  Black and Brown   \n",
       "1  981020017897009       Baby             Pitbull            White   \n",
       "2  981020021063793      Dinah  Labrador Retriever            Black   \n",
       "3  981020021070452      Maria                 NaN  Black and Brown   \n",
       "7  981020015101070       Zoey             Pitbull   Grey and White   \n",
       "\n",
       "  speciesname         animalage sexname           location  \\\n",
       "0         Dog  5 years 7 months    Male  Special Care Dogs   \n",
       "1         Dog  5 years 9 months    Male     Adoptable Dogs   \n",
       "2         Dog  5 years 6 months  Female             Foster   \n",
       "3         Dog  3 years 5 months  Female             Foster   \n",
       "7         Dog  5 years 4 months  Female    Stray Dogs Beta   \n",
       "\n",
       "          movementdate movementtype returndate  puttosleep  age(months)  \\\n",
       "0  2018-02-14 00:00:00     Adoption        NaN       False          NaN   \n",
       "1  2017-04-07 00:00:00     Adoption        NaN       False          NaN   \n",
       "2  2017-04-01 00:00:00     Adoption        NaN       False          NaN   \n",
       "3  2017-04-01 00:00:00     Adoption        NaN       False          NaN   \n",
       "7  2017-06-01 00:00:00     Adoption        NaN       False          NaN   \n",
       "\n",
       "   age(years)  duration of stay  \n",
       "0         5.0               3.0  \n",
       "1         5.0               3.0  \n",
       "2         5.0               2.0  \n",
       "3         3.0               2.0  \n",
       "7         5.0               3.0  "
      ]
     },
     "execution_count": 18,
     "metadata": {},
     "output_type": "execute_result"
    }
   ],
   "source": [
    " dog_model_data.head()"
   ]
  },
  {
   "cell_type": "code",
   "execution_count": 19,
   "metadata": {},
   "outputs": [
    {
     "name": "stdout",
     "output_type": "stream",
     "text": [
      "<class 'pandas.core.frame.DataFrame'>\n",
      "Int64Index: 2841 entries, 0 to 4467\n",
      "Data columns (total 20 columns):\n",
      " #   Column            Non-Null Count  Dtype  \n",
      "---  ------            --------------  -----  \n",
      " 0   Unnamed: 0        2841 non-null   int64  \n",
      " 1   id                2841 non-null   int64  \n",
      " 2   intakedate        2841 non-null   object \n",
      " 3   intakereason      2841 non-null   object \n",
      " 4   istransfer        2841 non-null   bool   \n",
      " 5   identichipnumber  2838 non-null   object \n",
      " 6   animalname        2841 non-null   object \n",
      " 7   breedname         2840 non-null   object \n",
      " 8   basecolour        2841 non-null   object \n",
      " 9   speciesname       2841 non-null   object \n",
      " 10  animalage         2841 non-null   object \n",
      " 11  sexname           2841 non-null   object \n",
      " 12  location          2841 non-null   object \n",
      " 13  movementdate      2841 non-null   object \n",
      " 14  movementtype      2841 non-null   object \n",
      " 15  returndate        55 non-null     object \n",
      " 16  puttosleep        2841 non-null   bool   \n",
      " 17  age(months)       65 non-null     float64\n",
      " 18  age(years)        2841 non-null   float64\n",
      " 19  duration of stay  2841 non-null   float64\n",
      "dtypes: bool(2), float64(3), int64(2), object(13)\n",
      "memory usage: 427.3+ KB\n"
     ]
    }
   ],
   "source": [
    "dog_model_data.info()"
   ]
  },
  {
   "cell_type": "markdown",
   "metadata": {},
   "source": [
    "Breedname is missing one value so i will fill it with 'Other'"
   ]
  },
  {
   "cell_type": "code",
   "execution_count": 20,
   "metadata": {},
   "outputs": [],
   "source": [
    "dog_model_data['breedname'] = dog_model_data['breedname'].fillna('Other')"
   ]
  },
  {
   "cell_type": "markdown",
   "metadata": {},
   "source": [
    "The months that have missing values means that age will be dictated by the years column, so we can fill the rest of the months column with zeroes, I did the same thing for the years column in my data cleaning notebook before saving the csv. Will be more organized in final notebook."
   ]
  },
  {
   "cell_type": "code",
   "execution_count": 21,
   "metadata": {},
   "outputs": [],
   "source": [
    "dog_model_data['age(months)'] = dog_model_data['age(months)'].fillna(0)"
   ]
  },
  {
   "cell_type": "markdown",
   "metadata": {},
   "source": [
    "### Prepare Cat data for Modeling"
   ]
  },
  {
   "cell_type": "code",
   "execution_count": 22,
   "metadata": {},
   "outputs": [
    {
     "data": {
      "text/html": [
       "<div>\n",
       "<style scoped>\n",
       "    .dataframe tbody tr th:only-of-type {\n",
       "        vertical-align: middle;\n",
       "    }\n",
       "\n",
       "    .dataframe tbody tr th {\n",
       "        vertical-align: top;\n",
       "    }\n",
       "\n",
       "    .dataframe thead th {\n",
       "        text-align: right;\n",
       "    }\n",
       "</style>\n",
       "<table border=\"1\" class=\"dataframe\">\n",
       "  <thead>\n",
       "    <tr style=\"text-align: right;\">\n",
       "      <th></th>\n",
       "      <th>Unnamed: 0</th>\n",
       "      <th>id</th>\n",
       "      <th>intakedate</th>\n",
       "      <th>intakereason</th>\n",
       "      <th>istransfer</th>\n",
       "      <th>identichipnumber</th>\n",
       "      <th>animalname</th>\n",
       "      <th>breedname</th>\n",
       "      <th>basecolour</th>\n",
       "      <th>speciesname</th>\n",
       "      <th>animalage</th>\n",
       "      <th>sexname</th>\n",
       "      <th>location</th>\n",
       "      <th>movementdate</th>\n",
       "      <th>movementtype</th>\n",
       "      <th>returndate</th>\n",
       "      <th>puttosleep</th>\n",
       "      <th>age(months)</th>\n",
       "      <th>age(years)</th>\n",
       "      <th>duration of stay</th>\n",
       "    </tr>\n",
       "  </thead>\n",
       "  <tbody>\n",
       "    <tr>\n",
       "      <th>0</th>\n",
       "      <td>14</td>\n",
       "      <td>46437</td>\n",
       "      <td>2016-10-26 00:00:00</td>\n",
       "      <td>Abandoned</td>\n",
       "      <td>False</td>\n",
       "      <td>981020017650993</td>\n",
       "      <td>Nova</td>\n",
       "      <td>Domestic Long Hair</td>\n",
       "      <td>Black</td>\n",
       "      <td>Cat</td>\n",
       "      <td>12 years 3 months</td>\n",
       "      <td>Female</td>\n",
       "      <td>Stray Cats</td>\n",
       "      <td>2017-04-07 00:00:00</td>\n",
       "      <td>Adoption</td>\n",
       "      <td>02/09/2018 12:00:00 AM</td>\n",
       "      <td>True</td>\n",
       "      <td>NaN</td>\n",
       "      <td>12.0</td>\n",
       "      <td>163.0</td>\n",
       "    </tr>\n",
       "    <tr>\n",
       "      <th>1</th>\n",
       "      <td>17</td>\n",
       "      <td>47120</td>\n",
       "      <td>2017-01-11 00:00:00</td>\n",
       "      <td>Abandoned</td>\n",
       "      <td>False</td>\n",
       "      <td>981020021072899</td>\n",
       "      <td>Vivian</td>\n",
       "      <td>Other</td>\n",
       "      <td>Other</td>\n",
       "      <td>Cat</td>\n",
       "      <td>6 years 5 months</td>\n",
       "      <td>Female</td>\n",
       "      <td>Foster</td>\n",
       "      <td>2017-05-13 00:00:00</td>\n",
       "      <td>Adoption</td>\n",
       "      <td>NaN</td>\n",
       "      <td>False</td>\n",
       "      <td>NaN</td>\n",
       "      <td>6.0</td>\n",
       "      <td>122.0</td>\n",
       "    </tr>\n",
       "    <tr>\n",
       "      <th>2</th>\n",
       "      <td>26</td>\n",
       "      <td>47198</td>\n",
       "      <td>2017-01-22 00:00:00</td>\n",
       "      <td>Abandoned</td>\n",
       "      <td>False</td>\n",
       "      <td>981020021020775</td>\n",
       "      <td>Mama Mia</td>\n",
       "      <td>Domestic Short Hair</td>\n",
       "      <td>Grey and White</td>\n",
       "      <td>Cat</td>\n",
       "      <td>4 years 10 months</td>\n",
       "      <td>Female</td>\n",
       "      <td>Adoptable Cat Glass Colony</td>\n",
       "      <td>2017-06-22 00:00:00</td>\n",
       "      <td>Adoption</td>\n",
       "      <td>NaN</td>\n",
       "      <td>False</td>\n",
       "      <td>NaN</td>\n",
       "      <td>4.0</td>\n",
       "      <td>151.0</td>\n",
       "    </tr>\n",
       "    <tr>\n",
       "      <th>3</th>\n",
       "      <td>29</td>\n",
       "      <td>47248</td>\n",
       "      <td>2017-01-27 00:00:00</td>\n",
       "      <td>Abandoned</td>\n",
       "      <td>False</td>\n",
       "      <td>981020021068759</td>\n",
       "      <td>Mr. T</td>\n",
       "      <td>Other</td>\n",
       "      <td>Black</td>\n",
       "      <td>Cat</td>\n",
       "      <td>11 years 7 months</td>\n",
       "      <td>Male</td>\n",
       "      <td>Foster</td>\n",
       "      <td>2017-06-02 00:00:00</td>\n",
       "      <td>Adoption</td>\n",
       "      <td>NaN</td>\n",
       "      <td>False</td>\n",
       "      <td>NaN</td>\n",
       "      <td>11.0</td>\n",
       "      <td>126.0</td>\n",
       "    </tr>\n",
       "    <tr>\n",
       "      <th>4</th>\n",
       "      <td>30</td>\n",
       "      <td>47277</td>\n",
       "      <td>2017-01-31 00:00:00</td>\n",
       "      <td>Abandoned</td>\n",
       "      <td>False</td>\n",
       "      <td>981020021046006</td>\n",
       "      <td>Coraline</td>\n",
       "      <td>Domestic Short Hair</td>\n",
       "      <td>Brown and Black</td>\n",
       "      <td>Cat</td>\n",
       "      <td>5 years 5 months</td>\n",
       "      <td>Female</td>\n",
       "      <td>Adoptable Cat Glass Colony</td>\n",
       "      <td>2017-04-05 00:00:00</td>\n",
       "      <td>Adoption</td>\n",
       "      <td>NaN</td>\n",
       "      <td>False</td>\n",
       "      <td>NaN</td>\n",
       "      <td>5.0</td>\n",
       "      <td>64.0</td>\n",
       "    </tr>\n",
       "  </tbody>\n",
       "</table>\n",
       "</div>"
      ],
      "text/plain": [
       "   Unnamed: 0     id           intakedate intakereason  istransfer  \\\n",
       "0          14  46437  2016-10-26 00:00:00    Abandoned       False   \n",
       "1          17  47120  2017-01-11 00:00:00    Abandoned       False   \n",
       "2          26  47198  2017-01-22 00:00:00    Abandoned       False   \n",
       "3          29  47248  2017-01-27 00:00:00    Abandoned       False   \n",
       "4          30  47277  2017-01-31 00:00:00    Abandoned       False   \n",
       "\n",
       "  identichipnumber animalname            breedname       basecolour  \\\n",
       "0  981020017650993       Nova   Domestic Long Hair            Black   \n",
       "1  981020021072899     Vivian                Other            Other   \n",
       "2  981020021020775   Mama Mia  Domestic Short Hair   Grey and White   \n",
       "3  981020021068759      Mr. T                Other            Black   \n",
       "4  981020021046006   Coraline  Domestic Short Hair  Brown and Black   \n",
       "\n",
       "  speciesname          animalage sexname                    location  \\\n",
       "0         Cat  12 years 3 months  Female                  Stray Cats   \n",
       "1         Cat   6 years 5 months  Female                      Foster   \n",
       "2         Cat  4 years 10 months  Female  Adoptable Cat Glass Colony   \n",
       "3         Cat  11 years 7 months    Male                      Foster   \n",
       "4         Cat   5 years 5 months  Female  Adoptable Cat Glass Colony   \n",
       "\n",
       "          movementdate movementtype              returndate  puttosleep  \\\n",
       "0  2017-04-07 00:00:00     Adoption  02/09/2018 12:00:00 AM        True   \n",
       "1  2017-05-13 00:00:00     Adoption                     NaN       False   \n",
       "2  2017-06-22 00:00:00     Adoption                     NaN       False   \n",
       "3  2017-06-02 00:00:00     Adoption                     NaN       False   \n",
       "4  2017-04-05 00:00:00     Adoption                     NaN       False   \n",
       "\n",
       "   age(months)  age(years)  duration of stay  \n",
       "0          NaN        12.0             163.0  \n",
       "1          NaN         6.0             122.0  \n",
       "2          NaN         4.0             151.0  \n",
       "3          NaN        11.0             126.0  \n",
       "4          NaN         5.0              64.0  "
      ]
     },
     "execution_count": 22,
     "metadata": {},
     "output_type": "execute_result"
    }
   ],
   "source": [
    "cat_df.head()"
   ]
  },
  {
   "cell_type": "code",
   "execution_count": 23,
   "metadata": {},
   "outputs": [
    {
     "name": "stdout",
     "output_type": "stream",
     "text": [
      "<class 'pandas.core.frame.DataFrame'>\n",
      "RangeIndex: 7072 entries, 0 to 7071\n",
      "Data columns (total 20 columns):\n",
      " #   Column            Non-Null Count  Dtype  \n",
      "---  ------            --------------  -----  \n",
      " 0   Unnamed: 0        7072 non-null   int64  \n",
      " 1   id                7072 non-null   int64  \n",
      " 2   intakedate        7072 non-null   object \n",
      " 3   intakereason      7072 non-null   object \n",
      " 4   istransfer        7072 non-null   bool   \n",
      " 5   identichipnumber  6170 non-null   object \n",
      " 6   animalname        7072 non-null   object \n",
      " 7   breedname         7072 non-null   object \n",
      " 8   basecolour        7072 non-null   object \n",
      " 9   speciesname       7072 non-null   object \n",
      " 10  animalage         7072 non-null   object \n",
      " 11  sexname           7072 non-null   object \n",
      " 12  location          7072 non-null   object \n",
      " 13  movementdate      7072 non-null   object \n",
      " 14  movementtype      7072 non-null   object \n",
      " 15  returndate        200 non-null    object \n",
      " 16  puttosleep        7072 non-null   bool   \n",
      " 17  age(months)       677 non-null    float64\n",
      " 18  age(years)        7072 non-null   float64\n",
      " 19  duration of stay  7072 non-null   float64\n",
      "dtypes: bool(2), float64(3), int64(2), object(13)\n",
      "memory usage: 1008.4+ KB\n"
     ]
    }
   ],
   "source": [
    "cat_df.info()"
   ]
  },
  {
   "cell_type": "code",
   "execution_count": 24,
   "metadata": {},
   "outputs": [
    {
     "data": {
      "text/plain": [
       "Domestic Short Hair     5811\n",
       "Domestic Medium Hair     560\n",
       "Domestic Long Hair       419\n",
       "Siamese                  121\n",
       "Manx                      52\n",
       "Other                     47\n",
       "Unknown                   29\n",
       "Bengal                    11\n",
       "Maine Coon                 9\n",
       "Oriental Shorthair         7\n",
       "Calico                     6\n",
       "Name: breedname, dtype: int64"
      ]
     },
     "execution_count": 24,
     "metadata": {},
     "output_type": "execute_result"
    }
   ],
   "source": [
    "cat_df['breedname'].value_counts()"
   ]
  },
  {
   "cell_type": "code",
   "execution_count": 25,
   "metadata": {
    "scrolled": true
   },
   "outputs": [
    {
     "data": {
      "text/plain": [
       "Adoption            5945\n",
       "Reclaimed            405\n",
       "Transfer             356\n",
       "Foster               326\n",
       "Released To Wild      29\n",
       "Stolen                 6\n",
       "Escaped                5\n",
       "Name: movementtype, dtype: int64"
      ]
     },
     "execution_count": 25,
     "metadata": {},
     "output_type": "execute_result"
    }
   ],
   "source": [
    "cat_df['movementtype'].value_counts()"
   ]
  },
  {
   "cell_type": "code",
   "execution_count": 26,
   "metadata": {},
   "outputs": [
    {
     "data": {
      "text/html": [
       "<div>\n",
       "<style scoped>\n",
       "    .dataframe tbody tr th:only-of-type {\n",
       "        vertical-align: middle;\n",
       "    }\n",
       "\n",
       "    .dataframe tbody tr th {\n",
       "        vertical-align: top;\n",
       "    }\n",
       "\n",
       "    .dataframe thead th {\n",
       "        text-align: right;\n",
       "    }\n",
       "</style>\n",
       "<table border=\"1\" class=\"dataframe\">\n",
       "  <thead>\n",
       "    <tr style=\"text-align: right;\">\n",
       "      <th></th>\n",
       "      <th>Unnamed: 0</th>\n",
       "      <th>id</th>\n",
       "      <th>intakedate</th>\n",
       "      <th>intakereason</th>\n",
       "      <th>istransfer</th>\n",
       "      <th>identichipnumber</th>\n",
       "      <th>animalname</th>\n",
       "      <th>breedname</th>\n",
       "      <th>basecolour</th>\n",
       "      <th>speciesname</th>\n",
       "      <th>animalage</th>\n",
       "      <th>sexname</th>\n",
       "      <th>location</th>\n",
       "      <th>movementdate</th>\n",
       "      <th>movementtype</th>\n",
       "      <th>returndate</th>\n",
       "      <th>puttosleep</th>\n",
       "      <th>age(months)</th>\n",
       "      <th>age(years)</th>\n",
       "      <th>duration of stay</th>\n",
       "    </tr>\n",
       "  </thead>\n",
       "  <tbody>\n",
       "    <tr>\n",
       "      <th>6</th>\n",
       "      <td>36</td>\n",
       "      <td>47360</td>\n",
       "      <td>2017-02-11 00:00:00</td>\n",
       "      <td>Abandoned</td>\n",
       "      <td>False</td>\n",
       "      <td>981020021060759</td>\n",
       "      <td>Calli</td>\n",
       "      <td>Domestic Short Hair</td>\n",
       "      <td>Other</td>\n",
       "      <td>Cat</td>\n",
       "      <td>16 years 3 months</td>\n",
       "      <td>Female</td>\n",
       "      <td>Office</td>\n",
       "      <td>2017-06-12 00:00:00</td>\n",
       "      <td>Foster</td>\n",
       "      <td>06/13/2017 12:00:00 AM</td>\n",
       "      <td>True</td>\n",
       "      <td>NaN</td>\n",
       "      <td>16.0</td>\n",
       "      <td>121.0</td>\n",
       "    </tr>\n",
       "    <tr>\n",
       "      <th>63</th>\n",
       "      <td>313</td>\n",
       "      <td>55371</td>\n",
       "      <td>2017-04-03 16:30:55</td>\n",
       "      <td>Abandoned</td>\n",
       "      <td>False</td>\n",
       "      <td>NaN</td>\n",
       "      <td>Ronan</td>\n",
       "      <td>Calico</td>\n",
       "      <td>Other</td>\n",
       "      <td>Cat</td>\n",
       "      <td>1 months</td>\n",
       "      <td>Female</td>\n",
       "      <td>Feline Nursery</td>\n",
       "      <td>2017-04-18 00:00:00</td>\n",
       "      <td>Foster</td>\n",
       "      <td>08/25/2017 12:00:00 AM</td>\n",
       "      <td>False</td>\n",
       "      <td>1.0</td>\n",
       "      <td>0.0</td>\n",
       "      <td>15.0</td>\n",
       "    </tr>\n",
       "    <tr>\n",
       "      <th>77</th>\n",
       "      <td>344</td>\n",
       "      <td>55396</td>\n",
       "      <td>2017-03-18 00:00:00</td>\n",
       "      <td>Abandoned</td>\n",
       "      <td>False</td>\n",
       "      <td>NaN</td>\n",
       "      <td>Gray</td>\n",
       "      <td>Domestic Short Hair</td>\n",
       "      <td>Grey and White</td>\n",
       "      <td>Cat</td>\n",
       "      <td>1 months</td>\n",
       "      <td>Female</td>\n",
       "      <td>Foster</td>\n",
       "      <td>2017-03-20 00:00:00</td>\n",
       "      <td>Foster</td>\n",
       "      <td>04/11/2017 12:00:00 AM</td>\n",
       "      <td>False</td>\n",
       "      <td>1.0</td>\n",
       "      <td>0.0</td>\n",
       "      <td>2.0</td>\n",
       "    </tr>\n",
       "    <tr>\n",
       "      <th>78</th>\n",
       "      <td>345</td>\n",
       "      <td>55397</td>\n",
       "      <td>2017-03-18 00:00:00</td>\n",
       "      <td>Abandoned</td>\n",
       "      <td>False</td>\n",
       "      <td>NaN</td>\n",
       "      <td>Brown</td>\n",
       "      <td>Domestic Short Hair</td>\n",
       "      <td>Brown and Black</td>\n",
       "      <td>Cat</td>\n",
       "      <td>1 months</td>\n",
       "      <td>Female</td>\n",
       "      <td>Foster</td>\n",
       "      <td>2017-03-20 00:00:00</td>\n",
       "      <td>Foster</td>\n",
       "      <td>04/11/2017 12:00:00 AM</td>\n",
       "      <td>False</td>\n",
       "      <td>1.0</td>\n",
       "      <td>0.0</td>\n",
       "      <td>2.0</td>\n",
       "    </tr>\n",
       "    <tr>\n",
       "      <th>79</th>\n",
       "      <td>346</td>\n",
       "      <td>55398</td>\n",
       "      <td>2017-03-18 00:00:00</td>\n",
       "      <td>Abandoned</td>\n",
       "      <td>False</td>\n",
       "      <td>NaN</td>\n",
       "      <td>White</td>\n",
       "      <td>Domestic Short Hair</td>\n",
       "      <td>Black and White</td>\n",
       "      <td>Cat</td>\n",
       "      <td>1 months</td>\n",
       "      <td>Female</td>\n",
       "      <td>Foster</td>\n",
       "      <td>2017-03-20 00:00:00</td>\n",
       "      <td>Foster</td>\n",
       "      <td>04/11/2017 12:00:00 AM</td>\n",
       "      <td>False</td>\n",
       "      <td>1.0</td>\n",
       "      <td>0.0</td>\n",
       "      <td>2.0</td>\n",
       "    </tr>\n",
       "    <tr>\n",
       "      <th>80</th>\n",
       "      <td>347</td>\n",
       "      <td>55399</td>\n",
       "      <td>2017-03-18 00:00:00</td>\n",
       "      <td>Abandoned</td>\n",
       "      <td>False</td>\n",
       "      <td>NaN</td>\n",
       "      <td>Black</td>\n",
       "      <td>Domestic Short Hair</td>\n",
       "      <td>Black and White</td>\n",
       "      <td>Cat</td>\n",
       "      <td>1 months</td>\n",
       "      <td>Female</td>\n",
       "      <td>Foster</td>\n",
       "      <td>2017-03-20 00:00:00</td>\n",
       "      <td>Foster</td>\n",
       "      <td>04/02/2017 12:00:00 AM</td>\n",
       "      <td>False</td>\n",
       "      <td>1.0</td>\n",
       "      <td>0.0</td>\n",
       "      <td>2.0</td>\n",
       "    </tr>\n",
       "    <tr>\n",
       "      <th>119</th>\n",
       "      <td>467</td>\n",
       "      <td>55519</td>\n",
       "      <td>2017-04-17 12:59:56</td>\n",
       "      <td>Stray</td>\n",
       "      <td>False</td>\n",
       "      <td>NaN</td>\n",
       "      <td>Josefina</td>\n",
       "      <td>Domestic Short Hair</td>\n",
       "      <td>Black and Brown</td>\n",
       "      <td>Cat</td>\n",
       "      <td>2 months</td>\n",
       "      <td>Female</td>\n",
       "      <td>Feline Nursery</td>\n",
       "      <td>2017-05-16 00:00:00</td>\n",
       "      <td>Foster</td>\n",
       "      <td>05/27/2017 12:00:00 AM</td>\n",
       "      <td>True</td>\n",
       "      <td>2.0</td>\n",
       "      <td>0.0</td>\n",
       "      <td>29.0</td>\n",
       "    </tr>\n",
       "    <tr>\n",
       "      <th>120</th>\n",
       "      <td>469</td>\n",
       "      <td>55521</td>\n",
       "      <td>2017-04-17 13:43:15</td>\n",
       "      <td>Stray</td>\n",
       "      <td>False</td>\n",
       "      <td>981020021806702</td>\n",
       "      <td>Catty Ann</td>\n",
       "      <td>Domestic Short Hair</td>\n",
       "      <td>Torbie</td>\n",
       "      <td>Cat</td>\n",
       "      <td>5 years 3 months</td>\n",
       "      <td>Female</td>\n",
       "      <td>Special Care Cats</td>\n",
       "      <td>2017-07-13 00:00:00</td>\n",
       "      <td>Foster</td>\n",
       "      <td>07/16/2017 12:00:00 AM</td>\n",
       "      <td>True</td>\n",
       "      <td>NaN</td>\n",
       "      <td>5.0</td>\n",
       "      <td>87.0</td>\n",
       "    </tr>\n",
       "    <tr>\n",
       "      <th>168</th>\n",
       "      <td>622</td>\n",
       "      <td>55663</td>\n",
       "      <td>2017-04-27 14:30:31</td>\n",
       "      <td>Stray</td>\n",
       "      <td>False</td>\n",
       "      <td>NaN</td>\n",
       "      <td>Pumpkin</td>\n",
       "      <td>Domestic Medium Hair</td>\n",
       "      <td>Orange</td>\n",
       "      <td>Cat</td>\n",
       "      <td>1 months</td>\n",
       "      <td>Male</td>\n",
       "      <td>Check-in</td>\n",
       "      <td>2017-04-27 00:00:00</td>\n",
       "      <td>Foster</td>\n",
       "      <td>05/15/2017 12:00:00 AM</td>\n",
       "      <td>False</td>\n",
       "      <td>1.0</td>\n",
       "      <td>0.0</td>\n",
       "      <td>0.0</td>\n",
       "    </tr>\n",
       "    <tr>\n",
       "      <th>190</th>\n",
       "      <td>691</td>\n",
       "      <td>55742</td>\n",
       "      <td>2017-05-08 16:53:14</td>\n",
       "      <td>Stray</td>\n",
       "      <td>False</td>\n",
       "      <td>NaN</td>\n",
       "      <td>Boat</td>\n",
       "      <td>Domestic Short Hair</td>\n",
       "      <td>Grey</td>\n",
       "      <td>Cat</td>\n",
       "      <td>1 months</td>\n",
       "      <td>Female</td>\n",
       "      <td>Feline Nursery</td>\n",
       "      <td>2017-05-20 00:00:00</td>\n",
       "      <td>Foster</td>\n",
       "      <td>06/03/2017 12:00:00 AM</td>\n",
       "      <td>True</td>\n",
       "      <td>1.0</td>\n",
       "      <td>0.0</td>\n",
       "      <td>12.0</td>\n",
       "    </tr>\n",
       "    <tr>\n",
       "      <th>191</th>\n",
       "      <td>693</td>\n",
       "      <td>55743</td>\n",
       "      <td>2017-05-08 16:53:14</td>\n",
       "      <td>Stray</td>\n",
       "      <td>False</td>\n",
       "      <td>NaN</td>\n",
       "      <td>Canoe</td>\n",
       "      <td>Domestic Short Hair</td>\n",
       "      <td>Orange</td>\n",
       "      <td>Cat</td>\n",
       "      <td>1 months</td>\n",
       "      <td>Male</td>\n",
       "      <td>Feline Nursery</td>\n",
       "      <td>2017-05-20 00:00:00</td>\n",
       "      <td>Foster</td>\n",
       "      <td>06/03/2017 12:00:00 AM</td>\n",
       "      <td>True</td>\n",
       "      <td>1.0</td>\n",
       "      <td>0.0</td>\n",
       "      <td>12.0</td>\n",
       "    </tr>\n",
       "    <tr>\n",
       "      <th>194</th>\n",
       "      <td>697</td>\n",
       "      <td>55749</td>\n",
       "      <td>2017-05-09 12:51:59</td>\n",
       "      <td>Stray</td>\n",
       "      <td>False</td>\n",
       "      <td>NaN</td>\n",
       "      <td>Loogaroo</td>\n",
       "      <td>Domestic Short Hair</td>\n",
       "      <td>Black</td>\n",
       "      <td>Cat</td>\n",
       "      <td>1 months</td>\n",
       "      <td>Female</td>\n",
       "      <td>Special Care Cats</td>\n",
       "      <td>2017-05-09 00:00:00</td>\n",
       "      <td>Foster</td>\n",
       "      <td>05/18/2017 12:00:00 AM</td>\n",
       "      <td>True</td>\n",
       "      <td>1.0</td>\n",
       "      <td>0.0</td>\n",
       "      <td>0.0</td>\n",
       "    </tr>\n",
       "    <tr>\n",
       "      <th>202</th>\n",
       "      <td>738</td>\n",
       "      <td>55774</td>\n",
       "      <td>2017-05-11 11:49:02</td>\n",
       "      <td>Stray</td>\n",
       "      <td>False</td>\n",
       "      <td>NaN</td>\n",
       "      <td>Earl</td>\n",
       "      <td>Domestic Short Hair</td>\n",
       "      <td>Black and White</td>\n",
       "      <td>Cat</td>\n",
       "      <td>1 months</td>\n",
       "      <td>Male</td>\n",
       "      <td>Feline Nursery</td>\n",
       "      <td>2017-05-11 00:00:00</td>\n",
       "      <td>Foster</td>\n",
       "      <td>06/12/2017 12:00:00 AM</td>\n",
       "      <td>True</td>\n",
       "      <td>1.0</td>\n",
       "      <td>0.0</td>\n",
       "      <td>0.0</td>\n",
       "    </tr>\n",
       "    <tr>\n",
       "      <th>218</th>\n",
       "      <td>801</td>\n",
       "      <td>55817</td>\n",
       "      <td>2017-05-15 13:29:12</td>\n",
       "      <td>Stray</td>\n",
       "      <td>False</td>\n",
       "      <td>NaN</td>\n",
       "      <td>Frank</td>\n",
       "      <td>Domestic Short Hair</td>\n",
       "      <td>Black</td>\n",
       "      <td>Cat</td>\n",
       "      <td>1 months</td>\n",
       "      <td>Male</td>\n",
       "      <td>Check-in</td>\n",
       "      <td>2017-05-16 00:00:00</td>\n",
       "      <td>Foster</td>\n",
       "      <td>06/15/2017 12:00:00 AM</td>\n",
       "      <td>False</td>\n",
       "      <td>1.0</td>\n",
       "      <td>0.0</td>\n",
       "      <td>1.0</td>\n",
       "    </tr>\n",
       "    <tr>\n",
       "      <th>224</th>\n",
       "      <td>813</td>\n",
       "      <td>55827</td>\n",
       "      <td>2017-05-16 08:27:01</td>\n",
       "      <td>Stray</td>\n",
       "      <td>False</td>\n",
       "      <td>NaN</td>\n",
       "      <td>Birder</td>\n",
       "      <td>Domestic Short Hair</td>\n",
       "      <td>Black and White</td>\n",
       "      <td>Cat</td>\n",
       "      <td>1 months</td>\n",
       "      <td>Male</td>\n",
       "      <td>Feline Nursery</td>\n",
       "      <td>2017-05-16 00:00:00</td>\n",
       "      <td>Foster</td>\n",
       "      <td>08/25/2017 12:00:00 AM</td>\n",
       "      <td>True</td>\n",
       "      <td>1.0</td>\n",
       "      <td>0.0</td>\n",
       "      <td>0.0</td>\n",
       "    </tr>\n",
       "    <tr>\n",
       "      <th>228</th>\n",
       "      <td>820</td>\n",
       "      <td>55836</td>\n",
       "      <td>2017-05-16 17:21:53</td>\n",
       "      <td>Stray</td>\n",
       "      <td>False</td>\n",
       "      <td>NaN</td>\n",
       "      <td>Kayak</td>\n",
       "      <td>Domestic Short Hair</td>\n",
       "      <td>Grey</td>\n",
       "      <td>Cat</td>\n",
       "      <td>1 months</td>\n",
       "      <td>Female</td>\n",
       "      <td>Feline Nursery</td>\n",
       "      <td>2017-05-20 00:00:00</td>\n",
       "      <td>Foster</td>\n",
       "      <td>05/20/2017 12:00:00 AM</td>\n",
       "      <td>False</td>\n",
       "      <td>1.0</td>\n",
       "      <td>0.0</td>\n",
       "      <td>4.0</td>\n",
       "    </tr>\n",
       "    <tr>\n",
       "      <th>238</th>\n",
       "      <td>856</td>\n",
       "      <td>55882</td>\n",
       "      <td>2017-05-20 16:43:34</td>\n",
       "      <td>Stray</td>\n",
       "      <td>False</td>\n",
       "      <td>NaN</td>\n",
       "      <td>Waylon</td>\n",
       "      <td>Domestic Short Hair</td>\n",
       "      <td>Black and Brown</td>\n",
       "      <td>Cat</td>\n",
       "      <td>2 months</td>\n",
       "      <td>Male</td>\n",
       "      <td>Feline Nursery</td>\n",
       "      <td>2017-05-23 00:00:00</td>\n",
       "      <td>Foster</td>\n",
       "      <td>06/12/2017 12:00:00 AM</td>\n",
       "      <td>False</td>\n",
       "      <td>2.0</td>\n",
       "      <td>0.0</td>\n",
       "      <td>3.0</td>\n",
       "    </tr>\n",
       "    <tr>\n",
       "      <th>243</th>\n",
       "      <td>877</td>\n",
       "      <td>55908</td>\n",
       "      <td>2017-05-23 12:35:49</td>\n",
       "      <td>Stray</td>\n",
       "      <td>False</td>\n",
       "      <td>NaN</td>\n",
       "      <td>Mason</td>\n",
       "      <td>Domestic Short Hair</td>\n",
       "      <td>Black</td>\n",
       "      <td>Cat</td>\n",
       "      <td>1 months</td>\n",
       "      <td>Male</td>\n",
       "      <td>Feline Nursery</td>\n",
       "      <td>2017-05-31 00:00:00</td>\n",
       "      <td>Foster</td>\n",
       "      <td>06/04/2017 12:00:00 AM</td>\n",
       "      <td>False</td>\n",
       "      <td>1.0</td>\n",
       "      <td>0.0</td>\n",
       "      <td>8.0</td>\n",
       "    </tr>\n",
       "    <tr>\n",
       "      <th>244</th>\n",
       "      <td>878</td>\n",
       "      <td>55909</td>\n",
       "      <td>2017-05-23 12:35:49</td>\n",
       "      <td>Stray</td>\n",
       "      <td>False</td>\n",
       "      <td>NaN</td>\n",
       "      <td>Nalgene</td>\n",
       "      <td>Domestic Short Hair</td>\n",
       "      <td>Grey</td>\n",
       "      <td>Cat</td>\n",
       "      <td>1 months</td>\n",
       "      <td>Female</td>\n",
       "      <td>Feline Nursery</td>\n",
       "      <td>2017-05-31 00:00:00</td>\n",
       "      <td>Foster</td>\n",
       "      <td>06/01/2017 12:00:00 AM</td>\n",
       "      <td>False</td>\n",
       "      <td>1.0</td>\n",
       "      <td>0.0</td>\n",
       "      <td>8.0</td>\n",
       "    </tr>\n",
       "    <tr>\n",
       "      <th>272</th>\n",
       "      <td>951</td>\n",
       "      <td>55965</td>\n",
       "      <td>2017-05-26 19:15:13</td>\n",
       "      <td>Stray</td>\n",
       "      <td>False</td>\n",
       "      <td>NaN</td>\n",
       "      <td>Big Mama Charlotte</td>\n",
       "      <td>Domestic Short Hair</td>\n",
       "      <td>Buff</td>\n",
       "      <td>Cat</td>\n",
       "      <td>1 months</td>\n",
       "      <td>Male</td>\n",
       "      <td>Feline Nursery</td>\n",
       "      <td>2017-05-27 00:00:00</td>\n",
       "      <td>Foster</td>\n",
       "      <td>08/25/2017 12:00:00 AM</td>\n",
       "      <td>False</td>\n",
       "      <td>1.0</td>\n",
       "      <td>0.0</td>\n",
       "      <td>1.0</td>\n",
       "    </tr>\n",
       "    <tr>\n",
       "      <th>291</th>\n",
       "      <td>999</td>\n",
       "      <td>56026</td>\n",
       "      <td>2017-06-02 15:13:49</td>\n",
       "      <td>Incompatible</td>\n",
       "      <td>False</td>\n",
       "      <td>981020021786308</td>\n",
       "      <td>Halo</td>\n",
       "      <td>Domestic Short Hair</td>\n",
       "      <td>Black</td>\n",
       "      <td>Cat</td>\n",
       "      <td>13 years 2 months</td>\n",
       "      <td>Female</td>\n",
       "      <td>Special Care Cats</td>\n",
       "      <td>2017-08-11 00:00:00</td>\n",
       "      <td>Foster</td>\n",
       "      <td>08/25/2017 12:00:00 AM</td>\n",
       "      <td>True</td>\n",
       "      <td>NaN</td>\n",
       "      <td>13.0</td>\n",
       "      <td>70.0</td>\n",
       "    </tr>\n",
       "    <tr>\n",
       "      <th>332</th>\n",
       "      <td>1105</td>\n",
       "      <td>56102</td>\n",
       "      <td>2017-06-08 10:21:44</td>\n",
       "      <td>Stray</td>\n",
       "      <td>False</td>\n",
       "      <td>NaN</td>\n",
       "      <td>Nekosha</td>\n",
       "      <td>Domestic Short Hair</td>\n",
       "      <td>White</td>\n",
       "      <td>Cat</td>\n",
       "      <td>1 months</td>\n",
       "      <td>Male</td>\n",
       "      <td>Shelter</td>\n",
       "      <td>2017-06-08 00:00:00</td>\n",
       "      <td>Foster</td>\n",
       "      <td>08/25/2017 12:00:00 AM</td>\n",
       "      <td>False</td>\n",
       "      <td>1.0</td>\n",
       "      <td>0.0</td>\n",
       "      <td>0.0</td>\n",
       "    </tr>\n",
       "    <tr>\n",
       "      <th>335</th>\n",
       "      <td>1110</td>\n",
       "      <td>56107</td>\n",
       "      <td>2017-06-08 16:00:58</td>\n",
       "      <td>Stray</td>\n",
       "      <td>False</td>\n",
       "      <td>NaN</td>\n",
       "      <td>Beatrice</td>\n",
       "      <td>Domestic Short Hair</td>\n",
       "      <td>Orange</td>\n",
       "      <td>Cat</td>\n",
       "      <td>1 months</td>\n",
       "      <td>Female</td>\n",
       "      <td>Feline Nursery</td>\n",
       "      <td>2017-06-10 00:00:00</td>\n",
       "      <td>Foster</td>\n",
       "      <td>08/25/2017 12:00:00 AM</td>\n",
       "      <td>False</td>\n",
       "      <td>1.0</td>\n",
       "      <td>0.0</td>\n",
       "      <td>2.0</td>\n",
       "    </tr>\n",
       "    <tr>\n",
       "      <th>447</th>\n",
       "      <td>1364</td>\n",
       "      <td>56321</td>\n",
       "      <td>2017-06-24 08:54:36</td>\n",
       "      <td>Stray</td>\n",
       "      <td>False</td>\n",
       "      <td>NaN</td>\n",
       "      <td>May</td>\n",
       "      <td>Domestic Short Hair</td>\n",
       "      <td>Black and White</td>\n",
       "      <td>Cat</td>\n",
       "      <td>1 months</td>\n",
       "      <td>Female</td>\n",
       "      <td>Feline Nursery</td>\n",
       "      <td>2017-07-10 00:00:00</td>\n",
       "      <td>Foster</td>\n",
       "      <td>07/11/2017 12:00:00 AM</td>\n",
       "      <td>False</td>\n",
       "      <td>1.0</td>\n",
       "      <td>0.0</td>\n",
       "      <td>16.0</td>\n",
       "    </tr>\n",
       "    <tr>\n",
       "      <th>448</th>\n",
       "      <td>1365</td>\n",
       "      <td>56322</td>\n",
       "      <td>2017-06-24 08:57:52</td>\n",
       "      <td>Stray</td>\n",
       "      <td>False</td>\n",
       "      <td>NaN</td>\n",
       "      <td>Pearl</td>\n",
       "      <td>Domestic Short Hair</td>\n",
       "      <td>Grey</td>\n",
       "      <td>Cat</td>\n",
       "      <td>1 months</td>\n",
       "      <td>Female</td>\n",
       "      <td>Feline Nursery</td>\n",
       "      <td>2017-06-30 00:00:00</td>\n",
       "      <td>Foster</td>\n",
       "      <td>07/09/2017 12:00:00 AM</td>\n",
       "      <td>False</td>\n",
       "      <td>1.0</td>\n",
       "      <td>0.0</td>\n",
       "      <td>6.0</td>\n",
       "    </tr>\n",
       "    <tr>\n",
       "      <th>477</th>\n",
       "      <td>1436</td>\n",
       "      <td>56413</td>\n",
       "      <td>2017-06-29 12:47:46</td>\n",
       "      <td>Stray</td>\n",
       "      <td>False</td>\n",
       "      <td>NaN</td>\n",
       "      <td>Chi Chi</td>\n",
       "      <td>Domestic Short Hair</td>\n",
       "      <td>White</td>\n",
       "      <td>Cat</td>\n",
       "      <td>2 months</td>\n",
       "      <td>Male</td>\n",
       "      <td>Feline Nursery</td>\n",
       "      <td>2017-07-05 00:00:00</td>\n",
       "      <td>Foster</td>\n",
       "      <td>07/23/2017 12:00:00 AM</td>\n",
       "      <td>False</td>\n",
       "      <td>2.0</td>\n",
       "      <td>0.0</td>\n",
       "      <td>6.0</td>\n",
       "    </tr>\n",
       "    <tr>\n",
       "      <th>504</th>\n",
       "      <td>1501</td>\n",
       "      <td>56478</td>\n",
       "      <td>2017-07-05 11:45:29</td>\n",
       "      <td>Stray</td>\n",
       "      <td>False</td>\n",
       "      <td>NaN</td>\n",
       "      <td>Maize</td>\n",
       "      <td>Domestic Short Hair</td>\n",
       "      <td>Tortoiseshell</td>\n",
       "      <td>Cat</td>\n",
       "      <td>1 months</td>\n",
       "      <td>Female</td>\n",
       "      <td>Feline Nursery</td>\n",
       "      <td>2017-07-10 00:00:00</td>\n",
       "      <td>Foster</td>\n",
       "      <td>08/01/2017 12:00:00 AM</td>\n",
       "      <td>False</td>\n",
       "      <td>1.0</td>\n",
       "      <td>0.0</td>\n",
       "      <td>5.0</td>\n",
       "    </tr>\n",
       "    <tr>\n",
       "      <th>505</th>\n",
       "      <td>1502</td>\n",
       "      <td>56479</td>\n",
       "      <td>2017-07-05 11:45:29</td>\n",
       "      <td>Stray</td>\n",
       "      <td>False</td>\n",
       "      <td>NaN</td>\n",
       "      <td>Clove</td>\n",
       "      <td>Domestic Short Hair</td>\n",
       "      <td>Black</td>\n",
       "      <td>Cat</td>\n",
       "      <td>1 months</td>\n",
       "      <td>Male</td>\n",
       "      <td>Feline Nursery</td>\n",
       "      <td>2017-07-10 00:00:00</td>\n",
       "      <td>Foster</td>\n",
       "      <td>08/01/2017 12:00:00 AM</td>\n",
       "      <td>False</td>\n",
       "      <td>1.0</td>\n",
       "      <td>0.0</td>\n",
       "      <td>5.0</td>\n",
       "    </tr>\n",
       "    <tr>\n",
       "      <th>541</th>\n",
       "      <td>1582</td>\n",
       "      <td>56540</td>\n",
       "      <td>2017-07-08 12:38:59</td>\n",
       "      <td>Stray</td>\n",
       "      <td>False</td>\n",
       "      <td>NaN</td>\n",
       "      <td>Party Nugget</td>\n",
       "      <td>Domestic Short Hair</td>\n",
       "      <td>Grey</td>\n",
       "      <td>Cat</td>\n",
       "      <td>1 months</td>\n",
       "      <td>Male</td>\n",
       "      <td>Feline Nursery</td>\n",
       "      <td>2017-07-15 00:00:00</td>\n",
       "      <td>Foster</td>\n",
       "      <td>07/25/2017 12:00:00 AM</td>\n",
       "      <td>True</td>\n",
       "      <td>1.0</td>\n",
       "      <td>0.0</td>\n",
       "      <td>7.0</td>\n",
       "    </tr>\n",
       "    <tr>\n",
       "      <th>552</th>\n",
       "      <td>1602</td>\n",
       "      <td>56552</td>\n",
       "      <td>2017-06-23 09:01:08</td>\n",
       "      <td>Stray</td>\n",
       "      <td>False</td>\n",
       "      <td>NaN</td>\n",
       "      <td>June</td>\n",
       "      <td>Domestic Short Hair</td>\n",
       "      <td>White</td>\n",
       "      <td>Cat</td>\n",
       "      <td>1 months</td>\n",
       "      <td>Female</td>\n",
       "      <td>Feline Nursery</td>\n",
       "      <td>2017-07-10 00:00:00</td>\n",
       "      <td>Foster</td>\n",
       "      <td>07/11/2017 12:00:00 AM</td>\n",
       "      <td>False</td>\n",
       "      <td>1.0</td>\n",
       "      <td>0.0</td>\n",
       "      <td>17.0</td>\n",
       "    </tr>\n",
       "  </tbody>\n",
       "</table>\n",
       "</div>"
      ],
      "text/plain": [
       "     Unnamed: 0     id           intakedate  intakereason  istransfer  \\\n",
       "6            36  47360  2017-02-11 00:00:00     Abandoned       False   \n",
       "63          313  55371  2017-04-03 16:30:55     Abandoned       False   \n",
       "77          344  55396  2017-03-18 00:00:00     Abandoned       False   \n",
       "78          345  55397  2017-03-18 00:00:00     Abandoned       False   \n",
       "79          346  55398  2017-03-18 00:00:00     Abandoned       False   \n",
       "80          347  55399  2017-03-18 00:00:00     Abandoned       False   \n",
       "119         467  55519  2017-04-17 12:59:56         Stray       False   \n",
       "120         469  55521  2017-04-17 13:43:15         Stray       False   \n",
       "168         622  55663  2017-04-27 14:30:31         Stray       False   \n",
       "190         691  55742  2017-05-08 16:53:14         Stray       False   \n",
       "191         693  55743  2017-05-08 16:53:14         Stray       False   \n",
       "194         697  55749  2017-05-09 12:51:59         Stray       False   \n",
       "202         738  55774  2017-05-11 11:49:02         Stray       False   \n",
       "218         801  55817  2017-05-15 13:29:12         Stray       False   \n",
       "224         813  55827  2017-05-16 08:27:01         Stray       False   \n",
       "228         820  55836  2017-05-16 17:21:53         Stray       False   \n",
       "238         856  55882  2017-05-20 16:43:34         Stray       False   \n",
       "243         877  55908  2017-05-23 12:35:49         Stray       False   \n",
       "244         878  55909  2017-05-23 12:35:49         Stray       False   \n",
       "272         951  55965  2017-05-26 19:15:13         Stray       False   \n",
       "291         999  56026  2017-06-02 15:13:49  Incompatible       False   \n",
       "332        1105  56102  2017-06-08 10:21:44         Stray       False   \n",
       "335        1110  56107  2017-06-08 16:00:58         Stray       False   \n",
       "447        1364  56321  2017-06-24 08:54:36         Stray       False   \n",
       "448        1365  56322  2017-06-24 08:57:52         Stray       False   \n",
       "477        1436  56413  2017-06-29 12:47:46         Stray       False   \n",
       "504        1501  56478  2017-07-05 11:45:29         Stray       False   \n",
       "505        1502  56479  2017-07-05 11:45:29         Stray       False   \n",
       "541        1582  56540  2017-07-08 12:38:59         Stray       False   \n",
       "552        1602  56552  2017-06-23 09:01:08         Stray       False   \n",
       "\n",
       "    identichipnumber          animalname             breedname  \\\n",
       "6    981020021060759               Calli   Domestic Short Hair   \n",
       "63               NaN               Ronan                Calico   \n",
       "77               NaN                Gray   Domestic Short Hair   \n",
       "78               NaN               Brown   Domestic Short Hair   \n",
       "79               NaN               White   Domestic Short Hair   \n",
       "80               NaN               Black   Domestic Short Hair   \n",
       "119              NaN            Josefina   Domestic Short Hair   \n",
       "120  981020021806702           Catty Ann   Domestic Short Hair   \n",
       "168              NaN             Pumpkin  Domestic Medium Hair   \n",
       "190              NaN                Boat   Domestic Short Hair   \n",
       "191              NaN               Canoe   Domestic Short Hair   \n",
       "194              NaN            Loogaroo   Domestic Short Hair   \n",
       "202              NaN                Earl   Domestic Short Hair   \n",
       "218              NaN               Frank   Domestic Short Hair   \n",
       "224              NaN              Birder   Domestic Short Hair   \n",
       "228              NaN               Kayak   Domestic Short Hair   \n",
       "238              NaN              Waylon   Domestic Short Hair   \n",
       "243              NaN               Mason   Domestic Short Hair   \n",
       "244              NaN             Nalgene   Domestic Short Hair   \n",
       "272              NaN  Big Mama Charlotte   Domestic Short Hair   \n",
       "291  981020021786308                Halo   Domestic Short Hair   \n",
       "332              NaN             Nekosha   Domestic Short Hair   \n",
       "335              NaN            Beatrice   Domestic Short Hair   \n",
       "447              NaN                 May   Domestic Short Hair   \n",
       "448              NaN               Pearl   Domestic Short Hair   \n",
       "477              NaN             Chi Chi   Domestic Short Hair   \n",
       "504              NaN               Maize   Domestic Short Hair   \n",
       "505              NaN               Clove   Domestic Short Hair   \n",
       "541              NaN        Party Nugget   Domestic Short Hair   \n",
       "552              NaN                June   Domestic Short Hair   \n",
       "\n",
       "          basecolour speciesname          animalage sexname  \\\n",
       "6              Other         Cat  16 years 3 months  Female   \n",
       "63             Other         Cat           1 months  Female   \n",
       "77    Grey and White         Cat           1 months  Female   \n",
       "78   Brown and Black         Cat           1 months  Female   \n",
       "79   Black and White         Cat           1 months  Female   \n",
       "80   Black and White         Cat           1 months  Female   \n",
       "119  Black and Brown         Cat           2 months  Female   \n",
       "120           Torbie         Cat   5 years 3 months  Female   \n",
       "168           Orange         Cat           1 months    Male   \n",
       "190             Grey         Cat           1 months  Female   \n",
       "191           Orange         Cat           1 months    Male   \n",
       "194            Black         Cat           1 months  Female   \n",
       "202  Black and White         Cat           1 months    Male   \n",
       "218            Black         Cat           1 months    Male   \n",
       "224  Black and White         Cat           1 months    Male   \n",
       "228             Grey         Cat           1 months  Female   \n",
       "238  Black and Brown         Cat           2 months    Male   \n",
       "243            Black         Cat           1 months    Male   \n",
       "244             Grey         Cat           1 months  Female   \n",
       "272             Buff         Cat           1 months    Male   \n",
       "291            Black         Cat  13 years 2 months  Female   \n",
       "332            White         Cat           1 months    Male   \n",
       "335           Orange         Cat           1 months  Female   \n",
       "447  Black and White         Cat           1 months  Female   \n",
       "448             Grey         Cat           1 months  Female   \n",
       "477            White         Cat           2 months    Male   \n",
       "504    Tortoiseshell         Cat           1 months  Female   \n",
       "505            Black         Cat           1 months    Male   \n",
       "541             Grey         Cat           1 months    Male   \n",
       "552            White         Cat           1 months  Female   \n",
       "\n",
       "              location         movementdate movementtype  \\\n",
       "6               Office  2017-06-12 00:00:00       Foster   \n",
       "63      Feline Nursery  2017-04-18 00:00:00       Foster   \n",
       "77              Foster  2017-03-20 00:00:00       Foster   \n",
       "78              Foster  2017-03-20 00:00:00       Foster   \n",
       "79              Foster  2017-03-20 00:00:00       Foster   \n",
       "80              Foster  2017-03-20 00:00:00       Foster   \n",
       "119     Feline Nursery  2017-05-16 00:00:00       Foster   \n",
       "120  Special Care Cats  2017-07-13 00:00:00       Foster   \n",
       "168           Check-in  2017-04-27 00:00:00       Foster   \n",
       "190     Feline Nursery  2017-05-20 00:00:00       Foster   \n",
       "191     Feline Nursery  2017-05-20 00:00:00       Foster   \n",
       "194  Special Care Cats  2017-05-09 00:00:00       Foster   \n",
       "202     Feline Nursery  2017-05-11 00:00:00       Foster   \n",
       "218           Check-in  2017-05-16 00:00:00       Foster   \n",
       "224     Feline Nursery  2017-05-16 00:00:00       Foster   \n",
       "228     Feline Nursery  2017-05-20 00:00:00       Foster   \n",
       "238     Feline Nursery  2017-05-23 00:00:00       Foster   \n",
       "243     Feline Nursery  2017-05-31 00:00:00       Foster   \n",
       "244     Feline Nursery  2017-05-31 00:00:00       Foster   \n",
       "272     Feline Nursery  2017-05-27 00:00:00       Foster   \n",
       "291  Special Care Cats  2017-08-11 00:00:00       Foster   \n",
       "332            Shelter  2017-06-08 00:00:00       Foster   \n",
       "335     Feline Nursery  2017-06-10 00:00:00       Foster   \n",
       "447     Feline Nursery  2017-07-10 00:00:00       Foster   \n",
       "448     Feline Nursery  2017-06-30 00:00:00       Foster   \n",
       "477     Feline Nursery  2017-07-05 00:00:00       Foster   \n",
       "504     Feline Nursery  2017-07-10 00:00:00       Foster   \n",
       "505     Feline Nursery  2017-07-10 00:00:00       Foster   \n",
       "541     Feline Nursery  2017-07-15 00:00:00       Foster   \n",
       "552     Feline Nursery  2017-07-10 00:00:00       Foster   \n",
       "\n",
       "                 returndate  puttosleep  age(months)  age(years)  \\\n",
       "6    06/13/2017 12:00:00 AM        True          NaN        16.0   \n",
       "63   08/25/2017 12:00:00 AM       False          1.0         0.0   \n",
       "77   04/11/2017 12:00:00 AM       False          1.0         0.0   \n",
       "78   04/11/2017 12:00:00 AM       False          1.0         0.0   \n",
       "79   04/11/2017 12:00:00 AM       False          1.0         0.0   \n",
       "80   04/02/2017 12:00:00 AM       False          1.0         0.0   \n",
       "119  05/27/2017 12:00:00 AM        True          2.0         0.0   \n",
       "120  07/16/2017 12:00:00 AM        True          NaN         5.0   \n",
       "168  05/15/2017 12:00:00 AM       False          1.0         0.0   \n",
       "190  06/03/2017 12:00:00 AM        True          1.0         0.0   \n",
       "191  06/03/2017 12:00:00 AM        True          1.0         0.0   \n",
       "194  05/18/2017 12:00:00 AM        True          1.0         0.0   \n",
       "202  06/12/2017 12:00:00 AM        True          1.0         0.0   \n",
       "218  06/15/2017 12:00:00 AM       False          1.0         0.0   \n",
       "224  08/25/2017 12:00:00 AM        True          1.0         0.0   \n",
       "228  05/20/2017 12:00:00 AM       False          1.0         0.0   \n",
       "238  06/12/2017 12:00:00 AM       False          2.0         0.0   \n",
       "243  06/04/2017 12:00:00 AM       False          1.0         0.0   \n",
       "244  06/01/2017 12:00:00 AM       False          1.0         0.0   \n",
       "272  08/25/2017 12:00:00 AM       False          1.0         0.0   \n",
       "291  08/25/2017 12:00:00 AM        True          NaN        13.0   \n",
       "332  08/25/2017 12:00:00 AM       False          1.0         0.0   \n",
       "335  08/25/2017 12:00:00 AM       False          1.0         0.0   \n",
       "447  07/11/2017 12:00:00 AM       False          1.0         0.0   \n",
       "448  07/09/2017 12:00:00 AM       False          1.0         0.0   \n",
       "477  07/23/2017 12:00:00 AM       False          2.0         0.0   \n",
       "504  08/01/2017 12:00:00 AM       False          1.0         0.0   \n",
       "505  08/01/2017 12:00:00 AM       False          1.0         0.0   \n",
       "541  07/25/2017 12:00:00 AM        True          1.0         0.0   \n",
       "552  07/11/2017 12:00:00 AM       False          1.0         0.0   \n",
       "\n",
       "     duration of stay  \n",
       "6               121.0  \n",
       "63               15.0  \n",
       "77                2.0  \n",
       "78                2.0  \n",
       "79                2.0  \n",
       "80                2.0  \n",
       "119              29.0  \n",
       "120              87.0  \n",
       "168               0.0  \n",
       "190              12.0  \n",
       "191              12.0  \n",
       "194               0.0  \n",
       "202               0.0  \n",
       "218               1.0  \n",
       "224               0.0  \n",
       "228               4.0  \n",
       "238               3.0  \n",
       "243               8.0  \n",
       "244               8.0  \n",
       "272               1.0  \n",
       "291              70.0  \n",
       "332               0.0  \n",
       "335               2.0  \n",
       "447              16.0  \n",
       "448               6.0  \n",
       "477               6.0  \n",
       "504               5.0  \n",
       "505               5.0  \n",
       "541               7.0  \n",
       "552              17.0  "
      ]
     },
     "execution_count": 26,
     "metadata": {},
     "output_type": "execute_result"
    }
   ],
   "source": [
    "cat_df[cat_df['movementtype'] =='Foster'].head(30)"
   ]
  },
  {
   "cell_type": "code",
   "execution_count": 27,
   "metadata": {},
   "outputs": [],
   "source": [
    "cat_model_data = cat_df[cat_df['movementtype'] == 'Adoption']"
   ]
  },
  {
   "cell_type": "markdown",
   "metadata": {},
   "source": [
    "I am focusing on the pets that got adopted and analyzing how long it took."
   ]
  },
  {
   "cell_type": "code",
   "execution_count": 28,
   "metadata": {},
   "outputs": [
    {
     "data": {
      "text/html": [
       "<div>\n",
       "<style scoped>\n",
       "    .dataframe tbody tr th:only-of-type {\n",
       "        vertical-align: middle;\n",
       "    }\n",
       "\n",
       "    .dataframe tbody tr th {\n",
       "        vertical-align: top;\n",
       "    }\n",
       "\n",
       "    .dataframe thead th {\n",
       "        text-align: right;\n",
       "    }\n",
       "</style>\n",
       "<table border=\"1\" class=\"dataframe\">\n",
       "  <thead>\n",
       "    <tr style=\"text-align: right;\">\n",
       "      <th></th>\n",
       "      <th>Unnamed: 0</th>\n",
       "      <th>id</th>\n",
       "      <th>age(months)</th>\n",
       "      <th>age(years)</th>\n",
       "      <th>duration of stay</th>\n",
       "    </tr>\n",
       "  </thead>\n",
       "  <tbody>\n",
       "    <tr>\n",
       "      <th>count</th>\n",
       "      <td>5945.000000</td>\n",
       "      <td>5945.000000</td>\n",
       "      <td>391.000000</td>\n",
       "      <td>5945.000000</td>\n",
       "      <td>5945.000000</td>\n",
       "    </tr>\n",
       "    <tr>\n",
       "      <th>mean</th>\n",
       "      <td>9754.459378</td>\n",
       "      <td>63577.247098</td>\n",
       "      <td>4.856777</td>\n",
       "      <td>2.477712</td>\n",
       "      <td>51.057359</td>\n",
       "    </tr>\n",
       "    <tr>\n",
       "      <th>std</th>\n",
       "      <td>5320.087394</td>\n",
       "      <td>4748.933416</td>\n",
       "      <td>1.300867</td>\n",
       "      <td>2.501994</td>\n",
       "      <td>83.680666</td>\n",
       "    </tr>\n",
       "    <tr>\n",
       "      <th>min</th>\n",
       "      <td>14.000000</td>\n",
       "      <td>46437.000000</td>\n",
       "      <td>2.000000</td>\n",
       "      <td>0.000000</td>\n",
       "      <td>1.000000</td>\n",
       "    </tr>\n",
       "    <tr>\n",
       "      <th>25%</th>\n",
       "      <td>5365.000000</td>\n",
       "      <td>59873.000000</td>\n",
       "      <td>4.000000</td>\n",
       "      <td>1.000000</td>\n",
       "      <td>15.000000</td>\n",
       "    </tr>\n",
       "    <tr>\n",
       "      <th>50%</th>\n",
       "      <td>10203.000000</td>\n",
       "      <td>64000.000000</td>\n",
       "      <td>5.000000</td>\n",
       "      <td>2.000000</td>\n",
       "      <td>34.000000</td>\n",
       "    </tr>\n",
       "    <tr>\n",
       "      <th>75%</th>\n",
       "      <td>14281.000000</td>\n",
       "      <td>67472.000000</td>\n",
       "      <td>6.000000</td>\n",
       "      <td>3.000000</td>\n",
       "      <td>59.000000</td>\n",
       "    </tr>\n",
       "    <tr>\n",
       "      <th>max</th>\n",
       "      <td>18663.000000</td>\n",
       "      <td>71663.000000</td>\n",
       "      <td>6.000000</td>\n",
       "      <td>18.000000</td>\n",
       "      <td>1220.000000</td>\n",
       "    </tr>\n",
       "  </tbody>\n",
       "</table>\n",
       "</div>"
      ],
      "text/plain": [
       "         Unnamed: 0            id  age(months)   age(years)  duration of stay\n",
       "count   5945.000000   5945.000000   391.000000  5945.000000       5945.000000\n",
       "mean    9754.459378  63577.247098     4.856777     2.477712         51.057359\n",
       "std     5320.087394   4748.933416     1.300867     2.501994         83.680666\n",
       "min       14.000000  46437.000000     2.000000     0.000000          1.000000\n",
       "25%     5365.000000  59873.000000     4.000000     1.000000         15.000000\n",
       "50%    10203.000000  64000.000000     5.000000     2.000000         34.000000\n",
       "75%    14281.000000  67472.000000     6.000000     3.000000         59.000000\n",
       "max    18663.000000  71663.000000     6.000000    18.000000       1220.000000"
      ]
     },
     "execution_count": 28,
     "metadata": {},
     "output_type": "execute_result"
    }
   ],
   "source": [
    "cat_model_data.describe()"
   ]
  },
  {
   "cell_type": "code",
   "execution_count": 29,
   "metadata": {},
   "outputs": [],
   "source": [
    "cat_model_data['duration of stay'][cat_model_data['duration of stay'] <= 7] = 0\n",
    "cat_model_data['duration of stay'][(cat_model_data['duration of stay'] > 7) & (cat_model_data['duration of stay'] <= 30)] = 1\n",
    "cat_model_data['duration of stay'][(cat_model_data['duration of stay'] > 30) & (cat_model_data['duration of stay'] <= 90)] = 2\n",
    "cat_model_data['duration of stay'][cat_model_data['duration of stay'] > 90] = 3"
   ]
  },
  {
   "cell_type": "code",
   "execution_count": 30,
   "metadata": {},
   "outputs": [
    {
     "data": {
      "text/plain": [
       "2.0    2694\n",
       "1.0    2229\n",
       "3.0     538\n",
       "0.0     484\n",
       "Name: duration of stay, dtype: int64"
      ]
     },
     "execution_count": 30,
     "metadata": {},
     "output_type": "execute_result"
    }
   ],
   "source": [
    "cat_model_data['duration of stay'].value_counts()"
   ]
  },
  {
   "cell_type": "markdown",
   "metadata": {},
   "source": [
    "#### Categorize the target column the same way that I did for the dog dataframe"
   ]
  },
  {
   "cell_type": "markdown",
   "metadata": {},
   "source": [
    "## Modeling"
   ]
  },
  {
   "cell_type": "markdown",
   "metadata": {},
   "source": [
    "### First Simple Model for Dog predictions"
   ]
  },
  {
   "cell_type": "code",
   "execution_count": 31,
   "metadata": {},
   "outputs": [
    {
     "data": {
      "text/plain": [
       "Index(['Unnamed: 0', 'id', 'intakedate', 'intakereason', 'istransfer',\n",
       "       'identichipnumber', 'animalname', 'breedname', 'basecolour',\n",
       "       'speciesname', 'animalage', 'sexname', 'location', 'movementdate',\n",
       "       'movementtype', 'returndate', 'puttosleep', 'age(months)', 'age(years)',\n",
       "       'duration of stay'],\n",
       "      dtype='object')"
      ]
     },
     "execution_count": 31,
     "metadata": {},
     "output_type": "execute_result"
    }
   ],
   "source": [
    "dog_model_data.columns"
   ]
  },
  {
   "cell_type": "code",
   "execution_count": 32,
   "metadata": {},
   "outputs": [],
   "source": [
    "used_cols = ['age(months)', 'age(years)', 'sexname', 'basecolour', 'speciesname', 'breedname', 'intakereason']"
   ]
  },
  {
   "cell_type": "code",
   "execution_count": 33,
   "metadata": {},
   "outputs": [],
   "source": [
    "X = dog_model_data[used_cols]\n",
    "y = dog_model_data['duration of stay']\n",
    "\n",
    "X_train, X_hold, y_train, y_hold = train_test_split(X, y, test_size=0.15, random_state=42)"
   ]
  },
  {
   "cell_type": "code",
   "execution_count": 34,
   "metadata": {},
   "outputs": [],
   "source": [
    "#perform a second train_test_split\n",
    "X = X_train\n",
    "y = y_train\n",
    "\n",
    "X_train, X_test, y_train, y_test = train_test_split(X, y, random_state=42)"
   ]
  },
  {
   "cell_type": "code",
   "execution_count": 35,
   "metadata": {},
   "outputs": [],
   "source": [
    "# Use a for loop to seperate numrical and categorical columns\n",
    "num_cols =[]\n",
    "cat_cols = []\n",
    "\n",
    "for c in used_cols:\n",
    "    if X[c].dtype in ['float64', 'int64']:\n",
    "        num_cols.append(c)\n",
    "    else:\n",
    "        cat_cols.append(c)"
   ]
  },
  {
   "cell_type": "code",
   "execution_count": 36,
   "metadata": {},
   "outputs": [
    {
     "name": "stdout",
     "output_type": "stream",
     "text": [
      "['age(months)', 'age(years)']\n",
      "['sexname', 'basecolour', 'speciesname', 'breedname', 'intakereason']\n"
     ]
    }
   ],
   "source": [
    "print(num_cols)\n",
    "print(cat_cols)"
   ]
  },
  {
   "cell_type": "markdown",
   "metadata": {},
   "source": [
    "Create a pipeline to One hot encode categorical values, and scale numerical columns in case we use models that require scaling."
   ]
  },
  {
   "cell_type": "code",
   "execution_count": 37,
   "metadata": {},
   "outputs": [],
   "source": [
    "hotencoder = OneHotEncoder(handle_unknown='ignore')\n",
    "cat_transformer = make_pipeline(hotencoder)\n",
    "\n",
    "scaler = StandardScaler()\n",
    "num_transformer = make_pipeline(scaler)"
   ]
  },
  {
   "cell_type": "code",
   "execution_count": 38,
   "metadata": {},
   "outputs": [],
   "source": [
    "# Package our encoder into a Column Transformer\n",
    "preprocessor = ColumnTransformer(\n",
    "    transformers=[('cat', cat_transformer, cat_cols), \n",
    "                  ('num', num_transformer, num_cols)], remainder='passthrough')"
   ]
  },
  {
   "cell_type": "code",
   "execution_count": 39,
   "metadata": {},
   "outputs": [
    {
     "data": {
      "text/plain": [
       "ColumnTransformer(remainder='passthrough',\n",
       "                  transformers=[('cat',\n",
       "                                 Pipeline(steps=[('onehotencoder',\n",
       "                                                  OneHotEncoder(handle_unknown='ignore'))]),\n",
       "                                 ['sexname', 'basecolour', 'speciesname',\n",
       "                                  'breedname', 'intakereason']),\n",
       "                                ('num',\n",
       "                                 Pipeline(steps=[('standardscaler',\n",
       "                                                  StandardScaler())]),\n",
       "                                 ['age(months)', 'age(years)'])])"
      ]
     },
     "execution_count": 39,
     "metadata": {},
     "output_type": "execute_result"
    }
   ],
   "source": [
    "preprocessor"
   ]
  },
  {
   "cell_type": "code",
   "execution_count": 40,
   "metadata": {},
   "outputs": [],
   "source": [
    "X_tr_transformed = preprocessor.fit_transform(X_train)"
   ]
  },
  {
   "cell_type": "markdown",
   "metadata": {},
   "source": [
    "Our transformed data now has 86 columns."
   ]
  },
  {
   "cell_type": "code",
   "execution_count": 41,
   "metadata": {},
   "outputs": [
    {
     "data": {
      "text/plain": [
       "(1810, 86)"
      ]
     },
     "execution_count": 41,
     "metadata": {},
     "output_type": "execute_result"
    }
   ],
   "source": [
    "X_tr_transformed.shape"
   ]
  },
  {
   "cell_type": "code",
   "execution_count": 42,
   "metadata": {},
   "outputs": [
    {
     "data": {
      "text/plain": [
       "ColumnTransformer(remainder='passthrough',\n",
       "                  transformers=[('cat',\n",
       "                                 Pipeline(steps=[('onehotencoder',\n",
       "                                                  OneHotEncoder(handle_unknown='ignore'))]),\n",
       "                                 ['sexname', 'basecolour', 'speciesname',\n",
       "                                  'breedname', 'intakereason']),\n",
       "                                ('num',\n",
       "                                 Pipeline(steps=[('standardscaler',\n",
       "                                                  StandardScaler())]),\n",
       "                                 ['age(months)', 'age(years)'])])"
      ]
     },
     "execution_count": 42,
     "metadata": {},
     "output_type": "execute_result"
    }
   ],
   "source": [
    "preprocessor.fit(X_train)"
   ]
  },
  {
   "cell_type": "code",
   "execution_count": 43,
   "metadata": {},
   "outputs": [],
   "source": [
    "dt_simple_model = Pipeline(steps=[\n",
    "    ('preprocessor', preprocessor),\n",
    "    ('classifier', DecisionTreeClassifier())\n",
    "])"
   ]
  },
  {
   "cell_type": "code",
   "execution_count": 44,
   "metadata": {},
   "outputs": [
    {
     "data": {
      "text/plain": [
       "array([0.4281768 , 0.42265193, 0.43093923, 0.43922652, 0.42265193])"
      ]
     },
     "execution_count": 44,
     "metadata": {},
     "output_type": "execute_result"
    }
   ],
   "source": [
    "cross_val_score(dt_simple_model, X_train, y_train)\n"
   ]
  },
  {
   "cell_type": "code",
   "execution_count": 45,
   "metadata": {},
   "outputs": [
    {
     "data": {
      "text/plain": [
       "Pipeline(steps=[('preprocessor',\n",
       "                 ColumnTransformer(remainder='passthrough',\n",
       "                                   transformers=[('cat',\n",
       "                                                  Pipeline(steps=[('onehotencoder',\n",
       "                                                                   OneHotEncoder(handle_unknown='ignore'))]),\n",
       "                                                  ['sexname', 'basecolour',\n",
       "                                                   'speciesname', 'breedname',\n",
       "                                                   'intakereason']),\n",
       "                                                 ('num',\n",
       "                                                  Pipeline(steps=[('standardscaler',\n",
       "                                                                   StandardScaler())]),\n",
       "                                                  ['age(months)',\n",
       "                                                   'age(years)'])])),\n",
       "                ('classifier', DecisionTreeClassifier())])"
      ]
     },
     "execution_count": 45,
     "metadata": {},
     "output_type": "execute_result"
    }
   ],
   "source": [
    "dt_simple_model.fit(X_train, y_train)"
   ]
  },
  {
   "cell_type": "code",
   "execution_count": 67,
   "metadata": {},
   "outputs": [
    {
     "name": "stdout",
     "output_type": "stream",
     "text": [
      "test precison score 0.3863077412022316\n",
      "test accuracy score 0.4056291390728477\n",
      "train precison score 0.9314520136743701\n",
      "train accuracy score 0.9287292817679558\n"
     ]
    }
   ],
   "source": [
    "dt_test_preds = dt_simple_model.predict(X_test)\n",
    "dt_train_preds = dt_simple_model.predict(X_train)\n",
    "\n",
    "print('test precison score', precision_score(y_test, dt_test_preds, average='weighted'))\n",
    "print('test accuracy score', accuracy_score(y_test, dt_test_preds))\n",
    "\n",
    "print('train precison score', precision_score(y_train, dt_train_preds, average='weighted'))\n",
    "print('train accuracy score', accuracy_score(y_train, dt_train_preds))"
   ]
  },
  {
   "cell_type": "markdown",
   "metadata": {},
   "source": [
    "Model is severely overfit, some tuning or different model choice is needed."
   ]
  },
  {
   "cell_type": "code",
   "execution_count": 47,
   "metadata": {
    "scrolled": true
   },
   "outputs": [
    {
     "data": {
      "text/plain": [
       "<sklearn.metrics._plot.confusion_matrix.ConfusionMatrixDisplay at 0x2600827bc10>"
      ]
     },
     "execution_count": 47,
     "metadata": {},
     "output_type": "execute_result"
    },
    {
     "data": {
      "image/png": "[encoded data removed]",
      "text/plain": [
       "<Figure size 432x288 with 2 Axes>"
      ]
     },
     "metadata": {
      "needs_background": "light"
     },
     "output_type": "display_data"
    }
   ],
   "source": [
    "plot_confusion_matrix(dt_simple_model, X_test, y_test, normalize='true')"
   ]
  },
  {
   "cell_type": "markdown",
   "metadata": {},
   "source": [
    "### Dog Simple Model Evaluation"
   ]
  },
  {
   "cell_type": "markdown",
   "metadata": {},
   "source": [
    "Remember:\n",
    "\n",
    "- 0 — Pet was adopted between 1 and 7 days (1st week) after being listed.\n",
    "- 1 — Pet was adopted between 8 and 30 days (1st month) after being listed.\n",
    "- 2 — Pet was adopted between 31 and 90 days (2nd & 3rd month) after being listed.\n",
    "- 3 — No adoption after 100 days of being listed. (There are no pets in this dataset that waited between 90 and 100 days).\n"
   ]
  },
  {
   "cell_type": "markdown",
   "metadata": {},
   "source": [
    "- The model is pretty good at predicting if a dog will take longer than 100 days to adopt\n",
    "- It is a little over 50 percent accurate at predicting dogs that will be adopted between 8 and 30 days\n",
    "- But it is pretty bad at predicting if a dog will be adopted in the other 2 ranges"
   ]
  },
  {
   "cell_type": "markdown",
   "metadata": {},
   "source": [
    "### Future Suggestion\n",
    "\n",
    "Maybe making this a binary issue might yield better results, such as before or after 30 days possibly."
   ]
  },
  {
   "cell_type": "markdown",
   "metadata": {},
   "source": [
    "### Cat simple model"
   ]
  },
  {
   "cell_type": "code",
   "execution_count": 48,
   "metadata": {},
   "outputs": [],
   "source": [
    "X = cat_model_data[used_cols]\n",
    "y = cat_model_data['duration of stay']\n",
    "\n",
    "X_train_cat, X_hold_cat, y_train_cat, y_hold_cat = train_test_split(X, y, test_size=0.15, random_state=42)"
   ]
  },
  {
   "cell_type": "code",
   "execution_count": 49,
   "metadata": {},
   "outputs": [],
   "source": [
    "#perform a second train_test_split\n",
    "X = X_train\n",
    "y = y_train\n",
    "\n",
    "X_train_cat, X_test_cat, y_train_cat, y_test_cat = train_test_split(X, y, random_state=42)"
   ]
  },
  {
   "cell_type": "code",
   "execution_count": 50,
   "metadata": {},
   "outputs": [],
   "source": [
    "preprocessor_cat = preprocessor"
   ]
  },
  {
   "cell_type": "code",
   "execution_count": 51,
   "metadata": {},
   "outputs": [
    {
     "data": {
      "text/plain": [
       "(1357, 85)"
      ]
     },
     "execution_count": 51,
     "metadata": {},
     "output_type": "execute_result"
    }
   ],
   "source": [
    "X_tr_transformed_cat = preprocessor_cat.fit_transform(X_train_cat)\n",
    "X_tr_transformed_cat.shape"
   ]
  },
  {
   "cell_type": "markdown",
   "metadata": {},
   "source": [
    "Our cat training data has 1357 rows and 85 columns"
   ]
  },
  {
   "cell_type": "code",
   "execution_count": 52,
   "metadata": {},
   "outputs": [
    {
     "data": {
      "text/plain": [
       "ColumnTransformer(remainder='passthrough',\n",
       "                  transformers=[('cat',\n",
       "                                 Pipeline(steps=[('onehotencoder',\n",
       "                                                  OneHotEncoder(handle_unknown='ignore'))]),\n",
       "                                 ['sexname', 'basecolour', 'speciesname',\n",
       "                                  'breedname', 'intakereason']),\n",
       "                                ('num',\n",
       "                                 Pipeline(steps=[('standardscaler',\n",
       "                                                  StandardScaler())]),\n",
       "                                 ['age(months)', 'age(years)'])])"
      ]
     },
     "execution_count": 52,
     "metadata": {},
     "output_type": "execute_result"
    }
   ],
   "source": [
    "preprocessor_cat.fit(X_train_cat)"
   ]
  },
  {
   "cell_type": "code",
   "execution_count": 53,
   "metadata": {},
   "outputs": [],
   "source": [
    "cat_dt_simple_model = Pipeline(steps=[\n",
    "    ('preprocessor', preprocessor_cat),\n",
    "    ('classifier', DecisionTreeClassifier())\n",
    "])"
   ]
  },
  {
   "cell_type": "code",
   "execution_count": 54,
   "metadata": {},
   "outputs": [
    {
     "data": {
      "text/plain": [
       "array([0.39338235, 0.4375    , 0.42804428, 0.44649446, 0.45387454])"
      ]
     },
     "execution_count": 54,
     "metadata": {},
     "output_type": "execute_result"
    }
   ],
   "source": [
    "cross_val_score(cat_dt_simple_model, X_train_cat, y_train_cat)"
   ]
  },
  {
   "cell_type": "code",
   "execution_count": 55,
   "metadata": {},
   "outputs": [
    {
     "data": {
      "text/plain": [
       "Pipeline(steps=[('preprocessor',\n",
       "                 ColumnTransformer(remainder='passthrough',\n",
       "                                   transformers=[('cat',\n",
       "                                                  Pipeline(steps=[('onehotencoder',\n",
       "                                                                   OneHotEncoder(handle_unknown='ignore'))]),\n",
       "                                                  ['sexname', 'basecolour',\n",
       "                                                   'speciesname', 'breedname',\n",
       "                                                   'intakereason']),\n",
       "                                                 ('num',\n",
       "                                                  Pipeline(steps=[('standardscaler',\n",
       "                                                                   StandardScaler())]),\n",
       "                                                  ['age(months)',\n",
       "                                                   'age(years)'])])),\n",
       "                ('classifier', DecisionTreeClassifier())])"
      ]
     },
     "execution_count": 55,
     "metadata": {},
     "output_type": "execute_result"
    }
   ],
   "source": [
    "cat_dt_simple_model.fit(X_train_cat, y_train_cat)"
   ]
  },
  {
   "cell_type": "code",
   "execution_count": 56,
   "metadata": {},
   "outputs": [
    {
     "name": "stdout",
     "output_type": "stream",
     "text": [
      "test precison score 0.43366236556731297\n",
      "test accuracy score 0.4481236203090508\n",
      "train precison score 0.9365061070470689\n",
      "train accuracy score 0.9329403095062638\n"
     ]
    }
   ],
   "source": [
    "cat_dt_test_preds = cat_dt_simple_model.predict(X_test_cat)\n",
    "cat_dt_train_preds = cat_dt_simple_model.predict(X_train_cat)\n",
    "\n",
    "print('test precison score', precision_score(y_test_cat, cat_dt_test_preds, average='weighted'))\n",
    "print('test accuracy score', accuracy_score(y_test_cat, cat_dt_test_preds))\n",
    "\n",
    "print('train precison score', precision_score(y_train_cat, cat_dt_train_preds, average='weighted'))\n",
    "print('train accuracy score', accuracy_score(y_train_cat, cat_dt_train_preds))"
   ]
  },
  {
   "cell_type": "markdown",
   "metadata": {},
   "source": [
    "Very overfit but performed 4 points better than our dog model."
   ]
  },
  {
   "cell_type": "code",
   "execution_count": 57,
   "metadata": {},
   "outputs": [
    {
     "data": {
      "text/plain": [
       "<sklearn.metrics._plot.confusion_matrix.ConfusionMatrixDisplay at 0x2600af1e9d0>"
      ]
     },
     "execution_count": 57,
     "metadata": {},
     "output_type": "execute_result"
    },
    {
     "data": {
      "image/png": "[encoded data removed]",
      "text/plain": [
       "<Figure size 432x288 with 2 Axes>"
      ]
     },
     "metadata": {
      "needs_background": "light"
     },
     "output_type": "display_data"
    }
   ],
   "source": [
    "plot_confusion_matrix(cat_dt_simple_model, X_test_cat, y_test_cat, normalize='true')"
   ]
  },
  {
   "cell_type": "markdown",
   "metadata": {},
   "source": [
    "### Simple Cat decision tree evaluation\n",
    "\n",
    "- Performs poorly on predicting which cats that take longer than 90 days to get adopted\n",
    "- Its only remotely good at predicting which cats will be adopted between 1 week and a month"
   ]
  },
  {
   "cell_type": "markdown",
   "metadata": {},
   "source": [
    "#### Random forest for cat predictions"
   ]
  },
  {
   "cell_type": "code",
   "execution_count": 58,
   "metadata": {},
   "outputs": [],
   "source": [
    "cat_forest_model = Pipeline(steps=[\n",
    "    ('preprocessor', preprocessor_cat),\n",
    "    ('classifier', RandomForestClassifier())\n",
    "])"
   ]
  },
  {
   "cell_type": "code",
   "execution_count": 59,
   "metadata": {},
   "outputs": [
    {
     "data": {
      "text/plain": [
       "{'fit_time': array([0.50714302, 0.51152658, 0.50187778, 0.51973581, 0.4927156 ]),\n",
       " 'score_time': array([0.03125215, 0.01662827, 0.01562619, 0.03127861, 0.03123379]),\n",
       " 'test_score': array([0.42647059, 0.5       , 0.44280443, 0.46863469, 0.51291513]),\n",
       " 'train_score': array([0.93456221, 0.94654378, 0.94475138, 0.94475138, 0.94106814])}"
      ]
     },
     "execution_count": 59,
     "metadata": {},
     "output_type": "execute_result"
    }
   ],
   "source": [
    "cross_validate(cat_forest_model, X_train_cat, y_train_cat, return_train_score=True)"
   ]
  },
  {
   "cell_type": "code",
   "execution_count": 60,
   "metadata": {},
   "outputs": [
    {
     "data": {
      "text/plain": [
       "Pipeline(steps=[('preprocessor',\n",
       "                 ColumnTransformer(remainder='passthrough',\n",
       "                                   transformers=[('cat',\n",
       "                                                  Pipeline(steps=[('onehotencoder',\n",
       "                                                                   OneHotEncoder(handle_unknown='ignore'))]),\n",
       "                                                  ['sexname', 'basecolour',\n",
       "                                                   'speciesname', 'breedname',\n",
       "                                                   'intakereason']),\n",
       "                                                 ('num',\n",
       "                                                  Pipeline(steps=[('standardscaler',\n",
       "                                                                   StandardScaler())]),\n",
       "                                                  ['age(months)',\n",
       "                                                   'age(years)'])])),\n",
       "                ('classifier', RandomForestClassifier())])"
      ]
     },
     "execution_count": 60,
     "metadata": {},
     "output_type": "execute_result"
    }
   ],
   "source": [
    "cat_forest_model.fit(X_train_cat, y_train_cat)"
   ]
  },
  {
   "cell_type": "code",
   "execution_count": 61,
   "metadata": {},
   "outputs": [
    {
     "data": {
      "text/plain": [
       "<sklearn.metrics._plot.confusion_matrix.ConfusionMatrixDisplay at 0x2600aeb5580>"
      ]
     },
     "execution_count": 61,
     "metadata": {},
     "output_type": "execute_result"
    },
    {
     "data": {
      "image/png": "[encoded data removed]",
      "text/plain": [
       "<Figure size 432x288 with 2 Axes>"
      ]
     },
     "metadata": {
      "needs_background": "light"
     },
     "output_type": "display_data"
    }
   ],
   "source": [
    "plot_confusion_matrix(cat_forest_model, X_test_cat, y_test_cat, normalize='true')"
   ]
  },
  {
   "cell_type": "markdown",
   "metadata": {},
   "source": [
    "#### Simple Random Forest Evaluation\n",
    "\n",
    "\n",
    "- While severely overfit, it performs a little better than our decision tree model on test data\n",
    "- Very bad at classifying the cats that take longer than 90 days to get adopted\n",
    "- Pretty good at correctly predicting which cats will be adopted between 1 week and 1 month.\n",
    "- There is a class imbalance favoring "
   ]
  },
  {
   "cell_type": "markdown",
   "metadata": {},
   "source": [
    "#### Random Forest for dog predictions"
   ]
  },
  {
   "cell_type": "code",
   "execution_count": 62,
   "metadata": {},
   "outputs": [],
   "source": [
    "dog_forest_model = Pipeline(steps=[\n",
    "    ('preprocessor', preprocessor),\n",
    "    ('classifier', RandomForestClassifier())\n",
    "])"
   ]
  },
  {
   "cell_type": "code",
   "execution_count": 63,
   "metadata": {},
   "outputs": [
    {
     "data": {
      "text/plain": [
       "{'fit_time': array([0.68691564, 0.67300224, 0.66818118, 0.66546583, 0.5781486 ]),\n",
       " 'score_time': array([0.01562643, 0.01562691, 0.03127575, 0.03125429, 0.03125334]),\n",
       " 'test_score': array([0.50276243, 0.49171271, 0.50276243, 0.48342541, 0.48895028]),\n",
       " 'train_score': array([0.93646409, 0.93577348, 0.93853591, 0.9371547 , 0.94129834])}"
      ]
     },
     "execution_count": 63,
     "metadata": {},
     "output_type": "execute_result"
    }
   ],
   "source": [
    "cross_validate(dog_forest_model, X_train, y_train, return_train_score=True)"
   ]
  },
  {
   "cell_type": "code",
   "execution_count": 64,
   "metadata": {},
   "outputs": [
    {
     "data": {
      "text/plain": [
       "Pipeline(steps=[('preprocessor',\n",
       "                 ColumnTransformer(remainder='passthrough',\n",
       "                                   transformers=[('cat',\n",
       "                                                  Pipeline(steps=[('onehotencoder',\n",
       "                                                                   OneHotEncoder(handle_unknown='ignore'))]),\n",
       "                                                  ['sexname', 'basecolour',\n",
       "                                                   'speciesname', 'breedname',\n",
       "                                                   'intakereason']),\n",
       "                                                 ('num',\n",
       "                                                  Pipeline(steps=[('standardscaler',\n",
       "                                                                   StandardScaler())]),\n",
       "                                                  ['age(months)',\n",
       "                                                   'age(years)'])])),\n",
       "                ('classifier', RandomForestClassifier())])"
      ]
     },
     "execution_count": 64,
     "metadata": {},
     "output_type": "execute_result"
    }
   ],
   "source": [
    "dog_forest_model.fit(X_train, y_train)"
   ]
  },
  {
   "cell_type": "code",
   "execution_count": 69,
   "metadata": {},
   "outputs": [
    {
     "data": {
      "text/plain": [
       "<sklearn.metrics._plot.confusion_matrix.ConfusionMatrixDisplay at 0x2600aea2a30>"
      ]
     },
     "execution_count": 69,
     "metadata": {},
     "output_type": "execute_result"
    },
    {
     "data": {
      "image/png": "[encoded data removed]",
      "text/plain": [
       "<Figure size 432x288 with 2 Axes>"
      ]
     },
     "metadata": {
      "needs_background": "light"
     },
     "output_type": "display_data"
    }
   ],
   "source": [
    "plot_confusion_matrix(dog_forest_model, X_test, y_test, normalize='true')"
   ]
  },
  {
   "cell_type": "code",
   "execution_count": 66,
   "metadata": {},
   "outputs": [
    {
     "name": "stdout",
     "output_type": "stream",
     "text": [
      "test precison score 0.413094749591985\n",
      "test accuracy score 0.4519867549668874\n",
      "train precison score 0.9294957551228451\n",
      "train accuracy score 0.9287292817679558\n"
     ]
    }
   ],
   "source": [
    "forest_test_preds = dog_forest_model.predict(X_test)\n",
    "forest_train_preds = dog_forest_model.predict(X_train)\n",
    "\n",
    "print('test precison score', precision_score(y_test, forest_test_preds, average='weighted'))\n",
    "print('test accuracy score', accuracy_score(y_test, forest_test_preds))\n",
    "\n",
    "print('train precison score', precision_score(y_train, forest_train_preds, average='weighted'))\n",
    "print('train accuracy score', accuracy_score(y_train, forest_train_preds))"
   ]
  },
  {
   "cell_type": "markdown",
   "metadata": {},
   "source": [
    "- This model is 5 points better than the decision tree that we used dog predictions when evaluated on accuracy score.\n",
    "- Not very good at predicting dogs that are not adopted after 90 days\n",
    "- There is a class imbalance issue, I will need to oversample label '3' for better results."
   ]
  },
  {
   "cell_type": "code",
   "execution_count": null,
   "metadata": {},
   "outputs": [],
   "source": []
  }
 ],
 "metadata": {
  "kernelspec": {
   "display_name": "Python (learn-env)",
   "language": "python",
   "name": "learn-env"
  },
  "language_info": {
   "codemirror_mode": {
    "name": "ipython",
    "version": 3
   },
   "file_extension": ".py",
   "mimetype": "text/x-python",
   "name": "python",
   "nbconvert_exporter": "python",
   "pygments_lexer": "ipython3",
   "version": "3.8.5"
  }
 },
 "nbformat": 4,
 "nbformat_minor": 4
}
