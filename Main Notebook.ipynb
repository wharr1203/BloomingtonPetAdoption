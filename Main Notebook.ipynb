{
 "cells": [
  {
   "cell_type": "markdown",
   "metadata": {},
   "source": [
    "# Predicting Adoption Speed"
   ]
  },
  {
   "cell_type": "markdown",
   "metadata": {},
   "source": [
    "## Introduction"
   ]
  },
  {
   "cell_type": "markdown",
   "metadata": {},
   "source": [
    "The purpose of this notebook is to provide an analysis of which types of pets have the toughest time getting adopted. In this analysis we are only studying the adoptions of Dogs and cats."
   ]
  },
  {
   "cell_type": "markdown",
   "metadata": {},
   "source": [
    "## Business Understanding"
   ]
  },
  {
   "cell_type": "markdown",
   "metadata": {},
   "source": [
    "Shelters need to know which pets take the longest time to get adopted, so that they can focus on pushing potential adopters towards those pets."
   ]
  },
  {
   "cell_type": "code",
   "execution_count": 31,
   "metadata": {},
   "outputs": [],
   "source": [
    "import pandas as pd\n",
    "import numpy as np\n",
    "from sklearn.preprocessing import OneHotEncoder, StandardScaler, LabelBinarizer, OrdinalEncoder, RobustScaler\n",
    "from sklearn.model_selection import train_test_split, cross_validate, cross_val_score\n",
    "from sklearn.pipeline import make_pipeline, Pipeline\n",
    "from sklearn.tree import DecisionTreeClassifier\n",
    "from sklearn.compose import ColumnTransformer\n",
    "from sklearn.metrics import recall_score, accuracy_score, precision_score, f1_score, roc_auc_score, plot_confusion_matrix\n",
    "\n",
    "\n",
    "import warnings\n",
    "\n",
    "warnings.filterwarnings('ignore')"
   ]
  },
  {
   "cell_type": "markdown",
   "metadata": {},
   "source": [
    "## Data Understanding"
   ]
  },
  {
   "cell_type": "markdown",
   "metadata": {},
   "source": [
    "- I cleaned most of the data in the EDA notebook and that data is also included in this repository\n",
    "- Most of the pets in this dataset have been adopted, thats why the focus is on adoption speed\n",
    "- The target variable is 'duration of stay' which will be divided into 4 categories"
   ]
  },
  {
   "cell_type": "markdown",
   "metadata": {},
   "source": [
    "These imports are saved csv files that I made after extensively cleaning the data in the EDA notebook."
   ]
  },
  {
   "cell_type": "code",
   "execution_count": 2,
   "metadata": {},
   "outputs": [],
   "source": [
    "cat_df = pd.read_csv('data/cat_df.csv')\n",
    "dog_df = pd.read_csv('data/dog_df.csv')"
   ]
  },
  {
   "cell_type": "code",
   "execution_count": 3,
   "metadata": {
    "scrolled": true
   },
   "outputs": [
    {
     "data": {
      "text/html": [
       "<div>\n",
       "<style scoped>\n",
       "    .dataframe tbody tr th:only-of-type {\n",
       "        vertical-align: middle;\n",
       "    }\n",
       "\n",
       "    .dataframe tbody tr th {\n",
       "        vertical-align: top;\n",
       "    }\n",
       "\n",
       "    .dataframe thead th {\n",
       "        text-align: right;\n",
       "    }\n",
       "</style>\n",
       "<table border=\"1\" class=\"dataframe\">\n",
       "  <thead>\n",
       "    <tr style=\"text-align: right;\">\n",
       "      <th></th>\n",
       "      <th>Unnamed: 0</th>\n",
       "      <th>id</th>\n",
       "      <th>intakedate</th>\n",
       "      <th>intakereason</th>\n",
       "      <th>istransfer</th>\n",
       "      <th>identichipnumber</th>\n",
       "      <th>animalname</th>\n",
       "      <th>breedname</th>\n",
       "      <th>basecolour</th>\n",
       "      <th>speciesname</th>\n",
       "      <th>animalage</th>\n",
       "      <th>sexname</th>\n",
       "      <th>location</th>\n",
       "      <th>movementdate</th>\n",
       "      <th>movementtype</th>\n",
       "      <th>returndate</th>\n",
       "      <th>puttosleep</th>\n",
       "      <th>age(months)</th>\n",
       "      <th>age(years)</th>\n",
       "      <th>duration of stay</th>\n",
       "    </tr>\n",
       "  </thead>\n",
       "  <tbody>\n",
       "    <tr>\n",
       "      <th>0</th>\n",
       "      <td>12</td>\n",
       "      <td>46238</td>\n",
       "      <td>2016-10-09 00:00:00</td>\n",
       "      <td>Abandoned</td>\n",
       "      <td>False</td>\n",
       "      <td>981020019070093</td>\n",
       "      <td>Tennessee</td>\n",
       "      <td>Heeler</td>\n",
       "      <td>Black and Brown</td>\n",
       "      <td>Dog</td>\n",
       "      <td>5 years 7 months</td>\n",
       "      <td>Male</td>\n",
       "      <td>Special Care Dogs</td>\n",
       "      <td>2018-02-14 00:00:00</td>\n",
       "      <td>Adoption</td>\n",
       "      <td>NaN</td>\n",
       "      <td>False</td>\n",
       "      <td>NaN</td>\n",
       "      <td>5.0</td>\n",
       "      <td>493.0</td>\n",
       "    </tr>\n",
       "    <tr>\n",
       "      <th>1</th>\n",
       "      <td>15</td>\n",
       "      <td>46693</td>\n",
       "      <td>2016-11-21 00:00:00</td>\n",
       "      <td>Abandoned</td>\n",
       "      <td>False</td>\n",
       "      <td>981020017897009</td>\n",
       "      <td>Baby</td>\n",
       "      <td>Pitbull</td>\n",
       "      <td>White</td>\n",
       "      <td>Dog</td>\n",
       "      <td>5 years 9 months</td>\n",
       "      <td>Male</td>\n",
       "      <td>Adoptable Dogs</td>\n",
       "      <td>2017-04-07 00:00:00</td>\n",
       "      <td>Adoption</td>\n",
       "      <td>NaN</td>\n",
       "      <td>False</td>\n",
       "      <td>NaN</td>\n",
       "      <td>5.0</td>\n",
       "      <td>137.0</td>\n",
       "    </tr>\n",
       "    <tr>\n",
       "      <th>2</th>\n",
       "      <td>19</td>\n",
       "      <td>47146</td>\n",
       "      <td>2017-01-17 00:00:00</td>\n",
       "      <td>Abandoned</td>\n",
       "      <td>False</td>\n",
       "      <td>981020021063793</td>\n",
       "      <td>Dinah</td>\n",
       "      <td>Labrador Retriever</td>\n",
       "      <td>Black</td>\n",
       "      <td>Dog</td>\n",
       "      <td>5 years 6 months</td>\n",
       "      <td>Female</td>\n",
       "      <td>Foster</td>\n",
       "      <td>2017-04-01 00:00:00</td>\n",
       "      <td>Adoption</td>\n",
       "      <td>NaN</td>\n",
       "      <td>False</td>\n",
       "      <td>NaN</td>\n",
       "      <td>5.0</td>\n",
       "      <td>74.0</td>\n",
       "    </tr>\n",
       "    <tr>\n",
       "      <th>3</th>\n",
       "      <td>27</td>\n",
       "      <td>47239</td>\n",
       "      <td>2017-01-27 00:00:00</td>\n",
       "      <td>Abandoned</td>\n",
       "      <td>False</td>\n",
       "      <td>981020021070452</td>\n",
       "      <td>Maria</td>\n",
       "      <td>NaN</td>\n",
       "      <td>Black and Brown</td>\n",
       "      <td>Dog</td>\n",
       "      <td>3 years 5 months</td>\n",
       "      <td>Female</td>\n",
       "      <td>Foster</td>\n",
       "      <td>2017-04-01 00:00:00</td>\n",
       "      <td>Adoption</td>\n",
       "      <td>NaN</td>\n",
       "      <td>False</td>\n",
       "      <td>NaN</td>\n",
       "      <td>3.0</td>\n",
       "      <td>64.0</td>\n",
       "    </tr>\n",
       "    <tr>\n",
       "      <th>4</th>\n",
       "      <td>33</td>\n",
       "      <td>47319</td>\n",
       "      <td>2017-02-05 00:00:00</td>\n",
       "      <td>other</td>\n",
       "      <td>False</td>\n",
       "      <td>NaN</td>\n",
       "      <td>Louise Vada</td>\n",
       "      <td>Pitbull</td>\n",
       "      <td>Black</td>\n",
       "      <td>Dog</td>\n",
       "      <td>4 years 5 months</td>\n",
       "      <td>Female</td>\n",
       "      <td>Stray Dogs Theta</td>\n",
       "      <td>2017-04-05 00:00:00</td>\n",
       "      <td>Reclaimed</td>\n",
       "      <td>NaN</td>\n",
       "      <td>False</td>\n",
       "      <td>NaN</td>\n",
       "      <td>4.0</td>\n",
       "      <td>59.0</td>\n",
       "    </tr>\n",
       "  </tbody>\n",
       "</table>\n",
       "</div>"
      ],
      "text/plain": [
       "   Unnamed: 0     id           intakedate intakereason  istransfer  \\\n",
       "0          12  46238  2016-10-09 00:00:00    Abandoned       False   \n",
       "1          15  46693  2016-11-21 00:00:00    Abandoned       False   \n",
       "2          19  47146  2017-01-17 00:00:00    Abandoned       False   \n",
       "3          27  47239  2017-01-27 00:00:00    Abandoned       False   \n",
       "4          33  47319  2017-02-05 00:00:00        other       False   \n",
       "\n",
       "  identichipnumber   animalname           breedname       basecolour  \\\n",
       "0  981020019070093    Tennessee              Heeler  Black and Brown   \n",
       "1  981020017897009         Baby             Pitbull            White   \n",
       "2  981020021063793        Dinah  Labrador Retriever            Black   \n",
       "3  981020021070452        Maria                 NaN  Black and Brown   \n",
       "4              NaN  Louise Vada             Pitbull            Black   \n",
       "\n",
       "  speciesname         animalage sexname           location  \\\n",
       "0         Dog  5 years 7 months    Male  Special Care Dogs   \n",
       "1         Dog  5 years 9 months    Male     Adoptable Dogs   \n",
       "2         Dog  5 years 6 months  Female             Foster   \n",
       "3         Dog  3 years 5 months  Female             Foster   \n",
       "4         Dog  4 years 5 months  Female   Stray Dogs Theta   \n",
       "\n",
       "          movementdate movementtype returndate  puttosleep  age(months)  \\\n",
       "0  2018-02-14 00:00:00     Adoption        NaN       False          NaN   \n",
       "1  2017-04-07 00:00:00     Adoption        NaN       False          NaN   \n",
       "2  2017-04-01 00:00:00     Adoption        NaN       False          NaN   \n",
       "3  2017-04-01 00:00:00     Adoption        NaN       False          NaN   \n",
       "4  2017-04-05 00:00:00    Reclaimed        NaN       False          NaN   \n",
       "\n",
       "   age(years)  duration of stay  \n",
       "0         5.0             493.0  \n",
       "1         5.0             137.0  \n",
       "2         5.0              74.0  \n",
       "3         3.0              64.0  \n",
       "4         4.0              59.0  "
      ]
     },
     "execution_count": 3,
     "metadata": {},
     "output_type": "execute_result"
    }
   ],
   "source": [
    "dog_df.head()"
   ]
  },
  {
   "cell_type": "code",
   "execution_count": 4,
   "metadata": {
    "scrolled": true
   },
   "outputs": [
    {
     "data": {
      "text/plain": [
       "count    81.000000\n",
       "mean      4.617284\n",
       "std       1.569776\n",
       "min       1.000000\n",
       "25%       4.000000\n",
       "50%       5.000000\n",
       "75%       6.000000\n",
       "max       6.000000\n",
       "Name: age(months), dtype: float64"
      ]
     },
     "execution_count": 4,
     "metadata": {},
     "output_type": "execute_result"
    }
   ],
   "source": [
    "dog_df['age(months)'].describe()"
   ]
  },
  {
   "cell_type": "code",
   "execution_count": 5,
   "metadata": {
    "scrolled": false
   },
   "outputs": [
    {
     "data": {
      "text/plain": [
       "Adoption     2841\n",
       "Reclaimed    1487\n",
       "Transfer      107\n",
       "Foster         34\n",
       "Escaped         1\n",
       "Name: movementtype, dtype: int64"
      ]
     },
     "execution_count": 5,
     "metadata": {},
     "output_type": "execute_result"
    }
   ],
   "source": [
    "dog_df['movementtype'].value_counts()"
   ]
  },
  {
   "cell_type": "markdown",
   "metadata": {},
   "source": [
    "This model is gonna focus on the dogs that got adopted, and predict how long it takes "
   ]
  },
  {
   "cell_type": "code",
   "execution_count": 6,
   "metadata": {},
   "outputs": [],
   "source": [
    "dog_model_data = dog_df[dog_df['movementtype'] == 'Adoption']"
   ]
  },
  {
   "cell_type": "code",
   "execution_count": 7,
   "metadata": {},
   "outputs": [
    {
     "data": {
      "text/plain": [
       "0"
      ]
     },
     "execution_count": 7,
     "metadata": {},
     "output_type": "execute_result"
    }
   ],
   "source": [
    "dog_model_data['duration of stay'].isna().sum()"
   ]
  },
  {
   "cell_type": "code",
   "execution_count": 8,
   "metadata": {},
   "outputs": [
    {
     "data": {
      "text/html": [
       "<div>\n",
       "<style scoped>\n",
       "    .dataframe tbody tr th:only-of-type {\n",
       "        vertical-align: middle;\n",
       "    }\n",
       "\n",
       "    .dataframe tbody tr th {\n",
       "        vertical-align: top;\n",
       "    }\n",
       "\n",
       "    .dataframe thead th {\n",
       "        text-align: right;\n",
       "    }\n",
       "</style>\n",
       "<table border=\"1\" class=\"dataframe\">\n",
       "  <thead>\n",
       "    <tr style=\"text-align: right;\">\n",
       "      <th></th>\n",
       "      <th>Unnamed: 0</th>\n",
       "      <th>id</th>\n",
       "      <th>age(months)</th>\n",
       "      <th>age(years)</th>\n",
       "      <th>duration of stay</th>\n",
       "    </tr>\n",
       "  </thead>\n",
       "  <tbody>\n",
       "    <tr>\n",
       "      <th>count</th>\n",
       "      <td>2841.000000</td>\n",
       "      <td>2841.000000</td>\n",
       "      <td>65.000000</td>\n",
       "      <td>2841.000000</td>\n",
       "      <td>2841.000000</td>\n",
       "    </tr>\n",
       "    <tr>\n",
       "      <th>mean</th>\n",
       "      <td>8698.644843</td>\n",
       "      <td>62603.009152</td>\n",
       "      <td>5.061538</td>\n",
       "      <td>3.689194</td>\n",
       "      <td>53.449490</td>\n",
       "    </tr>\n",
       "    <tr>\n",
       "      <th>std</th>\n",
       "      <td>5244.246966</td>\n",
       "      <td>4842.666952</td>\n",
       "      <td>0.899252</td>\n",
       "      <td>3.221766</td>\n",
       "      <td>118.125138</td>\n",
       "    </tr>\n",
       "    <tr>\n",
       "      <th>min</th>\n",
       "      <td>12.000000</td>\n",
       "      <td>46238.000000</td>\n",
       "      <td>2.000000</td>\n",
       "      <td>0.000000</td>\n",
       "      <td>1.000000</td>\n",
       "    </tr>\n",
       "    <tr>\n",
       "      <th>25%</th>\n",
       "      <td>4123.000000</td>\n",
       "      <td>58835.000000</td>\n",
       "      <td>5.000000</td>\n",
       "      <td>1.000000</td>\n",
       "      <td>10.000000</td>\n",
       "    </tr>\n",
       "    <tr>\n",
       "      <th>50%</th>\n",
       "      <td>8203.000000</td>\n",
       "      <td>62340.000000</td>\n",
       "      <td>5.000000</td>\n",
       "      <td>3.000000</td>\n",
       "      <td>18.000000</td>\n",
       "    </tr>\n",
       "    <tr>\n",
       "      <th>75%</th>\n",
       "      <td>12722.000000</td>\n",
       "      <td>66193.000000</td>\n",
       "      <td>6.000000</td>\n",
       "      <td>5.000000</td>\n",
       "      <td>41.000000</td>\n",
       "    </tr>\n",
       "    <tr>\n",
       "      <th>max</th>\n",
       "      <td>18667.000000</td>\n",
       "      <td>71690.000000</td>\n",
       "      <td>6.000000</td>\n",
       "      <td>18.000000</td>\n",
       "      <td>1443.000000</td>\n",
       "    </tr>\n",
       "  </tbody>\n",
       "</table>\n",
       "</div>"
      ],
      "text/plain": [
       "         Unnamed: 0            id  age(months)   age(years)  duration of stay\n",
       "count   2841.000000   2841.000000    65.000000  2841.000000       2841.000000\n",
       "mean    8698.644843  62603.009152     5.061538     3.689194         53.449490\n",
       "std     5244.246966   4842.666952     0.899252     3.221766        118.125138\n",
       "min       12.000000  46238.000000     2.000000     0.000000          1.000000\n",
       "25%     4123.000000  58835.000000     5.000000     1.000000         10.000000\n",
       "50%     8203.000000  62340.000000     5.000000     3.000000         18.000000\n",
       "75%    12722.000000  66193.000000     6.000000     5.000000         41.000000\n",
       "max    18667.000000  71690.000000     6.000000    18.000000       1443.000000"
      ]
     },
     "execution_count": 8,
     "metadata": {},
     "output_type": "execute_result"
    }
   ],
   "source": [
    "dog_model_data.describe()"
   ]
  },
  {
   "cell_type": "markdown",
   "metadata": {},
   "source": [
    "Now I want to categorize my target column into these 4 values."
   ]
  },
  {
   "cell_type": "markdown",
   "metadata": {},
   "source": [
    "- 0 — Pet was adopted between 1 and 7 days (1st week) after being listed.\n",
    "- 1 — Pet was adopted between 8 and 30 days (1st month) after being listed.\n",
    "- 2 — Pet was adopted between 31 and 90 days (2nd & 3rd month) after being listed.\n",
    "- 3 — No adoption after 100 days of being listed. (There are no pets in this dataset that waited between 90 and 100 days)."
   ]
  },
  {
   "cell_type": "code",
   "execution_count": 9,
   "metadata": {},
   "outputs": [],
   "source": [
    "dog_model_data['duration of stay'][dog_model_data['duration of stay'] <= 7] = 0\n",
    "dog_model_data['duration of stay'][(dog_model_data['duration of stay'] > 7) & (dog_model_data['duration of stay'] <= 30)] = 1\n",
    "dog_model_data['duration of stay'][(dog_model_data['duration of stay'] > 30) & (dog_model_data['duration of stay'] <= 90)] = 2\n",
    "dog_model_data['duration of stay'][dog_model_data['duration of stay'] > 90] = 3"
   ]
  },
  {
   "cell_type": "markdown",
   "metadata": {},
   "source": [
    "I will ignore this warning in final notebook, but this successfully creates the target column."
   ]
  },
  {
   "cell_type": "code",
   "execution_count": 10,
   "metadata": {
    "scrolled": true
   },
   "outputs": [
    {
     "data": {
      "text/plain": [
       "1.0    1463\n",
       "2.0     608\n",
       "0.0     447\n",
       "3.0     323\n",
       "Name: duration of stay, dtype: int64"
      ]
     },
     "execution_count": 10,
     "metadata": {},
     "output_type": "execute_result"
    }
   ],
   "source": [
    "dog_model_data['duration of stay'].value_counts()"
   ]
  },
  {
   "cell_type": "code",
   "execution_count": 11,
   "metadata": {
    "scrolled": true
   },
   "outputs": [
    {
     "data": {
      "text/html": [
       "<div>\n",
       "<style scoped>\n",
       "    .dataframe tbody tr th:only-of-type {\n",
       "        vertical-align: middle;\n",
       "    }\n",
       "\n",
       "    .dataframe tbody tr th {\n",
       "        vertical-align: top;\n",
       "    }\n",
       "\n",
       "    .dataframe thead th {\n",
       "        text-align: right;\n",
       "    }\n",
       "</style>\n",
       "<table border=\"1\" class=\"dataframe\">\n",
       "  <thead>\n",
       "    <tr style=\"text-align: right;\">\n",
       "      <th></th>\n",
       "      <th>Unnamed: 0</th>\n",
       "      <th>id</th>\n",
       "      <th>intakedate</th>\n",
       "      <th>intakereason</th>\n",
       "      <th>istransfer</th>\n",
       "      <th>identichipnumber</th>\n",
       "      <th>animalname</th>\n",
       "      <th>breedname</th>\n",
       "      <th>basecolour</th>\n",
       "      <th>speciesname</th>\n",
       "      <th>animalage</th>\n",
       "      <th>sexname</th>\n",
       "      <th>location</th>\n",
       "      <th>movementdate</th>\n",
       "      <th>movementtype</th>\n",
       "      <th>returndate</th>\n",
       "      <th>puttosleep</th>\n",
       "      <th>age(months)</th>\n",
       "      <th>age(years)</th>\n",
       "      <th>duration of stay</th>\n",
       "    </tr>\n",
       "  </thead>\n",
       "  <tbody>\n",
       "    <tr>\n",
       "      <th>0</th>\n",
       "      <td>12</td>\n",
       "      <td>46238</td>\n",
       "      <td>2016-10-09 00:00:00</td>\n",
       "      <td>Abandoned</td>\n",
       "      <td>False</td>\n",
       "      <td>981020019070093</td>\n",
       "      <td>Tennessee</td>\n",
       "      <td>Heeler</td>\n",
       "      <td>Black and Brown</td>\n",
       "      <td>Dog</td>\n",
       "      <td>5 years 7 months</td>\n",
       "      <td>Male</td>\n",
       "      <td>Special Care Dogs</td>\n",
       "      <td>2018-02-14 00:00:00</td>\n",
       "      <td>Adoption</td>\n",
       "      <td>NaN</td>\n",
       "      <td>False</td>\n",
       "      <td>NaN</td>\n",
       "      <td>5.0</td>\n",
       "      <td>3.0</td>\n",
       "    </tr>\n",
       "    <tr>\n",
       "      <th>1</th>\n",
       "      <td>15</td>\n",
       "      <td>46693</td>\n",
       "      <td>2016-11-21 00:00:00</td>\n",
       "      <td>Abandoned</td>\n",
       "      <td>False</td>\n",
       "      <td>981020017897009</td>\n",
       "      <td>Baby</td>\n",
       "      <td>Pitbull</td>\n",
       "      <td>White</td>\n",
       "      <td>Dog</td>\n",
       "      <td>5 years 9 months</td>\n",
       "      <td>Male</td>\n",
       "      <td>Adoptable Dogs</td>\n",
       "      <td>2017-04-07 00:00:00</td>\n",
       "      <td>Adoption</td>\n",
       "      <td>NaN</td>\n",
       "      <td>False</td>\n",
       "      <td>NaN</td>\n",
       "      <td>5.0</td>\n",
       "      <td>3.0</td>\n",
       "    </tr>\n",
       "    <tr>\n",
       "      <th>2</th>\n",
       "      <td>19</td>\n",
       "      <td>47146</td>\n",
       "      <td>2017-01-17 00:00:00</td>\n",
       "      <td>Abandoned</td>\n",
       "      <td>False</td>\n",
       "      <td>981020021063793</td>\n",
       "      <td>Dinah</td>\n",
       "      <td>Labrador Retriever</td>\n",
       "      <td>Black</td>\n",
       "      <td>Dog</td>\n",
       "      <td>5 years 6 months</td>\n",
       "      <td>Female</td>\n",
       "      <td>Foster</td>\n",
       "      <td>2017-04-01 00:00:00</td>\n",
       "      <td>Adoption</td>\n",
       "      <td>NaN</td>\n",
       "      <td>False</td>\n",
       "      <td>NaN</td>\n",
       "      <td>5.0</td>\n",
       "      <td>2.0</td>\n",
       "    </tr>\n",
       "    <tr>\n",
       "      <th>3</th>\n",
       "      <td>27</td>\n",
       "      <td>47239</td>\n",
       "      <td>2017-01-27 00:00:00</td>\n",
       "      <td>Abandoned</td>\n",
       "      <td>False</td>\n",
       "      <td>981020021070452</td>\n",
       "      <td>Maria</td>\n",
       "      <td>NaN</td>\n",
       "      <td>Black and Brown</td>\n",
       "      <td>Dog</td>\n",
       "      <td>3 years 5 months</td>\n",
       "      <td>Female</td>\n",
       "      <td>Foster</td>\n",
       "      <td>2017-04-01 00:00:00</td>\n",
       "      <td>Adoption</td>\n",
       "      <td>NaN</td>\n",
       "      <td>False</td>\n",
       "      <td>NaN</td>\n",
       "      <td>3.0</td>\n",
       "      <td>2.0</td>\n",
       "    </tr>\n",
       "    <tr>\n",
       "      <th>7</th>\n",
       "      <td>50</td>\n",
       "      <td>47502</td>\n",
       "      <td>2017-02-27 00:00:00</td>\n",
       "      <td>other</td>\n",
       "      <td>False</td>\n",
       "      <td>981020015101070</td>\n",
       "      <td>Zoey</td>\n",
       "      <td>Pitbull</td>\n",
       "      <td>Grey and White</td>\n",
       "      <td>Dog</td>\n",
       "      <td>5 years 4 months</td>\n",
       "      <td>Female</td>\n",
       "      <td>Stray Dogs Beta</td>\n",
       "      <td>2017-06-01 00:00:00</td>\n",
       "      <td>Adoption</td>\n",
       "      <td>NaN</td>\n",
       "      <td>False</td>\n",
       "      <td>NaN</td>\n",
       "      <td>5.0</td>\n",
       "      <td>3.0</td>\n",
       "    </tr>\n",
       "  </tbody>\n",
       "</table>\n",
       "</div>"
      ],
      "text/plain": [
       "   Unnamed: 0     id           intakedate intakereason  istransfer  \\\n",
       "0          12  46238  2016-10-09 00:00:00    Abandoned       False   \n",
       "1          15  46693  2016-11-21 00:00:00    Abandoned       False   \n",
       "2          19  47146  2017-01-17 00:00:00    Abandoned       False   \n",
       "3          27  47239  2017-01-27 00:00:00    Abandoned       False   \n",
       "7          50  47502  2017-02-27 00:00:00        other       False   \n",
       "\n",
       "  identichipnumber animalname           breedname       basecolour  \\\n",
       "0  981020019070093  Tennessee              Heeler  Black and Brown   \n",
       "1  981020017897009       Baby             Pitbull            White   \n",
       "2  981020021063793      Dinah  Labrador Retriever            Black   \n",
       "3  981020021070452      Maria                 NaN  Black and Brown   \n",
       "7  981020015101070       Zoey             Pitbull   Grey and White   \n",
       "\n",
       "  speciesname         animalage sexname           location  \\\n",
       "0         Dog  5 years 7 months    Male  Special Care Dogs   \n",
       "1         Dog  5 years 9 months    Male     Adoptable Dogs   \n",
       "2         Dog  5 years 6 months  Female             Foster   \n",
       "3         Dog  3 years 5 months  Female             Foster   \n",
       "7         Dog  5 years 4 months  Female    Stray Dogs Beta   \n",
       "\n",
       "          movementdate movementtype returndate  puttosleep  age(months)  \\\n",
       "0  2018-02-14 00:00:00     Adoption        NaN       False          NaN   \n",
       "1  2017-04-07 00:00:00     Adoption        NaN       False          NaN   \n",
       "2  2017-04-01 00:00:00     Adoption        NaN       False          NaN   \n",
       "3  2017-04-01 00:00:00     Adoption        NaN       False          NaN   \n",
       "7  2017-06-01 00:00:00     Adoption        NaN       False          NaN   \n",
       "\n",
       "   age(years)  duration of stay  \n",
       "0         5.0               3.0  \n",
       "1         5.0               3.0  \n",
       "2         5.0               2.0  \n",
       "3         3.0               2.0  \n",
       "7         5.0               3.0  "
      ]
     },
     "execution_count": 11,
     "metadata": {},
     "output_type": "execute_result"
    }
   ],
   "source": [
    " dog_model_data.head()"
   ]
  },
  {
   "cell_type": "code",
   "execution_count": 12,
   "metadata": {},
   "outputs": [
    {
     "name": "stdout",
     "output_type": "stream",
     "text": [
      "<class 'pandas.core.frame.DataFrame'>\n",
      "Int64Index: 2841 entries, 0 to 4467\n",
      "Data columns (total 20 columns):\n",
      " #   Column            Non-Null Count  Dtype  \n",
      "---  ------            --------------  -----  \n",
      " 0   Unnamed: 0        2841 non-null   int64  \n",
      " 1   id                2841 non-null   int64  \n",
      " 2   intakedate        2841 non-null   object \n",
      " 3   intakereason      2841 non-null   object \n",
      " 4   istransfer        2841 non-null   bool   \n",
      " 5   identichipnumber  2838 non-null   object \n",
      " 6   animalname        2841 non-null   object \n",
      " 7   breedname         2840 non-null   object \n",
      " 8   basecolour        2841 non-null   object \n",
      " 9   speciesname       2841 non-null   object \n",
      " 10  animalage         2841 non-null   object \n",
      " 11  sexname           2841 non-null   object \n",
      " 12  location          2841 non-null   object \n",
      " 13  movementdate      2841 non-null   object \n",
      " 14  movementtype      2841 non-null   object \n",
      " 15  returndate        55 non-null     object \n",
      " 16  puttosleep        2841 non-null   bool   \n",
      " 17  age(months)       65 non-null     float64\n",
      " 18  age(years)        2841 non-null   float64\n",
      " 19  duration of stay  2841 non-null   float64\n",
      "dtypes: bool(2), float64(3), int64(2), object(13)\n",
      "memory usage: 427.3+ KB\n"
     ]
    }
   ],
   "source": [
    "dog_model_data.info()"
   ]
  },
  {
   "cell_type": "markdown",
   "metadata": {},
   "source": [
    "Breedname is missing one value so i will fill it with 'Other'"
   ]
  },
  {
   "cell_type": "code",
   "execution_count": 13,
   "metadata": {},
   "outputs": [],
   "source": [
    "dog_model_data['breedname'] = dog_model_data['breedname'].fillna('Other')"
   ]
  },
  {
   "cell_type": "markdown",
   "metadata": {},
   "source": [
    "The months that have missing values means that age will be dictated by the years column, so we can fill the rest of the months column with zeroes, I did the same thing for the years column in my data cleaning notebook before saving the csv. Will be more organized in final notebook."
   ]
  },
  {
   "cell_type": "code",
   "execution_count": 14,
   "metadata": {},
   "outputs": [],
   "source": [
    "dog_model_data['age(months)'] = dog_model_data['age(months)'].fillna(0)"
   ]
  },
  {
   "cell_type": "markdown",
   "metadata": {},
   "source": [
    "## Modeling"
   ]
  },
  {
   "cell_type": "markdown",
   "metadata": {},
   "source": [
    "### First Simple Model for Dog predictions"
   ]
  },
  {
   "cell_type": "code",
   "execution_count": 15,
   "metadata": {},
   "outputs": [
    {
     "data": {
      "text/plain": [
       "Index(['Unnamed: 0', 'id', 'intakedate', 'intakereason', 'istransfer',\n",
       "       'identichipnumber', 'animalname', 'breedname', 'basecolour',\n",
       "       'speciesname', 'animalage', 'sexname', 'location', 'movementdate',\n",
       "       'movementtype', 'returndate', 'puttosleep', 'age(months)', 'age(years)',\n",
       "       'duration of stay'],\n",
       "      dtype='object')"
      ]
     },
     "execution_count": 15,
     "metadata": {},
     "output_type": "execute_result"
    }
   ],
   "source": [
    "dog_model_data.columns"
   ]
  },
  {
   "cell_type": "code",
   "execution_count": 16,
   "metadata": {},
   "outputs": [],
   "source": [
    "used_cols = ['age(months)', 'age(years)', 'sexname', 'basecolour', 'speciesname', 'breedname', 'intakereason']"
   ]
  },
  {
   "cell_type": "code",
   "execution_count": 17,
   "metadata": {},
   "outputs": [],
   "source": [
    "X = dog_model_data[used_cols]\n",
    "y = dog_model_data['duration of stay']\n",
    "\n",
    "X_train, X_hold, y_train, y_hold = train_test_split(X, y, test_size=0.15, random_state=42)"
   ]
  },
  {
   "cell_type": "code",
   "execution_count": 18,
   "metadata": {},
   "outputs": [],
   "source": [
    "#perform a second train_test_split\n",
    "X = X_train\n",
    "y = y_train\n",
    "\n",
    "X_train, X_test, y_train, y_test = train_test_split(X, y, random_state=42)"
   ]
  },
  {
   "cell_type": "code",
   "execution_count": 19,
   "metadata": {},
   "outputs": [],
   "source": [
    "# Use a for loop to seperate numrical and categorical columns\n",
    "num_cols =[]\n",
    "cat_cols = []\n",
    "\n",
    "for c in used_cols:\n",
    "    if X[c].dtype in ['float64', 'int64']:\n",
    "        num_cols.append(c)\n",
    "    else:\n",
    "        cat_cols.append(c)"
   ]
  },
  {
   "cell_type": "code",
   "execution_count": 20,
   "metadata": {},
   "outputs": [
    {
     "name": "stdout",
     "output_type": "stream",
     "text": [
      "['age(months)', 'age(years)']\n",
      "['sexname', 'basecolour', 'speciesname', 'breedname', 'intakereason']\n"
     ]
    }
   ],
   "source": [
    "print(num_cols)\n",
    "print(cat_cols)"
   ]
  },
  {
   "cell_type": "markdown",
   "metadata": {},
   "source": [
    "Create a pipeline to One hot encode categorical values, and scale numerical columns in case we use models that require scaling."
   ]
  },
  {
   "cell_type": "code",
   "execution_count": 21,
   "metadata": {},
   "outputs": [],
   "source": [
    "hotencoder = OneHotEncoder(handle_unknown='ignore')\n",
    "cat_transformer = make_pipeline(hotencoder)\n",
    "\n",
    "scaler = StandardScaler()\n",
    "num_transformer = make_pipeline(scaler)"
   ]
  },
  {
   "cell_type": "code",
   "execution_count": 24,
   "metadata": {},
   "outputs": [],
   "source": [
    "# Package our encoder into a Column Transformer\n",
    "preprocessor = ColumnTransformer(\n",
    "    transformers=[('cat', cat_transformer, cat_cols), \n",
    "                  ('num', num_transformer, num_cols)], remainder='passthrough')"
   ]
  },
  {
   "cell_type": "code",
   "execution_count": 25,
   "metadata": {},
   "outputs": [
    {
     "data": {
      "text/plain": [
       "ColumnTransformer(remainder='passthrough',\n",
       "                  transformers=[('cat',\n",
       "                                 Pipeline(steps=[('onehotencoder',\n",
       "                                                  OneHotEncoder(handle_unknown='ignore'))]),\n",
       "                                 ['sexname', 'basecolour', 'speciesname',\n",
       "                                  'breedname', 'intakereason']),\n",
       "                                ('num',\n",
       "                                 Pipeline(steps=[('standardscaler',\n",
       "                                                  StandardScaler())]),\n",
       "                                 ['age(months)', 'age(years)'])])"
      ]
     },
     "execution_count": 25,
     "metadata": {},
     "output_type": "execute_result"
    }
   ],
   "source": [
    "preprocessor"
   ]
  },
  {
   "cell_type": "code",
   "execution_count": 26,
   "metadata": {},
   "outputs": [],
   "source": [
    "X_tr_transformed = preprocessor.fit_transform(X_train)"
   ]
  },
  {
   "cell_type": "markdown",
   "metadata": {},
   "source": [
    "Our transformed data now has 86 columns."
   ]
  },
  {
   "cell_type": "code",
   "execution_count": 27,
   "metadata": {},
   "outputs": [
    {
     "data": {
      "text/plain": [
       "(1810, 86)"
      ]
     },
     "execution_count": 27,
     "metadata": {},
     "output_type": "execute_result"
    }
   ],
   "source": [
    "X_tr_transformed.shape"
   ]
  },
  {
   "cell_type": "code",
   "execution_count": 28,
   "metadata": {},
   "outputs": [
    {
     "data": {
      "text/plain": [
       "ColumnTransformer(remainder='passthrough',\n",
       "                  transformers=[('cat',\n",
       "                                 Pipeline(steps=[('onehotencoder',\n",
       "                                                  OneHotEncoder(handle_unknown='ignore'))]),\n",
       "                                 ['sexname', 'basecolour', 'speciesname',\n",
       "                                  'breedname', 'intakereason']),\n",
       "                                ('num',\n",
       "                                 Pipeline(steps=[('standardscaler',\n",
       "                                                  StandardScaler())]),\n",
       "                                 ['age(months)', 'age(years)'])])"
      ]
     },
     "execution_count": 28,
     "metadata": {},
     "output_type": "execute_result"
    }
   ],
   "source": [
    "preprocessor.fit(X_train)"
   ]
  },
  {
   "cell_type": "code",
   "execution_count": 29,
   "metadata": {},
   "outputs": [],
   "source": [
    "dt_simple_model = Pipeline(steps=[\n",
    "    ('preprocessor', preprocessor),\n",
    "    ('classifier', DecisionTreeClassifier())\n",
    "])"
   ]
  },
  {
   "cell_type": "code",
   "execution_count": 30,
   "metadata": {},
   "outputs": [
    {
     "data": {
      "text/plain": [
       "array([0.4198895 , 0.4198895 , 0.4281768 , 0.43646409, 0.41160221])"
      ]
     },
     "execution_count": 30,
     "metadata": {},
     "output_type": "execute_result"
    }
   ],
   "source": [
    "cross_val_score(dt_simple_model, X_train, y_train)\n"
   ]
  },
  {
   "cell_type": "code",
   "execution_count": 34,
   "metadata": {},
   "outputs": [
    {
     "data": {
      "text/plain": [
       "Pipeline(steps=[('preprocessor',\n",
       "                 ColumnTransformer(remainder='passthrough',\n",
       "                                   transformers=[('cat',\n",
       "                                                  Pipeline(steps=[('onehotencoder',\n",
       "                                                                   OneHotEncoder(handle_unknown='ignore'))]),\n",
       "                                                  ['sexname', 'basecolour',\n",
       "                                                   'speciesname', 'breedname',\n",
       "                                                   'intakereason']),\n",
       "                                                 ('num',\n",
       "                                                  Pipeline(steps=[('standardscaler',\n",
       "                                                                   StandardScaler())]),\n",
       "                                                  ['age(months)',\n",
       "                                                   'age(years)'])])),\n",
       "                ('classifier', DecisionTreeClassifier())])"
      ]
     },
     "execution_count": 34,
     "metadata": {},
     "output_type": "execute_result"
    }
   ],
   "source": [
    "dt_simple_model.fit(X_train, y_train)"
   ]
  },
  {
   "cell_type": "code",
   "execution_count": 40,
   "metadata": {},
   "outputs": [
    {
     "name": "stdout",
     "output_type": "stream",
     "text": [
      "test precison score 0.40066225165562913\n",
      "test accuracy score 0.40066225165562913\n",
      "train precison score 0.9287292817679558\n",
      "train accuracy score 0.9287292817679558\n"
     ]
    }
   ],
   "source": [
    "dt_test_preds = dt_simple_model.predict(X_test)\n",
    "dt_train_preds = dt_simple_model.predict(X_train)\n",
    "\n",
    "print('test precison score', precision_score(y_test, dt_test_preds, average='micro'))\n",
    "print('test accuracy score', accuracy_score(y_test, dt_test_preds))\n",
    "\n",
    "print('train precison score', precision_score(y_train, dt_train_preds, average='micro'))\n",
    "print('train accuracy score', accuracy_score(y_train, dt_train_preds))"
   ]
  },
  {
   "cell_type": "markdown",
   "metadata": {},
   "source": [
    "Model is severely overfit, some tuning or different model choice is needed."
   ]
  },
  {
   "cell_type": "code",
   "execution_count": 35,
   "metadata": {
    "scrolled": true
   },
   "outputs": [
    {
     "data": {
      "text/plain": [
       "<sklearn.metrics._plot.confusion_matrix.ConfusionMatrixDisplay at 0x2c070599ac0>"
      ]
     },
     "execution_count": 35,
     "metadata": {},
     "output_type": "execute_result"
    },
    {
     "data": {
      "image/png": "[encoded data removed]",
      "text/plain": [
       "<Figure size 432x288 with 2 Axes>"
      ]
     },
     "metadata": {
      "needs_background": "light"
     },
     "output_type": "display_data"
    }
   ],
   "source": [
    "plot_confusion_matrix(dt_simple_model, X_test, y_test, normalize='true')"
   ]
  },
  {
   "cell_type": "markdown",
   "metadata": {},
   "source": [
    "### Simple Model Evaluation"
   ]
  },
  {
   "cell_type": "markdown",
   "metadata": {},
   "source": [
    "Remember:\n",
    "\n",
    "- 0 — Pet was adopted between 1 and 7 days (1st week) after being listed.\n",
    "- 1 — Pet was adopted between 8 and 30 days (1st month) after being listed.\n",
    "- 2 — Pet was adopted between 31 and 90 days (2nd & 3rd month) after being listed.\n",
    "- 3 — No adoption after 100 days of being listed. (There are no pets in this dataset that waited between 90 and 100 days).\n"
   ]
  },
  {
   "cell_type": "markdown",
   "metadata": {},
   "source": [
    "- The model is pretty good at predicting if a dog will take longer than 100 days to adopt\n",
    "- It is a little over 50 percent accurate at predicting dogs that will be adopted between 8 and 30 days\n",
    "- But it is pretty bad at predicting if a dog will be adopted in the other 2 ranges"
   ]
  },
  {
   "cell_type": "markdown",
   "metadata": {},
   "source": [
    "### Future Suggestion\n",
    "\n",
    "Maybe making this a binary issue might yield better results, such as before or after 30 days possibly."
   ]
  }
 ],
 "metadata": {
  "kernelspec": {
   "display_name": "Python (learn-env)",
   "language": "python",
   "name": "learn-env"
  },
  "language_info": {
   "codemirror_mode": {
    "name": "ipython",
    "version": 3
   },
   "file_extension": ".py",
   "mimetype": "text/x-python",
   "name": "python",
   "nbconvert_exporter": "python",
   "pygments_lexer": "ipython3",
   "version": "3.8.5"
  }
 },
 "nbformat": 4,
 "nbformat_minor": 4
}
