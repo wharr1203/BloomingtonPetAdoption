{
 "cells": [
  {
   "cell_type": "markdown",
   "metadata": {},
   "source": [
    "# Exploring and cleaning the data"
   ]
  },
  {
   "cell_type": "markdown",
   "metadata": {},
   "source": [
    "## EDA"
   ]
  },
  {
   "cell_type": "code",
   "execution_count": 3,
   "metadata": {},
   "outputs": [],
   "source": [
    "import pandas as pd\n",
    "import numpy as np\n",
    "import warnings\n",
    "\n",
    "warnings.filterwarnings('ignore')"
   ]
  },
  {
   "cell_type": "code",
   "execution_count": 4,
   "metadata": {},
   "outputs": [],
   "source": [
    "shelter_statistics_df = pd.read_csv('../data/animal-care-and-control-data-set-2004-2020.csv')\n",
    "pet_df = pd.read_csv('../data/Animal_Shelter_Animals.csv')"
   ]
  },
  {
   "cell_type": "code",
   "execution_count": 5,
   "metadata": {
    "scrolled": true
   },
   "outputs": [
    {
     "data": {
      "text/html": [
       "<div>\n",
       "<style scoped>\n",
       "    .dataframe tbody tr th:only-of-type {\n",
       "        vertical-align: middle;\n",
       "    }\n",
       "\n",
       "    .dataframe tbody tr th {\n",
       "        vertical-align: top;\n",
       "    }\n",
       "\n",
       "    .dataframe thead th {\n",
       "        text-align: right;\n",
       "    }\n",
       "</style>\n",
       "<table border=\"1\" class=\"dataframe\">\n",
       "  <thead>\n",
       "    <tr style=\"text-align: right;\">\n",
       "      <th></th>\n",
       "      <th>id</th>\n",
       "      <th>intakedate</th>\n",
       "      <th>intakereason</th>\n",
       "      <th>istransfer</th>\n",
       "      <th>sheltercode</th>\n",
       "      <th>identichipnumber</th>\n",
       "      <th>animalname</th>\n",
       "      <th>breedname</th>\n",
       "      <th>basecolour</th>\n",
       "      <th>speciesname</th>\n",
       "      <th>...</th>\n",
       "      <th>movementdate</th>\n",
       "      <th>movementtype</th>\n",
       "      <th>istrial</th>\n",
       "      <th>returndate</th>\n",
       "      <th>returnedreason</th>\n",
       "      <th>deceaseddate</th>\n",
       "      <th>deceasedreason</th>\n",
       "      <th>diedoffshelter</th>\n",
       "      <th>puttosleep</th>\n",
       "      <th>isdoa</th>\n",
       "    </tr>\n",
       "  </thead>\n",
       "  <tbody>\n",
       "    <tr>\n",
       "      <th>0</th>\n",
       "      <td>15801</td>\n",
       "      <td>11/28/2009 12:00:00 AM</td>\n",
       "      <td>Moving</td>\n",
       "      <td>False</td>\n",
       "      <td>C09115463</td>\n",
       "      <td>0A115D7358</td>\n",
       "      <td>Jadzia</td>\n",
       "      <td>Domestic Short Hair</td>\n",
       "      <td>Tortoiseshell</td>\n",
       "      <td>Cat</td>\n",
       "      <td>...</td>\n",
       "      <td>05/13/2017 12:00:00 AM</td>\n",
       "      <td>Adoption</td>\n",
       "      <td>False</td>\n",
       "      <td>NaN</td>\n",
       "      <td>Stray</td>\n",
       "      <td>NaN</td>\n",
       "      <td>Died in care</td>\n",
       "      <td>False</td>\n",
       "      <td>False</td>\n",
       "      <td>False</td>\n",
       "    </tr>\n",
       "    <tr>\n",
       "      <th>1</th>\n",
       "      <td>15932</td>\n",
       "      <td>12/08/2009 12:00:00 AM</td>\n",
       "      <td>Moving</td>\n",
       "      <td>False</td>\n",
       "      <td>D09125594</td>\n",
       "      <td>0A11675477</td>\n",
       "      <td>Gonzo</td>\n",
       "      <td>German Shepherd Dog/Mix</td>\n",
       "      <td>Tan</td>\n",
       "      <td>Dog</td>\n",
       "      <td>...</td>\n",
       "      <td>04/24/2017 12:00:00 AM</td>\n",
       "      <td>Adoption</td>\n",
       "      <td>False</td>\n",
       "      <td>NaN</td>\n",
       "      <td>Stray</td>\n",
       "      <td>NaN</td>\n",
       "      <td>Died in care</td>\n",
       "      <td>False</td>\n",
       "      <td>False</td>\n",
       "      <td>False</td>\n",
       "    </tr>\n",
       "    <tr>\n",
       "      <th>2</th>\n",
       "      <td>28859</td>\n",
       "      <td>08/10/2012 12:00:00 AM</td>\n",
       "      <td>Abandoned</td>\n",
       "      <td>False</td>\n",
       "      <td>D12082309</td>\n",
       "      <td>0A13253C7B</td>\n",
       "      <td>Maggie</td>\n",
       "      <td>Shep Mix/Siberian Husky</td>\n",
       "      <td>Various</td>\n",
       "      <td>Dog</td>\n",
       "      <td>...</td>\n",
       "      <td>04/15/2017 12:00:00 AM</td>\n",
       "      <td>Adoption</td>\n",
       "      <td>False</td>\n",
       "      <td>02/28/2020 12:00:00 AM</td>\n",
       "      <td>Stray</td>\n",
       "      <td>NaN</td>\n",
       "      <td>Died in care</td>\n",
       "      <td>False</td>\n",
       "      <td>False</td>\n",
       "      <td>False</td>\n",
       "    </tr>\n",
       "    <tr>\n",
       "      <th>3</th>\n",
       "      <td>28859</td>\n",
       "      <td>08/10/2012 12:00:00 AM</td>\n",
       "      <td>Abandoned</td>\n",
       "      <td>False</td>\n",
       "      <td>D12082309</td>\n",
       "      <td>0A13253C7B</td>\n",
       "      <td>Maggie</td>\n",
       "      <td>Shep Mix/Siberian Husky</td>\n",
       "      <td>Various</td>\n",
       "      <td>Dog</td>\n",
       "      <td>...</td>\n",
       "      <td>02/29/2020 12:00:00 AM</td>\n",
       "      <td>Reclaimed</td>\n",
       "      <td>False</td>\n",
       "      <td>NaN</td>\n",
       "      <td>Stray</td>\n",
       "      <td>NaN</td>\n",
       "      <td>Died in care</td>\n",
       "      <td>False</td>\n",
       "      <td>False</td>\n",
       "      <td>False</td>\n",
       "    </tr>\n",
       "    <tr>\n",
       "      <th>4</th>\n",
       "      <td>30812</td>\n",
       "      <td>01/11/2013 12:00:00 AM</td>\n",
       "      <td>Abandoned</td>\n",
       "      <td>False</td>\n",
       "      <td>C1301091</td>\n",
       "      <td>0A13403D4D</td>\n",
       "      <td>Pretty Girl</td>\n",
       "      <td>Domestic Short Hair</td>\n",
       "      <td>Dilute tortoiseshell</td>\n",
       "      <td>Cat</td>\n",
       "      <td>...</td>\n",
       "      <td>04/18/2017 12:00:00 AM</td>\n",
       "      <td>Foster</td>\n",
       "      <td>False</td>\n",
       "      <td>05/29/2018 12:00:00 AM</td>\n",
       "      <td>Stray</td>\n",
       "      <td>NaN</td>\n",
       "      <td>Died in care</td>\n",
       "      <td>False</td>\n",
       "      <td>False</td>\n",
       "      <td>False</td>\n",
       "    </tr>\n",
       "  </tbody>\n",
       "</table>\n",
       "<p>5 rows × 23 columns</p>\n",
       "</div>"
      ],
      "text/plain": [
       "      id              intakedate intakereason  istransfer sheltercode  \\\n",
       "0  15801  11/28/2009 12:00:00 AM       Moving       False   C09115463   \n",
       "1  15932  12/08/2009 12:00:00 AM       Moving       False   D09125594   \n",
       "2  28859  08/10/2012 12:00:00 AM    Abandoned       False   D12082309   \n",
       "3  28859  08/10/2012 12:00:00 AM    Abandoned       False   D12082309   \n",
       "4  30812  01/11/2013 12:00:00 AM    Abandoned       False    C1301091   \n",
       "\n",
       "  identichipnumber   animalname                breedname  \\\n",
       "0       0A115D7358       Jadzia      Domestic Short Hair   \n",
       "1       0A11675477        Gonzo  German Shepherd Dog/Mix   \n",
       "2       0A13253C7B       Maggie  Shep Mix/Siberian Husky   \n",
       "3       0A13253C7B       Maggie  Shep Mix/Siberian Husky   \n",
       "4       0A13403D4D  Pretty Girl      Domestic Short Hair   \n",
       "\n",
       "             basecolour speciesname  ...            movementdate movementtype  \\\n",
       "0         Tortoiseshell         Cat  ...  05/13/2017 12:00:00 AM     Adoption   \n",
       "1                   Tan         Dog  ...  04/24/2017 12:00:00 AM     Adoption   \n",
       "2               Various         Dog  ...  04/15/2017 12:00:00 AM     Adoption   \n",
       "3               Various         Dog  ...  02/29/2020 12:00:00 AM    Reclaimed   \n",
       "4  Dilute tortoiseshell         Cat  ...  04/18/2017 12:00:00 AM       Foster   \n",
       "\n",
       "  istrial              returndate returnedreason  deceaseddate deceasedreason  \\\n",
       "0   False                     NaN          Stray           NaN   Died in care   \n",
       "1   False                     NaN          Stray           NaN   Died in care   \n",
       "2   False  02/28/2020 12:00:00 AM          Stray           NaN   Died in care   \n",
       "3   False                     NaN          Stray           NaN   Died in care   \n",
       "4   False  05/29/2018 12:00:00 AM          Stray           NaN   Died in care   \n",
       "\n",
       "  diedoffshelter puttosleep  isdoa  \n",
       "0          False      False  False  \n",
       "1          False      False  False  \n",
       "2          False      False  False  \n",
       "3          False      False  False  \n",
       "4          False      False  False  \n",
       "\n",
       "[5 rows x 23 columns]"
      ]
     },
     "execution_count": 5,
     "metadata": {},
     "output_type": "execute_result"
    }
   ],
   "source": [
    "pet_df.head()"
   ]
  },
  {
   "cell_type": "code",
   "execution_count": 6,
   "metadata": {
    "scrolled": true
   },
   "outputs": [
    {
     "data": {
      "text/html": [
       "<div>\n",
       "<style scoped>\n",
       "    .dataframe tbody tr th:only-of-type {\n",
       "        vertical-align: middle;\n",
       "    }\n",
       "\n",
       "    .dataframe tbody tr th {\n",
       "        vertical-align: top;\n",
       "    }\n",
       "\n",
       "    .dataframe thead th {\n",
       "        text-align: right;\n",
       "    }\n",
       "</style>\n",
       "<table border=\"1\" class=\"dataframe\">\n",
       "  <thead>\n",
       "    <tr style=\"text-align: right;\">\n",
       "      <th></th>\n",
       "      <th>id</th>\n",
       "      <th>intakedate</th>\n",
       "      <th>intakereason</th>\n",
       "      <th>istransfer</th>\n",
       "      <th>sheltercode</th>\n",
       "      <th>identichipnumber</th>\n",
       "      <th>animalname</th>\n",
       "      <th>breedname</th>\n",
       "      <th>basecolour</th>\n",
       "      <th>speciesname</th>\n",
       "      <th>...</th>\n",
       "      <th>movementdate</th>\n",
       "      <th>movementtype</th>\n",
       "      <th>istrial</th>\n",
       "      <th>returndate</th>\n",
       "      <th>returnedreason</th>\n",
       "      <th>deceaseddate</th>\n",
       "      <th>deceasedreason</th>\n",
       "      <th>diedoffshelter</th>\n",
       "      <th>puttosleep</th>\n",
       "      <th>isdoa</th>\n",
       "    </tr>\n",
       "  </thead>\n",
       "  <tbody>\n",
       "    <tr>\n",
       "      <th>18669</th>\n",
       "      <td>71693</td>\n",
       "      <td>11/01/2021 02:11:10 PM</td>\n",
       "      <td>Police Assist</td>\n",
       "      <td>False</td>\n",
       "      <td>C21111474</td>\n",
       "      <td>NaN</td>\n",
       "      <td>Kit 1</td>\n",
       "      <td>Domestic Long Hair</td>\n",
       "      <td>Brown and Black</td>\n",
       "      <td>Cat</td>\n",
       "      <td>...</td>\n",
       "      <td>11/02/2021 12:00:00 AM</td>\n",
       "      <td>Reclaimed</td>\n",
       "      <td>False</td>\n",
       "      <td>NaN</td>\n",
       "      <td>Stray</td>\n",
       "      <td>NaN</td>\n",
       "      <td>Court Order/ Legal</td>\n",
       "      <td>False</td>\n",
       "      <td>False</td>\n",
       "      <td>False</td>\n",
       "    </tr>\n",
       "    <tr>\n",
       "      <th>18670</th>\n",
       "      <td>71694</td>\n",
       "      <td>11/01/2021 02:11:10 PM</td>\n",
       "      <td>Police Assist</td>\n",
       "      <td>False</td>\n",
       "      <td>C21111475</td>\n",
       "      <td>NaN</td>\n",
       "      <td>Kit 2</td>\n",
       "      <td>Domestic Long Hair</td>\n",
       "      <td>Brown and Black</td>\n",
       "      <td>Cat</td>\n",
       "      <td>...</td>\n",
       "      <td>11/02/2021 12:00:00 AM</td>\n",
       "      <td>Reclaimed</td>\n",
       "      <td>False</td>\n",
       "      <td>NaN</td>\n",
       "      <td>Stray</td>\n",
       "      <td>NaN</td>\n",
       "      <td>Court Order/ Legal</td>\n",
       "      <td>False</td>\n",
       "      <td>False</td>\n",
       "      <td>False</td>\n",
       "    </tr>\n",
       "    <tr>\n",
       "      <th>18671</th>\n",
       "      <td>71695</td>\n",
       "      <td>11/01/2021 02:11:10 PM</td>\n",
       "      <td>Police Assist</td>\n",
       "      <td>False</td>\n",
       "      <td>C21111476</td>\n",
       "      <td>NaN</td>\n",
       "      <td>Kit 3</td>\n",
       "      <td>Domestic Long Hair</td>\n",
       "      <td>Brown and Black</td>\n",
       "      <td>Cat</td>\n",
       "      <td>...</td>\n",
       "      <td>11/02/2021 12:00:00 AM</td>\n",
       "      <td>Reclaimed</td>\n",
       "      <td>False</td>\n",
       "      <td>NaN</td>\n",
       "      <td>Stray</td>\n",
       "      <td>NaN</td>\n",
       "      <td>Court Order/ Legal</td>\n",
       "      <td>False</td>\n",
       "      <td>False</td>\n",
       "      <td>False</td>\n",
       "    </tr>\n",
       "    <tr>\n",
       "      <th>18672</th>\n",
       "      <td>71696</td>\n",
       "      <td>11/01/2021 02:11:10 PM</td>\n",
       "      <td>Police Assist</td>\n",
       "      <td>False</td>\n",
       "      <td>C21111477</td>\n",
       "      <td>NaN</td>\n",
       "      <td>Kit 4</td>\n",
       "      <td>Domestic Long Hair</td>\n",
       "      <td>Brown and Black</td>\n",
       "      <td>Cat</td>\n",
       "      <td>...</td>\n",
       "      <td>11/02/2021 12:00:00 AM</td>\n",
       "      <td>Reclaimed</td>\n",
       "      <td>False</td>\n",
       "      <td>NaN</td>\n",
       "      <td>Stray</td>\n",
       "      <td>NaN</td>\n",
       "      <td>Court Order/ Legal</td>\n",
       "      <td>False</td>\n",
       "      <td>False</td>\n",
       "      <td>False</td>\n",
       "    </tr>\n",
       "    <tr>\n",
       "      <th>18673</th>\n",
       "      <td>71697</td>\n",
       "      <td>11/01/2021 02:11:10 PM</td>\n",
       "      <td>Police Assist</td>\n",
       "      <td>False</td>\n",
       "      <td>C21111478</td>\n",
       "      <td>NaN</td>\n",
       "      <td>Kit 5</td>\n",
       "      <td>Domestic Long Hair</td>\n",
       "      <td>Brown and Black</td>\n",
       "      <td>Cat</td>\n",
       "      <td>...</td>\n",
       "      <td>11/02/2021 12:00:00 AM</td>\n",
       "      <td>Reclaimed</td>\n",
       "      <td>False</td>\n",
       "      <td>NaN</td>\n",
       "      <td>Stray</td>\n",
       "      <td>NaN</td>\n",
       "      <td>Court Order/ Legal</td>\n",
       "      <td>False</td>\n",
       "      <td>False</td>\n",
       "      <td>False</td>\n",
       "    </tr>\n",
       "    <tr>\n",
       "      <th>18674</th>\n",
       "      <td>71705</td>\n",
       "      <td>11/02/2021 04:40:39 PM</td>\n",
       "      <td>Unsuitable Accommodation</td>\n",
       "      <td>False</td>\n",
       "      <td>D21111458</td>\n",
       "      <td>NaN</td>\n",
       "      <td>Daisy</td>\n",
       "      <td>Pug/Bulldog, French</td>\n",
       "      <td>Brown</td>\n",
       "      <td>Dog</td>\n",
       "      <td>...</td>\n",
       "      <td>11/03/2021 12:00:00 AM</td>\n",
       "      <td>Foster</td>\n",
       "      <td>False</td>\n",
       "      <td>NaN</td>\n",
       "      <td>Stray</td>\n",
       "      <td>NaN</td>\n",
       "      <td>Court Order/ Legal</td>\n",
       "      <td>False</td>\n",
       "      <td>False</td>\n",
       "      <td>False</td>\n",
       "    </tr>\n",
       "    <tr>\n",
       "      <th>18675</th>\n",
       "      <td>71728</td>\n",
       "      <td>11/05/2021 12:02:28 PM</td>\n",
       "      <td>Stray</td>\n",
       "      <td>False</td>\n",
       "      <td>C21111491</td>\n",
       "      <td>981020045195439</td>\n",
       "      <td>Coco</td>\n",
       "      <td>Domestic Short Hair</td>\n",
       "      <td>Chocolate</td>\n",
       "      <td>Cat</td>\n",
       "      <td>...</td>\n",
       "      <td>11/06/2021 12:00:00 AM</td>\n",
       "      <td>Reclaimed</td>\n",
       "      <td>False</td>\n",
       "      <td>NaN</td>\n",
       "      <td>Stray</td>\n",
       "      <td>NaN</td>\n",
       "      <td>Court Order/ Legal</td>\n",
       "      <td>False</td>\n",
       "      <td>False</td>\n",
       "      <td>False</td>\n",
       "    </tr>\n",
       "    <tr>\n",
       "      <th>18676</th>\n",
       "      <td>71730</td>\n",
       "      <td>11/05/2021 01:03:56 PM</td>\n",
       "      <td>Stray</td>\n",
       "      <td>False</td>\n",
       "      <td>D21111493</td>\n",
       "      <td>956000010131703</td>\n",
       "      <td>Honey</td>\n",
       "      <td>Golden Retriever/Poodle, Standard</td>\n",
       "      <td>Golden</td>\n",
       "      <td>Dog</td>\n",
       "      <td>...</td>\n",
       "      <td>11/05/2021 12:00:00 AM</td>\n",
       "      <td>Reclaimed</td>\n",
       "      <td>False</td>\n",
       "      <td>NaN</td>\n",
       "      <td>Stray</td>\n",
       "      <td>NaN</td>\n",
       "      <td>Court Order/ Legal</td>\n",
       "      <td>False</td>\n",
       "      <td>False</td>\n",
       "      <td>False</td>\n",
       "    </tr>\n",
       "    <tr>\n",
       "      <th>18677</th>\n",
       "      <td>71753</td>\n",
       "      <td>11/06/2021 03:04:53 PM</td>\n",
       "      <td>Stray</td>\n",
       "      <td>False</td>\n",
       "      <td>C21111507</td>\n",
       "      <td>981020023519919</td>\n",
       "      <td>Max</td>\n",
       "      <td>Domestic Short Hair</td>\n",
       "      <td>Grey</td>\n",
       "      <td>Cat</td>\n",
       "      <td>...</td>\n",
       "      <td>11/07/2021 12:00:00 AM</td>\n",
       "      <td>Reclaimed</td>\n",
       "      <td>False</td>\n",
       "      <td>NaN</td>\n",
       "      <td>Stray</td>\n",
       "      <td>NaN</td>\n",
       "      <td>Court Order/ Legal</td>\n",
       "      <td>False</td>\n",
       "      <td>False</td>\n",
       "      <td>False</td>\n",
       "    </tr>\n",
       "    <tr>\n",
       "      <th>18678</th>\n",
       "      <td>71756</td>\n",
       "      <td>11/07/2021 01:26:44 PM</td>\n",
       "      <td>Stray</td>\n",
       "      <td>False</td>\n",
       "      <td>C21111508</td>\n",
       "      <td>NaN</td>\n",
       "      <td>Willow</td>\n",
       "      <td>Domestic Short Hair</td>\n",
       "      <td>Black</td>\n",
       "      <td>Cat</td>\n",
       "      <td>...</td>\n",
       "      <td>11/07/2021 12:00:00 AM</td>\n",
       "      <td>Foster</td>\n",
       "      <td>False</td>\n",
       "      <td>NaN</td>\n",
       "      <td>Stray</td>\n",
       "      <td>NaN</td>\n",
       "      <td>Court Order/ Legal</td>\n",
       "      <td>False</td>\n",
       "      <td>False</td>\n",
       "      <td>False</td>\n",
       "    </tr>\n",
       "  </tbody>\n",
       "</table>\n",
       "<p>10 rows × 23 columns</p>\n",
       "</div>"
      ],
      "text/plain": [
       "          id              intakedate              intakereason  istransfer  \\\n",
       "18669  71693  11/01/2021 02:11:10 PM             Police Assist       False   \n",
       "18670  71694  11/01/2021 02:11:10 PM             Police Assist       False   \n",
       "18671  71695  11/01/2021 02:11:10 PM             Police Assist       False   \n",
       "18672  71696  11/01/2021 02:11:10 PM             Police Assist       False   \n",
       "18673  71697  11/01/2021 02:11:10 PM             Police Assist       False   \n",
       "18674  71705  11/02/2021 04:40:39 PM  Unsuitable Accommodation       False   \n",
       "18675  71728  11/05/2021 12:02:28 PM                     Stray       False   \n",
       "18676  71730  11/05/2021 01:03:56 PM                     Stray       False   \n",
       "18677  71753  11/06/2021 03:04:53 PM                     Stray       False   \n",
       "18678  71756  11/07/2021 01:26:44 PM                     Stray       False   \n",
       "\n",
       "      sheltercode identichipnumber animalname  \\\n",
       "18669   C21111474              NaN      Kit 1   \n",
       "18670   C21111475              NaN      Kit 2   \n",
       "18671   C21111476              NaN      Kit 3   \n",
       "18672   C21111477              NaN      Kit 4   \n",
       "18673   C21111478              NaN      Kit 5   \n",
       "18674   D21111458              NaN      Daisy   \n",
       "18675   C21111491  981020045195439       Coco   \n",
       "18676   D21111493  956000010131703      Honey   \n",
       "18677   C21111507  981020023519919        Max   \n",
       "18678   C21111508              NaN     Willow   \n",
       "\n",
       "                               breedname       basecolour speciesname  ...  \\\n",
       "18669                 Domestic Long Hair  Brown and Black         Cat  ...   \n",
       "18670                 Domestic Long Hair  Brown and Black         Cat  ...   \n",
       "18671                 Domestic Long Hair  Brown and Black         Cat  ...   \n",
       "18672                 Domestic Long Hair  Brown and Black         Cat  ...   \n",
       "18673                 Domestic Long Hair  Brown and Black         Cat  ...   \n",
       "18674                Pug/Bulldog, French            Brown         Dog  ...   \n",
       "18675                Domestic Short Hair        Chocolate         Cat  ...   \n",
       "18676  Golden Retriever/Poodle, Standard           Golden         Dog  ...   \n",
       "18677                Domestic Short Hair             Grey         Cat  ...   \n",
       "18678                Domestic Short Hair            Black         Cat  ...   \n",
       "\n",
       "                 movementdate movementtype istrial returndate returnedreason  \\\n",
       "18669  11/02/2021 12:00:00 AM    Reclaimed   False        NaN          Stray   \n",
       "18670  11/02/2021 12:00:00 AM    Reclaimed   False        NaN          Stray   \n",
       "18671  11/02/2021 12:00:00 AM    Reclaimed   False        NaN          Stray   \n",
       "18672  11/02/2021 12:00:00 AM    Reclaimed   False        NaN          Stray   \n",
       "18673  11/02/2021 12:00:00 AM    Reclaimed   False        NaN          Stray   \n",
       "18674  11/03/2021 12:00:00 AM       Foster   False        NaN          Stray   \n",
       "18675  11/06/2021 12:00:00 AM    Reclaimed   False        NaN          Stray   \n",
       "18676  11/05/2021 12:00:00 AM    Reclaimed   False        NaN          Stray   \n",
       "18677  11/07/2021 12:00:00 AM    Reclaimed   False        NaN          Stray   \n",
       "18678  11/07/2021 12:00:00 AM       Foster   False        NaN          Stray   \n",
       "\n",
       "       deceaseddate      deceasedreason diedoffshelter puttosleep  isdoa  \n",
       "18669           NaN  Court Order/ Legal          False      False  False  \n",
       "18670           NaN  Court Order/ Legal          False      False  False  \n",
       "18671           NaN  Court Order/ Legal          False      False  False  \n",
       "18672           NaN  Court Order/ Legal          False      False  False  \n",
       "18673           NaN  Court Order/ Legal          False      False  False  \n",
       "18674           NaN  Court Order/ Legal          False      False  False  \n",
       "18675           NaN  Court Order/ Legal          False      False  False  \n",
       "18676           NaN  Court Order/ Legal          False      False  False  \n",
       "18677           NaN  Court Order/ Legal          False      False  False  \n",
       "18678           NaN  Court Order/ Legal          False      False  False  \n",
       "\n",
       "[10 rows x 23 columns]"
      ]
     },
     "execution_count": 6,
     "metadata": {},
     "output_type": "execute_result"
    }
   ],
   "source": [
    "pet_df.tail(10)"
   ]
  },
  {
   "cell_type": "code",
   "execution_count": 7,
   "metadata": {},
   "outputs": [
    {
     "data": {
      "text/plain": [
       "Index(['id', 'intakedate', 'intakereason', 'istransfer', 'sheltercode',\n",
       "       'identichipnumber', 'animalname', 'breedname', 'basecolour',\n",
       "       'speciesname', 'animalage', 'sexname', 'location', 'movementdate',\n",
       "       'movementtype', 'istrial', 'returndate', 'returnedreason',\n",
       "       'deceaseddate', 'deceasedreason', 'diedoffshelter', 'puttosleep',\n",
       "       'isdoa'],\n",
       "      dtype='object')"
      ]
     },
     "execution_count": 7,
     "metadata": {},
     "output_type": "execute_result"
    }
   ],
   "source": [
    "pet_df.columns"
   ]
  },
  {
   "cell_type": "code",
   "execution_count": 8,
   "metadata": {},
   "outputs": [
    {
     "data": {
      "text/plain": [
       "(18679, 23)"
      ]
     },
     "execution_count": 8,
     "metadata": {},
     "output_type": "execute_result"
    }
   ],
   "source": [
    "pet_df.shape"
   ]
  },
  {
   "cell_type": "code",
   "execution_count": 9,
   "metadata": {
    "scrolled": true
   },
   "outputs": [
    {
     "name": "stdout",
     "output_type": "stream",
     "text": [
      "<class 'pandas.core.frame.DataFrame'>\n",
      "RangeIndex: 18679 entries, 0 to 18678\n",
      "Data columns (total 23 columns):\n",
      " #   Column            Non-Null Count  Dtype \n",
      "---  ------            --------------  ----- \n",
      " 0   id                18679 non-null  int64 \n",
      " 1   intakedate        18679 non-null  object\n",
      " 2   intakereason      18677 non-null  object\n",
      " 3   istransfer        18679 non-null  bool  \n",
      " 4   sheltercode       18679 non-null  object\n",
      " 5   identichipnumber  15639 non-null  object\n",
      " 6   animalname        18679 non-null  object\n",
      " 7   breedname         18626 non-null  object\n",
      " 8   basecolour        18679 non-null  object\n",
      " 9   speciesname       18679 non-null  object\n",
      " 10  animalage         18679 non-null  object\n",
      " 11  sexname           18679 non-null  object\n",
      " 12  location          18679 non-null  object\n",
      " 13  movementdate      18629 non-null  object\n",
      " 14  movementtype      18679 non-null  object\n",
      " 15  istrial           18679 non-null  bool  \n",
      " 16  returndate        6429 non-null   object\n",
      " 17  returnedreason    18679 non-null  object\n",
      " 18  deceaseddate      514 non-null    object\n",
      " 19  deceasedreason    18679 non-null  object\n",
      " 20  diedoffshelter    18679 non-null  bool  \n",
      " 21  puttosleep        18679 non-null  bool  \n",
      " 22  isdoa             18679 non-null  bool  \n",
      "dtypes: bool(5), int64(1), object(17)\n",
      "memory usage: 2.7+ MB\n"
     ]
    }
   ],
   "source": [
    "pet_df.info()"
   ]
  },
  {
   "cell_type": "markdown",
   "metadata": {},
   "source": [
    "- Columns 18 through 22 are results, so they will not be used in this type of classification\n",
    "- Features and target are currently strings\n",
    "- There are not have many missing values in the columns that will be used in modeling\n",
    "- deceased date is mostly nan but is not a column that will be used"
   ]
  },
  {
   "cell_type": "code",
   "execution_count": 10,
   "metadata": {
    "scrolled": false
   },
   "outputs": [
    {
     "data": {
      "text/plain": [
       "D18081107    11\n",
       "D1801048     11\n",
       "C18101445    10\n",
       "D18111619    10\n",
       "D2102130      8\n",
       "             ..\n",
       "C2102119      1\n",
       "D21101400     1\n",
       "C1707791      1\n",
       "D17031735     1\n",
       "C1901027      1\n",
       "Name: sheltercode, Length: 12513, dtype: int64"
      ]
     },
     "execution_count": 10,
     "metadata": {},
     "output_type": "execute_result"
    }
   ],
   "source": [
    "pet_df['sheltercode'].value_counts()"
   ]
  },
  {
   "cell_type": "markdown",
   "metadata": {},
   "source": [
    "There are 12513 shelter codes, and the most frequent code only has 11 so this column doesnt tell us much "
   ]
  },
  {
   "cell_type": "code",
   "execution_count": 11,
   "metadata": {},
   "outputs": [
    {
     "data": {
      "text/plain": [
       "Domestic Short Hair           9240\n",
       "Domestic Medium Hair           861\n",
       "Domestic Long Hair             617\n",
       "Bully Breed Mix                616\n",
       "Labrador Retriever             258\n",
       "                              ... \n",
       "Bengal/Domestic Short Hair       1\n",
       "Golden Retriever/Sheltie         1\n",
       "Retriever/Beagle                 1\n",
       "Pixie-Bob                        1\n",
       "Vizsla                           1\n",
       "Name: breedname, Length: 1065, dtype: int64"
      ]
     },
     "execution_count": 11,
     "metadata": {},
     "output_type": "execute_result"
    }
   ],
   "source": [
    "pet_df['breedname'].value_counts()"
   ]
  },
  {
   "cell_type": "code",
   "execution_count": 12,
   "metadata": {},
   "outputs": [
    {
     "data": {
      "text/plain": [
       "Black              2727\n",
       "Black and White    1636\n",
       "Grey               1150\n",
       "Black and Brown    1138\n",
       "Orange              975\n",
       "                   ... \n",
       "Tabby and White       5\n",
       "Tortie Point          4\n",
       "Tabby                 4\n",
       "Liver                 3\n",
       "White and Torti       1\n",
       "Name: basecolour, Length: 80, dtype: int64"
      ]
     },
     "execution_count": 12,
     "metadata": {},
     "output_type": "execute_result"
    }
   ],
   "source": [
    "pet_df['basecolour'].value_counts()"
   ]
  },
  {
   "cell_type": "markdown",
   "metadata": {},
   "source": [
    "- 1065 different breednames\n",
    "- 80 different colors\n",
    "- breenames will need to be binned, I do not want 1000 columns in my modeling dataset"
   ]
  },
  {
   "cell_type": "code",
   "execution_count": 13,
   "metadata": {
    "scrolled": false
   },
   "outputs": [
    {
     "data": {
      "text/plain": [
       "False    18679\n",
       "Name: istrial, dtype: int64"
      ]
     },
     "execution_count": 13,
     "metadata": {},
     "output_type": "execute_result"
    }
   ],
   "source": [
    "pet_df['istrial'].value_counts()"
   ]
  },
  {
   "cell_type": "markdown",
   "metadata": {},
   "source": [
    "This columns is 100% false which makes it useless for classification purposes"
   ]
  },
  {
   "cell_type": "code",
   "execution_count": 14,
   "metadata": {
    "scrolled": true
   },
   "outputs": [
    {
     "data": {
      "text/plain": [
       "Stray                                17366\n",
       "Incompatible with owner lifestyle      417\n",
       "Return Adopt - Behavior                164\n",
       "Return adopt - lifestyle issue         154\n",
       "Moving                                  81\n",
       "Return Adopt - Other                    69\n",
       "Incompatible with other pets            53\n",
       "Unsuitable Accommodation                50\n",
       "Biting                                  42\n",
       "Allergies                               40\n",
       "Landlord issues                         36\n",
       "Unable to Afford                        33\n",
       "Owner requested Euthanasia              33\n",
       "Rabies Monitoring                       22\n",
       "Police Assist                           21\n",
       "Behavioral Issues                       20\n",
       "Return Adopt - Animal Health            18\n",
       "DOA                                     13\n",
       "Sick/Injured                            13\n",
       "Abandoned                               11\n",
       "Transfer from Other Shelter              9\n",
       "Owner Deceased                           9\n",
       "Marriage/Relationship split              4\n",
       "Abuse/ neglect                           1\n",
       "Name: returnedreason, dtype: int64"
      ]
     },
     "execution_count": 14,
     "metadata": {},
     "output_type": "execute_result"
    }
   ],
   "source": [
    "pet_df['returnedreason'].value_counts()"
   ]
  },
  {
   "cell_type": "markdown",
   "metadata": {},
   "source": [
    "95 percent of the returned reason is 'stray', so it wont make much of a difference in a classification model"
   ]
  },
  {
   "cell_type": "code",
   "execution_count": 15,
   "metadata": {},
   "outputs": [
    {
     "data": {
      "text/plain": [
       "False    18606\n",
       "True        73\n",
       "Name: istransfer, dtype: int64"
      ]
     },
     "execution_count": 15,
     "metadata": {},
     "output_type": "execute_result"
    }
   ],
   "source": [
    "pet_df['istransfer'].value_counts()"
   ]
  },
  {
   "cell_type": "markdown",
   "metadata": {},
   "source": [
    "99 percent False, not very useful. This column will be dropped "
   ]
  },
  {
   "cell_type": "code",
   "execution_count": 16,
   "metadata": {},
   "outputs": [
    {
     "data": {
      "text/plain": [
       "False    18386\n",
       "True       293\n",
       "Name: puttosleep, dtype: int64"
      ]
     },
     "execution_count": 16,
     "metadata": {},
     "output_type": "execute_result"
    }
   ],
   "source": [
    "pet_df['puttosleep'].value_counts()"
   ]
  },
  {
   "cell_type": "code",
   "execution_count": 17,
   "metadata": {},
   "outputs": [
    {
     "data": {
      "text/plain": [
       "Court Order/ Legal                       17566\n",
       "Died in care                               772\n",
       "UU - untreatable, unmanageable health      149\n",
       "Owner Requested                             37\n",
       "UU-untreatable, unmanageable Behavior       37\n",
       "Dead On Arrival                             34\n",
       "Biting                                      20\n",
       "Medical                                     16\n",
       "Temperament/Behavior                        12\n",
       "TM - Treatable Manageable Behavior          12\n",
       "Vet advised euthanasia                       9\n",
       "Died in community                            8\n",
       "Sick/Injured                                 6\n",
       "Healthy                                      1\n",
       "Name: deceasedreason, dtype: int64"
      ]
     },
     "execution_count": 17,
     "metadata": {},
     "output_type": "execute_result"
    }
   ],
   "source": [
    "pet_df['deceasedreason'].value_counts()"
   ]
  },
  {
   "cell_type": "markdown",
   "metadata": {},
   "source": [
    "The reason that a dog died is not really a feature in prediciting adoption speed."
   ]
  },
  {
   "cell_type": "code",
   "execution_count": 18,
   "metadata": {
    "scrolled": true
   },
   "outputs": [
    {
     "data": {
      "text/plain": [
       "Stray                                9042\n",
       "Incompatible with owner lifestyle    2026\n",
       "Litter relinquishment                2006\n",
       "Moving                                757\n",
       "Unsuitable Accommodation              712\n",
       "Unable to Afford                      622\n",
       "Abandoned                             561\n",
       "Born in Shelter                       518\n",
       "Police Assist                         413\n",
       "Transfer from Other Shelter           405\n",
       "Landlord issues                       301\n",
       "Sick/Injured                          222\n",
       "Owner Deceased                        214\n",
       "Allergies                             204\n",
       "Incompatible with other pets          149\n",
       "TNR - Trap/Neuter/Release             132\n",
       "Marriage/Relationship split            91\n",
       "Biting                                 85\n",
       "Rabies Monitoring                      81\n",
       "Behavioral Issues                      41\n",
       "Abuse/ neglect                         36\n",
       "Owner Died                             27\n",
       "Owner requested Euthanasia             20\n",
       "Injured Wildlife                        8\n",
       "Return adopt - lifestyle issue          3\n",
       "DOA                                     1\n",
       "Name: intakereason, dtype: int64"
      ]
     },
     "execution_count": 18,
     "metadata": {},
     "output_type": "execute_result"
    }
   ],
   "source": [
    "pet_df['intakereason'].value_counts() "
   ]
  },
  {
   "cell_type": "markdown",
   "metadata": {},
   "source": [
    "### Cleaning/Feature Engineering"
   ]
  },
  {
   "cell_type": "markdown",
   "metadata": {},
   "source": [
    "#### Fix datetime columns "
   ]
  },
  {
   "cell_type": "markdown",
   "metadata": {},
   "source": [
    "Dates are currently strings so we will change them to datetime objects"
   ]
  },
  {
   "cell_type": "code",
   "execution_count": 19,
   "metadata": {},
   "outputs": [],
   "source": [
    "pet_df['movementdate'] = pd.to_datetime(pet_df['movementdate'])\n",
    "pet_df['intakedate'] = pd.to_datetime(pet_df['intakedate'])"
   ]
  },
  {
   "cell_type": "markdown",
   "metadata": {},
   "source": [
    "Drop columns that are not useful for predicting"
   ]
  },
  {
   "cell_type": "code",
   "execution_count": 20,
   "metadata": {},
   "outputs": [],
   "source": [
    "pet_df.drop(columns= ['sheltercode', 'isdoa', 'diedoffshelter', 'deceasedreason', 'deceaseddate', 'returnedreason', 'istrial'], inplace=True)"
   ]
  },
  {
   "cell_type": "markdown",
   "metadata": {},
   "source": [
    "Intake reason can be a feature, will bin smaller values into a value called 'other'."
   ]
  },
  {
   "cell_type": "code",
   "execution_count": 21,
   "metadata": {},
   "outputs": [],
   "source": [
    "def bin_intakereason(row):\n",
    "    '''keep the top 6 values and bin the rest into a value called other\n",
    "    '''\n",
    "    if row['intakereason'] == 'Stray':\n",
    "        return 'Stray'\n",
    "    elif row['intakereason'] == 'Incompatible with owner lifestyle':\n",
    "        return 'Incompatible'\n",
    "    elif row['intakereason'] == 'Litter relinquishment':\n",
    "        return 'Litter relinquishment'\n",
    "    elif row['intakereason'] == 'Moving':\n",
    "        return 'Moving'\n",
    "    elif row['intakereason'] == 'Unsuitable Accommodation':\n",
    "        return 'Unsuitable Accommodation'\n",
    "    elif row['intakereason'] == 'Unable to Afford':\n",
    "        return 'Unable to Afford'\n",
    "    elif row['intakereason'] == 'Abandoned':\n",
    "        return 'Abandoned'\n",
    "    else: return 'other'\n",
    "    \n",
    "pet_df['intakereason'] = pet_df.apply(lambda row: bin_intakereason(row), axis=1)"
   ]
  },
  {
   "cell_type": "code",
   "execution_count": 22,
   "metadata": {},
   "outputs": [
    {
     "data": {
      "text/plain": [
       "Stray                       9042\n",
       "other                       2953\n",
       "Incompatible                2026\n",
       "Litter relinquishment       2006\n",
       "Moving                       757\n",
       "Unsuitable Accommodation     712\n",
       "Unable to Afford             622\n",
       "Abandoned                    561\n",
       "Name: intakereason, dtype: int64"
      ]
     },
     "execution_count": 22,
     "metadata": {},
     "output_type": "execute_result"
    }
   ],
   "source": [
    "pet_df['intakereason'].value_counts()"
   ]
  },
  {
   "cell_type": "code",
   "execution_count": 23,
   "metadata": {},
   "outputs": [
    {
     "data": {
      "text/html": [
       "<div>\n",
       "<style scoped>\n",
       "    .dataframe tbody tr th:only-of-type {\n",
       "        vertical-align: middle;\n",
       "    }\n",
       "\n",
       "    .dataframe tbody tr th {\n",
       "        vertical-align: top;\n",
       "    }\n",
       "\n",
       "    .dataframe thead th {\n",
       "        text-align: right;\n",
       "    }\n",
       "</style>\n",
       "<table border=\"1\" class=\"dataframe\">\n",
       "  <thead>\n",
       "    <tr style=\"text-align: right;\">\n",
       "      <th></th>\n",
       "      <th>id</th>\n",
       "      <th>intakedate</th>\n",
       "      <th>intakereason</th>\n",
       "      <th>istransfer</th>\n",
       "      <th>identichipnumber</th>\n",
       "      <th>animalname</th>\n",
       "      <th>breedname</th>\n",
       "      <th>basecolour</th>\n",
       "      <th>speciesname</th>\n",
       "      <th>animalage</th>\n",
       "      <th>sexname</th>\n",
       "      <th>location</th>\n",
       "      <th>movementdate</th>\n",
       "      <th>movementtype</th>\n",
       "      <th>returndate</th>\n",
       "      <th>puttosleep</th>\n",
       "    </tr>\n",
       "  </thead>\n",
       "  <tbody>\n",
       "    <tr>\n",
       "      <th>0</th>\n",
       "      <td>15801</td>\n",
       "      <td>2009-11-28</td>\n",
       "      <td>Moving</td>\n",
       "      <td>False</td>\n",
       "      <td>0A115D7358</td>\n",
       "      <td>Jadzia</td>\n",
       "      <td>Domestic Short Hair</td>\n",
       "      <td>Tortoiseshell</td>\n",
       "      <td>Cat</td>\n",
       "      <td>11 years 8 months.</td>\n",
       "      <td>Female</td>\n",
       "      <td>Adoptable Cat Glass Colony</td>\n",
       "      <td>2017-05-13</td>\n",
       "      <td>Adoption</td>\n",
       "      <td>NaN</td>\n",
       "      <td>False</td>\n",
       "    </tr>\n",
       "    <tr>\n",
       "      <th>1</th>\n",
       "      <td>15932</td>\n",
       "      <td>2009-12-08</td>\n",
       "      <td>Moving</td>\n",
       "      <td>False</td>\n",
       "      <td>0A11675477</td>\n",
       "      <td>Gonzo</td>\n",
       "      <td>German Shepherd Dog/Mix</td>\n",
       "      <td>Tan</td>\n",
       "      <td>Dog</td>\n",
       "      <td>10 years 9 months.</td>\n",
       "      <td>Male</td>\n",
       "      <td>Adoptable Dogs</td>\n",
       "      <td>2017-04-24</td>\n",
       "      <td>Adoption</td>\n",
       "      <td>NaN</td>\n",
       "      <td>False</td>\n",
       "    </tr>\n",
       "    <tr>\n",
       "      <th>2</th>\n",
       "      <td>28859</td>\n",
       "      <td>2012-08-10</td>\n",
       "      <td>Abandoned</td>\n",
       "      <td>False</td>\n",
       "      <td>0A13253C7B</td>\n",
       "      <td>Maggie</td>\n",
       "      <td>Shep Mix/Siberian Husky</td>\n",
       "      <td>Various</td>\n",
       "      <td>Dog</td>\n",
       "      <td>8 years 1 month.</td>\n",
       "      <td>Female</td>\n",
       "      <td>Canine intake room</td>\n",
       "      <td>2017-04-15</td>\n",
       "      <td>Adoption</td>\n",
       "      <td>02/28/2020 12:00:00 AM</td>\n",
       "      <td>False</td>\n",
       "    </tr>\n",
       "    <tr>\n",
       "      <th>3</th>\n",
       "      <td>28859</td>\n",
       "      <td>2012-08-10</td>\n",
       "      <td>Abandoned</td>\n",
       "      <td>False</td>\n",
       "      <td>0A13253C7B</td>\n",
       "      <td>Maggie</td>\n",
       "      <td>Shep Mix/Siberian Husky</td>\n",
       "      <td>Various</td>\n",
       "      <td>Dog</td>\n",
       "      <td>8 years 1 month.</td>\n",
       "      <td>Female</td>\n",
       "      <td>Canine intake room</td>\n",
       "      <td>2020-02-29</td>\n",
       "      <td>Reclaimed</td>\n",
       "      <td>NaN</td>\n",
       "      <td>False</td>\n",
       "    </tr>\n",
       "    <tr>\n",
       "      <th>4</th>\n",
       "      <td>30812</td>\n",
       "      <td>2013-01-11</td>\n",
       "      <td>Abandoned</td>\n",
       "      <td>False</td>\n",
       "      <td>0A13403D4D</td>\n",
       "      <td>Pretty Girl</td>\n",
       "      <td>Domestic Short Hair</td>\n",
       "      <td>Dilute tortoiseshell</td>\n",
       "      <td>Cat</td>\n",
       "      <td>10 years 6 months.</td>\n",
       "      <td>Female</td>\n",
       "      <td>Stray Cats</td>\n",
       "      <td>2017-04-18</td>\n",
       "      <td>Foster</td>\n",
       "      <td>05/29/2018 12:00:00 AM</td>\n",
       "      <td>False</td>\n",
       "    </tr>\n",
       "  </tbody>\n",
       "</table>\n",
       "</div>"
      ],
      "text/plain": [
       "      id intakedate intakereason  istransfer identichipnumber   animalname  \\\n",
       "0  15801 2009-11-28       Moving       False       0A115D7358       Jadzia   \n",
       "1  15932 2009-12-08       Moving       False       0A11675477        Gonzo   \n",
       "2  28859 2012-08-10    Abandoned       False       0A13253C7B       Maggie   \n",
       "3  28859 2012-08-10    Abandoned       False       0A13253C7B       Maggie   \n",
       "4  30812 2013-01-11    Abandoned       False       0A13403D4D  Pretty Girl   \n",
       "\n",
       "                 breedname            basecolour speciesname  \\\n",
       "0      Domestic Short Hair         Tortoiseshell         Cat   \n",
       "1  German Shepherd Dog/Mix                   Tan         Dog   \n",
       "2  Shep Mix/Siberian Husky               Various         Dog   \n",
       "3  Shep Mix/Siberian Husky               Various         Dog   \n",
       "4      Domestic Short Hair  Dilute tortoiseshell         Cat   \n",
       "\n",
       "            animalage sexname                    location movementdate  \\\n",
       "0  11 years 8 months.  Female  Adoptable Cat Glass Colony   2017-05-13   \n",
       "1  10 years 9 months.    Male              Adoptable Dogs   2017-04-24   \n",
       "2    8 years 1 month.  Female          Canine intake room   2017-04-15   \n",
       "3    8 years 1 month.  Female          Canine intake room   2020-02-29   \n",
       "4  10 years 6 months.  Female                  Stray Cats   2017-04-18   \n",
       "\n",
       "  movementtype              returndate  puttosleep  \n",
       "0     Adoption                     NaN       False  \n",
       "1     Adoption                     NaN       False  \n",
       "2     Adoption  02/28/2020 12:00:00 AM       False  \n",
       "3    Reclaimed                     NaN       False  \n",
       "4       Foster  05/29/2018 12:00:00 AM       False  "
      ]
     },
     "execution_count": 23,
     "metadata": {},
     "output_type": "execute_result"
    }
   ],
   "source": [
    "pet_df.head()"
   ]
  },
  {
   "cell_type": "code",
   "execution_count": 24,
   "metadata": {},
   "outputs": [
    {
     "data": {
      "text/plain": [
       "Adoptable Dogs                                                          3210\n",
       "Adoptable window colony                                                 1675\n",
       "Adoptable Cat Kennels                                                   1649\n",
       "Adoptable Cat Glass Colony                                              1148\n",
       "Adoptable Cat Middle Colony                                             1051\n",
       "Adoptable Cat Big Colony                                                 989\n",
       "Adoptable Cat Small Colony                                               972\n",
       "Lobby                                                                    879\n",
       "Cat room A                                                               758\n",
       "Canine intake room                                                       647\n",
       "Dog room A                                                               588\n",
       "Cat room C                                                               520\n",
       "Dog room C                                                               438\n",
       "Dog room B                                                               397\n",
       "Cat room B                                                               397\n",
       "Dog room D                                                               358\n",
       "Office                                                                   342\n",
       "Feline intake room                                                       324\n",
       "Small Animal room                                                        304\n",
       "Stray Dogs Beta                                                          245\n",
       "Feline Nursery                                                           216\n",
       "Stray Cats                                                               211\n",
       "Stray Dogs Theta                                                         169\n",
       "Check-in                                                                 163\n",
       "Cat obs                                                                  155\n",
       "Dog room Isolation                                                       121\n",
       "Cat Iso                                                                   94\n",
       "Foster                                                                    83\n",
       "Veterinary office                                                         81\n",
       "Adoptable Feline Nursery Room                                             77\n",
       "Food prep room                                                            76\n",
       "Stray Dogs Alpha                                                          76\n",
       "Special Care Cats                                                         70\n",
       "Shelter                                                                   66\n",
       "Clinic room                                                               54\n",
       "Special Care Dogs                                                         46\n",
       "Incinerator                                                               18\n",
       "Stray side Men`s restroom-Use for small animal holding-non-adoptable       8\n",
       "MCHA-offices shelter cat                                                   2\n",
       "Petsmart                                                                   1\n",
       "Grooming room                                                              1\n",
       "Name: location, dtype: int64"
      ]
     },
     "execution_count": 24,
     "metadata": {},
     "output_type": "execute_result"
    }
   ],
   "source": [
    "pet_df['location'].value_counts()"
   ]
  },
  {
   "cell_type": "markdown",
   "metadata": {},
   "source": [
    "The location column tells the animal's location inside of the shelter, so thats not really useful for prediciton purposes."
   ]
  },
  {
   "cell_type": "code",
   "execution_count": 25,
   "metadata": {
    "scrolled": false
   },
   "outputs": [
    {
     "data": {
      "text/plain": [
       "Domestic Short Hair       9240\n",
       "Domestic Medium Hair       861\n",
       "Domestic Long Hair         617\n",
       "Bully Breed Mix            616\n",
       "Labrador Retriever         258\n",
       "Beagle                     242\n",
       "Labrador Retriever/Mix     233\n",
       "Chihuahua                  168\n",
       "Hound/Mix                  152\n",
       "Pitbull                    144\n",
       "American                   137\n",
       "German Shepherd Dog        130\n",
       "Shep Mix                   110\n",
       "Hound                      108\n",
       "Mix                        106\n",
       "Name: breedname, dtype: int64"
      ]
     },
     "execution_count": 25,
     "metadata": {},
     "output_type": "execute_result"
    }
   ],
   "source": [
    "pet_df['breedname'].value_counts()[:15]"
   ]
  },
  {
   "cell_type": "code",
   "execution_count": 26,
   "metadata": {
    "scrolled": true
   },
   "outputs": [
    {
     "data": {
      "text/plain": [
       "Cat                 0.600514\n",
       "Dog                 0.345950\n",
       "House Rabbit        0.018523\n",
       "Guinea Pig          0.009315\n",
       "Rat                 0.008726\n",
       "Bird                0.004176\n",
       "Livestock           0.002088\n",
       "Hamster             0.001392\n",
       "Mouse               0.001071\n",
       "Hedgehog            0.000964\n",
       "Gerbil              0.000964\n",
       "Snake               0.000750\n",
       "Ferret              0.000750\n",
       "Wildlife - other    0.000750\n",
       "Pig                 0.000696\n",
       "Lizard              0.000642\n",
       "Chicken             0.000535\n",
       "Turtle              0.000428\n",
       "Sugar Glider        0.000375\n",
       "Opossum             0.000321\n",
       "Fish                0.000321\n",
       "Goat                0.000268\n",
       "Tortoise            0.000161\n",
       "Chinchilla          0.000161\n",
       "Tarantula           0.000054\n",
       "Raccoon             0.000054\n",
       "Squirrel            0.000054\n",
       "Name: speciesname, dtype: float64"
      ]
     },
     "execution_count": 26,
     "metadata": {},
     "output_type": "execute_result"
    }
   ],
   "source": [
    "pet_df['speciesname'].value_counts(normalize=True)"
   ]
  },
  {
   "cell_type": "markdown",
   "metadata": {},
   "source": [
    "Animals that arent dogs and cats account for less than 10% of our dataset so were going to drop them."
   ]
  },
  {
   "cell_type": "code",
   "execution_count": 27,
   "metadata": {
    "scrolled": true
   },
   "outputs": [],
   "source": [
    "dog_cat_df = pet_df[(pet_df['speciesname'] == 'Dog') | (pet_df['speciesname'] == 'Cat')]"
   ]
  },
  {
   "cell_type": "code",
   "execution_count": 28,
   "metadata": {},
   "outputs": [
    {
     "data": {
      "text/plain": [
       "Cat    11217\n",
       "Dog     6462\n",
       "Name: speciesname, dtype: int64"
      ]
     },
     "execution_count": 28,
     "metadata": {},
     "output_type": "execute_result"
    }
   ],
   "source": [
    "dog_cat_df['speciesname'].value_counts()"
   ]
  },
  {
   "cell_type": "code",
   "execution_count": 29,
   "metadata": {
    "scrolled": true
   },
   "outputs": [
    {
     "data": {
      "text/plain": [
       "8 months.              1590\n",
       "2 years 2 months.       477\n",
       "1 year 2 months.        466\n",
       "2 years 1 month.        452\n",
       "1 year 1 month.         444\n",
       "                       ... \n",
       "18 years 9 months.        1\n",
       "0 days.                   1\n",
       "31 years 10 months.       1\n",
       "30 years 5 months.        1\n",
       "28 years 2 months.        1\n",
       "Name: animalage, Length: 315, dtype: int64"
      ]
     },
     "execution_count": 29,
     "metadata": {},
     "output_type": "execute_result"
    }
   ],
   "source": [
    "dog_cat_df['animalage'].value_counts()"
   ]
  },
  {
   "cell_type": "markdown",
   "metadata": {},
   "source": [
    "It is very unlikely that a cat or dog is a 99 or 30 years old, it's probably a typo, but it will be easier to drop outliers afer converting the age column to numeric datatype."
   ]
  },
  {
   "cell_type": "code",
   "execution_count": 30,
   "metadata": {
    "scrolled": true
   },
   "outputs": [
    {
     "data": {
      "text/plain": [
       "8 months.              1590\n",
       "2 years 2 months.       477\n",
       "1 year 2 months.        466\n",
       "2 years 1 month.        452\n",
       "1 year 1 month.         444\n",
       "                       ... \n",
       "100 years 9 months.       1\n",
       "33 years 0 months.        1\n",
       "20 years 7 months.        1\n",
       "100 years 0 months.       1\n",
       "30 years 2 months.        1\n",
       "Name: animalage, Length: 282, dtype: int64"
      ]
     },
     "execution_count": 30,
     "metadata": {},
     "output_type": "execute_result"
    }
   ],
   "source": [
    "dog_cat_df['animalage'][dog_cat_df['animalage'].str.contains('month')].value_counts()"
   ]
  },
  {
   "cell_type": "markdown",
   "metadata": {},
   "source": [
    "### Make numeric age columns"
   ]
  },
  {
   "cell_type": "markdown",
   "metadata": {},
   "source": [
    "##### Rules for the current age column\n",
    "- If the animal is less than a week old the age is given in days\n",
    "- So if the animal is less than 6 months old the age is given in weeks.\n",
    "- If the animal is > 6 months and less than 1 year the age column only contains months\n",
    "- If the animal is 1 or older the age column has years and months"
   ]
  },
  {
   "cell_type": "code",
   "execution_count": 31,
   "metadata": {
    "scrolled": true
   },
   "outputs": [],
   "source": [
    "#Get rid of the periods in the age column\n",
    "dog_cat_df['animalage'] = dog_cat_df['animalage'].str.replace('.', '')"
   ]
  },
  {
   "cell_type": "code",
   "execution_count": 32,
   "metadata": {},
   "outputs": [
    {
     "data": {
      "text/plain": [
       "8 months              1590\n",
       "2 years 2 months       477\n",
       "1 year 2 months        466\n",
       "2 years 1 month        452\n",
       "1 year 1 month         444\n",
       "                      ... \n",
       "101 years 3 months       1\n",
       "28 years 2 months        1\n",
       "99 years 3 months        1\n",
       "19 years 7 months        1\n",
       "30 years 10 months       1\n",
       "Name: animalage, Length: 315, dtype: int64"
      ]
     },
     "execution_count": 32,
     "metadata": {},
     "output_type": "execute_result"
    }
   ],
   "source": [
    "dog_cat_df['animalage'].value_counts()"
   ]
  },
  {
   "cell_type": "code",
   "execution_count": 33,
   "metadata": {
    "scrolled": false
   },
   "outputs": [
    {
     "data": {
      "text/plain": [
       "2 days    11\n",
       "5 days     6\n",
       "4 days     5\n",
       "6 days     5\n",
       "3 days     4\n",
       "1 day      4\n",
       "0 days     1\n",
       "Name: animalage, dtype: int64"
      ]
     },
     "execution_count": 33,
     "metadata": {},
     "output_type": "execute_result"
    }
   ],
   "source": [
    "dog_cat_df['animalage'][dog_cat_df['animalage'].str.contains('day') == True].value_counts()"
   ]
  },
  {
   "cell_type": "markdown",
   "metadata": {},
   "source": [
    "I want to make the age column uniform and then split it into 2 age columns, one for years and one for months"
   ]
  },
  {
   "cell_type": "code",
   "execution_count": 34,
   "metadata": {},
   "outputs": [],
   "source": [
    "# convert all values that give the age in days to 1 week \n",
    "day_values = ['0 days', '1 day', '2 days', '3 days', '4 days', '5 days', '6 days']\n",
    "dog_cat_df.loc[dog_cat_df['animalage'].isin(day_values), 'animalage'] = '1 week'"
   ]
  },
  {
   "cell_type": "markdown",
   "metadata": {},
   "source": [
    "now convert our week values into months"
   ]
  },
  {
   "cell_type": "code",
   "execution_count": 35,
   "metadata": {},
   "outputs": [],
   "source": [
    "# Round weeks to the nearest month\n",
    "one_month = ['1 week', '2 weeks', '3 weeks', '4 weeks', '5 weeks', '6 weeks']\n",
    "two_months = ['7 weeks', '8 weeks', '9 weeks', '10 weeks']\n",
    "three_months = ['11 weeks', '12 weeks', '13 weeks', '14 weeks']\n",
    "four_months = ['15 weeks', '16 weeks', '17 weeks', '18 weeks']\n",
    "five_months = ['19 weeks', '20 weeks', '21 weeks', '22 weeks']\n",
    "six_months = ['23 weeks', '24 weeks', '25 weeks', '26 weeks']"
   ]
  },
  {
   "cell_type": "code",
   "execution_count": 36,
   "metadata": {
    "scrolled": true
   },
   "outputs": [],
   "source": [
    "# if a value is in one of the lists above that value becomes 1 month, 2 months, etc\n",
    "dog_cat_df.loc[dog_cat_df['animalage'].isin(one_month), 'animalage'] = '1 months'\n",
    "dog_cat_df.loc[dog_cat_df['animalage'].isin(two_months), 'animalage'] = '2 months'\n",
    "dog_cat_df.loc[dog_cat_df['animalage'].isin(three_months), 'animalage'] = '3 months'\n",
    "dog_cat_df.loc[dog_cat_df['animalage'].isin(four_months), 'animalage'] = '4 months'\n",
    "dog_cat_df.loc[dog_cat_df['animalage'].isin(five_months), 'animalage'] = '5 months'\n",
    "dog_cat_df.loc[dog_cat_df['animalage'].isin(six_months), 'animalage'] = '6 months'"
   ]
  },
  {
   "cell_type": "markdown",
   "metadata": {},
   "source": [
    "Round pets that are older than 6 months to 1 year"
   ]
  },
  {
   "cell_type": "code",
   "execution_count": 37,
   "metadata": {},
   "outputs": [],
   "source": [
    "one_year = ['7 months', '8 months', '9 months', '10 months', '11 months']\n",
    "dog_cat_df.loc[dog_cat_df['animalage'].isin(one_year), 'animalage'] = '1 year 0 months'\n"
   ]
  },
  {
   "cell_type": "markdown",
   "metadata": {},
   "source": [
    "Create a column called months that records the ages of pets that are less than a year old."
   ]
  },
  {
   "cell_type": "code",
   "execution_count": 38,
   "metadata": {
    "scrolled": false
   },
   "outputs": [],
   "source": [
    "dog_cat_df['age(months)'] = dog_cat_df['animalage'][(dog_cat_df['animalage'].str.contains('months') == True)\\\n",
    "                        & (~dog_cat_df['animalage'].str.contains('year') == True)].str.strip('months').astype(int)"
   ]
  },
  {
   "cell_type": "markdown",
   "metadata": {},
   "source": [
    "Create a column that records the ages of pets that are older than 1 year."
   ]
  },
  {
   "cell_type": "code",
   "execution_count": 39,
   "metadata": {
    "scrolled": false
   },
   "outputs": [],
   "source": [
    "dog_cat_df['age(years)'] = dog_cat_df['animalage'][(dog_cat_df['animalage'].str.contains('month') == True)\\\n",
    "                        & (dog_cat_df['animalage'].str.contains('year') == True)].str[:2].astype(int)"
   ]
  },
  {
   "cell_type": "markdown",
   "metadata": {},
   "source": [
    "Drop rows that have dogs and cats older than 20, these pets typically dont live that long."
   ]
  },
  {
   "cell_type": "code",
   "execution_count": 40,
   "metadata": {},
   "outputs": [
    {
     "data": {
      "text/html": [
       "<div>\n",
       "<style scoped>\n",
       "    .dataframe tbody tr th:only-of-type {\n",
       "        vertical-align: middle;\n",
       "    }\n",
       "\n",
       "    .dataframe tbody tr th {\n",
       "        vertical-align: top;\n",
       "    }\n",
       "\n",
       "    .dataframe thead th {\n",
       "        text-align: right;\n",
       "    }\n",
       "</style>\n",
       "<table border=\"1\" class=\"dataframe\">\n",
       "  <thead>\n",
       "    <tr style=\"text-align: right;\">\n",
       "      <th></th>\n",
       "      <th>id</th>\n",
       "      <th>age(months)</th>\n",
       "      <th>age(years)</th>\n",
       "    </tr>\n",
       "  </thead>\n",
       "  <tbody>\n",
       "    <tr>\n",
       "      <th>count</th>\n",
       "      <td>17679.000000</td>\n",
       "      <td>1277.000000</td>\n",
       "      <td>16402.000000</td>\n",
       "    </tr>\n",
       "    <tr>\n",
       "      <th>mean</th>\n",
       "      <td>63239.324170</td>\n",
       "      <td>4.097886</td>\n",
       "      <td>3.559810</td>\n",
       "    </tr>\n",
       "    <tr>\n",
       "      <th>std</th>\n",
       "      <td>4932.291626</td>\n",
       "      <td>1.873919</td>\n",
       "      <td>4.260322</td>\n",
       "    </tr>\n",
       "    <tr>\n",
       "      <th>min</th>\n",
       "      <td>15801.000000</td>\n",
       "      <td>1.000000</td>\n",
       "      <td>1.000000</td>\n",
       "    </tr>\n",
       "    <tr>\n",
       "      <th>25%</th>\n",
       "      <td>59430.000000</td>\n",
       "      <td>3.000000</td>\n",
       "      <td>1.000000</td>\n",
       "    </tr>\n",
       "    <tr>\n",
       "      <th>50%</th>\n",
       "      <td>63367.000000</td>\n",
       "      <td>4.000000</td>\n",
       "      <td>2.000000</td>\n",
       "    </tr>\n",
       "    <tr>\n",
       "      <th>75%</th>\n",
       "      <td>67338.500000</td>\n",
       "      <td>6.000000</td>\n",
       "      <td>4.000000</td>\n",
       "    </tr>\n",
       "    <tr>\n",
       "      <th>max</th>\n",
       "      <td>71756.000000</td>\n",
       "      <td>6.000000</td>\n",
       "      <td>99.000000</td>\n",
       "    </tr>\n",
       "  </tbody>\n",
       "</table>\n",
       "</div>"
      ],
      "text/plain": [
       "                 id  age(months)    age(years)\n",
       "count  17679.000000  1277.000000  16402.000000\n",
       "mean   63239.324170     4.097886      3.559810\n",
       "std     4932.291626     1.873919      4.260322\n",
       "min    15801.000000     1.000000      1.000000\n",
       "25%    59430.000000     3.000000      1.000000\n",
       "50%    63367.000000     4.000000      2.000000\n",
       "75%    67338.500000     6.000000      4.000000\n",
       "max    71756.000000     6.000000     99.000000"
      ]
     },
     "execution_count": 40,
     "metadata": {},
     "output_type": "execute_result"
    }
   ],
   "source": [
    "dog_cat_df.describe()"
   ]
  },
  {
   "cell_type": "code",
   "execution_count": 41,
   "metadata": {},
   "outputs": [],
   "source": [
    "dog_cat_df['age(years)'] = dog_cat_df['age(years)'].fillna(0)"
   ]
  },
  {
   "cell_type": "code",
   "execution_count": 42,
   "metadata": {
    "scrolled": false
   },
   "outputs": [],
   "source": [
    "dog_cat_df = dog_cat_df[dog_cat_df['age(years)'] < 20]"
   ]
  },
  {
   "cell_type": "code",
   "execution_count": 43,
   "metadata": {},
   "outputs": [
    {
     "data": {
      "text/html": [
       "<div>\n",
       "<style scoped>\n",
       "    .dataframe tbody tr th:only-of-type {\n",
       "        vertical-align: middle;\n",
       "    }\n",
       "\n",
       "    .dataframe tbody tr th {\n",
       "        vertical-align: top;\n",
       "    }\n",
       "\n",
       "    .dataframe thead th {\n",
       "        text-align: right;\n",
       "    }\n",
       "</style>\n",
       "<table border=\"1\" class=\"dataframe\">\n",
       "  <thead>\n",
       "    <tr style=\"text-align: right;\">\n",
       "      <th></th>\n",
       "      <th>id</th>\n",
       "      <th>age(months)</th>\n",
       "      <th>age(years)</th>\n",
       "    </tr>\n",
       "  </thead>\n",
       "  <tbody>\n",
       "    <tr>\n",
       "      <th>count</th>\n",
       "      <td>17597.000000</td>\n",
       "      <td>1277.000000</td>\n",
       "      <td>17597.000000</td>\n",
       "    </tr>\n",
       "    <tr>\n",
       "      <th>mean</th>\n",
       "      <td>63246.267091</td>\n",
       "      <td>4.097886</td>\n",
       "      <td>3.145877</td>\n",
       "    </tr>\n",
       "    <tr>\n",
       "      <th>std</th>\n",
       "      <td>4934.419518</td>\n",
       "      <td>1.873919</td>\n",
       "      <td>3.274553</td>\n",
       "    </tr>\n",
       "    <tr>\n",
       "      <th>min</th>\n",
       "      <td>15801.000000</td>\n",
       "      <td>1.000000</td>\n",
       "      <td>0.000000</td>\n",
       "    </tr>\n",
       "    <tr>\n",
       "      <th>25%</th>\n",
       "      <td>59443.000000</td>\n",
       "      <td>3.000000</td>\n",
       "      <td>1.000000</td>\n",
       "    </tr>\n",
       "    <tr>\n",
       "      <th>50%</th>\n",
       "      <td>63372.000000</td>\n",
       "      <td>4.000000</td>\n",
       "      <td>2.000000</td>\n",
       "    </tr>\n",
       "    <tr>\n",
       "      <th>75%</th>\n",
       "      <td>67348.000000</td>\n",
       "      <td>6.000000</td>\n",
       "      <td>4.000000</td>\n",
       "    </tr>\n",
       "    <tr>\n",
       "      <th>max</th>\n",
       "      <td>71756.000000</td>\n",
       "      <td>6.000000</td>\n",
       "      <td>19.000000</td>\n",
       "    </tr>\n",
       "  </tbody>\n",
       "</table>\n",
       "</div>"
      ],
      "text/plain": [
       "                 id  age(months)    age(years)\n",
       "count  17597.000000  1277.000000  17597.000000\n",
       "mean   63246.267091     4.097886      3.145877\n",
       "std     4934.419518     1.873919      3.274553\n",
       "min    15801.000000     1.000000      0.000000\n",
       "25%    59443.000000     3.000000      1.000000\n",
       "50%    63372.000000     4.000000      2.000000\n",
       "75%    67348.000000     6.000000      4.000000\n",
       "max    71756.000000     6.000000     19.000000"
      ]
     },
     "execution_count": 43,
     "metadata": {},
     "output_type": "execute_result"
    }
   ],
   "source": [
    "dog_cat_df.describe()"
   ]
  },
  {
   "cell_type": "markdown",
   "metadata": {},
   "source": [
    "### Clean breed name column"
   ]
  },
  {
   "cell_type": "code",
   "execution_count": 44,
   "metadata": {},
   "outputs": [
    {
     "data": {
      "text/plain": [
       "960"
      ]
     },
     "execution_count": 44,
     "metadata": {},
     "output_type": "execute_result"
    }
   ],
   "source": [
    "len(dog_cat_df['breedname'].value_counts())"
   ]
  },
  {
   "cell_type": "markdown",
   "metadata": {},
   "source": [
    "960 different breeds"
   ]
  },
  {
   "cell_type": "code",
   "execution_count": 45,
   "metadata": {},
   "outputs": [
    {
     "data": {
      "text/plain": [
       "Domestic Short Hair                   9193\n",
       "Domestic Medium Hair                   859\n",
       "Bully Breed Mix                        614\n",
       "Domestic Long Hair                     613\n",
       "Labrador Retriever                     256\n",
       "Beagle                                 241\n",
       "Labrador Retriever/Mix                 233\n",
       "Chihuahua                              168\n",
       "Hound/Mix                              151\n",
       "Pitbull                                143\n",
       "German Shepherd Dog                    130\n",
       "Shep Mix                               110\n",
       "Hound                                  108\n",
       "Mix                                    105\n",
       "Husky                                  100\n",
       "Beagle/Mix                              76\n",
       "Boxer/Mix                               76\n",
       "Siamese                                 75\n",
       "Border Collie/Mix                       66\n",
       "Manx                                    52\n",
       "Boxer                                   48\n",
       "Border Collie                           47\n",
       "Terrier                                 44\n",
       "Great Pyrenees                          43\n",
       "Labrador Retriever/Bully Breed Mix      42\n",
       "Pitbull/Mix                             42\n",
       "American Staffordshire Terrier          41\n",
       "Coonhound                               41\n",
       "Hound/Labrador Retriever                39\n",
       "Labrador Retriever/Hound                38\n",
       "Chihuahua/Mix                           37\n",
       "Pug/Beagle                              37\n",
       "Unknown                                 37\n",
       "Shih Tzu                                36\n",
       "Terrier/Mix                             35\n",
       "Australian Shepherd                     34\n",
       "Siamese/Domestic Short Hair             33\n",
       "Pit Bull Terrier                        32\n",
       "Chihuahua/Yorkshire Terrier             31\n",
       "Mastiff/Mix                             31\n",
       "German Shepherd Dog/Mix                 28\n",
       "Mountain Cur                            27\n",
       "Labrador Retriever/Pitbull              27\n",
       "DSH/Unknown                             26\n",
       "Heeler                                  26\n",
       "Miniature Pinscher                      26\n",
       "Yorkshire Terrier                       26\n",
       "Boston Terrier                          26\n",
       "Rat Terrier                             25\n",
       "Pitbull/Labrador Retriever              23\n",
       "Hound/Beagle                            23\n",
       "Cocker Spaniel                          22\n",
       "Cattle Dog                              22\n",
       "Heeler/Mix                              22\n",
       "Labrador Retriever/Rottweiler           21\n",
       "Beagle/Chihuahua                        21\n",
       "Pug                                     20\n",
       "Domestic Short Hair/Siamese             20\n",
       "West Highland White Terrier             20\n",
       "Husky/Mix                               20\n",
       "Name: breedname, dtype: int64"
      ]
     },
     "execution_count": 45,
     "metadata": {},
     "output_type": "execute_result"
    }
   ],
   "source": [
    "dog_cat_df['breedname'].value_counts()[:60]"
   ]
  },
  {
   "cell_type": "code",
   "execution_count": 46,
   "metadata": {
    "scrolled": true
   },
   "outputs": [
    {
     "data": {
      "text/plain": [
       "Labrador Retriever/Rottweiler     21\n",
       "Rottweiler/Shep Mix               13\n",
       "Rottweiler                        10\n",
       "Rottweiler/Mix                     9\n",
       "Hound/Rottweiler                   5\n",
       "Rottweiler/Hound                   4\n",
       "Australian Shepherd/Rottweiler     3\n",
       "Rottweiler/Labrador Retriever      2\n",
       "Doberman Pinscher/Rottweiler       2\n",
       "Shepherd/Rottweiler                2\n",
       "Rottweiler/Bully Breed Mix         2\n",
       "Rottweiler/Boxer                   1\n",
       "Saint Bernard/Rottweiler           1\n",
       "Rottweiler/Great Pyrenees          1\n",
       "Mastiff/Rottweiler                 1\n",
       "Rottweiler/Chow Chow               1\n",
       "Pitbull/Rottweiler                 1\n",
       "Rottweiler/German Shepherd Dog     1\n",
       "Beagle/Rottweiler                  1\n",
       "Pug/Rottweiler                     1\n",
       "German Shepherd Dog/Rottweiler     1\n",
       "Name: breedname, dtype: int64"
      ]
     },
     "execution_count": 46,
     "metadata": {},
     "output_type": "execute_result"
    }
   ],
   "source": [
    "dog_cat_df['breedname'][dog_cat_df['breedname'].str.contains('Rottweiler') == True].value_counts()"
   ]
  },
  {
   "cell_type": "code",
   "execution_count": 47,
   "metadata": {},
   "outputs": [],
   "source": [
    "dog_cat_df['breedname'][dog_cat_df['breedname'].str.contains('Rottweiler') == True] = 'Rottweiler'"
   ]
  },
  {
   "cell_type": "code",
   "execution_count": 48,
   "metadata": {},
   "outputs": [
    {
     "data": {
      "text/plain": [
       "Siberian Husky/Hound            11\n",
       "Siberian Husky                   9\n",
       "Pomeranian/Siberian Husky        3\n",
       "Husky/Siberian Husky             2\n",
       "Shep Mix/Siberian Husky          2\n",
       "Siberian Husky/Affenpinscher     1\n",
       "Name: breedname, dtype: int64"
      ]
     },
     "execution_count": 48,
     "metadata": {},
     "output_type": "execute_result"
    }
   ],
   "source": [
    "dog_cat_df['breedname'][dog_cat_df['breedname'].str.contains('Siberian Husky') == True].value_counts()"
   ]
  },
  {
   "cell_type": "markdown",
   "metadata": {},
   "source": [
    "There are a couple siberian husky mixes so I will just bin them all under 'siberian husky'"
   ]
  },
  {
   "cell_type": "code",
   "execution_count": 49,
   "metadata": {
    "scrolled": false
   },
   "outputs": [],
   "source": [
    "dog_cat_df['breedname'][dog_cat_df['breedname'].str.contains('Siberian Husky') == True] = 'Siberian Husky'"
   ]
  },
  {
   "cell_type": "code",
   "execution_count": 50,
   "metadata": {},
   "outputs": [
    {
     "data": {
      "text/plain": [
       "Siamese                         75\n",
       "Siamese/Domestic Short Hair     33\n",
       "Domestic Short Hair/Siamese     20\n",
       "Siamese/Mix                     16\n",
       "Ragdoll/Siamese                  4\n",
       "Siamese/Snowshoe                 4\n",
       "Domestic Medium Hair/Siamese     3\n",
       "Siamese/American Shorthair       3\n",
       "Domestic Long Hair/Siamese       2\n",
       "Siamese/Manx                     2\n",
       "Snowshoe/Siamese                 2\n",
       "Siamese/Balinese                 1\n",
       "Siamese/DSH                      1\n",
       "Siamese/Domestic Medium Hair     1\n",
       "Siamese/Domestic Long Hair       1\n",
       "Siamese/Egyptian Mau             1\n",
       "Siamese/Ragdoll                  1\n",
       "Name: breedname, dtype: int64"
      ]
     },
     "execution_count": 50,
     "metadata": {},
     "output_type": "execute_result"
    }
   ],
   "source": [
    "dog_cat_df['breedname'][dog_cat_df['breedname'].str.contains('Siamese') == True].value_counts()"
   ]
  },
  {
   "cell_type": "markdown",
   "metadata": {},
   "source": [
    "Same with Siamese cats"
   ]
  },
  {
   "cell_type": "code",
   "execution_count": 51,
   "metadata": {
    "scrolled": false
   },
   "outputs": [],
   "source": [
    "dog_cat_df['breedname'][dog_cat_df['breedname'].str.contains('Siamese') == True] = 'Siamese'"
   ]
  },
  {
   "cell_type": "code",
   "execution_count": 52,
   "metadata": {},
   "outputs": [
    {
     "data": {
      "text/plain": [
       "Manx                         52\n",
       "Manx/Domestic Short Hair     19\n",
       "Domestic Short Hair/Manx      7\n",
       "Manx/DSH                      4\n",
       "Balinese/Manx                 1\n",
       "Manx/Domestic Long Hair       1\n",
       "Domestic Long Hair/Manx       1\n",
       "Domestic Medium Hair/Manx     1\n",
       "Manx/Mix                      1\n",
       "Name: breedname, dtype: int64"
      ]
     },
     "execution_count": 52,
     "metadata": {},
     "output_type": "execute_result"
    }
   ],
   "source": [
    "dog_cat_df['breedname'][dog_cat_df['breedname'].str.contains('Manx') == True].value_counts() "
   ]
  },
  {
   "cell_type": "code",
   "execution_count": 53,
   "metadata": {},
   "outputs": [],
   "source": [
    "dog_cat_df['breedname'][dog_cat_df['breedname'].str.contains('Manx') == True] = 'Manx'"
   ]
  },
  {
   "cell_type": "code",
   "execution_count": 54,
   "metadata": {},
   "outputs": [
    {
     "data": {
      "text/plain": [
       "Domestic Long Hair                        613\n",
       "Domestic Long Hair/Maine Coon               5\n",
       "Maine Coon/Domestic Long Hair               4\n",
       "Ragamuffin/Domestic Long Hair               2\n",
       "Domestic Long Hair/Persian                  2\n",
       "Persian/Domestic Long Hair                  2\n",
       "Domestic Long Hair/Domestic Short Hair      2\n",
       "Name: breedname, dtype: int64"
      ]
     },
     "execution_count": 54,
     "metadata": {},
     "output_type": "execute_result"
    }
   ],
   "source": [
    "dog_cat_df['breedname'][dog_cat_df['breedname'].str.contains('Domestic Long Hair') == True].value_counts()"
   ]
  },
  {
   "cell_type": "code",
   "execution_count": 55,
   "metadata": {},
   "outputs": [],
   "source": [
    "dog_cat_df['breedname'][dog_cat_df['breedname'].str.contains('Domestic Long Hair') == True] = 'Domestic Long Hair'"
   ]
  },
  {
   "cell_type": "code",
   "execution_count": 56,
   "metadata": {},
   "outputs": [
    {
     "data": {
      "text/plain": [
       "Domestic Medium Hair               859\n",
       "Domestic Medium Hair/Maine Coon      5\n",
       "Balinese/Domestic Medium Hair        1\n",
       "Name: breedname, dtype: int64"
      ]
     },
     "execution_count": 56,
     "metadata": {},
     "output_type": "execute_result"
    }
   ],
   "source": [
    "dog_cat_df['breedname'][dog_cat_df['breedname'].str.contains('Domestic Medium Hair') == True].value_counts()"
   ]
  },
  {
   "cell_type": "code",
   "execution_count": 57,
   "metadata": {
    "scrolled": true
   },
   "outputs": [],
   "source": [
    "dog_cat_df['breedname'][dog_cat_df['breedname'].str.contains('Domestic Medium Hair') == True] = 'Domestic Medium Hair'"
   ]
  },
  {
   "cell_type": "markdown",
   "metadata": {},
   "source": [
    "So i end up digging into the breeds and shortening the list of values in this column. A very long and tedious task"
   ]
  },
  {
   "cell_type": "code",
   "execution_count": 58,
   "metadata": {},
   "outputs": [],
   "source": [
    "dog_cat_df['breedname'][dog_cat_df['breedname'].str.contains('Domestic Short Hair') == True] = 'Domestic Short Hair'"
   ]
  },
  {
   "cell_type": "code",
   "execution_count": 59,
   "metadata": {},
   "outputs": [],
   "source": [
    "dog_cat_df['breedname'][dog_cat_df['breedname'].str.contains('Pitbull') == True] = 'Pitbull'"
   ]
  },
  {
   "cell_type": "code",
   "execution_count": 60,
   "metadata": {},
   "outputs": [
    {
     "data": {
      "text/plain": [
       "Domestic Short Hair                       9218\n",
       "Domestic Medium Hair                       865\n",
       "Domestic Long Hair                         630\n",
       "Bully Breed Mix                            614\n",
       "Pitbull                                    276\n",
       "                                          ... \n",
       "Anatolian Shepherd                           1\n",
       "Anatolian Shepherd/German Shepherd Dog       1\n",
       "Chinese Crested                              1\n",
       "Beagle/Sheltie                               1\n",
       "Dalmatian/Bully Breed Mix                    1\n",
       "Name: breedname, Length: 867, dtype: int64"
      ]
     },
     "execution_count": 60,
     "metadata": {},
     "output_type": "execute_result"
    }
   ],
   "source": [
    "dog_cat_df['breedname'].value_counts()"
   ]
  },
  {
   "cell_type": "markdown",
   "metadata": {},
   "source": [
    "We still have 863 different breednames"
   ]
  },
  {
   "cell_type": "code",
   "execution_count": 61,
   "metadata": {},
   "outputs": [],
   "source": [
    "# Repeat the same process to bin alot of the breedname values together \n",
    "dog_cat_df['breedname'][dog_cat_df['breedname'].str.contains('Labrador Retriever') == True] = 'Labrador Retriever'\n",
    "dog_cat_df['breedname'][dog_cat_df['breedname'].str.contains('Bully Breed') == True] = 'Bully Breed'\n",
    "dog_cat_df['breedname'][dog_cat_df['breedname'].str.contains('Beagle') == True] = 'Beagle'\n",
    "dog_cat_df['breedname'][dog_cat_df['breedname'].str.contains('Chihuahua') == True] = 'Chihuahua'\n",
    "dog_cat_df['breedname'][dog_cat_df['breedname'].str.contains('Hound') == True] = 'Hound'\n",
    "dog_cat_df['breedname'][dog_cat_df['breedname'].str.contains('German Shepherd') == True] = 'German Shepherd'"
   ]
  },
  {
   "cell_type": "code",
   "execution_count": 62,
   "metadata": {},
   "outputs": [],
   "source": [
    "dog_cat_df['breedname'][dog_cat_df['breedname'].str.contains('Husky') == True] = 'Husky'\n",
    "dog_cat_df['breedname'][dog_cat_df['breedname'].str.contains('Shep Mix') == True] = 'German Shepherd'\n",
    "dog_cat_df['breedname'][dog_cat_df['breedname'].str.contains('Boxer') == True] = 'Boxer'\n",
    "dog_cat_df['breedname'][dog_cat_df['breedname'].str.contains('Collie') == True] = 'Border Collie'\n",
    "dog_cat_df['breedname'][dog_cat_df['breedname'].str.contains('Pit Bull Terrier') == True] = 'Pitbull'\n",
    "dog_cat_df['breedname'][dog_cat_df['breedname'].str.contains('Terrier') == True] = 'Terrier'\n",
    "dog_cat_df['breedname'][dog_cat_df['breedname'].str.contains('Great Pyrenees') == True] = 'Great Pyrenees'"
   ]
  },
  {
   "cell_type": "code",
   "execution_count": 63,
   "metadata": {},
   "outputs": [],
   "source": [
    "dog_cat_df['breedname'][dog_cat_df['breedname'].str.contains('Mastiff') == True] = 'Mastiff'\n",
    "dog_cat_df['breedname'][dog_cat_df['breedname'].str.contains('Golden Retriever') == True] = 'Golden Retriever'\n",
    "dog_cat_df['breedname'][dog_cat_df['breedname'].str.contains('Retriever/Mix') == True] = 'Golden Retriever'"
   ]
  },
  {
   "cell_type": "markdown",
   "metadata": {},
   "source": [
    "For the sake of the reader of this notebook I try to put this tedious process in the same cells"
   ]
  },
  {
   "cell_type": "markdown",
   "metadata": {},
   "source": [
    "##### Split our dog and cat dataframe into a dog dataframe and a cat dataframe\n"
   ]
  },
  {
   "cell_type": "code",
   "execution_count": 64,
   "metadata": {},
   "outputs": [],
   "source": [
    "# Create 2 sub dataframes, to clean dog and cat values individually \n",
    "cat_df = dog_cat_df[(dog_cat_df['speciesname'] == 'Cat')]\n",
    "dog_df = dog_cat_df[(dog_cat_df['speciesname'] == 'Dog')]"
   ]
  },
  {
   "cell_type": "markdown",
   "metadata": {},
   "source": [
    "### Clean Cat breednames and colors"
   ]
  },
  {
   "cell_type": "code",
   "execution_count": 65,
   "metadata": {},
   "outputs": [],
   "source": [
    "# convert values with a count less than 10 into a bin called others\n",
    "counts = cat_df['breedname'].value_counts()\n",
    "cat_df['breedname'][cat_df['breedname'].isin(counts[counts < 10].index)] = 'Other'"
   ]
  },
  {
   "cell_type": "code",
   "execution_count": 66,
   "metadata": {
    "scrolled": false
   },
   "outputs": [],
   "source": [
    "cat_df['breedname'][cat_df['breedname'].str.contains('DSH') == True] = 'Domestic Short Hair'"
   ]
  },
  {
   "cell_type": "markdown",
   "metadata": {},
   "source": [
    "#### Now we clean the color columns for the cats dataframe"
   ]
  },
  {
   "cell_type": "code",
   "execution_count": 67,
   "metadata": {
    "scrolled": false
   },
   "outputs": [
    {
     "data": {
      "text/plain": [
       "Black                     1813\n",
       "Grey                      1031\n",
       "Orange                     963\n",
       "Black and White            911\n",
       "Black and Brown            907\n",
       "Brown and Black            587\n",
       "Tortoiseshell              564\n",
       "Grey and White             561\n",
       "Orange and White           412\n",
       "Calico                     392\n",
       "Buff                       335\n",
       "Torbie                     314\n",
       "Black and grey             261\n",
       "Brown, Black and White     240\n",
       "Tabbico                    198\n",
       "White and Black            172\n",
       "Dilute tortoiseshell       162\n",
       "Black, Brown and White     152\n",
       "Dilute calico              146\n",
       "Buff and white             127\n",
       "Name: basecolour, dtype: int64"
      ]
     },
     "execution_count": 67,
     "metadata": {},
     "output_type": "execute_result"
    }
   ],
   "source": [
    "cat_df['basecolour'].value_counts()[:20]"
   ]
  },
  {
   "cell_type": "markdown",
   "metadata": {},
   "source": [
    "This column has different values for colors that are listed in different orders so I combine such color values."
   ]
  },
  {
   "cell_type": "code",
   "execution_count": 68,
   "metadata": {
    "scrolled": true
   },
   "outputs": [],
   "source": [
    "cat_df['basecolour'][cat_df['basecolour'] == 'Black, Brown and White'] = 'Brown, Black and White'\n",
    "cat_df['basecolour'][cat_df['basecolour'] == 'White and Black'] = 'Black and White'"
   ]
  },
  {
   "cell_type": "code",
   "execution_count": 69,
   "metadata": {},
   "outputs": [
    {
     "data": {
      "text/plain": [
       "White               87\n",
       "White and Grey      74\n",
       "White and Orange    56\n",
       "White and Tabby     48\n",
       "White and Brown     27\n",
       "White and Tan        8\n",
       "White and Torti      1\n",
       "Name: basecolour, dtype: int64"
      ]
     },
     "execution_count": 69,
     "metadata": {},
     "output_type": "execute_result"
    }
   ],
   "source": [
    "cat_df['basecolour'][cat_df['basecolour'].str[:5] == 'White'].value_counts()"
   ]
  },
  {
   "cell_type": "markdown",
   "metadata": {},
   "source": [
    "I combine the white colored cats into one value "
   ]
  },
  {
   "cell_type": "code",
   "execution_count": 70,
   "metadata": {
    "scrolled": true
   },
   "outputs": [],
   "source": [
    "cat_df['basecolour'][cat_df['basecolour'].str[:5] == 'White'] = 'White'"
   ]
  },
  {
   "cell_type": "code",
   "execution_count": 71,
   "metadata": {},
   "outputs": [
    {
     "data": {
      "text/plain": [
       "54"
      ]
     },
     "execution_count": 71,
     "metadata": {},
     "output_type": "execute_result"
    }
   ],
   "source": [
    "len(cat_df['basecolour'].value_counts())"
   ]
  },
  {
   "cell_type": "markdown",
   "metadata": {},
   "source": [
    "Now we have 54 color values for our cat df"
   ]
  },
  {
   "cell_type": "code",
   "execution_count": 72,
   "metadata": {},
   "outputs": [
    {
     "data": {
      "text/plain": [
       "Black                        1813\n",
       "Black and White              1083\n",
       "Grey                         1031\n",
       "Orange                        963\n",
       "Black and Brown               907\n",
       "Brown and Black               587\n",
       "Tortoiseshell                 564\n",
       "Grey and White                561\n",
       "Orange and White              412\n",
       "Brown, Black and White        392\n",
       "Calico                        392\n",
       "Buff                          335\n",
       "Torbie                        314\n",
       "White                         301\n",
       "Black and grey                261\n",
       "Tabbico                       198\n",
       "Dilute tortoiseshell          162\n",
       "Dilute calico                 146\n",
       "Buff and white                127\n",
       "Grey and black                 95\n",
       "Grey Black and White           74\n",
       "Lynx point                     53\n",
       "Flame Point                    42\n",
       "Brown                          36\n",
       "Chocolate Point                35\n",
       "Seal Point                     30\n",
       "Silver                         29\n",
       "Brown and White                27\n",
       "Lilac Point                    21\n",
       "Black and Grey with white      18\n",
       "Various                        18\n",
       "Lilac                          14\n",
       "Cream                          14\n",
       "Black and Tan                  10\n",
       "Blue                           10\n",
       "Tricolour                       9\n",
       "Siver and Black                 8\n",
       "Fawn                            7\n",
       "Chocolate                       7\n",
       "Tortie and White                7\n",
       "Blue Point                      6\n",
       "Black Tortie                    6\n",
       "Seal                            5\n",
       "Tan and Black                   5\n",
       "Tabby and White                 5\n",
       "Cinnamon                        4\n",
       "Tortie Point                    4\n",
       "Tabby                           4\n",
       "Tan and Brown                   3\n",
       "Tan and White                   3\n",
       "Brindle and Black               2\n",
       "Smoke                           2\n",
       "Yellow                          1\n",
       "Golden                          1\n",
       "Name: basecolour, dtype: int64"
      ]
     },
     "execution_count": 72,
     "metadata": {},
     "output_type": "execute_result"
    }
   ],
   "source": [
    "cat_df['basecolour'].value_counts()"
   ]
  },
  {
   "cell_type": "markdown",
   "metadata": {},
   "source": [
    "We have Grey and black and Black and grey values, so I will combine them"
   ]
  },
  {
   "cell_type": "code",
   "execution_count": 73,
   "metadata": {
    "scrolled": true
   },
   "outputs": [],
   "source": [
    "cat_df['basecolour'][cat_df['basecolour'] == 'Grey and black'] = 'Black and grey'"
   ]
  },
  {
   "cell_type": "markdown",
   "metadata": {},
   "source": [
    "I decided to lowet the amount of values by binning every value that has a count less than 30 into a value called other"
   ]
  },
  {
   "cell_type": "code",
   "execution_count": 74,
   "metadata": {},
   "outputs": [],
   "source": [
    "color_counts = cat_df['basecolour'].value_counts()\n",
    "\n",
    "cat_df['basecolour'][cat_df['basecolour'].isin(color_counts[color_counts < 30].index)] = 'Other'"
   ]
  },
  {
   "cell_type": "code",
   "execution_count": 75,
   "metadata": {},
   "outputs": [
    {
     "data": {
      "text/plain": [
       "26"
      ]
     },
     "execution_count": 75,
     "metadata": {},
     "output_type": "execute_result"
    }
   ],
   "source": [
    "len(cat_df['basecolour'].value_counts())"
   ]
  },
  {
   "cell_type": "code",
   "execution_count": 76,
   "metadata": {},
   "outputs": [
    {
     "data": {
      "text/plain": [
       "Black                     1813\n",
       "Black and White           1083\n",
       "Grey                      1031\n",
       "Orange                     963\n",
       "Black and Brown            907\n",
       "Brown and Black            587\n",
       "Tortoiseshell              564\n",
       "Grey and White             561\n",
       "Orange and White           412\n",
       "Brown, Black and White     392\n",
       "Calico                     392\n",
       "Black and grey             356\n",
       "Buff                       335\n",
       "Torbie                     314\n",
       "White                      301\n",
       "Other                      250\n",
       "Tabbico                    198\n",
       "Dilute tortoiseshell       162\n",
       "Dilute calico              146\n",
       "Buff and white             127\n",
       "Grey Black and White        74\n",
       "Lynx point                  53\n",
       "Flame Point                 42\n",
       "Brown                       36\n",
       "Chocolate Point             35\n",
       "Seal Point                  30\n",
       "Name: basecolour, dtype: int64"
      ]
     },
     "execution_count": 76,
     "metadata": {},
     "output_type": "execute_result"
    }
   ],
   "source": [
    "cat_df['basecolour'].value_counts()"
   ]
  },
  {
   "cell_type": "markdown",
   "metadata": {},
   "source": [
    "### Drop duplicated entries"
   ]
  },
  {
   "cell_type": "markdown",
   "metadata": {},
   "source": [
    "##### We want to track the time between a pet entering the shelter for the first time until the time it is adopted so we will drop duplicates and keep the last entry.  Intakedate stays the same for duplicates so eventhough we only keep the last entry we still get hte original intake date."
   ]
  },
  {
   "cell_type": "code",
   "execution_count": 77,
   "metadata": {},
   "outputs": [
    {
     "data": {
      "text/plain": [
       "4060"
      ]
     },
     "execution_count": 77,
     "metadata": {},
     "output_type": "execute_result"
    }
   ],
   "source": [
    "cat_df['id'].duplicated().sum()"
   ]
  },
  {
   "cell_type": "code",
   "execution_count": 78,
   "metadata": {
    "scrolled": true
   },
   "outputs": [],
   "source": [
    "# Drop duplicates keep last and the inplace arguement makes the change permanent to the dataframe\n",
    "cat_df.drop_duplicates('id', keep='last', inplace=True)"
   ]
  },
  {
   "cell_type": "markdown",
   "metadata": {},
   "source": [
    "#### Here we create the target column for our cat dataset"
   ]
  },
  {
   "cell_type": "code",
   "execution_count": 79,
   "metadata": {
    "scrolled": true
   },
   "outputs": [],
   "source": [
    "# Create the target column by subtracting the intake date from the movement date\n",
    "cat_df['duration of stay'] = cat_df['movementdate'].dt.date - cat_df['intakedate'].dt.date"
   ]
  },
  {
   "cell_type": "code",
   "execution_count": 80,
   "metadata": {},
   "outputs": [
    {
     "data": {
      "text/plain": [
       "0    2723 days\n",
       "5    1964 days\n",
       "14    163 days\n",
       "17    122 days\n",
       "26    151 days\n",
       "Name: duration of stay, dtype: timedelta64[ns]"
      ]
     },
     "execution_count": 80,
     "metadata": {},
     "output_type": "execute_result"
    }
   ],
   "source": [
    "cat_df['duration of stay'].head()"
   ]
  },
  {
   "cell_type": "markdown",
   "metadata": {},
   "source": [
    "### Clean Dog dataframe"
   ]
  },
  {
   "cell_type": "code",
   "execution_count": 81,
   "metadata": {
    "scrolled": false
   },
   "outputs": [
    {
     "data": {
      "text/plain": [
       "Black                        786\n",
       "Black and White              650\n",
       "Tricolour                    411\n",
       "Black and Tan                360\n",
       "Tan                          357\n",
       "Brindle                      281\n",
       "Red                          277\n",
       "Tan and White                252\n",
       "Brown                        251\n",
       "White                        251\n",
       "Brown and White              237\n",
       "Black and Brown              209\n",
       "White and Black              179\n",
       "White and Brown              169\n",
       "Brown and Black              147\n",
       "Cream                        144\n",
       "Brindle and White            141\n",
       "White and Tan                132\n",
       "Chocolate                    125\n",
       "Grey and White               109\n",
       "Red and White                 93\n",
       "Golden                        92\n",
       "Blue                          74\n",
       "Grey                          69\n",
       "Yellow                        57\n",
       "Blue merle                    47\n",
       "Tan and Black                 40\n",
       "Fawn                          39\n",
       "Black merle                   35\n",
       "Brown, Black and White        35\n",
       "White and Brindle             34\n",
       "White and Grey                30\n",
       "Black, Brown and White        29\n",
       "Black and grey                28\n",
       "Brindle and Black             25\n",
       "Red merle                     24\n",
       "Tan and Brown                 23\n",
       "White and Liver               22\n",
       "Black and Brindle             22\n",
       "Siver and Tan                 15\n",
       "Grey and black                14\n",
       "Various                       14\n",
       "Silver                        13\n",
       "Red and Black                 13\n",
       "Apricot                       12\n",
       "Buff                          12\n",
       "Buff and white                11\n",
       "Orange and White               9\n",
       "Liver and White                5\n",
       "Ruddy                          5\n",
       "Siver and Black                5\n",
       "Smoke                          4\n",
       "Cinnamon                       3\n",
       "Lilac                          3\n",
       "Liver                          3\n",
       "White and Orange               2\n",
       "Chocolate Point                1\n",
       "Black and Grey with white      1\n",
       "Grey Black and White           1\n",
       "Orange                         1\n",
       "Name: basecolour, dtype: int64"
      ]
     },
     "execution_count": 81,
     "metadata": {},
     "output_type": "execute_result"
    }
   ],
   "source": [
    "dog_df['basecolour'].value_counts()"
   ]
  },
  {
   "cell_type": "markdown",
   "metadata": {},
   "source": [
    "The dataset has different values for 'grey and white' and 'white and grey', so I will combint them "
   ]
  },
  {
   "cell_type": "code",
   "execution_count": 82,
   "metadata": {
    "scrolled": false
   },
   "outputs": [],
   "source": [
    "dog_df['basecolour'][dog_df['basecolour'] == 'White and Grey'] = 'Grey and White'"
   ]
  },
  {
   "cell_type": "markdown",
   "metadata": {},
   "source": [
    "Yellow and fawn dogs are very similar so I will combine the 2 values under the fawn color"
   ]
  },
  {
   "cell_type": "code",
   "execution_count": 83,
   "metadata": {
    "scrolled": false
   },
   "outputs": [],
   "source": [
    "dog_df['basecolour'][dog_df['basecolour']== 'Yellow'] = 'Fawn'"
   ]
  },
  {
   "cell_type": "markdown",
   "metadata": {},
   "source": [
    "Chocolate and Brown dogs look very similar so I will combine the 2 classes"
   ]
  },
  {
   "cell_type": "code",
   "execution_count": 84,
   "metadata": {},
   "outputs": [],
   "source": [
    "dog_df['basecolour'][dog_df['basecolour']== 'Chocolate'] = 'Brown'"
   ]
  },
  {
   "cell_type": "markdown",
   "metadata": {},
   "source": [
    "Combine 'black and brown' values with 'brown and black' values and do the same with dogs considered white and black."
   ]
  },
  {
   "cell_type": "code",
   "execution_count": 85,
   "metadata": {},
   "outputs": [
    {
     "data": {
      "text/plain": [
       "Black and White           650\n",
       "Tan and White             252\n",
       "White                     251\n",
       "Brown and White           237\n",
       "White and Black           179\n",
       "White and Brown           169\n",
       "Brindle and White         141\n",
       "Grey and White            139\n",
       "White and Tan             132\n",
       "Red and White              93\n",
       "Brown, Black and White     35\n",
       "White and Brindle          34\n",
       "Black, Brown and White     29\n",
       "White and Liver            22\n",
       "Orange and White            9\n",
       "Liver and White             5\n",
       "White and Orange            2\n",
       "Grey Black and White        1\n",
       "Name: basecolour, dtype: int64"
      ]
     },
     "execution_count": 85,
     "metadata": {},
     "output_type": "execute_result"
    }
   ],
   "source": [
    "dog_df['basecolour'][dog_df['basecolour'].str.contains('White')].value_counts()"
   ]
  },
  {
   "cell_type": "markdown",
   "metadata": {},
   "source": [
    "Many color values just written in different orders."
   ]
  },
  {
   "cell_type": "code",
   "execution_count": 86,
   "metadata": {},
   "outputs": [],
   "source": [
    "dog_df['basecolour'][dog_df['basecolour']== 'White and Black'] = 'Black and White'\n",
    "dog_df['basecolour'][dog_df['basecolour']== 'Brown, Black and White'] = 'Black, Brown and White'\n",
    "dog_df['basecolour'][dog_df['basecolour']== 'White and Brown'] = 'Brown and White'\n",
    "dog_df['basecolour'][dog_df['basecolour']== 'Tan and White'] = 'White and Tan'\n",
    "dog_df['basecolour'][dog_df['basecolour']== 'Brown and Black'] = 'Black and Brown'\n"
   ]
  },
  {
   "cell_type": "code",
   "execution_count": 87,
   "metadata": {
    "scrolled": false
   },
   "outputs": [
    {
     "data": {
      "text/plain": [
       "Black and White              829\n",
       "Black                        786\n",
       "Tricolour                    411\n",
       "Brown and White              406\n",
       "White and Tan                384\n",
       "Brown                        376\n",
       "Black and Tan                360\n",
       "Tan                          357\n",
       "Black and Brown              356\n",
       "Brindle                      281\n",
       "Red                          277\n",
       "White                        251\n",
       "Cream                        144\n",
       "Brindle and White            141\n",
       "Grey and White               139\n",
       "Fawn                          96\n",
       "Red and White                 93\n",
       "Golden                        92\n",
       "Blue                          74\n",
       "Grey                          69\n",
       "Black, Brown and White        64\n",
       "Blue merle                    47\n",
       "Tan and Black                 40\n",
       "Black merle                   35\n",
       "White and Brindle             34\n",
       "Black and grey                28\n",
       "Brindle and Black             25\n",
       "Red merle                     24\n",
       "Tan and Brown                 23\n",
       "Black and Brindle             22\n",
       "White and Liver               22\n",
       "Siver and Tan                 15\n",
       "Grey and black                14\n",
       "Various                       14\n",
       "Silver                        13\n",
       "Red and Black                 13\n",
       "Buff                          12\n",
       "Apricot                       12\n",
       "Buff and white                11\n",
       "Orange and White               9\n",
       "Liver and White                5\n",
       "Ruddy                          5\n",
       "Siver and Black                5\n",
       "Smoke                          4\n",
       "Lilac                          3\n",
       "Cinnamon                       3\n",
       "Liver                          3\n",
       "White and Orange               2\n",
       "Black and Grey with white      1\n",
       "Grey Black and White           1\n",
       "Orange                         1\n",
       "Chocolate Point                1\n",
       "Name: basecolour, dtype: int64"
      ]
     },
     "execution_count": 87,
     "metadata": {},
     "output_type": "execute_result"
    }
   ],
   "source": [
    "dog_df['basecolour'].value_counts()"
   ]
  },
  {
   "cell_type": "code",
   "execution_count": 88,
   "metadata": {},
   "outputs": [],
   "source": [
    "dog_df['basecolour'][dog_df['basecolour']== 'Grey and black'] = 'Black and grey'\n",
    "dog_df['basecolour'][dog_df['basecolour']== 'Tan and Black'] = 'Black and Tan'"
   ]
  },
  {
   "cell_type": "code",
   "execution_count": 89,
   "metadata": {
    "scrolled": true
   },
   "outputs": [],
   "source": [
    "# bin all color values with a count less than 30 into a value called other\n",
    "dog_color_counts = dog_df['basecolour'].value_counts()\n",
    "\n",
    "dog_df['basecolour'][dog_df['basecolour'].isin(dog_color_counts[dog_color_counts < 30].index)] = 'Other'"
   ]
  },
  {
   "cell_type": "code",
   "execution_count": 90,
   "metadata": {
    "scrolled": true
   },
   "outputs": [],
   "source": [
    "# Drop duplicates and keep last just like we did with the cat df\n",
    "dog_df.drop_duplicates('id', keep='last', inplace=True)"
   ]
  },
  {
   "cell_type": "code",
   "execution_count": 91,
   "metadata": {},
   "outputs": [
    {
     "data": {
      "text/plain": [
       "0"
      ]
     },
     "execution_count": 91,
     "metadata": {},
     "output_type": "execute_result"
    }
   ],
   "source": [
    "dog_df.duplicated().sum()"
   ]
  },
  {
   "cell_type": "markdown",
   "metadata": {},
   "source": [
    "##### Dog Breednames"
   ]
  },
  {
   "cell_type": "code",
   "execution_count": 92,
   "metadata": {
    "scrolled": true
   },
   "outputs": [
    {
     "data": {
      "text/plain": [
       "Labrador Retriever         708\n",
       "Bully Breed                544\n",
       "Beagle                     380\n",
       "Terrier                    363\n",
       "Hound                      316\n",
       "German Shepherd            290\n",
       "Chihuahua                  236\n",
       "Pitbull                    207\n",
       "Husky                      141\n",
       "Border Collie              115\n",
       "Boxer                       90\n",
       "Golden Retriever            65\n",
       "Mix                         65\n",
       "Great Pyrenees              53\n",
       "Rottweiler                  52\n",
       "Mastiff                     31\n",
       "Shih Tzu                    31\n",
       "Coonhound                   26\n",
       "Australian Shepherd         24\n",
       "Heeler                      22\n",
       "Miniature Pinscher          21\n",
       "Mountain Cur                19\n",
       "Pomeranian                  18\n",
       "Pug                         17\n",
       "Cattle Dog                  15\n",
       "Dachshund                   14\n",
       "Heeler/Mix                  14\n",
       "Australian Shepherd/Mix     13\n",
       "Cocker Spaniel              12\n",
       "American Bulldog            12\n",
       "Great Dane                  11\n",
       "Poodle                      10\n",
       "Spaniel                     10\n",
       "Maltese                     10\n",
       "Dachshund/Mix               10\n",
       "Redbone Coonhound            9\n",
       "Bloodhound                   8\n",
       "Australian Cattle Dog        8\n",
       "Shepherd                     8\n",
       "Doberman Pinscher            8\n",
       "Name: breedname, dtype: int64"
      ]
     },
     "execution_count": 92,
     "metadata": {},
     "output_type": "execute_result"
    }
   ],
   "source": [
    "dog_df['breedname'].value_counts()[:40]"
   ]
  },
  {
   "cell_type": "markdown",
   "metadata": {},
   "source": [
    "#### We have 200 values that have counts that are less than 5 so we will bin these into a value called 'other'"
   ]
  },
  {
   "cell_type": "code",
   "execution_count": 93,
   "metadata": {
    "scrolled": false
   },
   "outputs": [
    {
     "data": {
      "text/plain": [
       "Italian Greyhound/Whippet              1\n",
       "Crossbreed                             1\n",
       "Schnauzer, Miniature/Cocker Spaniel    1\n",
       "Cavalier King Charles Spaniel/Mix      1\n",
       "English Bulldog/Shar Pei               1\n",
       "                                      ..\n",
       "Schnauzer, Standard                    4\n",
       "Lhasa Apso/Poodle                      4\n",
       "Maltese/Poodle                         4\n",
       "Foxhound                               4\n",
       "Bernese Mountain Dog                   4\n",
       "Name: breedname, Length: 200, dtype: int64"
      ]
     },
     "execution_count": 93,
     "metadata": {},
     "output_type": "execute_result"
    }
   ],
   "source": [
    "dog_df['breedname'].value_counts(ascending =True)[:200]"
   ]
  },
  {
   "cell_type": "code",
   "execution_count": 94,
   "metadata": {
    "scrolled": true
   },
   "outputs": [],
   "source": [
    "dog_breed_counts = dog_df['breedname'].value_counts()\n",
    "\n",
    "dog_df['breedname'][dog_df['breedname'].isin(dog_breed_counts[dog_breed_counts < 5].index)] = 'Other'"
   ]
  },
  {
   "cell_type": "code",
   "execution_count": 95,
   "metadata": {
    "scrolled": true
   },
   "outputs": [
    {
     "data": {
      "text/plain": [
       "Labrador Retriever    708\n",
       "Bully Breed           544\n",
       "Beagle                380\n",
       "Terrier               363\n",
       "Hound                 316\n",
       "                     ... \n",
       "Pointer/Mix             5\n",
       "Retriever               5\n",
       "Pomeranian/Mix          5\n",
       "Carolina Dog/Mix        5\n",
       "Saint Bernard           5\n",
       "Name: breedname, Length: 67, dtype: int64"
      ]
     },
     "execution_count": 95,
     "metadata": {},
     "output_type": "execute_result"
    }
   ],
   "source": [
    "dog_df['breedname'].value_counts()"
   ]
  },
  {
   "cell_type": "code",
   "execution_count": 96,
   "metadata": {
    "scrolled": true
   },
   "outputs": [],
   "source": [
    "dog_df['breedname'][dog_df['breedname'].str.contains('Coonhound') == True] = 'Coonhound'\n",
    "dog_df['breedname'][dog_df['breedname'].str.contains('American Bulldog') == True] = 'American Bulldog'\n",
    "dog_df['breedname'][dog_df['breedname'].str.contains('Dachshund') == True] = 'Dachshund'\n",
    "dog_df['breedname'][dog_df['breedname'].str.contains('Cattle Dog') == True] = 'Cattle Dog'\n",
    "dog_df['breedname'][dog_df['breedname'].str.contains('Shiba Inu') == True] = 'Shiba Inu'\n",
    "dog_df['breedname'][dog_df['breedname'].str.contains('Australian Shepherd') == True] = 'Australian Shepherd'\n",
    "dog_df['breedname'][dog_df['breedname'].str.contains('Schnauzer') == True] = 'Schnauzer'\n",
    "dog_df['breedname'][dog_df['breedname'].str.contains('Foxhound') == True] = 'Foxhound'"
   ]
  },
  {
   "cell_type": "code",
   "execution_count": 97,
   "metadata": {},
   "outputs": [],
   "source": [
    "dog_df['breedname'][dog_df['breedname'].str.contains('Pomeranian') == True] = 'Pomeranian'\n",
    "dog_df['breedname'][dog_df['breedname'].str[:7] == 'Spaniel'] = 'Spaniel'\n",
    "dog_df['breedname'][dog_df['breedname'].str.contains('Heeler') == True] = 'Heeler'\n",
    "dog_df['breedname'][dog_df['breedname'].str[:6] == 'Poodle'] = 'Poodle'"
   ]
  },
  {
   "cell_type": "code",
   "execution_count": 98,
   "metadata": {},
   "outputs": [
    {
     "data": {
      "text/plain": [
       "50"
      ]
     },
     "execution_count": 98,
     "metadata": {},
     "output_type": "execute_result"
    }
   ],
   "source": [
    "len(dog_df['breedname'].value_counts())"
   ]
  },
  {
   "cell_type": "markdown",
   "metadata": {},
   "source": [
    "Now we are down to 49 different breedname values"
   ]
  },
  {
   "cell_type": "code",
   "execution_count": 99,
   "metadata": {
    "scrolled": true
   },
   "outputs": [
    {
     "data": {
      "text/html": [
       "<div>\n",
       "<style scoped>\n",
       "    .dataframe tbody tr th:only-of-type {\n",
       "        vertical-align: middle;\n",
       "    }\n",
       "\n",
       "    .dataframe tbody tr th {\n",
       "        vertical-align: top;\n",
       "    }\n",
       "\n",
       "    .dataframe thead th {\n",
       "        text-align: right;\n",
       "    }\n",
       "</style>\n",
       "<table border=\"1\" class=\"dataframe\">\n",
       "  <thead>\n",
       "    <tr style=\"text-align: right;\">\n",
       "      <th></th>\n",
       "      <th>id</th>\n",
       "      <th>intakedate</th>\n",
       "      <th>intakereason</th>\n",
       "      <th>istransfer</th>\n",
       "      <th>identichipnumber</th>\n",
       "      <th>animalname</th>\n",
       "      <th>breedname</th>\n",
       "      <th>basecolour</th>\n",
       "      <th>speciesname</th>\n",
       "      <th>animalage</th>\n",
       "      <th>sexname</th>\n",
       "      <th>location</th>\n",
       "      <th>movementdate</th>\n",
       "      <th>movementtype</th>\n",
       "      <th>returndate</th>\n",
       "      <th>puttosleep</th>\n",
       "      <th>age(months)</th>\n",
       "      <th>age(years)</th>\n",
       "    </tr>\n",
       "  </thead>\n",
       "  <tbody>\n",
       "    <tr>\n",
       "      <th>1</th>\n",
       "      <td>15932</td>\n",
       "      <td>2009-12-08</td>\n",
       "      <td>Moving</td>\n",
       "      <td>False</td>\n",
       "      <td>0A11675477</td>\n",
       "      <td>Gonzo</td>\n",
       "      <td>German Shepherd</td>\n",
       "      <td>Tan</td>\n",
       "      <td>Dog</td>\n",
       "      <td>10 years 9 months</td>\n",
       "      <td>Male</td>\n",
       "      <td>Adoptable Dogs</td>\n",
       "      <td>2017-04-24</td>\n",
       "      <td>Adoption</td>\n",
       "      <td>NaN</td>\n",
       "      <td>False</td>\n",
       "      <td>NaN</td>\n",
       "      <td>10.0</td>\n",
       "    </tr>\n",
       "    <tr>\n",
       "      <th>3</th>\n",
       "      <td>28859</td>\n",
       "      <td>2012-08-10</td>\n",
       "      <td>Abandoned</td>\n",
       "      <td>False</td>\n",
       "      <td>0A13253C7B</td>\n",
       "      <td>Maggie</td>\n",
       "      <td>Husky</td>\n",
       "      <td>Other</td>\n",
       "      <td>Dog</td>\n",
       "      <td>8 years 1 month</td>\n",
       "      <td>Female</td>\n",
       "      <td>Canine intake room</td>\n",
       "      <td>2020-02-29</td>\n",
       "      <td>Reclaimed</td>\n",
       "      <td>NaN</td>\n",
       "      <td>False</td>\n",
       "      <td>NaN</td>\n",
       "      <td>8.0</td>\n",
       "    </tr>\n",
       "    <tr>\n",
       "      <th>7</th>\n",
       "      <td>31469</td>\n",
       "      <td>2013-03-26</td>\n",
       "      <td>Incompatible</td>\n",
       "      <td>False</td>\n",
       "      <td>981020007006095</td>\n",
       "      <td>Bonnie</td>\n",
       "      <td>Other</td>\n",
       "      <td>Brown and White</td>\n",
       "      <td>Dog</td>\n",
       "      <td>7 years 6 months</td>\n",
       "      <td>Female</td>\n",
       "      <td>Stray Dogs Beta</td>\n",
       "      <td>2017-05-09</td>\n",
       "      <td>Adoption</td>\n",
       "      <td>NaN</td>\n",
       "      <td>False</td>\n",
       "      <td>NaN</td>\n",
       "      <td>7.0</td>\n",
       "    </tr>\n",
       "    <tr>\n",
       "      <th>12</th>\n",
       "      <td>46238</td>\n",
       "      <td>2016-10-09</td>\n",
       "      <td>Abandoned</td>\n",
       "      <td>False</td>\n",
       "      <td>981020019070093</td>\n",
       "      <td>Tennessee</td>\n",
       "      <td>Heeler</td>\n",
       "      <td>Black and Brown</td>\n",
       "      <td>Dog</td>\n",
       "      <td>5 years 7 months</td>\n",
       "      <td>Male</td>\n",
       "      <td>Special Care Dogs</td>\n",
       "      <td>2018-02-14</td>\n",
       "      <td>Adoption</td>\n",
       "      <td>NaN</td>\n",
       "      <td>False</td>\n",
       "      <td>NaN</td>\n",
       "      <td>5.0</td>\n",
       "    </tr>\n",
       "    <tr>\n",
       "      <th>15</th>\n",
       "      <td>46693</td>\n",
       "      <td>2016-11-21</td>\n",
       "      <td>Abandoned</td>\n",
       "      <td>False</td>\n",
       "      <td>981020017897009</td>\n",
       "      <td>Baby</td>\n",
       "      <td>Pitbull</td>\n",
       "      <td>White</td>\n",
       "      <td>Dog</td>\n",
       "      <td>5 years 9 months</td>\n",
       "      <td>Male</td>\n",
       "      <td>Adoptable Dogs</td>\n",
       "      <td>2017-04-07</td>\n",
       "      <td>Adoption</td>\n",
       "      <td>NaN</td>\n",
       "      <td>False</td>\n",
       "      <td>NaN</td>\n",
       "      <td>5.0</td>\n",
       "    </tr>\n",
       "  </tbody>\n",
       "</table>\n",
       "</div>"
      ],
      "text/plain": [
       "       id intakedate  intakereason  istransfer identichipnumber animalname  \\\n",
       "1   15932 2009-12-08        Moving       False       0A11675477      Gonzo   \n",
       "3   28859 2012-08-10     Abandoned       False       0A13253C7B     Maggie   \n",
       "7   31469 2013-03-26  Incompatible       False  981020007006095     Bonnie   \n",
       "12  46238 2016-10-09     Abandoned       False  981020019070093  Tennessee   \n",
       "15  46693 2016-11-21     Abandoned       False  981020017897009       Baby   \n",
       "\n",
       "          breedname       basecolour speciesname          animalage sexname  \\\n",
       "1   German Shepherd              Tan         Dog  10 years 9 months    Male   \n",
       "3             Husky            Other         Dog    8 years 1 month  Female   \n",
       "7             Other  Brown and White         Dog   7 years 6 months  Female   \n",
       "12           Heeler  Black and Brown         Dog   5 years 7 months    Male   \n",
       "15          Pitbull            White         Dog   5 years 9 months    Male   \n",
       "\n",
       "              location movementdate movementtype returndate  puttosleep  \\\n",
       "1       Adoptable Dogs   2017-04-24     Adoption        NaN       False   \n",
       "3   Canine intake room   2020-02-29    Reclaimed        NaN       False   \n",
       "7      Stray Dogs Beta   2017-05-09     Adoption        NaN       False   \n",
       "12   Special Care Dogs   2018-02-14     Adoption        NaN       False   \n",
       "15      Adoptable Dogs   2017-04-07     Adoption        NaN       False   \n",
       "\n",
       "    age(months)  age(years)  \n",
       "1           NaN        10.0  \n",
       "3           NaN         8.0  \n",
       "7           NaN         7.0  \n",
       "12          NaN         5.0  \n",
       "15          NaN         5.0  "
      ]
     },
     "execution_count": 99,
     "metadata": {},
     "output_type": "execute_result"
    }
   ],
   "source": [
    "dog_df.head()"
   ]
  },
  {
   "cell_type": "markdown",
   "metadata": {},
   "source": [
    "### Create Target Column "
   ]
  },
  {
   "cell_type": "code",
   "execution_count": 100,
   "metadata": {},
   "outputs": [],
   "source": [
    "# Create target column the same way that we did for the cat dataframe\n",
    "dog_df['duration of stay'] = dog_df['movementdate'].dt.date - dog_df['intakedate'].dt.date"
   ]
  },
  {
   "cell_type": "code",
   "execution_count": 101,
   "metadata": {},
   "outputs": [
    {
     "data": {
      "text/html": [
       "<div>\n",
       "<style scoped>\n",
       "    .dataframe tbody tr th:only-of-type {\n",
       "        vertical-align: middle;\n",
       "    }\n",
       "\n",
       "    .dataframe tbody tr th {\n",
       "        vertical-align: top;\n",
       "    }\n",
       "\n",
       "    .dataframe thead th {\n",
       "        text-align: right;\n",
       "    }\n",
       "</style>\n",
       "<table border=\"1\" class=\"dataframe\">\n",
       "  <thead>\n",
       "    <tr style=\"text-align: right;\">\n",
       "      <th></th>\n",
       "      <th>id</th>\n",
       "      <th>intakedate</th>\n",
       "      <th>intakereason</th>\n",
       "      <th>istransfer</th>\n",
       "      <th>identichipnumber</th>\n",
       "      <th>animalname</th>\n",
       "      <th>breedname</th>\n",
       "      <th>basecolour</th>\n",
       "      <th>speciesname</th>\n",
       "      <th>animalage</th>\n",
       "      <th>sexname</th>\n",
       "      <th>location</th>\n",
       "      <th>movementdate</th>\n",
       "      <th>movementtype</th>\n",
       "      <th>returndate</th>\n",
       "      <th>puttosleep</th>\n",
       "      <th>age(months)</th>\n",
       "      <th>age(years)</th>\n",
       "      <th>duration of stay</th>\n",
       "    </tr>\n",
       "  </thead>\n",
       "  <tbody>\n",
       "    <tr>\n",
       "      <th>1</th>\n",
       "      <td>15932</td>\n",
       "      <td>2009-12-08</td>\n",
       "      <td>Moving</td>\n",
       "      <td>False</td>\n",
       "      <td>0A11675477</td>\n",
       "      <td>Gonzo</td>\n",
       "      <td>German Shepherd</td>\n",
       "      <td>Tan</td>\n",
       "      <td>Dog</td>\n",
       "      <td>10 years 9 months</td>\n",
       "      <td>Male</td>\n",
       "      <td>Adoptable Dogs</td>\n",
       "      <td>2017-04-24</td>\n",
       "      <td>Adoption</td>\n",
       "      <td>NaN</td>\n",
       "      <td>False</td>\n",
       "      <td>NaN</td>\n",
       "      <td>10.0</td>\n",
       "      <td>2694 days</td>\n",
       "    </tr>\n",
       "    <tr>\n",
       "      <th>3</th>\n",
       "      <td>28859</td>\n",
       "      <td>2012-08-10</td>\n",
       "      <td>Abandoned</td>\n",
       "      <td>False</td>\n",
       "      <td>0A13253C7B</td>\n",
       "      <td>Maggie</td>\n",
       "      <td>Husky</td>\n",
       "      <td>Other</td>\n",
       "      <td>Dog</td>\n",
       "      <td>8 years 1 month</td>\n",
       "      <td>Female</td>\n",
       "      <td>Canine intake room</td>\n",
       "      <td>2020-02-29</td>\n",
       "      <td>Reclaimed</td>\n",
       "      <td>NaN</td>\n",
       "      <td>False</td>\n",
       "      <td>NaN</td>\n",
       "      <td>8.0</td>\n",
       "      <td>2759 days</td>\n",
       "    </tr>\n",
       "    <tr>\n",
       "      <th>7</th>\n",
       "      <td>31469</td>\n",
       "      <td>2013-03-26</td>\n",
       "      <td>Incompatible</td>\n",
       "      <td>False</td>\n",
       "      <td>981020007006095</td>\n",
       "      <td>Bonnie</td>\n",
       "      <td>Other</td>\n",
       "      <td>Brown and White</td>\n",
       "      <td>Dog</td>\n",
       "      <td>7 years 6 months</td>\n",
       "      <td>Female</td>\n",
       "      <td>Stray Dogs Beta</td>\n",
       "      <td>2017-05-09</td>\n",
       "      <td>Adoption</td>\n",
       "      <td>NaN</td>\n",
       "      <td>False</td>\n",
       "      <td>NaN</td>\n",
       "      <td>7.0</td>\n",
       "      <td>1505 days</td>\n",
       "    </tr>\n",
       "    <tr>\n",
       "      <th>12</th>\n",
       "      <td>46238</td>\n",
       "      <td>2016-10-09</td>\n",
       "      <td>Abandoned</td>\n",
       "      <td>False</td>\n",
       "      <td>981020019070093</td>\n",
       "      <td>Tennessee</td>\n",
       "      <td>Heeler</td>\n",
       "      <td>Black and Brown</td>\n",
       "      <td>Dog</td>\n",
       "      <td>5 years 7 months</td>\n",
       "      <td>Male</td>\n",
       "      <td>Special Care Dogs</td>\n",
       "      <td>2018-02-14</td>\n",
       "      <td>Adoption</td>\n",
       "      <td>NaN</td>\n",
       "      <td>False</td>\n",
       "      <td>NaN</td>\n",
       "      <td>5.0</td>\n",
       "      <td>493 days</td>\n",
       "    </tr>\n",
       "    <tr>\n",
       "      <th>15</th>\n",
       "      <td>46693</td>\n",
       "      <td>2016-11-21</td>\n",
       "      <td>Abandoned</td>\n",
       "      <td>False</td>\n",
       "      <td>981020017897009</td>\n",
       "      <td>Baby</td>\n",
       "      <td>Pitbull</td>\n",
       "      <td>White</td>\n",
       "      <td>Dog</td>\n",
       "      <td>5 years 9 months</td>\n",
       "      <td>Male</td>\n",
       "      <td>Adoptable Dogs</td>\n",
       "      <td>2017-04-07</td>\n",
       "      <td>Adoption</td>\n",
       "      <td>NaN</td>\n",
       "      <td>False</td>\n",
       "      <td>NaN</td>\n",
       "      <td>5.0</td>\n",
       "      <td>137 days</td>\n",
       "    </tr>\n",
       "  </tbody>\n",
       "</table>\n",
       "</div>"
      ],
      "text/plain": [
       "       id intakedate  intakereason  istransfer identichipnumber animalname  \\\n",
       "1   15932 2009-12-08        Moving       False       0A11675477      Gonzo   \n",
       "3   28859 2012-08-10     Abandoned       False       0A13253C7B     Maggie   \n",
       "7   31469 2013-03-26  Incompatible       False  981020007006095     Bonnie   \n",
       "12  46238 2016-10-09     Abandoned       False  981020019070093  Tennessee   \n",
       "15  46693 2016-11-21     Abandoned       False  981020017897009       Baby   \n",
       "\n",
       "          breedname       basecolour speciesname          animalage sexname  \\\n",
       "1   German Shepherd              Tan         Dog  10 years 9 months    Male   \n",
       "3             Husky            Other         Dog    8 years 1 month  Female   \n",
       "7             Other  Brown and White         Dog   7 years 6 months  Female   \n",
       "12           Heeler  Black and Brown         Dog   5 years 7 months    Male   \n",
       "15          Pitbull            White         Dog   5 years 9 months    Male   \n",
       "\n",
       "              location movementdate movementtype returndate  puttosleep  \\\n",
       "1       Adoptable Dogs   2017-04-24     Adoption        NaN       False   \n",
       "3   Canine intake room   2020-02-29    Reclaimed        NaN       False   \n",
       "7      Stray Dogs Beta   2017-05-09     Adoption        NaN       False   \n",
       "12   Special Care Dogs   2018-02-14     Adoption        NaN       False   \n",
       "15      Adoptable Dogs   2017-04-07     Adoption        NaN       False   \n",
       "\n",
       "    age(months)  age(years) duration of stay  \n",
       "1           NaN        10.0        2694 days  \n",
       "3           NaN         8.0        2759 days  \n",
       "7           NaN         7.0        1505 days  \n",
       "12          NaN         5.0         493 days  \n",
       "15          NaN         5.0         137 days  "
      ]
     },
     "execution_count": 101,
     "metadata": {},
     "output_type": "execute_result"
    }
   ],
   "source": [
    "dog_df.head()"
   ]
  },
  {
   "cell_type": "markdown",
   "metadata": {},
   "source": [
    "Oue target column is currently a timedelta datatype, changing it to a numeric datatype will make it easier to work with. "
   ]
  },
  {
   "cell_type": "code",
   "execution_count": 102,
   "metadata": {},
   "outputs": [],
   "source": [
    "dog_df['duration of stay'] = dog_df['duration of stay'].dt.days"
   ]
  },
  {
   "cell_type": "code",
   "execution_count": 103,
   "metadata": {},
   "outputs": [
    {
     "data": {
      "text/plain": [
       "count    4474.000000\n",
       "mean       51.284980\n",
       "std       144.016508\n",
       "min        -6.000000\n",
       "25%         3.000000\n",
       "50%        11.000000\n",
       "75%        32.000000\n",
       "max      2759.000000\n",
       "Name: duration of stay, dtype: float64"
      ]
     },
     "execution_count": 103,
     "metadata": {},
     "output_type": "execute_result"
    }
   ],
   "source": [
    "dog_df['duration of stay'].describe()"
   ]
  },
  {
   "cell_type": "markdown",
   "metadata": {},
   "source": [
    "We have values that are less than 0 so, I check how many values there are."
   ]
  },
  {
   "cell_type": "code",
   "execution_count": 104,
   "metadata": {
    "scrolled": true
   },
   "outputs": [
    {
     "data": {
      "text/plain": [
       "-6.0    1\n",
       "Name: duration of stay, dtype: int64"
      ]
     },
     "execution_count": 104,
     "metadata": {},
     "output_type": "execute_result"
    }
   ],
   "source": [
    "dog_df['duration of stay'][dog_df['duration of stay'] < 0].value_counts()"
   ]
  },
  {
   "cell_type": "markdown",
   "metadata": {},
   "source": [
    "A pet cant be in a shelter negative 1 days so we will drop that row."
   ]
  },
  {
   "cell_type": "code",
   "execution_count": 105,
   "metadata": {},
   "outputs": [],
   "source": [
    "dog_df = dog_df[dog_df['duration of stay'] >= 0]"
   ]
  },
  {
   "cell_type": "code",
   "execution_count": 106,
   "metadata": {},
   "outputs": [
    {
     "data": {
      "text/plain": [
       "count    4473.000000\n",
       "mean       51.297787\n",
       "std       144.030062\n",
       "min         0.000000\n",
       "25%         3.000000\n",
       "50%        11.000000\n",
       "75%        32.000000\n",
       "max      2759.000000\n",
       "Name: duration of stay, dtype: float64"
      ]
     },
     "execution_count": 106,
     "metadata": {},
     "output_type": "execute_result"
    }
   ],
   "source": [
    "dog_df['duration of stay'].describe()"
   ]
  },
  {
   "cell_type": "code",
   "execution_count": 107,
   "metadata": {},
   "outputs": [
    {
     "data": {
      "text/plain": [
       "1505.0    1\n",
       "2759.0    1\n",
       "2694.0    1\n",
       "Name: duration of stay, dtype: int64"
      ]
     },
     "execution_count": 107,
     "metadata": {},
     "output_type": "execute_result"
    }
   ],
   "source": [
    "dog_df['duration of stay'][dog_df['duration of stay'] > 1500].value_counts()"
   ]
  },
  {
   "cell_type": "markdown",
   "metadata": {},
   "source": [
    "Drop some outliers in order to make the model more accurate."
   ]
  },
  {
   "cell_type": "code",
   "execution_count": 108,
   "metadata": {},
   "outputs": [],
   "source": [
    "dog_df = dog_df[dog_df['duration of stay'] < 1500]"
   ]
  },
  {
   "cell_type": "markdown",
   "metadata": {},
   "source": [
    "### cat_df Create Target"
   ]
  },
  {
   "cell_type": "code",
   "execution_count": 109,
   "metadata": {},
   "outputs": [
    {
     "data": {
      "text/html": [
       "<div>\n",
       "<style scoped>\n",
       "    .dataframe tbody tr th:only-of-type {\n",
       "        vertical-align: middle;\n",
       "    }\n",
       "\n",
       "    .dataframe tbody tr th {\n",
       "        vertical-align: top;\n",
       "    }\n",
       "\n",
       "    .dataframe thead th {\n",
       "        text-align: right;\n",
       "    }\n",
       "</style>\n",
       "<table border=\"1\" class=\"dataframe\">\n",
       "  <thead>\n",
       "    <tr style=\"text-align: right;\">\n",
       "      <th></th>\n",
       "      <th>id</th>\n",
       "      <th>intakedate</th>\n",
       "      <th>intakereason</th>\n",
       "      <th>istransfer</th>\n",
       "      <th>identichipnumber</th>\n",
       "      <th>animalname</th>\n",
       "      <th>breedname</th>\n",
       "      <th>basecolour</th>\n",
       "      <th>speciesname</th>\n",
       "      <th>animalage</th>\n",
       "      <th>sexname</th>\n",
       "      <th>location</th>\n",
       "      <th>movementdate</th>\n",
       "      <th>movementtype</th>\n",
       "      <th>returndate</th>\n",
       "      <th>puttosleep</th>\n",
       "      <th>age(months)</th>\n",
       "      <th>age(years)</th>\n",
       "      <th>duration of stay</th>\n",
       "    </tr>\n",
       "  </thead>\n",
       "  <tbody>\n",
       "    <tr>\n",
       "      <th>0</th>\n",
       "      <td>15801</td>\n",
       "      <td>2009-11-28</td>\n",
       "      <td>Moving</td>\n",
       "      <td>False</td>\n",
       "      <td>0A115D7358</td>\n",
       "      <td>Jadzia</td>\n",
       "      <td>Domestic Short Hair</td>\n",
       "      <td>Tortoiseshell</td>\n",
       "      <td>Cat</td>\n",
       "      <td>11 years 8 months</td>\n",
       "      <td>Female</td>\n",
       "      <td>Adoptable Cat Glass Colony</td>\n",
       "      <td>2017-05-13</td>\n",
       "      <td>Adoption</td>\n",
       "      <td>NaN</td>\n",
       "      <td>False</td>\n",
       "      <td>NaN</td>\n",
       "      <td>11.0</td>\n",
       "      <td>2723 days</td>\n",
       "    </tr>\n",
       "    <tr>\n",
       "      <th>5</th>\n",
       "      <td>30812</td>\n",
       "      <td>2013-01-11</td>\n",
       "      <td>Abandoned</td>\n",
       "      <td>False</td>\n",
       "      <td>0A13403D4D</td>\n",
       "      <td>Pretty Girl</td>\n",
       "      <td>Domestic Short Hair</td>\n",
       "      <td>Dilute tortoiseshell</td>\n",
       "      <td>Cat</td>\n",
       "      <td>10 years 6 months</td>\n",
       "      <td>Female</td>\n",
       "      <td>Stray Cats</td>\n",
       "      <td>2018-05-29</td>\n",
       "      <td>Adoption</td>\n",
       "      <td>NaN</td>\n",
       "      <td>False</td>\n",
       "      <td>NaN</td>\n",
       "      <td>10.0</td>\n",
       "      <td>1964 days</td>\n",
       "    </tr>\n",
       "    <tr>\n",
       "      <th>14</th>\n",
       "      <td>46437</td>\n",
       "      <td>2016-10-26</td>\n",
       "      <td>Abandoned</td>\n",
       "      <td>False</td>\n",
       "      <td>981020017650993</td>\n",
       "      <td>Nova</td>\n",
       "      <td>Domestic Long Hair</td>\n",
       "      <td>Black</td>\n",
       "      <td>Cat</td>\n",
       "      <td>12 years 3 months</td>\n",
       "      <td>Female</td>\n",
       "      <td>Stray Cats</td>\n",
       "      <td>2017-04-07</td>\n",
       "      <td>Adoption</td>\n",
       "      <td>02/09/2018 12:00:00 AM</td>\n",
       "      <td>True</td>\n",
       "      <td>NaN</td>\n",
       "      <td>12.0</td>\n",
       "      <td>163 days</td>\n",
       "    </tr>\n",
       "    <tr>\n",
       "      <th>17</th>\n",
       "      <td>47120</td>\n",
       "      <td>2017-01-11</td>\n",
       "      <td>Abandoned</td>\n",
       "      <td>False</td>\n",
       "      <td>981020021072899</td>\n",
       "      <td>Vivian</td>\n",
       "      <td>Other</td>\n",
       "      <td>Other</td>\n",
       "      <td>Cat</td>\n",
       "      <td>6 years 5 months</td>\n",
       "      <td>Female</td>\n",
       "      <td>Foster</td>\n",
       "      <td>2017-05-13</td>\n",
       "      <td>Adoption</td>\n",
       "      <td>NaN</td>\n",
       "      <td>False</td>\n",
       "      <td>NaN</td>\n",
       "      <td>6.0</td>\n",
       "      <td>122 days</td>\n",
       "    </tr>\n",
       "    <tr>\n",
       "      <th>26</th>\n",
       "      <td>47198</td>\n",
       "      <td>2017-01-22</td>\n",
       "      <td>Abandoned</td>\n",
       "      <td>False</td>\n",
       "      <td>981020021020775</td>\n",
       "      <td>Mama Mia</td>\n",
       "      <td>Domestic Short Hair</td>\n",
       "      <td>Grey and White</td>\n",
       "      <td>Cat</td>\n",
       "      <td>4 years 10 months</td>\n",
       "      <td>Female</td>\n",
       "      <td>Adoptable Cat Glass Colony</td>\n",
       "      <td>2017-06-22</td>\n",
       "      <td>Adoption</td>\n",
       "      <td>NaN</td>\n",
       "      <td>False</td>\n",
       "      <td>NaN</td>\n",
       "      <td>4.0</td>\n",
       "      <td>151 days</td>\n",
       "    </tr>\n",
       "  </tbody>\n",
       "</table>\n",
       "</div>"
      ],
      "text/plain": [
       "       id intakedate intakereason  istransfer identichipnumber   animalname  \\\n",
       "0   15801 2009-11-28       Moving       False       0A115D7358       Jadzia   \n",
       "5   30812 2013-01-11    Abandoned       False       0A13403D4D  Pretty Girl   \n",
       "14  46437 2016-10-26    Abandoned       False  981020017650993         Nova   \n",
       "17  47120 2017-01-11    Abandoned       False  981020021072899       Vivian   \n",
       "26  47198 2017-01-22    Abandoned       False  981020021020775     Mama Mia   \n",
       "\n",
       "              breedname            basecolour speciesname          animalage  \\\n",
       "0   Domestic Short Hair         Tortoiseshell         Cat  11 years 8 months   \n",
       "5   Domestic Short Hair  Dilute tortoiseshell         Cat  10 years 6 months   \n",
       "14   Domestic Long Hair                 Black         Cat  12 years 3 months   \n",
       "17                Other                 Other         Cat   6 years 5 months   \n",
       "26  Domestic Short Hair        Grey and White         Cat  4 years 10 months   \n",
       "\n",
       "   sexname                    location movementdate movementtype  \\\n",
       "0   Female  Adoptable Cat Glass Colony   2017-05-13     Adoption   \n",
       "5   Female                  Stray Cats   2018-05-29     Adoption   \n",
       "14  Female                  Stray Cats   2017-04-07     Adoption   \n",
       "17  Female                      Foster   2017-05-13     Adoption   \n",
       "26  Female  Adoptable Cat Glass Colony   2017-06-22     Adoption   \n",
       "\n",
       "                returndate  puttosleep  age(months)  age(years)  \\\n",
       "0                      NaN       False          NaN        11.0   \n",
       "5                      NaN       False          NaN        10.0   \n",
       "14  02/09/2018 12:00:00 AM        True          NaN        12.0   \n",
       "17                     NaN       False          NaN         6.0   \n",
       "26                     NaN       False          NaN         4.0   \n",
       "\n",
       "   duration of stay  \n",
       "0         2723 days  \n",
       "5         1964 days  \n",
       "14         163 days  \n",
       "17         122 days  \n",
       "26         151 days  "
      ]
     },
     "execution_count": 109,
     "metadata": {},
     "output_type": "execute_result"
    }
   ],
   "source": [
    "cat_df.head()"
   ]
  },
  {
   "cell_type": "code",
   "execution_count": 110,
   "metadata": {},
   "outputs": [
    {
     "data": {
      "text/plain": [
       "0     2723.0\n",
       "5     1964.0\n",
       "14     163.0\n",
       "17     122.0\n",
       "26     151.0\n",
       "Name: duration of stay, dtype: float64"
      ]
     },
     "execution_count": 110,
     "metadata": {},
     "output_type": "execute_result"
    }
   ],
   "source": [
    "cat_df['duration of stay'].dt.days.head()"
   ]
  },
  {
   "cell_type": "code",
   "execution_count": 111,
   "metadata": {
    "scrolled": true
   },
   "outputs": [],
   "source": [
    "# make the target in this dataframe numeric\n",
    "cat_df['duration of stay'] = cat_df['duration of stay'].dt.days"
   ]
  },
  {
   "cell_type": "code",
   "execution_count": 112,
   "metadata": {},
   "outputs": [
    {
     "data": {
      "text/plain": [
       "count    7075.000000\n",
       "mean       48.791943\n",
       "std       100.561862\n",
       "min        -4.000000\n",
       "25%        11.000000\n",
       "50%        29.000000\n",
       "75%        55.000000\n",
       "max      2723.000000\n",
       "Name: duration of stay, dtype: float64"
      ]
     },
     "execution_count": 112,
     "metadata": {},
     "output_type": "execute_result"
    }
   ],
   "source": [
    "cat_df['duration of stay'].describe()"
   ]
  },
  {
   "cell_type": "code",
   "execution_count": 113,
   "metadata": {},
   "outputs": [
    {
     "data": {
      "text/plain": [
       "1964.0    1\n",
       "2723.0    1\n",
       "Name: duration of stay, dtype: int64"
      ]
     },
     "execution_count": 113,
     "metadata": {},
     "output_type": "execute_result"
    }
   ],
   "source": [
    "cat_df['duration of stay'][cat_df['duration of stay'] > 1500].value_counts()"
   ]
  },
  {
   "cell_type": "markdown",
   "metadata": {},
   "source": [
    "Drop the outliers and drop the row with the cat that stayed in the shelter -4 days."
   ]
  },
  {
   "cell_type": "code",
   "execution_count": 114,
   "metadata": {},
   "outputs": [],
   "source": [
    "cat_df = cat_df[cat_df['duration of stay'] < 1500]"
   ]
  },
  {
   "cell_type": "code",
   "execution_count": 115,
   "metadata": {},
   "outputs": [
    {
     "data": {
      "text/html": [
       "<div>\n",
       "<style scoped>\n",
       "    .dataframe tbody tr th:only-of-type {\n",
       "        vertical-align: middle;\n",
       "    }\n",
       "\n",
       "    .dataframe tbody tr th {\n",
       "        vertical-align: top;\n",
       "    }\n",
       "\n",
       "    .dataframe thead th {\n",
       "        text-align: right;\n",
       "    }\n",
       "</style>\n",
       "<table border=\"1\" class=\"dataframe\">\n",
       "  <thead>\n",
       "    <tr style=\"text-align: right;\">\n",
       "      <th></th>\n",
       "      <th>id</th>\n",
       "      <th>intakedate</th>\n",
       "      <th>intakereason</th>\n",
       "      <th>istransfer</th>\n",
       "      <th>identichipnumber</th>\n",
       "      <th>animalname</th>\n",
       "      <th>breedname</th>\n",
       "      <th>basecolour</th>\n",
       "      <th>speciesname</th>\n",
       "      <th>animalage</th>\n",
       "      <th>sexname</th>\n",
       "      <th>location</th>\n",
       "      <th>movementdate</th>\n",
       "      <th>movementtype</th>\n",
       "      <th>returndate</th>\n",
       "      <th>puttosleep</th>\n",
       "      <th>age(months)</th>\n",
       "      <th>age(years)</th>\n",
       "      <th>duration of stay</th>\n",
       "    </tr>\n",
       "  </thead>\n",
       "  <tbody>\n",
       "    <tr>\n",
       "      <th>5055</th>\n",
       "      <td>59647</td>\n",
       "      <td>2018-05-25 17:53:21</td>\n",
       "      <td>other</td>\n",
       "      <td>False</td>\n",
       "      <td>NaN</td>\n",
       "      <td>Garbanzo</td>\n",
       "      <td>Domestic Short Hair</td>\n",
       "      <td>Black</td>\n",
       "      <td>Cat</td>\n",
       "      <td>1 months</td>\n",
       "      <td>Unknown</td>\n",
       "      <td>Canine intake room</td>\n",
       "      <td>2018-05-21</td>\n",
       "      <td>Foster</td>\n",
       "      <td>06/05/2018 12:00:00 AM</td>\n",
       "      <td>False</td>\n",
       "      <td>1.0</td>\n",
       "      <td>0.0</td>\n",
       "      <td>-4.0</td>\n",
       "    </tr>\n",
       "  </tbody>\n",
       "</table>\n",
       "</div>"
      ],
      "text/plain": [
       "         id          intakedate intakereason  istransfer identichipnumber  \\\n",
       "5055  59647 2018-05-25 17:53:21        other       False              NaN   \n",
       "\n",
       "     animalname            breedname basecolour speciesname animalage  \\\n",
       "5055   Garbanzo  Domestic Short Hair      Black         Cat  1 months   \n",
       "\n",
       "      sexname            location movementdate movementtype  \\\n",
       "5055  Unknown  Canine intake room   2018-05-21       Foster   \n",
       "\n",
       "                  returndate  puttosleep  age(months)  age(years)  \\\n",
       "5055  06/05/2018 12:00:00 AM       False          1.0         0.0   \n",
       "\n",
       "      duration of stay  \n",
       "5055              -4.0  "
      ]
     },
     "execution_count": 115,
     "metadata": {},
     "output_type": "execute_result"
    }
   ],
   "source": [
    "cat_df[cat_df['duration of stay'] < 0]"
   ]
  },
  {
   "cell_type": "code",
   "execution_count": 116,
   "metadata": {},
   "outputs": [],
   "source": [
    "cat_df = cat_df[cat_df['duration of stay'] >= 0]"
   ]
  },
  {
   "cell_type": "code",
   "execution_count": 117,
   "metadata": {
    "scrolled": false
   },
   "outputs": [
    {
     "data": {
      "text/plain": [
       "count    7072.000000\n",
       "mean       48.150452\n",
       "std        92.661009\n",
       "min         0.000000\n",
       "25%        11.000000\n",
       "50%        28.500000\n",
       "75%        55.000000\n",
       "max      1478.000000\n",
       "Name: duration of stay, dtype: float64"
      ]
     },
     "execution_count": 117,
     "metadata": {},
     "output_type": "execute_result"
    }
   ],
   "source": [
    "cat_df['duration of stay'].describe()"
   ]
  },
  {
   "cell_type": "markdown",
   "metadata": {},
   "source": [
    "#### Saved these csvs to use for modeling in another notebook"
   ]
  },
  {
   "cell_type": "code",
   "execution_count": 116,
   "metadata": {},
   "outputs": [],
   "source": [
    "# cat_df.to_csv('cat_df.csv')\n",
    "# dog_df.to_csv('dog_df.csv')"
   ]
  },
  {
   "cell_type": "code",
   "execution_count": null,
   "metadata": {},
   "outputs": [],
   "source": []
  }
 ],
 "metadata": {
  "kernelspec": {
   "display_name": "Python (learn-env)",
   "language": "python",
   "name": "learn-env"
  },
  "language_info": {
   "codemirror_mode": {
    "name": "ipython",
    "version": 3
   },
   "file_extension": ".py",
   "mimetype": "text/x-python",
   "name": "python",
   "nbconvert_exporter": "python",
   "pygments_lexer": "ipython3",
   "version": "3.8.5"
  }
 },
 "nbformat": 4,
 "nbformat_minor": 4
}
